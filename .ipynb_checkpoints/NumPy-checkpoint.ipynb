{
 "cells": [
  {
   "cell_type": "markdown",
   "metadata": {},
   "source": [
    "### LESS MEMORY REQUIRED IN NUMPY ARRAY OVER LIST"
   ]
  },
  {
   "cell_type": "code",
   "execution_count": 15,
   "metadata": {},
   "outputs": [
    {
     "name": "stdout",
     "output_type": "stream",
     "text": [
      "0 1 2 3 4 5 6 7 8 9 10 11 12 13 14 15 16 17 18 19 20 21 22 23 24 25 26 27 28 29 30 31 32 33 34 35 36 37 38 39 40 41 42 43 44 45 46 47 48 49 50 51 52 53 54 55 56 57 58 59 60 61 62 63 64 65 66 67 68 69 70 71 72 73 74 75 76 77 78 79 80 81 82 83 84 85 86 87 88 89 90 91 92 93 94 95 96 97 98 99\n",
      "24\n",
      "2400\n"
     ]
    }
   ],
   "source": [
    "import sys\n",
    "li=[i for i in range(100)]\n",
    "print(*li)\n",
    "# size of one element in list\n",
    "print(sys.getsizeof(li[0]))\n",
    "# size of all the elements of the list\n",
    "print(sys.getsizeof(li[0])*len(li))"
   ]
  },
  {
   "cell_type": "code",
   "execution_count": 16,
   "metadata": {},
   "outputs": [
    {
     "name": "stdout",
     "output_type": "stream",
     "text": [
      "[ 0  1  2  3  4  5  6  7  8  9 10 11 12 13 14 15 16 17 18 19 20 21 22 23\n",
      " 24 25 26 27 28 29 30 31 32 33 34 35 36 37 38 39 40 41 42 43 44 45 46 47\n",
      " 48 49 50 51 52 53 54 55 56 57 58 59 60 61 62 63 64 65 66 67 68 69 70 71\n",
      " 72 73 74 75 76 77 78 79 80 81 82 83 84 85 86 87 88 89 90 91 92 93 94 95\n",
      " 96 97 98 99]\n",
      "4\n",
      "400\n"
     ]
    }
   ],
   "source": [
    "import numpy as np\n",
    "np_arr=np.arange(100)\n",
    "print(np_arr)\n",
    "# size of one element of np_arr\n",
    "print(np_arr.itemsize)\n",
    "# size of all the elements of the np_arr\n",
    "print((np_arr.itemsize)*len(np_arr))"
   ]
  },
  {
   "cell_type": "markdown",
   "metadata": {},
   "source": [
    "### LESS TIME REQUIRED"
   ]
  },
  {
   "cell_type": "code",
   "execution_count": 13,
   "metadata": {},
   "outputs": [
    {
     "name": "stdout",
     "output_type": "stream",
     "text": [
      "22.91417121887207\n",
      "0.9706020355224609\n"
     ]
    }
   ],
   "source": [
    "import time\n",
    "import numpy as np\n",
    "size=100000\n",
    "\n",
    "# add two list\n",
    "t1=time.time()\n",
    "l1=[i for i in range(size)]\n",
    "l2=[i for i in range(size)]\n",
    "l3=[l1[i]+l2[i] for i in range(size)]\n",
    "t2=time.time()\n",
    "print((t2-t1)*1000)\n",
    "\n",
    "# add two numpy arr\n",
    "t1=time.time()\n",
    "np1=np.arange(size)\n",
    "np2=np.arange(size)\n",
    "np3=np1+np2\n",
    "t2=time.time()\n",
    "print((t2-t1)*1000)"
   ]
  },
  {
   "cell_type": "markdown",
   "metadata": {},
   "source": [
    "### ATTRIBUTE : ARRAY,ONES,ZEROS,FULL,EMPTY"
   ]
  },
  {
   "cell_type": "code",
   "execution_count": 47,
   "metadata": {},
   "outputs": [
    {
     "name": "stdout",
     "output_type": "stream",
     "text": [
      "[1 2 3 4 5]\n",
      "\n",
      "[0. 0. 0.]\n",
      "[[0 0 0]\n",
      " [0 0 0]]\n",
      "\n",
      "[1. 1. 1. 1.]\n",
      "[[1 1]\n",
      " [1 1]\n",
      " [1 1]]\n",
      "\n",
      "[5 5 5 5]\n",
      "[[5. 5.]\n",
      " [5. 5.]]\n",
      "\n",
      "[0. 0. 0.]\n"
     ]
    }
   ],
   "source": [
    "import numpy as np\n",
    "arr=[1,2,3,4,5]\n",
    "nparr=np.array(arr) # observe default datatype - int\n",
    "print(nparr)\n",
    "print()\n",
    "np0=np.zeros(3) # observe default datatype - float\n",
    "print(np0)\n",
    "np0=np.zeros((2,3),dtype=int)\n",
    "print(np0)\n",
    "print()\n",
    "np1=np.ones(4) # observe default datatype - float\n",
    "print(np1)\n",
    "np1=np.ones((3,2),dtype=int)\n",
    "print(np1)\n",
    "print()\n",
    "npfl=np.full(4,5) # observe default datatype - int\n",
    "print(npfl)\n",
    "npfl=np.full((2,2),5,dtype=float)\n",
    "print(npfl)\n",
    "print()\n",
    "npemp=np.empty(3) # observe default datatype - float\n",
    "print(npemp)"
   ]
  },
  {
   "cell_type": "markdown",
   "metadata": {},
   "source": [
    "### ARANGE AND LINSPACE FUNCTION"
   ]
  },
  {
   "cell_type": "code",
   "execution_count": 61,
   "metadata": {},
   "outputs": [
    {
     "name": "stdout",
     "output_type": "stream",
     "text": [
      "[2 3 4 5 6 7 8 9]\n",
      "[ 3.          3.14285714  3.28571429  3.42857143  3.57142857  3.71428571\n",
      "  3.85714286  4.          4.14285714  4.28571429  4.42857143  4.57142857\n",
      "  4.71428571  4.85714286  5.          5.14285714  5.28571429  5.42857143\n",
      "  5.57142857  5.71428571  5.85714286  6.          6.14285714  6.28571429\n",
      "  6.42857143  6.57142857  6.71428571  6.85714286  7.          7.14285714\n",
      "  7.28571429  7.42857143  7.57142857  7.71428571  7.85714286  8.\n",
      "  8.14285714  8.28571429  8.42857143  8.57142857  8.71428571  8.85714286\n",
      "  9.          9.14285714  9.28571429  9.42857143  9.57142857  9.71428571\n",
      "  9.85714286 10.        ]\n",
      "step value is 0.1428571428571428\n",
      "[1.    2.125 3.25  4.375 5.5   6.625 7.75  8.875]\n"
     ]
    }
   ],
   "source": [
    "import numpy as np\n",
    "nparr=np.arange(2,10) # default data type is int and 10 is not included\n",
    "print(nparr)\n",
    "nparr=np.linspace(3,10)\n",
    "print(nparr)\n",
    "print('step value is',nparr[2]-nparr[1])\n",
    "nparr=np.linspace(1,10,8,endpoint=False)\n",
    "print(nparr)"
   ]
  },
  {
   "cell_type": "markdown",
   "metadata": {},
   "source": [
    "### EYE AND IDENTITY"
   ]
  },
  {
   "cell_type": "code",
   "execution_count": 67,
   "metadata": {},
   "outputs": [
    {
     "name": "stdout",
     "output_type": "stream",
     "text": [
      "[[1. 0. 0.]\n",
      " [0. 1. 0.]\n",
      " [0. 0. 1.]]\n",
      "\n",
      "[[1 0 0 0]\n",
      " [0 1 0 0]\n",
      " [0 0 1 0]]\n"
     ]
    }
   ],
   "source": [
    "import numpy as np\n",
    "nparr=np.identity(3) # can generate n*n array \n",
    "print(nparr)\n",
    "print()\n",
    "nparr=np.eye(3,4,dtype=int) # can generate rectangular array also\n",
    "print(nparr)\n",
    "# both of them have default dtype float"
   ]
  },
  {
   "cell_type": "markdown",
   "metadata": {},
   "source": [
    "### RANDOM.RAND AND RANDOM.RANDINT"
   ]
  },
  {
   "cell_type": "code",
   "execution_count": 156,
   "metadata": {},
   "outputs": [
    {
     "name": "stdout",
     "output_type": "stream",
     "text": [
      "[0.93941944 0.17767153 0.10443256 0.310416   0.93203718 0.25715629\n",
      " 0.35732183 0.98745318 0.206665   0.06713196]\n",
      "[[0.88723908 4.55799285 9.74002453]\n",
      " [7.76102471 5.48612769 4.62473838]]\n",
      "\n",
      "2.431293813648616\n",
      "5\n",
      "[0 0 0 5 6 7 2]\n",
      "[[5 3 5 1 6]\n",
      " [0 4 5 3 8]\n",
      " [0 8 0 2 6]\n",
      " [9 6 3 1 7]]\n"
     ]
    }
   ],
   "source": [
    "import numpy as np\n",
    "a=np.random.rand(10)\n",
    "print(a)\n",
    "a=np.random.rand(2,3)*10\n",
    "print(a)\n",
    "print()\n",
    "a=np.random.rand()*10 # generates one random value\n",
    "print(a)\n",
    "a=np.random.randint(5,10) # generates one random value\n",
    "print(a)\n",
    "a=np.random.randint(10,size=7)\n",
    "print(a)\n",
    "a=np.random.randint(10,size=(4,5))\n",
    "print(a)"
   ]
  },
  {
   "cell_type": "markdown",
   "metadata": {},
   "source": [
    "### SHAPE()"
   ]
  },
  {
   "cell_type": "code",
   "execution_count": 84,
   "metadata": {},
   "outputs": [
    {
     "name": "stdout",
     "output_type": "stream",
     "text": [
      "(4,)\n",
      "(2, 4)\n",
      "(2,)\n"
     ]
    }
   ],
   "source": [
    "import numpy as np\n",
    "a = np.array([0, 1, 2, 3])\n",
    "print(a.shape)\n",
    "arr = np.array([[1, 2, 3, 4], [5, 6, 7, 8]]) # The example above returns (2, 4), which means that the array \n",
    "print(arr.shape)                             # has 2 dimensions, and each dimension has 4 elements.\n",
    "arr = np.array([[1, 2, 3, 4], [5, 6, 7]])  \n",
    "print(arr.shape)   "
   ]
  },
  {
   "cell_type": "markdown",
   "metadata": {},
   "source": [
    "### PROBLEM : CUT THE ROPE"
   ]
  },
  {
   "cell_type": "code",
   "execution_count": 106,
   "metadata": {},
   "outputs": [
    {
     "name": "stdout",
     "output_type": "stream",
     "text": [
      "0.56\n",
      "1.11\n",
      "1.67\n",
      "2.22\n",
      "2.78\n",
      "3.33\n",
      "3.89\n",
      "4.44\n"
     ]
    }
   ],
   "source": [
    "import numpy as sj\n",
    "a=sj.linspace(0,5,10)\n",
    "for ele in a[1:9]:\n",
    "    print(round(ele,2))"
   ]
  },
  {
   "cell_type": "markdown",
   "metadata": {},
   "source": [
    "### ATTRIBUTES OF NUMPY ARRAY"
   ]
  },
  {
   "cell_type": "code",
   "execution_count": 112,
   "metadata": {},
   "outputs": [
    {
     "name": "stdout",
     "output_type": "stream",
     "text": [
      "<memory at 0x00000233F8BD6D08>\n",
      "(4,)\n",
      "int32\n",
      "(4,)\n",
      "\n",
      "<memory at 0x00000233807C62D0>\n",
      "(4, 4)\n",
      "int32\n",
      "(16, 4)\n"
     ]
    }
   ],
   "source": [
    "import numpy as np\n",
    "li=[1,2,3,4]\n",
    "li_2d=[[1,2,3,4],[5,6,7,8],[9,10,11,12],[13,14,15,16]]\n",
    "np1=np.array(li)\n",
    "print(np1.data)\n",
    "print(np1.shape)\n",
    "print(np1.dtype)\n",
    "print(np1.strides)\n",
    "print()\n",
    "np2=np.array(li_2d)\n",
    "print(np2.data)\n",
    "print(np2.shape)\n",
    "print(np2.dtype)\n",
    "print(np2.strides)"
   ]
  },
  {
   "cell_type": "markdown",
   "metadata": {},
   "source": [
    "### UNIQUE PROPERTIES OF 2D NUMPY SLICING "
   ]
  },
  {
   "cell_type": "code",
   "execution_count": 111,
   "metadata": {},
   "outputs": [
    {
     "name": "stdout",
     "output_type": "stream",
     "text": [
      "8\n",
      "[ 4  8 12]\n",
      "[[10 11]\n",
      " [14 15]]\n"
     ]
    }
   ],
   "source": [
    "import numpy as np\n",
    "li_2d=[[1,2,3,4],[5,6,7,8],[9,10,11,12],[13,14,15,16]]\n",
    "np_2d=np.array(li_2d)\n",
    "print(np_2d[1,3])\n",
    "print(np_2d[:3,3])\n",
    "print(np_2d[2:,1:3])"
   ]
  },
  {
   "cell_type": "markdown",
   "metadata": {},
   "source": [
    "### PROBLEM : PRINT ELEMENTS"
   ]
  },
  {
   "cell_type": "code",
   "execution_count": 117,
   "metadata": {},
   "outputs": [
    {
     "name": "stdout",
     "output_type": "stream",
     "text": [
      "[[ 1  2  3  4  5]\n",
      " [ 6  7  8  9 10]\n",
      " [11 12 13 14 15]\n",
      " [16 17 18 19 20]]\n",
      "11 12 13\n",
      "9 14 19\n",
      "11 12 13 14 15 16 17 18 19 20 \n",
      "7 8 12 13 \n"
     ]
    }
   ],
   "source": [
    "import numpy as np\n",
    "input_=np.arange(1,21,1)\n",
    "input_=input_.reshape(4,5)\n",
    "print(input_)\n",
    "print(*input_[2,:3])\n",
    "print(*input_[1:,3])\n",
    "for row in input_[2:,]:\n",
    "    print(*row,end=\" \")\n",
    "print()\n",
    "for row in input_[1:3,1:3]:\n",
    "    print(*row,end=\" \")\n",
    "print()    "
   ]
  },
  {
   "cell_type": "markdown",
   "metadata": {},
   "source": [
    "### MATHEMATICAL OPERATIONS - 1D"
   ]
  },
  {
   "cell_type": "code",
   "execution_count": 149,
   "metadata": {},
   "outputs": [
    {
     "name": "stdout",
     "output_type": "stream",
     "text": [
      "NP ARRAY IS  [4 3 6 7 6]\n",
      "[5 4 7 8 7]\n",
      "[ 8  6 12 14 12]\n",
      "NP 2 IS  [3 4 3 3 3]\n",
      "[ 7  7  9 10  9]\n",
      "[12 12 18 21 18]\n",
      "\n",
      "26\n",
      "5.2\n",
      "3\n",
      "MINM VALUE IS AT  1\n",
      "7\n",
      "MAXM VALUE IS AT  3\n",
      "\n",
      "[ True False  True  True  True]\n",
      "[False False False False False]\n",
      "[False  True False False False]\n",
      "\n",
      "[ True  True  True  True  True]\n",
      "[ True  True False  True  True]\n",
      "[False False  True False False]\n"
     ]
    }
   ],
   "source": [
    "import numpy as np\n",
    "nparr=np.random.randint(2,10,size=5)\n",
    "print('NP ARRAY IS ',nparr)\n",
    "print(nparr+1)\n",
    "print(nparr*2)\n",
    "np2=np.random.randint(1,5,size=5)\n",
    "print('NP 2 IS ',np2)\n",
    "print(nparr+np2)\n",
    "print(nparr*np2)\n",
    "print()\n",
    "print(nparr.sum())\n",
    "print(nparr.mean())\n",
    "print(nparr.min())\n",
    "print('MINM VALUE IS AT ',nparr.argmin())\n",
    "print(nparr.max())\n",
    "print('MAXM VALUE IS AT ',nparr.argmax())\n",
    "print()\n",
    "print(nparr>np2)\n",
    "print(nparr==np2)\n",
    "print(nparr<np2)\n",
    "print()\n",
    "np2[2]=0\n",
    "print(np.logical_or(nparr,np2))\n",
    "print(np.logical_and(nparr,np2))\n",
    "print(np.logical_not(np2))"
   ]
  },
  {
   "cell_type": "markdown",
   "metadata": {},
   "source": [
    "### MATHEMATICAL OPERATION ON 2D NUMPY ARRAY"
   ]
  },
  {
   "cell_type": "code",
   "execution_count": 172,
   "metadata": {},
   "outputs": [
    {
     "name": "stdout",
     "output_type": "stream",
     "text": [
      "NP2D_1 ARRAY IS  [[3 7 7]\n",
      " [7 9 7]]\n",
      "[[ 4  8  8]\n",
      " [ 8 10  8]]\n",
      "[[ 6 14 14]\n",
      " [14 18 14]]\n",
      "\n",
      "NP 2 IS  [[1 3 3]\n",
      " [3 2 1]]\n",
      "[[ 4 10 10]\n",
      " [10 11  8]]\n",
      "[[ 3 21 21]\n",
      " [21 18  7]]\n",
      "\n",
      "13\n",
      "2.1666666666666665\n",
      "1\n",
      "3\n",
      "\n",
      "[[ True  True  True]\n",
      " [ True  True  True]]\n",
      "\n",
      "[[ True  True  True]\n",
      " [ True  True False]]\n"
     ]
    }
   ],
   "source": [
    "import numpy as np\n",
    "np2d_1=np.random.randint(2,10,size=(2,3))\n",
    "print('NP2D_1 ARRAY IS ',np2d_1)\n",
    "print(np2d_1+1)\n",
    "print(np2d_1*2)\n",
    "print()\n",
    "np2=np.random.randint(1,5,size=(2,3))\n",
    "print('NP 2 IS ',np2)\n",
    "print(np2d_1+np2)\n",
    "print(np2d_1*np2)\n",
    "print()\n",
    "print(np2.sum())\n",
    "print(np2.mean())\n",
    "print(np2.min())\n",
    "print(np2.max())\n",
    "print()\n",
    "print(np2d_1>np2)\n",
    "print()\n",
    "np2[1,2]=0\n",
    "print(np.logical_and(np2d_1,np2))"
   ]
  },
  {
   "cell_type": "markdown",
   "metadata": {},
   "source": [
    "### BOOLEAN INDEXING - 1D"
   ]
  },
  {
   "cell_type": "code",
   "execution_count": 277,
   "metadata": {},
   "outputs": [
    {
     "name": "stdout",
     "output_type": "stream",
     "text": [
      "[ 2  4  6  8 10]\n",
      "[False False  True  True  True]\n",
      "[ 6  8 10]\n",
      "[ 6  8 10]\n",
      "[2 4 7 7 7]\n",
      "[2 4]\n",
      "(array([2, 3, 4], dtype=int64),)\n",
      "[5 5 7 7 7]\n"
     ]
    }
   ],
   "source": [
    "import numpy as np\n",
    "np1=np.arange(2,11,2)\n",
    "print(np1)\n",
    "a=np1>4\n",
    "print(a)\n",
    "print(np1[a])\n",
    "print(np1[np1>4])\n",
    "np1[np1>4]=7\n",
    "print(np1)\n",
    "print(np1[(np1>1) & (np1<7)])\n",
    "print(np.where(np1==7))\n",
    "np1[:2]=5\n",
    "print(np1)"
   ]
  },
  {
   "cell_type": "markdown",
   "metadata": {},
   "source": [
    "### PROBLEM : NON-ZERO ELEMENTS"
   ]
  },
  {
   "cell_type": "code",
   "execution_count": 196,
   "metadata": {},
   "outputs": [
    {
     "name": "stdout",
     "output_type": "stream",
     "text": [
      "(array([0, 1, 4], dtype=int64),)\n",
      "[0 1 4] "
     ]
    }
   ],
   "source": [
    "import numpy as sj\n",
    "np=sj.array([1,2,0,0,4,0])\n",
    "ind=sj.where(np>0)\n",
    "print(ind)\n",
    "for ele in ind:\n",
    "    print(*ele,end=\" \")"
   ]
  },
  {
   "cell_type": "markdown",
   "metadata": {},
   "source": [
    "### PROBLEM : ODD ELEMENTS"
   ]
  },
  {
   "cell_type": "code",
   "execution_count": 197,
   "metadata": {},
   "outputs": [
    {
     "name": "stdout",
     "output_type": "stream",
     "text": [
      "-1 2 -1 4 -1 6 -1 8 -1 10\n"
     ]
    }
   ],
   "source": [
    "import numpy as sj\n",
    "np=sj.arange(1,11)\n",
    "np[np%2!=0]=-1\n",
    "print(*np)"
   ]
  },
  {
   "cell_type": "markdown",
   "metadata": {},
   "source": [
    "### PROBLEM : NEGATE ELEMENTS"
   ]
  },
  {
   "cell_type": "code",
   "execution_count": 201,
   "metadata": {},
   "outputs": [
    {
     "name": "stdout",
     "output_type": "stream",
     "text": [
      "1\n",
      "2\n",
      "-3\n",
      "-4\n",
      "-5\n",
      "-6\n",
      "-7\n",
      "-8\n",
      "9\n",
      "10\n"
     ]
    }
   ],
   "source": [
    "import numpy as sj\n",
    "np=sj.linspace(1,10,10)\n",
    "find=sj.where(((np>=3) & (np<=8)))\n",
    "for ele in find:\n",
    "    np[ele]=sj.negative(np[ele])\n",
    "for ele in np:\n",
    "    print(int(ele))"
   ]
  },
  {
   "cell_type": "markdown",
   "metadata": {},
   "source": [
    "### PROBLEM : HEIGHT"
   ]
  },
  {
   "cell_type": "code",
   "execution_count": 219,
   "metadata": {},
   "outputs": [
    {
     "name": "stdout",
     "output_type": "stream",
     "text": [
      "(array([ 0,  2,  3,  5, 10, 11, 13, 14, 16, 17, 18], dtype=int64),)\n",
      "15 156\n",
      "19 180\n",
      "20 162\n",
      "21 157\n",
      "22 158\n",
      "23 179\n",
      "16 182\n",
      "18 183\n",
      "20 159\n",
      "15 160\n",
      "17 172\n"
     ]
    }
   ],
   "source": [
    "import numpy as sj\n",
    "age=sj.array([15,17,19,20,14,21,16,19,13,20,22,23,21,16,18,19,20,15,17,18])\n",
    "height=sj.array([156,144,180,162,152,157,154,155,151,150,158,179,126,182,183,154,159,160,172,149])\n",
    "b=sj.where(height>155)\n",
    "print(b)\n",
    "c=age[b]\n",
    "n=len(c)\n",
    "for i  in range(n):\n",
    "    print(c[i],height[b[0][i]])"
   ]
  },
  {
   "cell_type": "markdown",
   "metadata": {},
   "source": [
    "### BOOLEAN INDEXING - 2D"
   ]
  },
  {
   "cell_type": "code",
   "execution_count": 230,
   "metadata": {},
   "outputs": [
    {
     "name": "stdout",
     "output_type": "stream",
     "text": [
      "[[24 16 24 13 16 17]\n",
      " [17  7  3 12  8  3]\n",
      " [14 25 11 12 26  3]\n",
      " [18 24 12  4  3  6]\n",
      " [15 10  4 14 11 16]]\n",
      "[[ True  True  True  True  True  True]\n",
      " [ True False False  True False False]\n",
      " [ True  True  True  True  True False]\n",
      " [ True  True  True False False False]\n",
      " [ True False False  True  True  True]]\n",
      "[24 24 25 26 24]\n",
      "[ True  True  True False  True]\n",
      "[[24 16 24  5 16 17]\n",
      " [17  7  3  5  8  3]\n",
      " [14 25 11  5 26  3]\n",
      " [18 24 12  4  3  6]\n",
      " [15 10  4  5 11 16]]\n"
     ]
    }
   ],
   "source": [
    "import numpy as sj\n",
    "np=sj.random.randint(1,30,(5,6))\n",
    "print(np)\n",
    "print(np>10)\n",
    "print(np[np>20])\n",
    "print(np[:,3]>10)\n",
    "bool_arr=np[:,3]>10\n",
    "np[bool_arr,3]=5\n",
    "print(np)"
   ]
  },
  {
   "cell_type": "markdown",
   "metadata": {},
   "source": [
    "### PROBLEM : SORT BY COLUMN"
   ]
  },
  {
   "cell_type": "code",
   "execution_count": 281,
   "metadata": {},
   "outputs": [
    {
     "name": "stdout",
     "output_type": "stream",
     "text": [
      "[3 2 1 0]\n",
      "[[ 6  5  4  3  2]\n",
      " [11 10  9  8  7]\n",
      " [16 15 14 13 12]\n",
      " [21 20 19 18 17]]\n"
     ]
    }
   ],
   "source": [
    "import numpy as np\n",
    "a =  np.array([[21,20,19,18,17],[16,15,14,13,12],[11,10,9,8,7],[6,5,4,3,2]])\n",
    "ind = a[:,1].argsort()\n",
    "print(ind)\n",
    "print(a[ind,:])    "
   ]
  },
  {
   "cell_type": "markdown",
   "metadata": {},
   "source": [
    "### BROADCASTING"
   ]
  },
  {
   "cell_type": "code",
   "execution_count": 2,
   "metadata": {},
   "outputs": [
    {
     "name": "stdout",
     "output_type": "stream",
     "text": [
      "[[4 2 2]\n",
      " [3 2 3]\n",
      " [9 7 2]]\n",
      "[6 2 3]\n",
      "[[-2  0 -1]\n",
      " [-3  0  0]\n",
      " [ 3  5 -1]]\n",
      "\n",
      "[[5 1]\n",
      " [1 6]\n",
      " [4 8]]\n",
      "[[8 3]\n",
      " [1 3]\n",
      " [4 9]]\n",
      "[[-3 -2]\n",
      " [ 0  3]\n",
      " [ 0 -1]]\n"
     ]
    }
   ],
   "source": [
    "import numpy as sj\n",
    "a=sj.random.randint(1,10,(3,3))\n",
    "b=sj.random.randint(1,10,3)\n",
    "print(a)\n",
    "print(b)\n",
    "print(a-b)\n",
    "print()\n",
    "a=sj.random.randint(1,10,(3,2))\n",
    "b=sj.random.randint(1,10,(2,3))\n",
    "print(a)\n",
    "b=sj.transpose(b)\n",
    "print(b)\n",
    "print(a-b)"
   ]
  },
  {
   "cell_type": "markdown",
   "metadata": {},
   "source": [
    "### RESHAPE RESIZE AND ORDER"
   ]
  },
  {
   "cell_type": "code",
   "execution_count": 369,
   "metadata": {},
   "outputs": [
    {
     "name": "stdout",
     "output_type": "stream",
     "text": [
      "[[1 1 2 6]\n",
      " [8 6 7 6]\n",
      " [7 4 9 4]]\n",
      "column-wise\n",
      "[[1 6 9]\n",
      " [8 4 6]\n",
      " [7 2 6]\n",
      " [1 7 4]]\n",
      "row-wise\n",
      "[[1 1 2]\n",
      " [6 8 6]\n",
      " [7 6 7]\n",
      " [4 9 4]]\n",
      "\n",
      "[[2 4 1]\n",
      " [7 4 4]]\n"
     ]
    }
   ],
   "source": [
    "import numpy as sj\n",
    "a=sj.random.randint(1,10,(3,4))\n",
    "print(a)\n",
    "b=a.reshape((4,3),order='F')\n",
    "c=a.reshape((4,3),order='C')\n",
    "print('column-wise')\n",
    "print(b)\n",
    "print('row-wise')\n",
    "print(c)\n",
    "print()\n",
    "d=sj.array([[2,4,1],[7,4,4],[4,7,3]],order='C')\n",
    "print(sj.resize(d,(2,3)))"
   ]
  },
  {
   "cell_type": "markdown",
   "metadata": {},
   "source": [
    "### PRACTICAL APPLICATION OF NUMPY"
   ]
  },
  {
   "cell_type": "code",
   "execution_count": 339,
   "metadata": {},
   "outputs": [
    {
     "name": "stdout",
     "output_type": "stream",
     "text": [
      "1167.0\n",
      "51372.0\n"
     ]
    }
   ],
   "source": [
    "import csv\n",
    "import numpy as sj\n",
    "with open('C:\\\\Users\\\\jhasa\\\\Desktop\\\\year2017.csv') as file_obj:\n",
    "    file_data=csv.DictReader(file_obj,skipinitialspace=True)\n",
    "    data=list(file_data)\n",
    "killed=[]\n",
    "wounded=[]\n",
    "country=[]\n",
    "for row in data:\n",
    "    killed.append(row['Killed'])\n",
    "    wounded.append(row['Wounded'])\n",
    "    country.append(row['Country'])\n",
    "killed=sj.array(killed)\n",
    "wounded=sj.array(wounded)\n",
    "killed[killed=='']='0.0'\n",
    "wounded[wounded=='']='0.0'\n",
    "killed=sj.array(killed,dtype=float)\n",
    "wounded=sj.array(wounded,dtype=float)\n",
    "killed_wounded=killed+wounded\n",
    "country=sj.array(country)\n",
    "india_killed_wounded=killed_wounded[country=='India']\n",
    "print(india_killed_wounded.sum())\n",
    "print(killed_wounded.sum())"
   ]
  },
  {
   "cell_type": "markdown",
   "metadata": {},
   "source": [
    "### PROBLEM : KILLED IN USA"
   ]
  },
  {
   "cell_type": "code",
   "execution_count": 351,
   "metadata": {},
   "outputs": [
    {
     "name": "stdout",
     "output_type": "stream",
     "text": [
      "0\n",
      "5\n",
      "0\n",
      "0\n",
      "0\n",
      "0\n",
      "0\n",
      "1\n",
      "0\n",
      "0\n",
      "1\n",
      "0\n",
      "0\n",
      "0\n",
      "0\n",
      "0\n",
      "0\n",
      "1\n",
      "0\n",
      "0\n",
      "1\n",
      "3\n",
      "0\n",
      "0\n",
      "0\n",
      "0\n",
      "0\n",
      "2\n",
      "0\n",
      "1\n",
      "2\n",
      "0\n",
      "0\n",
      "0\n",
      "0\n",
      "0\n",
      "1\n",
      "0\n",
      "0\n",
      "2\n",
      "0\n",
      "0\n",
      "0\n",
      "0\n",
      "0\n",
      "0\n",
      "1\n",
      "0\n",
      "0\n",
      "1\n",
      "1\n",
      "1\n",
      "59\n",
      "0\n",
      "0\n",
      "0\n",
      "0\n",
      "8\n",
      "0\n",
      "0\n",
      "0\n",
      "3\n",
      "0\n",
      "0\n",
      "1\n"
     ]
    }
   ],
   "source": [
    "import csv\n",
    "import numpy as sj\n",
    "with open('C:\\\\Users\\\\jhasa\\\\Desktop\\\\year2017.csv') as file_obj:\n",
    "    file_data=csv.DictReader(file_obj,skipinitialspace=True)\n",
    "    data=list(file_data)\n",
    "killed=[]\n",
    "country=[]\n",
    "for row in data:\n",
    "    killed.append(row['Killed'])   \n",
    "    country.append(row['Country'])\n",
    "killed=sj.array(killed)\n",
    "country=sj.array(country)\n",
    "usa=killed[country=='United States']\n",
    "usa[usa=='']='0.0'\n",
    "usa=sj.array(usa,dtype=float)\n",
    "usa=sj.array(usa,dtype=int)\n",
    "for ele in usa:\n",
    "    print(ele)"
   ]
  },
  {
   "cell_type": "markdown",
   "metadata": {},
   "source": [
    "### TOTAL KILLED IN USA - GOT ACCEPTED"
   ]
  },
  {
   "cell_type": "code",
   "execution_count": 367,
   "metadata": {},
   "outputs": [
    {
     "name": "stdout",
     "output_type": "stream",
     "text": [
      "3771\n",
      "3.5182113647460938\n"
     ]
    }
   ],
   "source": [
    "import numpy as np\n",
    "import csv\n",
    "import time\n",
    "with open('C:\\\\Users\\\\jhasa\\\\Desktop\\\\terrorismData.csv',encoding=\"utf8\") as file_obj:\n",
    "    t1=time.time()\n",
    "    file_list = csv.DictReader(file_obj,skipinitialspace=True)    \n",
    "    usa=[]\n",
    "    for row in file_list:\n",
    "        if(row['Country']=='United States'):\n",
    "            usa.append(row['Killed'])\n",
    "    usa=np.array(usa)\n",
    "    usa[usa=='']=0    \n",
    "    usa=np.array(usa,dtype=float)\n",
    "    print(int(sum(usa)))\n",
    "    t2=time.time()\n",
    "    print(t2-t1)\n",
    "            "
   ]
  },
  {
   "cell_type": "markdown",
   "metadata": {},
   "source": [
    "### NOT GOT ACCEPTED"
   ]
  },
  {
   "cell_type": "code",
   "execution_count": 368,
   "metadata": {},
   "outputs": [
    {
     "name": "stdout",
     "output_type": "stream",
     "text": [
      "3771\n",
      "3.9484434127807617\n"
     ]
    }
   ],
   "source": [
    "import csv\n",
    "import numpy as sj\n",
    "import time\n",
    "with open('C:\\\\Users\\\\jhasa\\\\Desktop\\\\terrorismData.csv',encoding=\"utf8\") as file_obj:\n",
    "    t1=time.time()\n",
    "    file_data=csv.DictReader(file_obj,skipinitialspace=True)\n",
    "    data=list(file_data)\n",
    "usa=[]\n",
    "for row in data:\n",
    "    if row['Country']=='United States':\n",
    "        usa.append(row['Killed'])       \n",
    "usa=sj.array(usa)\n",
    "usa[usa=='']='0.0'\n",
    "usa=sj.array(usa,dtype=float)\n",
    "print(int(usa.sum()))\n",
    "t2=time.time()\n",
    "print(t2-t1)"
   ]
  },
  {
   "cell_type": "markdown",
   "metadata": {},
   "source": [
    "### KEEPDIMS"
   ]
  },
  {
   "cell_type": "code",
   "execution_count": 1,
   "metadata": {},
   "outputs": [
    {
     "data": {
      "text/plain": [
       "55"
      ]
     },
     "execution_count": 1,
     "metadata": {},
     "output_type": "execute_result"
    }
   ],
   "source": [
    "import numpy as np\n",
    "arr=np.array([[1,2,3,4,5],[6,7,8,9,10]])\n",
    "np.sum(arr)"
   ]
  },
  {
   "cell_type": "code",
   "execution_count": 2,
   "metadata": {},
   "outputs": [
    {
     "data": {
      "text/plain": [
       "array([ 7,  9, 11, 13, 15])"
      ]
     },
     "execution_count": 2,
     "metadata": {},
     "output_type": "execute_result"
    }
   ],
   "source": [
    "import numpy as np\n",
    "arr=np.array([[1,2,3,4,5],[6,7,8,9,10]])\n",
    "np.sum(arr,axis=0) # notice by default keepdims is False"
   ]
  },
  {
   "cell_type": "code",
   "execution_count": 3,
   "metadata": {},
   "outputs": [
    {
     "data": {
      "text/plain": [
       "array([[ 7,  9, 11, 13, 15]])"
      ]
     },
     "execution_count": 3,
     "metadata": {},
     "output_type": "execute_result"
    }
   ],
   "source": [
    "import numpy as np\n",
    "arr=np.array([[1,2,3,4,5],[6,7,8,9,10]])\n",
    "np.sum(arr,axis=0,keepdims=True) # we got a 2-d array here"
   ]
  }
 ],
 "metadata": {
  "kernelspec": {
   "display_name": "Python 3",
   "language": "python",
   "name": "python3"
  },
  "language_info": {
   "codemirror_mode": {
    "name": "ipython",
    "version": 3
   },
   "file_extension": ".py",
   "mimetype": "text/x-python",
   "name": "python",
   "nbconvert_exporter": "python",
   "pygments_lexer": "ipython3",
   "version": "3.7.3"
  }
 },
 "nbformat": 4,
 "nbformat_minor": 2
}
