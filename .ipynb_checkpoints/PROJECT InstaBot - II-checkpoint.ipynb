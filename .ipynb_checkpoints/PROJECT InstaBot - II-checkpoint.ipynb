{
 "cells": [
  {
   "cell_type": "markdown",
   "metadata": {},
   "source": [
    "## DO TAKE CARE OF THE FOLLOWING POINTS:\n",
    "### 1. PLEASE RUN ANY CELL ONLY WHEN THE PREVIOUS CELL HAS COMPLETED IT'S TASK  \n",
    "### 2. AND DO NOT RUN ANY CELL AT RANDOM (I.E RUN ALL THE CELLS IN THE SAME MANNER AS THEY OCCUR)\n",
    "### 3. IT MIGHT HAPPEN THAT YOU GET AN ERROR WHICH MIGHT BE DUE TO SLOW INTERNET OR ELEMENT NOT FOUND. TO SOLVE THAT JUST GO TO THE DRIVER REFRESH THE TAB MANUALLY AND RUN THAT CELL AGAIN\n",
    "### 4. IT IS HIGHLY RECOMMENDED THAT AFTER RUNNING A CELL YOU SEE HOW IT IS IMPLEMENTED IN THE BROWER."
   ]
  },
  {
   "cell_type": "markdown",
   "metadata": {},
   "source": [
    "## IMPORTING ALL THE NECESSARY LIBRARIES FOR THE PROJECT"
   ]
  },
  {
   "cell_type": "code",
   "execution_count": 1,
   "metadata": {},
   "outputs": [],
   "source": [
    "from bs4 import BeautifulSoup\n",
    "from selenium import webdriver\n",
    "from selenium.webdriver.common.keys import Keys \n",
    "from selenium.webdriver.support.select import Select\n",
    "from selenium.common.exceptions import NoSuchElementException\n",
    "import requests,time,matplotlib.pyplot as plt,pandas as pd"
   ]
  },
  {
   "cell_type": "markdown",
   "metadata": {},
   "source": [
    "## INITIATING DRIVER SESSION"
   ]
  },
  {
   "cell_type": "code",
   "execution_count": 2,
   "metadata": {},
   "outputs": [],
   "source": [
    "driver = webdriver.Chrome(r\"C:\\\\Users\\\\jhasa\\\\Desktop\\\\chromedriver\")\n",
    "driver.get(\"https://www.instagram.com\")\n",
    "\n",
    "# GIVING TIME SO THAT THE WEB PAGE LOADS UP\n",
    "time.sleep(2)"
   ]
  },
  {
   "cell_type": "markdown",
   "metadata": {},
   "source": [
    "### SIGNING IN TO INSTAGRAM ACCOUNT USING FACEBOOK"
   ]
  },
  {
   "cell_type": "code",
   "execution_count": 3,
   "metadata": {},
   "outputs": [],
   "source": [
    "# THIS CELL IS JUST TO CLICK ON THE LOGIN USING FACEBOOK OPTION\n",
    "\n",
    "c=driver.find_element_by_class_name(\"KPnG0\")\n",
    "c.click()\n",
    "\n",
    "# I AM ADDING A WAIT TIME SO THAT THE WE ARE SAFELY REDIRECTED TO FACEBOOK LOGIN PAGE\n",
    "time.sleep(3)"
   ]
  },
  {
   "cell_type": "code",
   "execution_count": 4,
   "metadata": {},
   "outputs": [],
   "source": [
    "# IN THIS CELL I HAVE ENTERED MY USERNAME AND PASSWORD AND CLICKED ON LOGIN BUTTON\n",
    "\n",
    "c=driver.find_element_by_xpath(\"//input[@type='text']\")\n",
    "c.send_keys(\"ENTER YOUR FACEBOOK USERNAME\")\n",
    "d=driver.find_element_by_xpath(\"//input[@type='password']\")\n",
    "d.send_keys(\"ENTER YOUR FACEBOOK PASSWORD\")\n",
    "login=driver.find_element_by_xpath(\"//button[@value=1]\")\n",
    "login.click()\n",
    "\n",
    "# I AM ADDING A WAIT TIME SO THAT THE WE ARE SAFELY REDIRECT TO INSTRAGRAM AFTER SUCCESSFULLY LOGGIN \n",
    "\n",
    "time.sleep(6)"
   ]
  },
  {
   "cell_type": "code",
   "execution_count": 5,
   "metadata": {},
   "outputs": [],
   "source": [
    "# A POP UP WAS COMING TO TURN ON NOTIFICATIONS SO I JUST CLICKED ON THE 'Not Now' OPTION\n",
    "\n",
    "c=driver.find_element_by_xpath(\"//button[@class='aOOlW   HoLwm ']\")\n",
    "c.click()"
   ]
  },
  {
   "cell_type": "markdown",
   "metadata": {},
   "source": [
    "### PROBLEM 1 - FINDING THE TOP 5 HANDLES USING THE SEARCH FIELD \"food\" AND THEN COUNTING THE NUMBER OF POST IN THE LAST 3 DAYS AND PLOTTING A SUITABLE GRAPH TO DEPICT THESE FINDINGS"
   ]
  },
  {
   "cell_type": "code",
   "execution_count": 7,
   "metadata": {},
   "outputs": [],
   "source": [
    "food_followers=[]\n",
    "\n",
    "for i in range(10):\n",
    "    # THIS CELL HAS BEEN USED TO LOCATE THE SEARCH BAR \n",
    "\n",
    "    c=driver.find_element_by_xpath(\"//input[@type='text']\")\n",
    "    c.send_keys(\"food\")\n",
    "\n",
    "    # I AM ADDING A WAIT TIME SO THAT THE I GET ALL THE NAMES INSTANTLY BEFORE I RUN THE NEXT CELL\n",
    "\n",
    "    time.sleep(2)\n",
    "\n",
    "    # NOW FROM THE VARIOUS RESULTTS BEING SHOWN ON THE SCREEN I WILL PICK \n",
    "    # THE ith ONE (i.e THE FIRST/SECOND/THIRD HANDLE.... AND SO ON)\n",
    "\n",
    "    food=driver.find_elements_by_xpath(\"//span[@class='Ap253']\")[i]\n",
    "    food_name=food.text\n",
    "    food.click()\n",
    "    \n",
    "    \n",
    "    # I AM ADDING A WAIT TIME SO THAT THE \"So Delhi\" PROFILES OPENS UP BEFORE FURTHER OPERATIONS\n",
    "    time.sleep(2)\n",
    "    \n",
    "    # fetching the number of followers of the given entry\n",
    "    \n",
    "    followers=driver.find_element_by_xpath(\"//a[@class='-nal3 ']/span\")\n",
    "    no_of_followers=followers.text\n",
    "    no_followers=''\n",
    "    for i in range(len(no_of_followers)):\n",
    "        if no_of_followers[i]!='k' and no_of_followers[i]!=',':\n",
    "            no_followers+=no_of_followers[i]\n",
    "        elif no_of_followers[i]=='.':\n",
    "            no_of_followers+=no_of_followers[i+1]\n",
    "            no_followers=float(no_followers)*(100)\n",
    "            break\n",
    "        elif no_of_followers[i]=='k':\n",
    "            no_followers=float(no_followers)*(1000)\n",
    "    \n",
    "    no_followers=int(no_followers)\n",
    "    \n",
    "    food_followers.append([food_name,no_followers])\n",
    "    \n",
    "    # now we will go back to home page\n",
    "    \n",
    "    driver.back()"
   ]
  },
  {
   "cell_type": "code",
   "execution_count": 8,
   "metadata": {},
   "outputs": [
    {
     "name": "stdout",
     "output_type": "stream",
     "text": [
      "[['dilsefoodie', 533000], ['foodtalkindia', 298000], ['foodfoodtv', 239000], ['foodyypreneur', 75000], ['foodmapdelhi', 53600]]\n"
     ]
    }
   ],
   "source": [
    "# extracting top 5 which have highest number of followers \n",
    "\n",
    "food_followers.sort(key=lambda x:x[1],reverse=True)\n",
    "food_followers=food_followers[:5]\n",
    "print(food_followers)"
   ]
  },
  {
   "cell_type": "code",
   "execution_count": 10,
   "metadata": {},
   "outputs": [],
   "source": [
    "for i in range(5):\n",
    "    profile = food_followers[i][0] #profile that we will visit\n",
    "    \n",
    "    # THIS CELL HAS BEEN USED TO LOCATE THE SEARCH BAR \n",
    "\n",
    "    c=driver.find_element_by_xpath(\"//input[@type='text']\")\n",
    "    c.send_keys(profile)\n",
    "    \n",
    "    # I AM ADDING A WAIT TIME SO THAT THE I GET ALL THE NAMES INSTANTLY BEFORE I RUN THE NEXT CELL\n",
    "    \n",
    "    time.sleep(3)\n",
    "    \n",
    "    # NOW FROM THE VARIOUS RESULTTS BEING SHOWN ON THE SCREEN I WILL PICK THE FIRST HANDLE THAT MATCHES OUR SEARCH FIELD\n",
    "\n",
    "    driver.find_element_by_class_name(\"z556c\").click()    \n",
    "\n",
    "    # I AM ADDING A WAIT TIME SO THAT THE PROFILE OPENS UP BEFORE FURTHER OPERATIONS\n",
    "    time.sleep(3)\n",
    "    \n",
    "    # opening the first post of the page\n",
    "    \n",
    "    post=driver.find_element_by_xpath(\"//div[@class='_9AhH0']\")\n",
    "    post.click()\n",
    "    \n",
    "    # there was a need of implicit wait\n",
    "    \n",
    "    time.sleep(2)\n",
    "    \n",
    "    # starting the count of posts that were within 3 days time span\n",
    "    \n",
    "    count=0 # THIS WILL STORE THE COUNT OF POSTS OF A HANDLE IN THE LAST 3 DAYS\n",
    "    while True:\n",
    "        tme=driver.find_element_by_tag_name(\"time\").text\n",
    "        if \"d\" in tme:\n",
    "            if int(tme[0])>3:\n",
    "                break\n",
    "            else:\n",
    "                count+=1\n",
    "        else:\n",
    "            count+=1\n",
    "        \n",
    "        nxt=driver.find_element_by_xpath('//a[@class=\" _65Bje  coreSpriteRightPaginationArrow\"]')    \n",
    "        nxt.click()\n",
    "        time.sleep(3)\n",
    "    \n",
    "    # storing the count of post within 3 days time span in the food followers list\n",
    "    \n",
    "    food_followers[i].append(count)\n",
    "\n",
    "    # NOW I WILL CLICK ON THE CROSS BUTTON AT THE TOP-RIGHT CORNER ('X') TO GO BACK TO THE MAIN SCREEN \n",
    "\n",
    "    cross_button=driver.find_element_by_xpath(\"//div[contains(@class,'fm1AK   TxciK yiMZG')]/button\")  \n",
    "    cross_button.click()\n",
    "\n",
    "    # NOW I WILL GO BACK TO MY HANDLE BY CLICKING ON THE \"Instagram\" OPTION OF THE TOP LEFT CORNER TO SOLVE\n",
    "    # REST OF THE QUESTIONS\n",
    "\n",
    "    instagram=driver.find_element_by_class_name(\"s4Iyt\")\n",
    "    instagram.click()    \n",
    "   \n"
   ]
  },
  {
   "cell_type": "code",
   "execution_count": 13,
   "metadata": {},
   "outputs": [
    {
     "data": {
      "image/png": "[encoded data removed]",
      "text/plain": [
       "<Figure size 432x288 with 1 Axes>"
      ]
     },
     "metadata": {
      "needs_background": "light"
     },
     "output_type": "display_data"
    }
   ],
   "source": [
    "# Here i am extracting the top 5 handles, their number of followers and number of posts in last 3 days\n",
    "# in three different lists\n",
    "\n",
    "modified_food_followers=list(zip(*food_followers))\n",
    "profiles,no_of_followers=list(modified_food_followers[0]),list(modified_food_followers[1])\n",
    "post_3_days=list(modified_food_followers[2])\n",
    "\n",
    "number_of_followers=list(map(lambda x:x/1250,no_of_followers))\n",
    "\n",
    "plt.scatter(profiles,post_3_days,s=number_of_followers) \n",
    "plt.title(\"NUMBER OF POST IN THE LAST 3 DAYS v/s HANDLE NAMES\") # The size of the bubble is represented by \n",
    "                                                               # number of followers of that handle\n",
    "\n",
    "plt.xticks(rotation=40)\n",
    "    \n",
    "plt.show()"
   ]
  },
  {
   "cell_type": "markdown",
   "metadata": {},
   "source": [
    "### PROBLEM 2 - OPEN THE TOP 5 PROFILES FOUND IN THE LAST QUESTION AND MAKE A LIST OF ALL THE WORDS PRESENT IN THE FIRST 10 POSTS OF THESE PROFILES AND THEN, MAKE A FREQUENCY DICTIONARY USNIG THIS LIST. USING THIS FREQUENCY DICTIONARY CREATE A CSV FILE WITH \"word\" and \"frequency\" AS THE COLUMN NAMES. FROM THIS FREQUENCTY DICTIONARY FIND THE TOP 5 HASHTAGS AND THEN MAKE A PIE CHART TO REPREST THESE TOP 5 HASHTAGS "
   ]
  },
  {
   "cell_type": "code",
   "execution_count": 14,
   "metadata": {},
   "outputs": [],
   "source": [
    "words_list=[] # I WILL STORE ALL THE WORDS OF DIFFERENT POSTS IN THIS LIST\n",
    "\n",
    "for i in range(5):\n",
    "    handle=profiles[i] #profile that we will visit\n",
    "    \n",
    "    # THIS CELL HAS BEEN USED TO LOCATE THE SEARCH BAR \n",
    "\n",
    "    c=driver.find_element_by_xpath(\"//input[@type='text']\")\n",
    "    c.send_keys(handle)\n",
    "    \n",
    "    # I AM ADDING A WAIT TIME SO THAT THE I GET ALL THE NAMES INSTANTLY BEFORE I RUN THE NEXT CELL\n",
    "    \n",
    "    time.sleep(3)\n",
    "    \n",
    "    # NOW FROM THE VARIOUS RESULTTS BEING SHOWN ON THE SCREEN I WILL PICK THE FIRST HANDLE THAT MATCHES OUR SEARCH FIELD\n",
    "\n",
    "    driver.find_element_by_class_name(\"z556c\").click()    \n",
    "\n",
    "    # I AM ADDING A WAIT TIME SO THAT THE PROFILE OPENS UP BEFORE FURTHER OPERATIONS\n",
    "    \n",
    "    time.sleep(3)\n",
    "\n",
    "    # opening the first post of the page\n",
    "    \n",
    "    post=driver.find_element_by_xpath(\"//div[@class='_9AhH0']\")\n",
    "    post.click()\n",
    "    \n",
    "    # there was a need of implicit wait\n",
    "    \n",
    "    time.sleep(2)    \n",
    "\n",
    "    for i in range(10):\n",
    "        try:\n",
    "            content=driver.find_element_by_class_name(\"C4VMK\").text\n",
    "            content_li=[word.strip() for word in content.split()]\n",
    "            words_list.extend(content_li)        \n",
    "        except NoSuchElementException:\n",
    "            pass\n",
    "        \n",
    "        nxt=driver.find_element_by_xpath('//a[@class=\" _65Bje  coreSpriteRightPaginationArrow\"]')    \n",
    "        nxt.click()\n",
    "        time.sleep(3)            \n",
    "\n",
    "    # NOW I WILL CLICK ON THE CROSS BUTTON AT THE TOP-RIGHT CORNER ('X') TO GO BACK TO THE MAIN SCREEN \n",
    "\n",
    "    cross_button=driver.find_element_by_xpath(\"//div[contains(@class,'fm1AK   TxciK yiMZG')]/button\")  \n",
    "    cross_button.click()\n",
    "\n",
    "    # NOW I WILL GO BACK TO MY HANDLE BY CLICKING ON THE \"Instagram\" OPTION OF THE TOP LEFT CORNER TO SOLVE\n",
    "    # REST OF THE QUESTIONS\n",
    "\n",
    "    instagram=driver.find_element_by_class_name(\"s4Iyt\")\n",
    "    instagram.click() \n",
    "        \n",
    "    "
   ]
  },
  {
   "cell_type": "code",
   "execution_count": 15,
   "metadata": {},
   "outputs": [],
   "source": [
    "word_freq={} # THIS WILL STORE THE FRQUENCY OF EACH WORD\n",
    "for ele in words_list:\n",
    "    word_freq[ele]=word_freq.get(ele,0)+1\n",
    "word_frequency=sorted(word_freq.items(),key=lambda x:x[1],reverse=True)\n",
    "final_freq=[] # THIS LIST WILL STORE THE FREQUENCY OF EACH WORD IN DESCENDING ORDER\n",
    "for ele in word_frequency:\n",
    "    final_freq.append(list(ele))\n",
    "    \n",
    "df=pd.DataFrame(final_freq,columns=['word','frquency']) # CREATING THE DATA FRAME THAT NEEDS TO BE MADEA= A .csv\n",
    "df.to_csv (r'ENTER THE LOCATION WHERE YOU WANT TO SAVE THE .csv FILE\\word_freq.csv', index = False, header=True) \n",
    "# PLEASE ENTER THE PATH CAREFULLY"
   ]
  },
  {
   "cell_type": "code",
   "execution_count": 16,
   "metadata": {},
   "outputs": [],
   "source": [
    "hashtags=[] # THIS WILL STORE ALL THE HASHTAGS THAT WERE PRESENT IN THE CONTENT OF VARIOUS POSTS\n",
    "for ele in word_freq:\n",
    "    if ele[0]=='#':\n",
    "        hashtags.append([ele,word_freq[ele]])\n",
    "hashtags.sort(key=lambda x:x[1],reverse=True) # this list store all the hashtags in descending order of the \n",
    "                                              # nummber of times they occur\n",
    "hashtags_names,hashtags_freq=list(list(zip(*hashtags))[0])[:5],list(list(zip(*hashtags))[1])[:5] # WE WILL TAKE HERE ONLY\n",
    "                                                                                                 # TOP 5 HASHTAGS"
   ]
  },
  {
   "cell_type": "code",
   "execution_count": 17,
   "metadata": {},
   "outputs": [
    {
     "data": {
      "image/png": "[encoded data removed]",
      "text/plain": [
       "<Figure size 432x288 with 1 Axes>"
      ]
     },
     "metadata": {},
     "output_type": "display_data"
    }
   ],
   "source": [
    "plt.pie(hashtags_freq,labels=hashtags_names,autopct='%0.2f%%')\n",
    "plt.title(\"TOP 5 HASHTAGS BASED UPON THEIR FREQUENCY OF OCCURENCE\")\n",
    "plt.show()"
   ]
  },
  {
   "cell_type": "markdown",
   "metadata": {},
   "source": [
    "### PROBLEM 3 - FINDING OUT THE NUMBER OF LIKE OF THE TOP 10 POST OF THE TOP 5 PROFILES FOUND IN PROBLEM 1 AND THEN FIND OUT THE AVERAGE LIKES OF A HANDLE AND AFTER THIS DIVIDIE THIS AVERAGE NUMBER OF LIKES BY NUMBER OF FOLLOWERS TO GET AVERAGE LIKE : FOLLOWER RATIO AND AFTER THIS PLOT A BAR GRAPH TO DEPICT THESE FINDINGS"
   ]
  },
  {
   "cell_type": "code",
   "execution_count": 18,
   "metadata": {},
   "outputs": [],
   "source": [
    "number_of_likes=[] # THIS WILL STORE TOTAL NUMBER OF LIKES OF 10 POSTS OF EACH HANDLE\n",
    "number_of_followers=[] # THIS WILL STORE THE NUMBER OF FOLLOWERS OF EACH HANDLE\n",
    "\n",
    "for i in range(5):\n",
    "    handle=profiles[i] #profile that we will visit\n",
    "    \n",
    "    # THIS CELL HAS BEEN USED TO LOCATE THE SEARCH BAR \n",
    "\n",
    "    c=driver.find_element_by_xpath(\"//input[@type='text']\")\n",
    "    c.send_keys(handle)\n",
    "    \n",
    "    # I AM ADDING A WAIT TIME SO THAT THE I GET ALL THE NAMES INSTANTLY BEFORE I RUN THE NEXT CELL\n",
    "    \n",
    "    time.sleep(3)\n",
    "    \n",
    "    # NOW FROM THE VARIOUS RESULTTS BEING SHOWN ON THE SCREEN I WILL PICK THE FIRST HANDLE THAT MATCHES OUR SEARCH FIELD\n",
    "\n",
    "    driver.find_element_by_class_name(\"z556c\").click()    \n",
    "\n",
    "    # I AM ADDING A WAIT TIME SO THAT THE PROFILE OPENS UP BEFORE FURTHER OPERATIONS\n",
    "    \n",
    "    time.sleep(3)\n",
    "\n",
    "    # COUNTING THE NUMBER OF FOLLOWERS OF THE CURRENT HANDLE\n",
    "    \n",
    "    followers=driver.find_element_by_xpath(\"//a[@class='-nal3 ']/span\")\n",
    "    no_of_followers=followers.text\n",
    "    no_followers=''\n",
    "    for i in range(len(no_of_followers)):\n",
    "        if no_of_followers[i]!='k' and no_of_followers[i]!=',':\n",
    "            no_followers+=no_of_followers[i]\n",
    "        elif no_of_followers[i]=='.':\n",
    "            no_of_followers+=no_of_followers[i+1]\n",
    "            no_followers=float(no_followers)*(100)\n",
    "            break\n",
    "        elif no_of_followers[i]=='k':\n",
    "            no_followers=float(no_followers)*(1000)\n",
    "    \n",
    "    no_followers=int(no_followers)\n",
    "    number_of_followers.append(no_followers)    \n",
    "    \n",
    "    # opening the first post of the page\n",
    "    \n",
    "    post=driver.find_element_by_xpath(\"//div[@class='_9AhH0']\")\n",
    "    post.click()\n",
    "    \n",
    "    # there was a need of implicit wait\n",
    "    \n",
    "    time.sleep(2)    \n",
    "\n",
    "    handle_likes=0 # THIS WILL STORE THE TOTAL NUMBER OF LIKES OF THE CURRENT HANDLE\n",
    "    \n",
    "    for i in range(10):\n",
    "        try:\n",
    "            no_of_likes=driver.find_element_by_xpath(\"//span[@class='vcOH2']/span\").text\n",
    "            \n",
    "        except NoSuchElementException:\n",
    "            no_of_likes=driver.find_element_by_xpath(\"//button[contains(@class,'sqdOP yWX7d')]/span\").text\n",
    "            \n",
    "        \n",
    "        no_of_likes=int(no_of_likes.replace(\",\",\"\"))\n",
    "        \n",
    "        handle_likes+=no_of_likes\n",
    "        \n",
    "        nxt=driver.find_element_by_xpath('//a[@class=\" _65Bje  coreSpriteRightPaginationArrow\"]')    \n",
    "        nxt.click()\n",
    "        time.sleep(3)            \n",
    "\n",
    "    number_of_likes.append(handle_likes)\n",
    "    \n",
    "    # NOW I WILL CLICK ON THE CROSS BUTTON AT THE TOP-RIGHT CORNER ('X') TO GO BACK TO THE MAIN SCREEN \n",
    "\n",
    "    cross_button=driver.find_element_by_xpath(\"//div[contains(@class,'fm1AK   TxciK yiMZG')]/button\")  \n",
    "    cross_button.click()\n",
    "\n",
    "    # NOW I WILL GO BACK TO MY HANDLE BY CLICKING ON THE \"Instagram\" OPTION OF THE TOP LEFT CORNER TO SOLVE\n",
    "    # REST OF THE QUESTIONS\n",
    "\n",
    "    instagram=driver.find_element_by_class_name(\"s4Iyt\")\n",
    "    instagram.click() "
   ]
  },
  {
   "cell_type": "code",
   "execution_count": 19,
   "metadata": {},
   "outputs": [
    {
     "data": {
      "image/png": "[encoded data removed]",
      "text/plain": [
       "<Figure size 432x288 with 1 Axes>"
      ]
     },
     "metadata": {
      "needs_background": "light"
     },
     "output_type": "display_data"
    }
   ],
   "source": [
    "average_likes=list(map(lambda x:x/10,number_of_likes)) # finding the average by dividing the total number of likes\n",
    "                                                         # of the top 10 post of each handle by 10\n",
    "like_follower_ratio=[] # THIS WILL STORE THE RATIO OF TOTAL NUMBER OF LIKES OF TOP 10 POSTS OF EACH HANDLE TO THE \n",
    "                       # NUMBER OF FOLLOWERS THEY HAVE\n",
    "for i in range(5):\n",
    "    like_follower_ratio.append(average_likes[i]/number_of_followers[i])\n",
    "plt.bar(profiles,like_follower_ratio)\n",
    "plt.title(\"LIKE TO FOLLOWER RATIO v/s PROFILE NAME\")\n",
    "plt.xticks(rotation=40)\n",
    "plt.show()"
   ]
  },
  {
   "cell_type": "markdown",
   "metadata": {},
   "source": [
    "### THANK YOU FOR YOUR TIME TO EVALUATE MY PROJECT.NOW, I SHALL END THE DRIVER SESSION"
   ]
  },
  {
   "cell_type": "code",
   "execution_count": 20,
   "metadata": {},
   "outputs": [],
   "source": [
    "driver.quit()"
   ]
  }
 ],
 "metadata": {
  "kernelspec": {
   "display_name": "Python 3",
   "language": "python",
   "name": "python3"
  },
  "language_info": {
   "codemirror_mode": {
    "name": "ipython",
    "version": 3
   },
   "file_extension": ".py",
   "mimetype": "text/x-python",
   "name": "python",
   "nbconvert_exporter": "python",
   "pygments_lexer": "ipython3",
   "version": "3.7.3"
  }
 },
 "nbformat": 4,
 "nbformat_minor": 2
}
