{
 "cells": [
  {
   "cell_type": "code",
   "execution_count": 2,
   "metadata": {},
   "outputs": [],
   "source": [
    "import tensorflow.compat.v1 as tf,numpy as np\n",
    "from sklearn import datasets\n",
    "from sklearn.model_selection import train_test_split\n",
    "from sklearn.preprocessing import StandardScaler\n",
    "from keras.models import Sequential\n",
    "from keras.layers import Dense"
   ]
  },
  {
   "cell_type": "code",
   "execution_count": 3,
   "metadata": {},
   "outputs": [],
   "source": [
    "tf.disable_eager_execution() # need to disable eager in TF2.x"
   ]
  },
  {
   "cell_type": "code",
   "execution_count": 4,
   "metadata": {},
   "outputs": [],
   "source": [
    "(x_train, y_train), (x_test, y_test) = tf.keras.datasets.mnist.load_data()"
   ]
  },
  {
   "cell_type": "code",
   "execution_count": 5,
   "metadata": {},
   "outputs": [],
   "source": [
    "indices = [i for i in range(10)]\n",
    "sess = tf.Session()\n",
    "x = np.array(sess.run(tf.one_hot(indices,depth=10,axis=0)))\n",
    "\n",
    "new_y_train = []\n",
    "for i in range(len(y_train)):\n",
    "   new_y_train.append(x[y_train[i]])\n",
    "y_train= np.array(new_y_train)\n",
    "\n",
    "new_y_test = []\n",
    "for i in range(len(y_test)):\n",
    "   new_y_test.append(x[y_test[i]])\n",
    "y_test= np.array(new_y_test)"
   ]
  },
  {
   "cell_type": "code",
   "execution_count": 6,
   "metadata": {},
   "outputs": [],
   "source": [
    "x_train = x_train.reshape((60000,784))\n",
    "x_test = x_test.reshape((10000,784))"
   ]
  },
  {
   "cell_type": "code",
   "execution_count": 7,
   "metadata": {},
   "outputs": [],
   "source": [
    "input_width = 28\n",
    "input_height = 28\n",
    "input_channels = 1\n",
    "input_pixels = 784\n",
    "\n",
    "n_conv1 = 32\n",
    "n_conv2 = 64\n",
    "stride_conv1 = 1\n",
    "stride_conv2 = 1\n",
    "conv1_k = 5\n",
    "conv2_k = 5\n",
    "max_pool1_k = 2\n",
    "max_pool2_k = 2\n",
    "\n",
    "n_hidden = 1024\n",
    "n_out = 10\n",
    "\n",
    "input_size_to_hidden = ((input_width//(max_pool1_k*max_pool2_k))*(input_height//(max_pool1_k*max_pool2_k))) * n_conv2"
   ]
  },
  {
   "cell_type": "code",
   "execution_count": 8,
   "metadata": {},
   "outputs": [],
   "source": [
    "weights = {\n",
    "    \"wc1\" : tf.Variable(tf.random_normal([conv1_k, conv1_k, input_channels, n_conv1])),\n",
    "    \"wc2\" : tf.Variable(tf.random_normal([conv2_k, conv2_k, n_conv1, n_conv2])),\n",
    "    \"wh\" : tf.Variable(tf.random_normal([input_size_to_hidden, n_hidden])),\n",
    "    \"wo\" : tf.Variable(tf.random_normal([n_hidden, n_out]))\n",
    "}\n",
    "\n",
    "biases = {\n",
    "    \"bc1\" : tf.Variable(tf.random_normal([n_conv1])),\n",
    "    \"bc2\" : tf.Variable(tf.random_normal([n_conv2])),\n",
    "    \"bh\" : tf.Variable(tf.random_normal([n_hidden])),\n",
    "    \"bo\" : tf.Variable(tf.random_normal([n_out]))\n",
    "}"
   ]
  },
  {
   "cell_type": "code",
   "execution_count": 9,
   "metadata": {},
   "outputs": [],
   "source": [
    "def conv(x, weights, bias, strides = 1):\n",
    "    out = tf.nn.conv2d(x, weights, padding=\"SAME\", strides = [1, strides, strides, 1]) \n",
    "                                                            # n   height   width   channel(depth)\n",
    "    out = tf.nn.bias_add(out, bias)\n",
    "    out = tf.nn.relu(out)\n",
    "    return out\n",
    "\n",
    "def max_pooling(x, k = 2):\n",
    "    return tf.nn.max_pool(x, padding=\"SAME\", ksize=[1, k, k, 1], strides=[1,k,k,1])"
   ]
  },
  {
   "cell_type": "code",
   "execution_count": 13,
   "metadata": {},
   "outputs": [],
   "source": [
    "def cnn(x, weights, biases, rate): # forward propagation\n",
    "    x = tf.reshape(x ,shape = [-1, input_height, input_width, input_channels]) # making our data 28X28\n",
    "    conv1 = conv(x, weights[\"wc1\"], biases[\"bc1\"], stride_conv1)\n",
    "    conv1_pool = max_pooling(conv1, max_pool1_k)\n",
    "    \n",
    "    conv2 = conv(conv1_pool, weights[\"wc2\"], biases[\"bc2\"], stride_conv2)\n",
    "    conv2_pool = max_pooling(conv2, max_pool2_k)\n",
    "    \n",
    "    input_to_hidden = tf.reshape(conv2_pool, shape = [-1, input_size_to_hidden]) # making our data 784\n",
    "    hidden_output_before_activation = tf.add(tf.matmul(input_to_hidden, weights[\"wh\"]), biases[\"bh\"])\n",
    "    hidden_output_before_dropout = tf.nn.relu(hidden_output_before_activation)\n",
    "    hidden_output = tf.nn.dropout(hidden_output_before_dropout, rate)\n",
    "    \n",
    "    output = tf.add(tf.matmul(hidden_output, weights[\"wo\"]), biases[\"bo\"])\n",
    "    return output"
   ]
  },
  {
   "cell_type": "code",
   "execution_count": 14,
   "metadata": {},
   "outputs": [],
   "source": [
    "x = tf.placeholder(\"float\", [None, input_pixels])\n",
    "y =tf.placeholder(tf.int32, [None, n_out])\n",
    "rate = tf.placeholder(\"float\") # this rate is keep probability i don't know why i changed it's name\n",
    "pred = cnn(x, weights, biases, rate)"
   ]
  },
  {
   "cell_type": "code",
   "execution_count": 15,
   "metadata": {
    "scrolled": true
   },
   "outputs": [],
   "source": [
    "### COST FUNCTION\n",
    "cost = tf.reduce_mean(tf.nn.softmax_cross_entropy_with_logits_v2(logits=pred, labels = y))"
   ]
  },
  {
   "cell_type": "code",
   "execution_count": 16,
   "metadata": {},
   "outputs": [],
   "source": [
    "optimizer = tf.train.AdamOptimizer(learning_rate=0.01)\n",
    "optimize = optimizer.minimize(cost)"
   ]
  },
  {
   "cell_type": "code",
   "execution_count": 17,
   "metadata": {},
   "outputs": [],
   "source": [
    "sess = tf.Session()\n",
    "sess.run(tf.global_variables_initializer())"
   ]
  },
  {
   "cell_type": "code",
   "execution_count": 18,
   "metadata": {},
   "outputs": [
    {
     "name": "stdout",
     "output_type": "stream",
     "text": [
      "239041363.57055664\n",
      "8846944.196121216\n",
      "4337264.400260925\n",
      "2763627.3579211235\n",
      "2644537.413146019\n",
      "1978453.887624749\n",
      "1837075.8923841715\n",
      "1833665.3843631744\n",
      "1516048.2265343666\n",
      "1576942.0040544271\n",
      "1172571.2483730316\n",
      "1475709.9027690887\n",
      "1130433.8259372711\n",
      "925901.2091350555\n",
      "801599.5290699005\n",
      "804746.5209592581\n",
      "1041717.4315004349\n",
      "743265.2135353088\n",
      "618239.2305164337\n",
      "624429.6088593006\n",
      "672316.3002295494\n",
      "755704.1105995178\n",
      "502427.3979911804\n",
      "564150.3385380507\n",
      "596554.7871879339\n"
     ]
    }
   ],
   "source": [
    "batch_size = 100\n",
    "for i in range(25):\n",
    "    num_batches = int(x_train.shape[0]/batch_size)\n",
    "    total_cost = 0\n",
    "    for j in range(0,x_train.shape[0],batch_size):\n",
    "        batch_x, batch_y = x_train[j:j+batch_size,:],y_train[j:j+batch_size,:]\n",
    "        c, _ = sess.run([cost,optimize], feed_dict={x:batch_x , y:batch_y, rate:0.8})\n",
    "        total_cost += c\n",
    "    print(total_cost)"
   ]
  },
  {
   "cell_type": "code",
   "execution_count": 19,
   "metadata": {},
   "outputs": [
    {
     "data": {
      "text/plain": [
       "9824"
      ]
     },
     "execution_count": 19,
     "metadata": {},
     "output_type": "execute_result"
    }
   ],
   "source": [
    "predictions = tf.argmax(pred, 1)\n",
    "correct_labels = tf.argmax(y, 1)\n",
    "correct_predictions = tf.equal(predictions, correct_labels)\n",
    "pre,correct_pre  = sess.run([predictions, correct_predictions], feed_dict={x:x_test,\n",
    "                                              y:y_test,rate:1})\n",
    "correct_pre.sum()"
   ]
  },
  {
   "cell_type": "markdown",
   "metadata": {},
   "source": [
    "### IMPLEMENTING THE SAME ARCHITECTURE USING KERAS"
   ]
  },
  {
   "cell_type": "code",
   "execution_count": 92,
   "metadata": {},
   "outputs": [],
   "source": [
    "import keras\n",
    "import tensorflow.compat.v1 as tf,numpy as np\n",
    "from keras.models import Sequential\n",
    "from keras.layers import Dense\n",
    "from keras.layers import Conv2D\n",
    "from keras.layers import Conv1D\n",
    "from keras.layers import MaxPooling2D\n",
    "from keras.layers import MaxPooling3D\n",
    "from keras.layers import Flatten\n",
    "from keras.layers import Dropout\n",
    "from keras.utils import to_categorical\n",
    "tf.disable_eager_execution() "
   ]
  },
  {
   "cell_type": "code",
   "execution_count": 95,
   "metadata": {},
   "outputs": [],
   "source": [
    "(x_train, y_train), (x_test, y_test) = tf.keras.datasets.mnist.load_data()\n",
    "\n",
    "x_train = x_train.reshape((60000,784))\n",
    "x_test = x_test.reshape((10000,784))\n",
    "\n",
    "from sklearn import datasets\n",
    "from sklearn.model_selection import train_test_split\n",
    "from sklearn.preprocessing import StandardScaler\n",
    "fs = StandardScaler()\n",
    "x_train = fs.fit_transform(x_train)\n",
    "x_test = fs.transform(x_test)\n",
    "\n",
    "x_train = x_train.reshape((60000,28,28))\n",
    "x_test = x_test.reshape((10000,28,28))\n",
    "\n",
    "y_train = to_categorical(y_train)\n",
    "y_test = to_categorical(y_test)"
   ]
  },
  {
   "cell_type": "code",
   "execution_count": 98,
   "metadata": {},
   "outputs": [],
   "source": [
    "img_rows=x_train[0].shape[0]\n",
    "img_cols=x_test[0].shape[1]\n",
    "\n",
    "x_train=x_train.reshape(x_train.shape[0],img_rows,img_cols,1)\n",
    "\n",
    "x_test=x_test.reshape(x_test.shape[0],img_rows,img_cols,1)"
   ]
  },
  {
   "cell_type": "code",
   "execution_count": 99,
   "metadata": {},
   "outputs": [
    {
     "data": {
      "text/plain": [
       "((60000, 28, 28, 1), (10000, 28, 28, 1))"
      ]
     },
     "execution_count": 99,
     "metadata": {},
     "output_type": "execute_result"
    }
   ],
   "source": [
    "x_train.shape, x_test.shape"
   ]
  },
  {
   "cell_type": "code",
   "execution_count": 100,
   "metadata": {},
   "outputs": [
    {
     "name": "stdout",
     "output_type": "stream",
     "text": [
      "Model: \"sequential_20\"\n",
      "_________________________________________________________________\n",
      "Layer (type)                 Output Shape              Param #   \n",
      "=================================================================\n",
      "conv2d_22 (Conv2D)           (None, 28, 28, 32)        832       \n",
      "_________________________________________________________________\n",
      "max_pooling2d_22 (MaxPooling (None, 14, 14, 32)        0         \n",
      "_________________________________________________________________\n",
      "conv2d_23 (Conv2D)           (None, 14, 14, 64)        51264     \n",
      "_________________________________________________________________\n",
      "max_pooling2d_23 (MaxPooling (None, 7, 7, 64)          0         \n",
      "_________________________________________________________________\n",
      "flatten_12 (Flatten)         (None, 3136)              0         \n",
      "_________________________________________________________________\n",
      "dense_24 (Dense)             (None, 1024)              3212288   \n",
      "_________________________________________________________________\n",
      "dropout_9 (Dropout)          (None, 1024)              0         \n",
      "_________________________________________________________________\n",
      "dense_25 (Dense)             (None, 10)                10250     \n",
      "=================================================================\n",
      "Total params: 3,274,634\n",
      "Trainable params: 3,274,634\n",
      "Non-trainable params: 0\n",
      "_________________________________________________________________\n"
     ]
    }
   ],
   "source": [
    "model = Sequential()\n",
    "model.add(Conv2D(input_shape=(28,28,1),padding=\"same\",strides=(1,1),filters=32,kernel_size=(5,5),data_format=\"channels_last\"))\n",
    "model.add(MaxPooling2D(pool_size=(2,2),strides=(2,2),padding=\"same\"))\n",
    "model.add(Conv2D(padding=\"same\",strides=(1,1),filters=64,kernel_size=(5,5)))\n",
    "model.add(MaxPooling2D(pool_size=(2,2),strides=(2,2),padding=\"same\"))\n",
    "model.add(Flatten())\n",
    "model.add(Dense(units=1024,activation=\"relu\"))\n",
    "model.add(Dropout(rate=0.2))\n",
    "model.add(Dense(units=10,activation=\"sigmoid\"))\n",
    "model.summary()"
   ]
  },
  {
   "cell_type": "code",
   "execution_count": 101,
   "metadata": {},
   "outputs": [],
   "source": [
    "model.compile(optimizer=\"adam\",loss=\"categorical_crossentropy\",metrics=[\"accuracy\"])"
   ]
  },
  {
   "cell_type": "code",
   "execution_count": 102,
   "metadata": {
    "scrolled": false
   },
   "outputs": [
    {
     "name": "stdout",
     "output_type": "stream",
     "text": [
      "Train on 60000 samples, validate on 10000 samples\n",
      "Epoch 1/10\n",
      "60000/60000 [==============================] - 110s 2ms/sample - loss: 0.1618 - accuracy: 0.9558 - val_loss: 0.0866 - val_accuracy: 0.9764\n",
      "Epoch 2/10\n",
      "60000/60000 [==============================] - 112s 2ms/sample - loss: 0.0792 - accuracy: 0.9795 - val_loss: 0.0619 - val_accuracy: 0.9835\n",
      "Epoch 3/10\n",
      "60000/60000 [==============================] - 107s 2ms/sample - loss: 0.0589 - accuracy: 0.9838 - val_loss: 0.0779 - val_accuracy: 0.9827\n",
      "Epoch 4/10\n",
      "60000/60000 [==============================] - 107s 2ms/sample - loss: 0.0639 - accuracy: 0.9846 - val_loss: 0.0888 - val_accuracy: 0.9802\n",
      "Epoch 5/10\n",
      "60000/60000 [==============================] - 115s 2ms/sample - loss: 0.0736 - accuracy: 0.9846 - val_loss: 0.1332 - val_accuracy: 0.9799\n",
      "Epoch 6/10\n",
      "60000/60000 [==============================] - 114s 2ms/sample - loss: 0.0919 - accuracy: 0.9830 - val_loss: 0.1375 - val_accuracy: 0.9797\n",
      "Epoch 7/10\n",
      "60000/60000 [==============================] - 114s 2ms/sample - loss: nan - accuracy: 0.7419 - val_loss: nan - val_accuracy: 0.0980\n",
      "Epoch 8/10\n",
      "60000/60000 [==============================] - 112s 2ms/sample - loss: nan - accuracy: 0.0987 - val_loss: nan - val_accuracy: 0.0980\n",
      "Epoch 9/10\n",
      "60000/60000 [==============================] - 109s 2ms/sample - loss: nan - accuracy: 0.0987 - val_loss: nan - val_accuracy: 0.0980\n",
      "Epoch 10/10\n",
      "60000/60000 [==============================] - 114s 2ms/sample - loss: nan - accuracy: 0.0987 - val_loss: nan - val_accuracy: 0.0980\n"
     ]
    },
    {
     "data": {
      "text/plain": [
       "<tensorflow.python.keras.callbacks.History at 0x1a9cfb84a90>"
      ]
     },
     "execution_count": 102,
     "metadata": {},
     "output_type": "execute_result"
    }
   ],
   "source": [
    "model.fit(x_train, y_train, epochs=10, batch_size = 50, validation_data=(x_test,y_test))"
   ]
  },
  {
   "cell_type": "code",
   "execution_count": 103,
   "metadata": {},
   "outputs": [
    {
     "data": {
      "text/plain": [
       "[nan, 0.098]"
      ]
     },
     "execution_count": 103,
     "metadata": {},
     "output_type": "execute_result"
    }
   ],
   "source": [
    "predictions = model.predict(X_test)\n",
    "model.evaluate(X_test,y_test)"
   ]
  }
 ],
 "metadata": {
  "kernelspec": {
   "display_name": "Python 3",
   "language": "python",
   "name": "python3"
  },
  "language_info": {
   "codemirror_mode": {
    "name": "ipython",
    "version": 3
   },
   "file_extension": ".py",
   "mimetype": "text/x-python",
   "name": "python",
   "nbconvert_exporter": "python",
   "pygments_lexer": "ipython3",
   "version": "3.7.3"
  }
 },
 "nbformat": 4,
 "nbformat_minor": 2
}
