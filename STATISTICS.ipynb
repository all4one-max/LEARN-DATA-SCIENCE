{
 "cells": [
  {
   "cell_type": "markdown",
   "metadata": {},
   "source": [
    "### SIMPLE RANDOM SAMPLING"
   ]
  },
  {
   "cell_type": "code",
   "execution_count": 20,
   "metadata": {},
   "outputs": [],
   "source": [
    "import pandas as pd\n",
    "df=pd.read_csv('C:\\\\Users\\\\jhasa\\\\Desktop\\\\startup_funding.csv',encoding=\"utf8\")\n",
    "amount=df['AmountInUSD']"
   ]
  },
  {
   "cell_type": "code",
   "execution_count": 21,
   "metadata": {},
   "outputs": [
    {
     "data": {
      "text/plain": [
       "0    1,300,000\n",
       "1      500,000\n",
       "2      850,000\n",
       "3    1,000,000\n",
       "4    2,600,000\n",
       "Name: AmountInUSD, dtype: object"
      ]
     },
     "execution_count": 21,
     "metadata": {},
     "output_type": "execute_result"
    }
   ],
   "source": [
    "amount.dropna(inplace=True)\n",
    "amount.reset_index(drop=True,inplace=True)\n",
    "amount.head()"
   ]
  },
  {
   "cell_type": "code",
   "execution_count": 23,
   "metadata": {},
   "outputs": [
    {
     "data": {
      "text/plain": [
       "0    1300000\n",
       "1     500000\n",
       "2     850000\n",
       "3    1000000\n",
       "4    2600000\n",
       "Name: AmountInUSD, dtype: object"
      ]
     },
     "execution_count": 23,
     "metadata": {},
     "output_type": "execute_result"
    }
   ],
   "source": [
    "amount=amount.str.replace(',','')\n",
    "amount.head()"
   ]
  },
  {
   "cell_type": "code",
   "execution_count": 25,
   "metadata": {},
   "outputs": [],
   "source": [
    "amount=pd.to_numeric(amount)"
   ]
  },
  {
   "cell_type": "code",
   "execution_count": 26,
   "metadata": {},
   "outputs": [
    {
     "data": {
      "text/plain": [
       "0    1300000\n",
       "1     500000\n",
       "2     850000\n",
       "3    1000000\n",
       "4    2600000\n",
       "Name: AmountInUSD, dtype: int64"
      ]
     },
     "execution_count": 26,
     "metadata": {},
     "output_type": "execute_result"
    }
   ],
   "source": [
    "amount.head()"
   ]
  },
  {
   "cell_type": "code",
   "execution_count": 46,
   "metadata": {
    "scrolled": true
   },
   "outputs": [],
   "source": [
    "population=amount\n",
    "sample_size=100\n",
    "sample=population.sample(sample_size,random_state=1)# this will select a record and will ensure that the same record is not\n",
    "                                                    # selected again"
   ]
  },
  {
   "cell_type": "code",
   "execution_count": 47,
   "metadata": {},
   "outputs": [
    {
     "name": "stdout",
     "output_type": "stream",
     "text": [
      "12031073.099016393   24592930.0\n",
      "1400000000   1400000000\n",
      "16000   18000\n"
     ]
    }
   ],
   "source": [
    "print(population.mean(),\" \",sample.mean())\n",
    "print(population.max(),\" \",sample.max())\n",
    "print(population.min(),\" \",sample.min())"
   ]
  },
  {
   "cell_type": "markdown",
   "metadata": {},
   "source": [
    "### PROBLEM - AVERAGE FUNDING "
   ]
  },
  {
   "cell_type": "code",
   "execution_count": 114,
   "metadata": {},
   "outputs": [
    {
     "data": {
      "text/html": [
       "<div>\n",
       "<style scoped>\n",
       "    .dataframe tbody tr th:only-of-type {\n",
       "        vertical-align: middle;\n",
       "    }\n",
       "\n",
       "    .dataframe tbody tr th {\n",
       "        vertical-align: top;\n",
       "    }\n",
       "\n",
       "    .dataframe thead th {\n",
       "        text-align: right;\n",
       "    }\n",
       "</style>\n",
       "<table border=\"1\" class=\"dataframe\">\n",
       "  <thead>\n",
       "    <tr style=\"text-align: right;\">\n",
       "      <th></th>\n",
       "      <th>CityLocation</th>\n",
       "      <th>AmountInUSD</th>\n",
       "    </tr>\n",
       "  </thead>\n",
       "  <tbody>\n",
       "    <tr>\n",
       "      <th>0</th>\n",
       "      <td>Bangalore</td>\n",
       "      <td>1,300,000</td>\n",
       "    </tr>\n",
       "    <tr>\n",
       "      <th>1</th>\n",
       "      <td>Mumbai</td>\n",
       "      <td>NaN</td>\n",
       "    </tr>\n",
       "    <tr>\n",
       "      <th>2</th>\n",
       "      <td>New Delhi</td>\n",
       "      <td>NaN</td>\n",
       "    </tr>\n",
       "    <tr>\n",
       "      <th>3</th>\n",
       "      <td>Mumbai</td>\n",
       "      <td>500,000</td>\n",
       "    </tr>\n",
       "    <tr>\n",
       "      <th>4</th>\n",
       "      <td>Hyderabad</td>\n",
       "      <td>850,000</td>\n",
       "    </tr>\n",
       "  </tbody>\n",
       "</table>\n",
       "</div>"
      ],
      "text/plain": [
       "  CityLocation AmountInUSD\n",
       "0    Bangalore   1,300,000\n",
       "1       Mumbai         NaN\n",
       "2    New Delhi         NaN\n",
       "3       Mumbai     500,000\n",
       "4    Hyderabad     850,000"
      ]
     },
     "execution_count": 114,
     "metadata": {},
     "output_type": "execute_result"
    }
   ],
   "source": [
    "import pandas as pd\n",
    "df=pd.read_csv('C:\\\\Users\\\\jhasa\\\\Desktop\\\\startup_funding.csv',encoding=\"utf8\")\n",
    "df1=df.loc[:,[\"CityLocation\",\"AmountInUSD\"]]\n",
    "df1.head()"
   ]
  },
  {
   "cell_type": "code",
   "execution_count": 115,
   "metadata": {},
   "outputs": [],
   "source": [
    "df1.CityLocation.replace(\"Delhi\",\"New Delhi\",inplace =True)\n",
    "df1.CityLocation.replace(\"bangalore\",\"Bangalore\",inplace =True)"
   ]
  },
  {
   "cell_type": "code",
   "execution_count": 116,
   "metadata": {},
   "outputs": [
    {
     "data": {
      "text/html": [
       "<div>\n",
       "<style scoped>\n",
       "    .dataframe tbody tr th:only-of-type {\n",
       "        vertical-align: middle;\n",
       "    }\n",
       "\n",
       "    .dataframe tbody tr th {\n",
       "        vertical-align: top;\n",
       "    }\n",
       "\n",
       "    .dataframe thead th {\n",
       "        text-align: right;\n",
       "    }\n",
       "</style>\n",
       "<table border=\"1\" class=\"dataframe\">\n",
       "  <thead>\n",
       "    <tr style=\"text-align: right;\">\n",
       "      <th></th>\n",
       "      <th>CityLocation</th>\n",
       "      <th>AmountInUSD</th>\n",
       "    </tr>\n",
       "  </thead>\n",
       "  <tbody>\n",
       "    <tr>\n",
       "      <th>0</th>\n",
       "      <td>Bangalore</td>\n",
       "      <td>1300000</td>\n",
       "    </tr>\n",
       "    <tr>\n",
       "      <th>1</th>\n",
       "      <td>Mumbai</td>\n",
       "      <td>NaN</td>\n",
       "    </tr>\n",
       "    <tr>\n",
       "      <th>2</th>\n",
       "      <td>New Delhi</td>\n",
       "      <td>NaN</td>\n",
       "    </tr>\n",
       "    <tr>\n",
       "      <th>3</th>\n",
       "      <td>Mumbai</td>\n",
       "      <td>500000</td>\n",
       "    </tr>\n",
       "    <tr>\n",
       "      <th>4</th>\n",
       "      <td>Hyderabad</td>\n",
       "      <td>850000</td>\n",
       "    </tr>\n",
       "  </tbody>\n",
       "</table>\n",
       "</div>"
      ],
      "text/plain": [
       "  CityLocation AmountInUSD\n",
       "0    Bangalore     1300000\n",
       "1       Mumbai         NaN\n",
       "2    New Delhi         NaN\n",
       "3       Mumbai      500000\n",
       "4    Hyderabad      850000"
      ]
     },
     "execution_count": 116,
     "metadata": {},
     "output_type": "execute_result"
    }
   ],
   "source": [
    "df1.AmountInUSD.replace(\",\",\"\",inplace=True,regex=True)\n",
    "df1.head()"
   ]
  },
  {
   "cell_type": "code",
   "execution_count": 117,
   "metadata": {},
   "outputs": [],
   "source": [
    "df1.AmountInUSD=pd.to_numeric(df1.AmountInUSD)"
   ]
  },
  {
   "cell_type": "code",
   "execution_count": 118,
   "metadata": {},
   "outputs": [],
   "source": [
    "df1.AmountInUSD.fillna(df1.AmountInUSD.mean(),inplace=True)"
   ]
  },
  {
   "cell_type": "code",
   "execution_count": 119,
   "metadata": {},
   "outputs": [],
   "source": [
    "population=df1.AmountInUSD"
   ]
  },
  {
   "cell_type": "code",
   "execution_count": 124,
   "metadata": {},
   "outputs": [
    {
     "name": "stdout",
     "output_type": "stream",
     "text": [
      "12031073.099016525 9503804.85366557 2527268.245350955\n"
     ]
    }
   ],
   "source": [
    "sample_size=50\n",
    "sample=population.sample(sample_size,random_state=1)\n",
    "print(population.mean(),sample.mean(),population.mean()-sample.mean())\n",
    "s1=population.mean()-sample.mean()"
   ]
  },
  {
   "cell_type": "code",
   "execution_count": 125,
   "metadata": {},
   "outputs": [
    {
     "name": "stdout",
     "output_type": "stream",
     "text": [
      "12031073.099016525 5473564.853665574 6557508.24535095\n"
     ]
    }
   ],
   "source": [
    "sample_size=50\n",
    "sample=population.sample(sample_size,random_state=0)\n",
    "print(population.mean(),sample.mean(),population.mean()-sample.mean())\n",
    "s0=population.mean()-sample.mean()"
   ]
  },
  {
   "cell_type": "code",
   "execution_count": 126,
   "metadata": {},
   "outputs": [
    {
     "name": "stdout",
     "output_type": "stream",
     "text": [
      "-4030239.9999999953\n"
     ]
    }
   ],
   "source": [
    "print(s1-s0)"
   ]
  },
  {
   "cell_type": "markdown",
   "metadata": {},
   "source": [
    "### PROBLEM - STRATIFIED SAMPLING"
   ]
  },
  {
   "cell_type": "code",
   "execution_count": 63,
   "metadata": {},
   "outputs": [
    {
     "data": {
      "text/html": [
       "<div>\n",
       "<style scoped>\n",
       "    .dataframe tbody tr th:only-of-type {\n",
       "        vertical-align: middle;\n",
       "    }\n",
       "\n",
       "    .dataframe tbody tr th {\n",
       "        vertical-align: top;\n",
       "    }\n",
       "\n",
       "    .dataframe thead th {\n",
       "        text-align: right;\n",
       "    }\n",
       "</style>\n",
       "<table border=\"1\" class=\"dataframe\">\n",
       "  <thead>\n",
       "    <tr style=\"text-align: right;\">\n",
       "      <th></th>\n",
       "      <th>CityLocation</th>\n",
       "      <th>AmountInUSD</th>\n",
       "    </tr>\n",
       "  </thead>\n",
       "  <tbody>\n",
       "    <tr>\n",
       "      <th>0</th>\n",
       "      <td>Bangalore</td>\n",
       "      <td>1,300,000</td>\n",
       "    </tr>\n",
       "    <tr>\n",
       "      <th>1</th>\n",
       "      <td>Mumbai</td>\n",
       "      <td>NaN</td>\n",
       "    </tr>\n",
       "    <tr>\n",
       "      <th>2</th>\n",
       "      <td>New Delhi</td>\n",
       "      <td>NaN</td>\n",
       "    </tr>\n",
       "    <tr>\n",
       "      <th>3</th>\n",
       "      <td>Mumbai</td>\n",
       "      <td>500,000</td>\n",
       "    </tr>\n",
       "    <tr>\n",
       "      <th>4</th>\n",
       "      <td>Hyderabad</td>\n",
       "      <td>850,000</td>\n",
       "    </tr>\n",
       "  </tbody>\n",
       "</table>\n",
       "</div>"
      ],
      "text/plain": [
       "  CityLocation AmountInUSD\n",
       "0    Bangalore   1,300,000\n",
       "1       Mumbai         NaN\n",
       "2    New Delhi         NaN\n",
       "3       Mumbai     500,000\n",
       "4    Hyderabad     850,000"
      ]
     },
     "execution_count": 63,
     "metadata": {},
     "output_type": "execute_result"
    }
   ],
   "source": [
    "import pandas as pd\n",
    "df=pd.read_csv('C:\\\\Users\\\\jhasa\\\\Desktop\\\\startup_funding.csv',encoding=\"utf8\")\n",
    "df1=df.loc[:,[\"CityLocation\",\"AmountInUSD\"]]\n",
    "df1.head()"
   ]
  },
  {
   "cell_type": "code",
   "execution_count": 64,
   "metadata": {},
   "outputs": [],
   "source": [
    "df1.CityLocation.replace(\"Delhi\",\"New Delhi\",inplace =True,regex=False)\n",
    "df1.CityLocation.replace(\"bangalore\",\"Bangalore\",inplace =True,regex=False)"
   ]
  },
  {
   "cell_type": "code",
   "execution_count": 65,
   "metadata": {},
   "outputs": [
    {
     "data": {
      "text/html": [
       "<div>\n",
       "<style scoped>\n",
       "    .dataframe tbody tr th:only-of-type {\n",
       "        vertical-align: middle;\n",
       "    }\n",
       "\n",
       "    .dataframe tbody tr th {\n",
       "        vertical-align: top;\n",
       "    }\n",
       "\n",
       "    .dataframe thead th {\n",
       "        text-align: right;\n",
       "    }\n",
       "</style>\n",
       "<table border=\"1\" class=\"dataframe\">\n",
       "  <thead>\n",
       "    <tr style=\"text-align: right;\">\n",
       "      <th></th>\n",
       "      <th>CityLocation</th>\n",
       "      <th>AmountInUSD</th>\n",
       "    </tr>\n",
       "  </thead>\n",
       "  <tbody>\n",
       "    <tr>\n",
       "      <th>0</th>\n",
       "      <td>Bangalore</td>\n",
       "      <td>1.300000e+06</td>\n",
       "    </tr>\n",
       "    <tr>\n",
       "      <th>1</th>\n",
       "      <td>Mumbai</td>\n",
       "      <td>1.203107e+07</td>\n",
       "    </tr>\n",
       "    <tr>\n",
       "      <th>2</th>\n",
       "      <td>New Delhi</td>\n",
       "      <td>1.203107e+07</td>\n",
       "    </tr>\n",
       "    <tr>\n",
       "      <th>3</th>\n",
       "      <td>Mumbai</td>\n",
       "      <td>5.000000e+05</td>\n",
       "    </tr>\n",
       "    <tr>\n",
       "      <th>4</th>\n",
       "      <td>Hyderabad</td>\n",
       "      <td>8.500000e+05</td>\n",
       "    </tr>\n",
       "  </tbody>\n",
       "</table>\n",
       "</div>"
      ],
      "text/plain": [
       "  CityLocation   AmountInUSD\n",
       "0    Bangalore  1.300000e+06\n",
       "1       Mumbai  1.203107e+07\n",
       "2    New Delhi  1.203107e+07\n",
       "3       Mumbai  5.000000e+05\n",
       "4    Hyderabad  8.500000e+05"
      ]
     },
     "execution_count": 65,
     "metadata": {},
     "output_type": "execute_result"
    }
   ],
   "source": [
    "df1.AmountInUSD.replace(\",\",\"\",inplace=True,regex=True)\n",
    "df1.AmountInUSD=pd.to_numeric(df1.AmountInUSD)\n",
    "df1.AmountInUSD.fillna(df1.AmountInUSD.mean(),inplace=True)\n",
    "df1.head()"
   ]
  },
  {
   "cell_type": "code",
   "execution_count": 66,
   "metadata": {},
   "outputs": [],
   "source": [
    "df2=df1[df1.CityLocation=='Bangalore']\n",
    "df3=df1[df1.CityLocation=='New Delhi']\n",
    "df4=df1[df1.CityLocation=='Gurgaon']\n",
    "df5=df1[df1.CityLocation=='Noida']\n",
    "df6=df1[df1.CityLocation=='Mumbai']\n",
    "df7=df1[df1.CityLocation=='Pune']\n",
    "df8=df1[df1.CityLocation=='Hyderabad']"
   ]
  },
  {
   "cell_type": "code",
   "execution_count": 67,
   "metadata": {},
   "outputs": [],
   "source": [
    "population=df1\n",
    "parameter=population.mean()"
   ]
  },
  {
   "cell_type": "code",
   "execution_count": 68,
   "metadata": {},
   "outputs": [],
   "source": [
    "sample_size=20\n",
    "n2=df2.AmountInUSD.sample(sample_size,random_state=1).values\n",
    "n3=df3.AmountInUSD.sample(sample_size,random_state=1).values\n",
    "n4=df4.AmountInUSD.sample(sample_size,random_state=1).values\n",
    "n5=df5.AmountInUSD.sample(sample_size,random_state=1).values\n",
    "n6=df6.AmountInUSD.sample(sample_size,random_state=1).values\n",
    "n7=df7.AmountInUSD.sample(sample_size,random_state=1).values\n",
    "n8=df8.AmountInUSD.sample(sample_size,random_state=1).values"
   ]
  },
  {
   "cell_type": "code",
   "execution_count": 69,
   "metadata": {},
   "outputs": [],
   "source": [
    "x=n2.sum()+n3.sum()+n4.sum()+n5.sum()+n6.sum()+n7.sum()+n8.sum()\n",
    "statistics=x/100"
   ]
  },
  {
   "cell_type": "code",
   "execution_count": 71,
   "metadata": {},
   "outputs": [
    {
     "name": "stdout",
     "output_type": "stream",
     "text": [
      "AmountInUSD    918786.549508\n",
      "dtype: float64\n"
     ]
    }
   ],
   "source": [
    "print(parameter-statistics)"
   ]
  },
  {
   "cell_type": "markdown",
   "metadata": {},
   "source": [
    "### PROPORTIONAL STRATIFIED SAMPLING"
   ]
  },
  {
   "cell_type": "code",
   "execution_count": 81,
   "metadata": {},
   "outputs": [
    {
     "data": {
      "text/html": [
       "<div>\n",
       "<style scoped>\n",
       "    .dataframe tbody tr th:only-of-type {\n",
       "        vertical-align: middle;\n",
       "    }\n",
       "\n",
       "    .dataframe tbody tr th {\n",
       "        vertical-align: top;\n",
       "    }\n",
       "\n",
       "    .dataframe thead th {\n",
       "        text-align: right;\n",
       "    }\n",
       "</style>\n",
       "<table border=\"1\" class=\"dataframe\">\n",
       "  <thead>\n",
       "    <tr style=\"text-align: right;\">\n",
       "      <th></th>\n",
       "      <th>CityLocation</th>\n",
       "      <th>AmountInUSD</th>\n",
       "    </tr>\n",
       "  </thead>\n",
       "  <tbody>\n",
       "    <tr>\n",
       "      <th>0</th>\n",
       "      <td>Bangalore</td>\n",
       "      <td>1,300,000</td>\n",
       "    </tr>\n",
       "    <tr>\n",
       "      <th>1</th>\n",
       "      <td>Mumbai</td>\n",
       "      <td>NaN</td>\n",
       "    </tr>\n",
       "    <tr>\n",
       "      <th>2</th>\n",
       "      <td>New Delhi</td>\n",
       "      <td>NaN</td>\n",
       "    </tr>\n",
       "    <tr>\n",
       "      <th>3</th>\n",
       "      <td>Mumbai</td>\n",
       "      <td>500,000</td>\n",
       "    </tr>\n",
       "    <tr>\n",
       "      <th>4</th>\n",
       "      <td>Hyderabad</td>\n",
       "      <td>850,000</td>\n",
       "    </tr>\n",
       "  </tbody>\n",
       "</table>\n",
       "</div>"
      ],
      "text/plain": [
       "  CityLocation AmountInUSD\n",
       "0    Bangalore   1,300,000\n",
       "1       Mumbai         NaN\n",
       "2    New Delhi         NaN\n",
       "3       Mumbai     500,000\n",
       "4    Hyderabad     850,000"
      ]
     },
     "execution_count": 81,
     "metadata": {},
     "output_type": "execute_result"
    }
   ],
   "source": [
    "import pandas as pd\n",
    "df=pd.read_csv('C:\\\\Users\\\\jhasa\\\\Desktop\\\\startup_funding.csv',encoding=\"utf8\")\n",
    "df1=df.loc[:,[\"CityLocation\",\"AmountInUSD\"]]\n",
    "df1.head()"
   ]
  },
  {
   "cell_type": "code",
   "execution_count": 82,
   "metadata": {},
   "outputs": [],
   "source": [
    "df1.CityLocation.replace(\"Delhi\",\"New Delhi\",inplace =True,regex=False)\n",
    "df1.CityLocation.replace(\"bangalore\",\"Bangalore\",inplace =True,regex=False)\n",
    "df1.AmountInUSD.replace(\",\",\"\",inplace=True,regex=True)\n",
    "df1.AmountInUSD=pd.to_numeric(df1.AmountInUSD)\n",
    "df1.AmountInUSD.fillna(df1.AmountInUSD.mean(),inplace=True)"
   ]
  },
  {
   "cell_type": "code",
   "execution_count": 83,
   "metadata": {},
   "outputs": [],
   "source": [
    "df2=df1[df1.CityLocation=='Bangalore']\n",
    "df3=df1[df1.CityLocation=='New Delhi']\n",
    "df4=df1[df1.CityLocation=='Gurgaon']\n",
    "df5=df1[df1.CityLocation=='Noida']\n",
    "df6=df1[df1.CityLocation=='Mumbai']\n",
    "df7=df1[df1.CityLocation=='Pune']\n",
    "df8=df1[df1.CityLocation=='Hyderabad']"
   ]
  },
  {
   "cell_type": "code",
   "execution_count": 88,
   "metadata": {},
   "outputs": [],
   "source": [
    "s2=((df2.AmountInUSD.count())*100//(df1.AmountInUSD.count()))\n",
    "s3=((df3.AmountInUSD.count())*100//(df1.AmountInUSD.count()))\n",
    "s4=((df4.AmountInUSD.count())*100//(df1.AmountInUSD.count()))\n",
    "s5=((df5.AmountInUSD.count())*100//(df1.AmountInUSD.count()))\n",
    "s6=((df6.AmountInUSD.count())*100//(df1.AmountInUSD.count()))\n",
    "s7=((df7.AmountInUSD.count())*100//(df1.AmountInUSD.count()))\n",
    "s8=((df8.AmountInUSD.count())*100//(df1.AmountInUSD.count()))\n",
    "population=df1\n",
    "parameter=population.mean()"
   ]
  },
  {
   "cell_type": "code",
   "execution_count": 89,
   "metadata": {},
   "outputs": [],
   "source": [
    "n2=df2.AmountInUSD.sample(s2,random_state=1).values\n",
    "n3=df3.AmountInUSD.sample(s3,random_state=1).values\n",
    "n4=df4.AmountInUSD.sample(s4,random_state=1).values\n",
    "n5=df5.AmountInUSD.sample(s5,random_state=1).values\n",
    "n6=df6.AmountInUSD.sample(s6,random_state=1).values\n",
    "n7=df7.AmountInUSD.sample(s7,random_state=1).values\n",
    "n8=df8.AmountInUSD.sample(s8,random_state=1).values"
   ]
  },
  {
   "cell_type": "code",
   "execution_count": 92,
   "metadata": {},
   "outputs": [],
   "source": [
    "x=n2.sum()+n3.sum()+n4.sum()+n5.sum()+n6.sum()+n7.sum()+n8.sum()\n",
    "statistics=x/100"
   ]
  },
  {
   "cell_type": "code",
   "execution_count": 93,
   "metadata": {},
   "outputs": [
    {
     "name": "stdout",
     "output_type": "stream",
     "text": [
      "AmountInUSD    4.839112e+06\n",
      "dtype: float64\n"
     ]
    }
   ],
   "source": [
    "print(parameter-statistics)"
   ]
  }
 ],
 "metadata": {
  "kernelspec": {
   "display_name": "Python 3",
   "language": "python",
   "name": "python3"
  },
  "language_info": {
   "codemirror_mode": {
    "name": "ipython",
    "version": 3
   },
   "file_extension": ".py",
   "mimetype": "text/x-python",
   "name": "python",
   "nbconvert_exporter": "python",
   "pygments_lexer": "ipython3",
   "version": "3.7.3"
  }
 },
 "nbformat": 4,
 "nbformat_minor": 2
}
