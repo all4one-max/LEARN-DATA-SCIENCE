{
 "cells": [
  {
   "cell_type": "markdown",
   "metadata": {},
   "source": [
    "### PRINT THE DATA OF FIRST THREE MOVIES"
   ]
  },
  {
   "cell_type": "code",
   "execution_count": 28,
   "metadata": {},
   "outputs": [
    {
     "name": "stdout",
     "output_type": "stream",
     "text": [
      "Avengers: Infinity War ; Action, Adventure, Sci-Fi\n",
      "Black Panther ; Action, Adventure, Sci-Fi\n",
      "Deadpool 2 ; Action, Adventure, Comedy\n"
     ]
    }
   ],
   "source": [
    "from bs4 import BeautifulSoup as bs\n",
    "import requests\n",
    "response=requests.get('https://www.imdb.com/search/title/?release_date=2018&sort=num_votes,desc&page=1&ref_=adv_nxt')\n",
    "data=bs(response.text,'html.parser')\n",
    "fnd=data.find_all('h3',class_='lister-item-header')\n",
    "title,genre=[],[]\n",
    "for ele in fnd:\n",
    "    title.append(ele.a.string)\n",
    "fnd=data.find_all('span',class_='genre')\n",
    "for ele in fnd:\n",
    "    genre.append([ele.string.strip()])\n",
    "for i in range(3):\n",
    "    print(title[i],\";\",*genre[i])"
   ]
  },
  {
   "cell_type": "markdown",
   "metadata": {},
   "source": [
    "### TITLES WITH MOST VOTES"
   ]
  },
  {
   "cell_type": "code",
   "execution_count": 174,
   "metadata": {},
   "outputs": [
    {
     "name": "stdout",
     "output_type": "stream",
     "text": [
      "Inception\n",
      "Game of Thrones\n",
      "The Dark Knight Rises\n",
      "The Wolf of Wall Street\n",
      "Interstellar\n"
     ]
    }
   ],
   "source": [
    "from bs4 import BeautifulSoup as bs\n",
    "import requests\n",
    "start='https://www.imdb.com/search/title/?release_date='\n",
    "end='&sort=num_votes,desc&page=1&ref_=adv_nxt'\n",
    "for i in range(2010,2015):\n",
    "    url=start+str(i)+end\n",
    "    response=requests.get(url)\n",
    "    data=bs(response.text,'html.parser')\n",
    "    fnd=data.find('h3',class_='lister-item-header')\n",
    "    print(fnd.a.string)"
   ]
  },
  {
   "cell_type": "markdown",
   "metadata": {},
   "source": [
    "### TITLE WITH MAXIMUM DURATION"
   ]
  },
  {
   "cell_type": "code",
   "execution_count": 161,
   "metadata": {
    "scrolled": true
   },
   "outputs": [
    {
     "name": "stdout",
     "output_type": "stream",
     "text": [
      "[[421, 'Sharp Objects'], [164, 'Padmaavat'], [160, 'Race 3'], [159, 'Dragged Across Concrete'], [156, 'K.G.F: Chapter 1'], [155, 'Sanju'], [152, 'Suspiria'], [152, 'The House That Jack Built'], [149, 'Avengers: Infinity War'], [148, 'Beoning'], [147, 'Mission: Impossible - Fallout'], [143, 'Aquaman'], [143, 'The Maze Runner: The Death Cure'], [143, '22 July'], [141, 'First Man'], [141, 'Bad Times at the El Royale'], [140, 'Ready Player One'], [140, 'Red Sparrow'], [140, 'Den of Thieves'], [139, 'Andhadhun'], [139, 'Under the Silver Lake'], [136, 'A Star Is Born'], [135, 'Solo: A Star Wars Story'], [135, 'BlacKkKlansman'], [135, 'Roma'], [134, 'Black Panther'], [134, 'Bohemian Rhapsody'], [134, 'Fantastic Beasts: The Crimes of Grindelwald'], [133, 'The Ballad of Buster Scruggs'], [133, 'The Hate U Give'], [133, 'Todos lo saben'], [132, 'Vice'], [130, 'Green Book'], [130, 'Creed 2'], [130, 'Mary Poppins Returns'], [130, '12 Strong'], [130, 'Apostle'], [129, 'Widows'], [128, 'Jurassic World: Fallen Kingdom'], [128, 'Mortal Engines'], [128, 'Durante la tormenta'], [128, 'Stree'], [127, 'Hereditary'], [126, 'Capharnaüm'], [126, 'Mute'], [125, 'Hold the Dark'], [125, 'Arif V 216'], [124, 'Bird Box'], [124, 'Mary Queen of Scots'], [124, 'The Guernsey Literary and Potato Peel Pie Society'], [124, 'Badhaai ho'], [123, 'Hotel Mumbai'], [122, 'Sicario 2: Soldado'], [122, 'Les frères Sisters'], [122, 'Hunter Killer'], [122, 'Operation Finale'], [121, 'The Equalizer 2'], [121, 'Mandy'], [121, 'Outlaw King'], [121, 'Shoplifters'], [120, 'Crazy Rich Asians'], [120, 'Beautiful Boy'], [119, 'Deadpool 2'], [119, 'Tomb Raider'], [119, 'The Favourite'], [119, 'If Beale Street Could Talk'], [118, 'Ant-Man and the Wasp'], [118, 'Incredibles 2'], [118, 'Instant Family'], [117, 'Spider-Man: Into the Spider-Verse'], [117, 'A Simple Favor'], [117, 'The Spy Who Dumped Me'], [116, 'The Mule'], [116, 'Robin Hood'], [116, 'American Animals'], [115, 'Annihilation'], [115, \"The Girl In The Spider's Web\"], [115, 'Boy Erased'], [114, 'Bumblebee'], [114, 'Mamma Mia! Here We Go Again'], [113, 'The Meg'], [113, 'How It Ends'], [113, 'High Life'], [112, 'Venom'], [112, 'Ralph Breaks the Internet: Wreck-It Ralph 2'], [112, 'Sorry to Bother You'], [112, 'Overboard'], [111, 'Pacific Rim: Uprising'], [111, 'Night School'], [111, \"At Eternity's Gate\"], [111, 'Gringo'], [110, \"Ocean's Eight\"], [110, 'Love, Simon'], [110, 'Overlord'], [110, 'Enes Batur Hayal mi Gerçek mi?'], [110, 'I Feel Pretty'], [110, \"Dumplin'\"], [109, 'Leave No Trace'], [109, 'A Wrinkle in Time'], [107, 'Rampage'], [107, 'The Predator'], [107, 'Death Wish'], [107, 'Replicas'], [106, 'Halloween'], [106, 'Can You Ever Forgive Me?'], [105, 'The Commuter'], [105, 'The Kissing Booth'], [105, 'Fifty Shades Freed'], [105, 'The House with a Clock in its Wall'], [105, 'Set It Up'], [105, 'Sierra Burgess Is a Loser'], [105, 'Life of the Party'], [105, 'Summer of 84'], [104, 'Christopher Robin'], [104, 'Mowgli'], [104, 'The Christmas Chronicles'], [104, 'The Darkest Minds'], [104, 'Book Club'], [103, 'Insidious: The Last Key'], [102, 'Searching'], [102, 'Skyscraper'], [102, 'The Cloverfield Paradox'], [102, 'Blockers'], [101, 'Isle of Dogs'], [101, 'Peppermint'], [101, 'Game Over, Man!'], [100, 'Game Night'], [100, 'Upgrade'], [100, 'Tag'], [100, 'Free Solo'], [100, 'Truth or Dare'], [100, 'Anon'], [99, \"To All the Boys I've Loved Before\"], [99, 'Winchester'], [99, 'The Nutcracker and the Four Realms'], [99, 'They Shall Not Grow Old'], [98, 'Arctic'], [98, 'Unsane'], [98, 'Stan & Ollie'], [97, 'Hotel Transylvania 3: Summer Vacation'], [97, 'The First Purge'], [97, 'Climax'], [97, 'When We First Met'], [97, 'The Titan'], [97, 'Tau'], [96, 'The Nun'], [96, 'Alpha'], [96, 'Adrift'], [96, 'Smallfoot'], [96, 'Escape Plan 2: Hades'], [95, 'Tully'], [95, 'Extinction'], [95, 'Peter Rabbit'], [95, 'Blindspotting'], [94, 'Mile 22'], [94, 'Hotel Artemis'], [94, 'The Open House'], [94, 'The 15:17 to Paris'], [94, 'Braven'], [93, 'Eighth Grade'], [93, 'The Old Man & The Gun'], [93, 'Slender Man'], [90, 'A Quiet Place'], [90, 'Black Mirror: Bandersnatch'], [90, 'The Perfection'], [90, 'Holmes & Watson'], [89, 'Johnny English Strikes Again'], [89, 'Zimna wojna'], [85, 'The Grinch'], [85, 'Mid90s'], [85, 'Den skyldige'], [85, 'The Strangers: Prey at Night'], [65, 'Sahsiyet'], [60, 'Altered Carbon'], [60, 'Bodyguard'], [60, 'Jack Ryan'], [60, 'Lost in Space'], [60, 'Chilling Adventures of Sabrina'], [60, 'Élite'], [60, 'Castle Rock'], [60, 'The Terror'], [60, 'The Alienist'], [60, 'Succession'], [60, 'Safe'], [60, 'Mirzapur'], [50, 'The Haunting of Hill House'], [50, 'Sacred Games'], [50, 'Narcos: Mexico'], [45, 'You'], [45, 'Titans'], [45, 'The Rain'], [43, 'Good Girls'], [42, 'Killing Eve'], [41, 'O Mecanismo'], [40, 'Maniac'], [40, 'The Protector'], [30, 'Cobra Kai'], [30, 'Disenchantment'], [30, 'Barry'], [30, 'Final Space']]\n"
     ]
    }
   ],
   "source": [
    "from bs4 import BeautifulSoup as bs,re\n",
    "import requests\n",
    "response=requests.get('https://www.imdb.com/search/title/?release_date=2018&sort=num_votes,desc&page=1&ref_=adv_nxt')\n",
    "data=bs(response.text,'html.parser')\n",
    "\n",
    "all_pages=['https://www.imdb.com/search/title/?release_date=2018-01-01,2018-12-31&sort=num_votes,desc&start=51&ref_=adv_prv','https://www.imdb.com/search/title/?release_date=2018-01-01,2018-12-31&sort=num_votes,desc&start=101&ref_=adv_nxt','https://www.imdb.com/search/title/?release_date=2018-01-01,2018-12-31&sort=num_votes,desc&start=151&ref_=adv_nxt','https://www.imdb.com/search/title/?release_date=2018-01-01,2018-12-31&sort=num_votes,desc&start=201&ref_=adv_nxt']\n",
    "li=[]\n",
    "for i in range(4):\n",
    "    fnd1=data.find_all(class_=\"runtime\")\n",
    "    fnd2=data.find_all('h3',class_='lister-item-header')\n",
    "    for j in range(50):\n",
    "        if j<len(fnd1):\n",
    "            x=fnd1[j].string\n",
    "            time=int(re.match('\\d+',x).group())\n",
    "            li.append([time,fnd2[j].a.string.strip()])\n",
    "    reponse=requests.get(all_pages[i])\n",
    "    data=bs(reponse.text,'html.parser')\n",
    "li.sort(key=lambda x:x[0],reverse=True)\n",
    "print(li)"
   ]
  },
  {
   "cell_type": "markdown",
   "metadata": {},
   "source": [
    "### APPLICATIONS OF AI"
   ]
  },
  {
   "cell_type": "code",
   "execution_count": 6,
   "metadata": {
    "scrolled": false
   },
   "outputs": [
    {
     "name": "stdout",
     "output_type": "stream",
     "text": [
      "Healthcare\n",
      "Automotive\n",
      "Finance and economics\n",
      "Cybersecurity\n",
      "Government\n",
      "Law-related professions\n",
      "Video games\n",
      "Military\n",
      "Hospitality\n",
      "Audit\n",
      "Advertising\n",
      "Art\n"
     ]
    }
   ],
   "source": [
    "from bs4 import BeautifulSoup as bs,re\n",
    "import requests\n",
    "response=requests.get('https://en.wikipedia.org/wiki/Artificial_intelligence#Applications')\n",
    "data=bs(response.text,'html.parser')\n",
    "\n",
    "fnd=data.find('a',href='#Applications')\n",
    "s=list(fnd.strings)\n",
    "li=list(fnd.next_siblings)\n",
    "\n",
    "li.pop()\n",
    "li.remove('\\n')\n",
    "li=li[0].contents\n",
    "for i in range(1,len(li),2):\n",
    "    s=list(li[i].strings)   \n",
    "    print(s[2])"
   ]
  },
  {
   "cell_type": "markdown",
   "metadata": {},
   "source": [
    "### IMAGE WITH MAXIMUM AREA"
   ]
  },
  {
   "cell_type": "code",
   "execution_count": 88,
   "metadata": {},
   "outputs": [
    {
     "name": "stdout",
     "output_type": "stream",
     "text": [
      "//upload.wikimedia.org/wikipedia/commons/6/69/EM_Clustering_of_Old_Faithful_data.gif\n"
     ]
    }
   ],
   "source": [
    "from bs4 import BeautifulSoup as bs,re\n",
    "import requests\n",
    "response=requests.get('https://en.wikipedia.org/wiki/Artificial_intelligence#Applications')\n",
    "data=bs(response.text,'html.parser')\n",
    "\n",
    "fnd=data.find_all('img')\n",
    "li=[]\n",
    "for ele in fnd:\n",
    "    s=ele.get('src')\n",
    "    ar=int(ele.get('height'))*int(ele.get('width'))\n",
    "    li.append([ar,s])\n",
    "li.sort(key=lambda x:x[0],reverse=True)\n",
    "print(li[0][1])\n"
   ]
  },
  {
   "cell_type": "markdown",
   "metadata": {},
   "source": [
    "### QUOTES WITH TAG HUMOUR"
   ]
  },
  {
   "cell_type": "code",
   "execution_count": 128,
   "metadata": {
    "scrolled": false
   },
   "outputs": [
    {
     "name": "stdout",
     "output_type": "stream",
     "text": [
      "“The person, be it gentleman or lady, who has not pleasure in a good novel, must be intolerably stupid.”\n",
      "“A day without sunshine is like, you know, night.”\n",
      "“Anyone who thinks sitting in church can make you a Christian must also think that sitting in a garage can make you a car.”\n",
      "“Beauty is in the eye of the beholder and it may be necessary from time to time to give a stupid or misinformed beholder a black eye.”\n",
      "“All you need is love. But a little chocolate now and then doesn't hurt.”\n",
      "“Remember, we're madly in love, so it's all right to kiss me anytime you feel like it.”\n",
      "“Some people never go crazy. What truly horrible lives they must lead.”\n",
      "“The trouble with having an open mind, of course, is that people will insist on coming along and trying to put things in it.”\n",
      "“Think left and think right and think low and think high. Oh, the thinks you can think up if only you try!”\n",
      "“The reason I talk to myself is because I’m the only one whose answers I accept.”\n",
      "“I am free of all prejudice. I hate everyone equally. ”\n",
      "“A lady's imagination is very rapid; it jumps from admiration to love, from love to matrimony in a moment.”\n"
     ]
    }
   ],
   "source": [
    "from bs4 import BeautifulSoup as bs,re\n",
    "import requests\n",
    "base_url='http://quotes.toscrape.com'\n",
    "response=requests.get('http://quotes.toscrape.com/page/1/')\n",
    "data=bs(response.text,'html.parser')\n",
    "l=[]\n",
    "for i in range(9):\n",
    "    fnd1=data.find_all('div',class_='quote')\n",
    "    for ele in fnd1:\n",
    "        x=ele.div.meta['content']\n",
    "        li=[e for e in x.split(',')]\n",
    "        if 'humor' in li:\n",
    "            s=ele.find('span',class_='text')\n",
    "            s=s.string\n",
    "            l.append(s)\n",
    "    fnd=data.find('li',class_=\"next\")\n",
    "    nxt=fnd.a['href']\n",
    "    nxt_url=base_url+nxt\n",
    "    response=requests.get(nxt_url)\n",
    "    data=bs(response.text,'html.parser')\n",
    "for ele in l:\n",
    "    print(ele)"
   ]
  },
  {
   "cell_type": "markdown",
   "metadata": {},
   "source": [
    "### PRINT ALL AUTHORS"
   ]
  },
  {
   "cell_type": "code",
   "execution_count": 4,
   "metadata": {},
   "outputs": [
    {
     "name": "stdout",
     "output_type": "stream",
     "text": [
      "Albert Einstein\n",
      "Alexandre Dumas fils\n",
      "Alfred Tennyson\n",
      "Allen Saunders\n",
      "André Gide\n",
      "Ayn Rand\n",
      "Bob Marley\n",
      "C.S. Lewis\n",
      "Charles Bukowski\n",
      "Charles M. Schulz\n",
      "Douglas Adams\n",
      "Dr. Seuss\n",
      "E.E. Cummings\n",
      "Eleanor Roosevelt\n",
      "Elie Wiesel\n",
      "Ernest Hemingway\n",
      "Friedrich Nietzsche\n",
      "Garrison Keillor\n",
      "George Bernard Shaw\n",
      "George Carlin\n",
      "George Eliot\n",
      "George R.R. Martin\n",
      "Harper Lee\n",
      "Haruki Murakami\n",
      "Helen Keller\n",
      "J.D. Salinger\n",
      "J.K. Rowling\n",
      "J.M. Barrie\n",
      "J.R.R. Tolkien\n",
      "James Baldwin\n",
      "Jane Austen\n",
      "Jim Henson\n",
      "Jimi Hendrix\n",
      "John Lennon\n",
      "Jorge Luis Borges\n",
      "Khaled Hosseini\n",
      "Madeleine L'Engle\n",
      "Marilyn Monroe\n",
      "Mark Twain\n",
      "Martin Luther King Jr.\n",
      "Mother Teresa\n",
      "Pablo Neruda\n",
      "Ralph Waldo Emerson\n",
      "Stephenie Meyer\n",
      "Steve Martin\n",
      "Suzanne Collins\n",
      "Terry Pratchett\n",
      "Thomas A. Edison\n",
      "W.C. Fields\n",
      "William Nicholson\n"
     ]
    }
   ],
   "source": [
    "from bs4 import BeautifulSoup as bs,re\n",
    "from collections import Counter\n",
    "import requests\n",
    "base_url='http://quotes.toscrape.com'\n",
    "response=requests.get('http://quotes.toscrape.com/page/1/')\n",
    "data=bs(response.text,'html.parser')\n",
    "l=[]\n",
    "for i in range(10):\n",
    "    fnd1=data.find_all('small',class_='author')\n",
    "    for ele in fnd1:\n",
    "        x=ele.string\n",
    "        l.append(x)\n",
    "    if i!=9:\n",
    "        fnd=data.find('li',class_=\"next\")\n",
    "        nxt=fnd.a['href']\n",
    "        nxt_url=base_url+nxt\n",
    "        response=requests.get(nxt_url)\n",
    "        data=bs(response.text,'html.parser')\n",
    "cnt=Counter(l)\n",
    "l=[]\n",
    "for ele in cnt:\n",
    "    l.append(ele)\n",
    "l.sort()\n",
    "for ele in l:\n",
    "    print(ele)"
   ]
  },
  {
   "cell_type": "markdown",
   "metadata": {},
   "source": [
    "### BIRTH DATE OF AUTHORS"
   ]
  },
  {
   "cell_type": "code",
   "execution_count": 2,
   "metadata": {},
   "outputs": [
    {
     "name": "stdout",
     "output_type": "stream",
     "text": [
      "{'J.D. Salinger': 'January 01, 1919', 'J.K. Rowling': 'July 31, 1965', 'J.M. Barrie': 'May 09, 1860', 'J.R.R. Tolkien': 'January 03, 1892', 'James Baldwin': 'August 02, 1924', 'Jane Austen': 'December 16, 1775', 'Jim Henson': 'September 24, 1936', 'Jimi Hendrix': 'November 27, 1942', 'John Lennon': 'October 09, 1940', 'Jorge Luis Borges': 'August 24, 1899'}\n"
     ]
    }
   ],
   "source": [
    "from bs4 import BeautifulSoup as bs,re\n",
    "from collections import OrderedDict\n",
    "import requests\n",
    "base_url='http://quotes.toscrape.com'\n",
    "response=requests.get('http://quotes.toscrape.com/page/1/')\n",
    "data=bs(response.text,'html.parser')\n",
    "d={}\n",
    "for i in range(10):\n",
    "    fnd1=data.find_all('small',class_='author')\n",
    "    for ele in fnd1:\n",
    "        if ele.string[0]=='J':\n",
    "            url=list(ele.next_siblings)[1]        \n",
    "            book=base_url+url.get('href')\n",
    "            res=requests.get(book,)\n",
    "            dt=bs(res.text,'html.parser')\n",
    "            athr=dt.find('h3',class_=\"author-title\").string\n",
    "            dob=dt.find('span',class_=\"author-born-date\").string\n",
    "            d[athr]=dob        \n",
    "    if i!=9:\n",
    "        fnd=data.find('li',class_=\"next\")\n",
    "        nxt=fnd.a['href']\n",
    "        nxt_url=base_url+nxt\n",
    "        response=requests.get(nxt_url)\n",
    "        data=bs(response.text,'html.parser')\n",
    "dd={}\n",
    "for ele in sorted(d):\n",
    "    dd[ele]=d[ele]\n",
    "print(dd)"
   ]
  },
  {
   "cell_type": "markdown",
   "metadata": {},
   "source": [
    "### QUOTES BY ALBERT EINSTEIN"
   ]
  },
  {
   "cell_type": "code",
   "execution_count": 160,
   "metadata": {},
   "outputs": [
    {
     "name": "stdout",
     "output_type": "stream",
     "text": [
      "“The world as we have created it is a process of our thinking. It cannot be changed without changing our thinking.”\n",
      "“There are only two ways to live your life. One is as though nothing is a miracle. The other is as though everything is a miracle.”\n",
      "“Try not to become a man of success. Rather become a man of value.”\n",
      "“If you can't explain it to a six year old, you don't understand it yourself.”\n",
      "“If you want your children to be intelligent, read them fairy tales. If you want them to be more intelligent, read them more fairy tales.”\n",
      "“Logic will get you from A to Z; imagination will get you everywhere.”\n",
      "“Any fool can know. The point is to understand.”\n",
      "“Life is like riding a bicycle. To keep your balance, you must keep moving.”\n",
      "“If I were not a physicist, I would probably be a musician. I often think in music. I live my daydreams in music. I see my life in terms of music.”\n",
      "“Anyone who has never made a mistake has never tried anything new.”\n"
     ]
    }
   ],
   "source": [
    "from bs4 import BeautifulSoup as bs,re\n",
    "import requests\n",
    "base_url='http://quotes.toscrape.com'\n",
    "response=requests.get('http://quotes.toscrape.com/page/1/')\n",
    "data=bs(response.text,'html.parser')\n",
    "l=[]\n",
    "for i in range(9):\n",
    "    fnd1=data.find_all('div',class_='quote')\n",
    "    for ele in fnd1:\n",
    "        fn=ele.find('small',class_=\"author\")\n",
    "        if fn.string==\"Albert Einstein\":\n",
    "            fn2=ele.find('span',class_=\"text\")\n",
    "            l.append(fn2.string)\n",
    "    fnd=data.find('li',class_=\"next\")\n",
    "    nxt=fnd.a['href']\n",
    "    nxt_url=base_url+nxt\n",
    "    response=requests.get(nxt_url)\n",
    "    data=bs(response.text,'html.parser')\n",
    "for ele in l:\n",
    "    print(ele)"
   ]
  }
 ],
 "metadata": {
  "kernelspec": {
   "display_name": "Python 3",
   "language": "python",
   "name": "python3"
  },
  "language_info": {
   "codemirror_mode": {
    "name": "ipython",
    "version": 3
   },
   "file_extension": ".py",
   "mimetype": "text/x-python",
   "name": "python",
   "nbconvert_exporter": "python",
   "pygments_lexer": "ipython3",
   "version": "3.7.3"
  }
 },
 "nbformat": 4,
 "nbformat_minor": 2
}
