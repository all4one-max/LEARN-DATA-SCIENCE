{
 "cells": [
  {
   "cell_type": "markdown",
   "metadata": {},
   "source": [
    "### FIND ALL PLANS OF AIRTEL"
   ]
  },
  {
   "cell_type": "code",
   "execution_count": 1,
   "metadata": {},
   "outputs": [],
   "source": [
    "from selenium import webdriver\n",
    "driver = webdriver.Chrome(r\"C:\\\\Users\\\\jhasa\\\\Desktop\\\\chromedriver\")\n",
    "driver.get(\"https://paytm.com/recharge\")"
   ]
  },
  {
   "cell_type": "code",
   "execution_count": 3,
   "metadata": {},
   "outputs": [],
   "source": [
    "c=driver.find_element_by_link_text(\"Airtel Recharge\")"
   ]
  },
  {
   "cell_type": "code",
   "execution_count": 4,
   "metadata": {},
   "outputs": [],
   "source": [
    "c.click()"
   ]
  },
  {
   "cell_type": "code",
   "execution_count": 24,
   "metadata": {
    "scrolled": false
   },
   "outputs": [
    {
     "data": {
      "text/html": [
       "<div>\n",
       "<style scoped>\n",
       "    .dataframe tbody tr th:only-of-type {\n",
       "        vertical-align: middle;\n",
       "    }\n",
       "\n",
       "    .dataframe tbody tr th {\n",
       "        vertical-align: top;\n",
       "    }\n",
       "\n",
       "    .dataframe thead th {\n",
       "        text-align: right;\n",
       "    }\n",
       "</style>\n",
       "<table border=\"1\" class=\"dataframe\">\n",
       "  <thead>\n",
       "    <tr style=\"text-align: right;\">\n",
       "      <th></th>\n",
       "      <th>Circle</th>\n",
       "      <th>Plan Type</th>\n",
       "      <th>Validity</th>\n",
       "      <th>Description</th>\n",
       "      <th>Price (Rs.)</th>\n",
       "    </tr>\n",
       "  </thead>\n",
       "  <tbody>\n",
       "    <tr>\n",
       "      <th>0</th>\n",
       "      <td>Delhi NCR</td>\n",
       "      <td>Special Recharge</td>\n",
       "      <td>28 Days</td>\n",
       "      <td>Enjoy Local &amp; STD calls 2.5p/sec, National Vid...</td>\n",
       "      <td>45</td>\n",
       "    </tr>\n",
       "    <tr>\n",
       "      <th>1</th>\n",
       "      <td>Delhi NCR</td>\n",
       "      <td>Top Up</td>\n",
       "      <td>28 Days</td>\n",
       "      <td>Regular Talktime of ₹420.73</td>\n",
       "      <td>500</td>\n",
       "    </tr>\n",
       "  </tbody>\n",
       "</table>\n",
       "</div>"
      ],
      "text/plain": [
       "      Circle         Plan Type Validity  \\\n",
       "0  Delhi NCR  Special Recharge  28 Days   \n",
       "1  Delhi NCR            Top Up  28 Days   \n",
       "\n",
       "                                         Description  Price (Rs.)  \n",
       "0  Enjoy Local & STD calls 2.5p/sec, National Vid...           45  \n",
       "1                        Regular Talktime of ₹420.73          500  "
      ]
     },
     "execution_count": 24,
     "metadata": {},
     "output_type": "execute_result"
    }
   ],
   "source": [
    "from bs4 import BeautifulSoup as bs\n",
    "import pandas as pd\n",
    "data=bs(driver.page_source,'html.parser')\n",
    "plans=data.table\n",
    "df=pd.read_html(str(plans),header=0)[0]\n",
    "df=df[df.Circle==\"Delhi NCR\"]\n",
    "df.reset_index(drop=True,inplace=True)\n",
    "df"
   ]
  },
  {
   "cell_type": "code",
   "execution_count": 25,
   "metadata": {},
   "outputs": [],
   "source": [
    "d=driver.find_element_by_link_text(\"Delhi NCR\")"
   ]
  },
  {
   "cell_type": "code",
   "execution_count": 26,
   "metadata": {},
   "outputs": [],
   "source": [
    "d.click()"
   ]
  },
  {
   "cell_type": "code",
   "execution_count": 39,
   "metadata": {},
   "outputs": [],
   "source": [
    "fnd=driver.find_elements_by_class_name(\"_1aEZ\")"
   ]
  },
  {
   "cell_type": "code",
   "execution_count": 46,
   "metadata": {},
   "outputs": [
    {
     "name": "stdout",
     "output_type": "stream",
     "text": [
      "Rs. 98\n",
      "Rs. 149\n",
      "Rs. 179\n",
      "Rs. 219\n",
      "Rs. 249\n",
      "Rs. 251\n",
      "Rs. 279\n",
      "Rs. 298\n",
      "Rs. 349\n",
      "Rs. 398\n",
      "Rs. 399\n",
      "Rs. 401\n",
      "Rs. 449\n",
      "Rs. 558\n",
      "Rs. 598\n",
      "Rs. 698\n"
     ]
    }
   ],
   "source": [
    "li=[]\n",
    "for ele in fnd:\n",
    "    s=ele.text\n",
    "    l=[x for x in s.split(\"\\n\")]\n",
    "    li.append(l)\n",
    "for ele in li:\n",
    "    print(ele[-1])"
   ]
  },
  {
   "cell_type": "code",
   "execution_count": 48,
   "metadata": {},
   "outputs": [],
   "source": [
    "driver.quit()"
   ]
  },
  {
   "cell_type": "markdown",
   "metadata": {},
   "source": [
    "### SEARCH AND PRINT PRICES"
   ]
  },
  {
   "cell_type": "code",
   "execution_count": 68,
   "metadata": {},
   "outputs": [],
   "source": [
    "from selenium import webdriver\n",
    "driver = webdriver.Chrome(r\"C:\\\\Users\\\\jhasa\\\\Desktop\\\\chromedriver\")\n",
    "driver.get(\"https://paytm.com/recharge\")"
   ]
  },
  {
   "cell_type": "code",
   "execution_count": 90,
   "metadata": {},
   "outputs": [],
   "source": [
    "c=driver.find_element_by_xpath(\"//input\")"
   ]
  },
  {
   "cell_type": "code",
   "execution_count": 91,
   "metadata": {},
   "outputs": [],
   "source": [
    "c.send_keys(\"iphone\")"
   ]
  },
  {
   "cell_type": "code",
   "execution_count": 92,
   "metadata": {},
   "outputs": [],
   "source": [
    "from selenium.webdriver.common.keys import Keys \n",
    "c.send_keys(Keys.ENTER)"
   ]
  },
  {
   "cell_type": "code",
   "execution_count": 96,
   "metadata": {},
   "outputs": [],
   "source": [
    "from bs4 import BeautifulSoup\n",
    "import requests"
   ]
  },
  {
   "cell_type": "code",
   "execution_count": 97,
   "metadata": {},
   "outputs": [],
   "source": [
    "res=requests.get(driver.current_url)\n",
    "data=bs(res.text,\"html.parser\")"
   ]
  },
  {
   "cell_type": "code",
   "execution_count": 98,
   "metadata": {},
   "outputs": [],
   "source": [
    "li=data.find_all(class_=\"_1kMS\")"
   ]
  },
  {
   "cell_type": "code",
   "execution_count": 101,
   "metadata": {},
   "outputs": [
    {
     "name": "stdout",
     "output_type": "stream",
     "text": [
      "Rs 68300\n",
      "Rs 31500\n",
      "Rs 73600\n",
      "Rs 31500\n"
     ]
    }
   ],
   "source": [
    "for ele in li[:4]:\n",
    "    print(ele.string)"
   ]
  },
  {
   "cell_type": "code",
   "execution_count": 142,
   "metadata": {},
   "outputs": [],
   "source": [
    "driver.quit()"
   ]
  },
  {
   "cell_type": "markdown",
   "metadata": {},
   "source": [
    "### FIND ACCURACY IN BST"
   ]
  },
  {
   "cell_type": "code",
   "execution_count": 103,
   "metadata": {},
   "outputs": [],
   "source": [
    "from selenium import webdriver\n",
    "driver = webdriver.Chrome(r\"C:\\\\Users\\\\jhasa\\\\Desktop\\\\chromedriver\")\n",
    "driver.get(\"https://paytm.com/\")"
   ]
  },
  {
   "cell_type": "code",
   "execution_count": 133,
   "metadata": {},
   "outputs": [],
   "source": [
    "c=driver.find_element_by_partial_link_text(\"Train\")"
   ]
  },
  {
   "cell_type": "code",
   "execution_count": 134,
   "metadata": {},
   "outputs": [],
   "source": [
    "c.click()"
   ]
  },
  {
   "cell_type": "code",
   "execution_count": 135,
   "metadata": {},
   "outputs": [],
   "source": [
    "d=driver.find_elements_by_id(\"text-box\")"
   ]
  },
  {
   "cell_type": "code",
   "execution_count": 136,
   "metadata": {},
   "outputs": [],
   "source": [
    "from selenium.webdriver.common.keys import Keys "
   ]
  },
  {
   "cell_type": "code",
   "execution_count": 138,
   "metadata": {},
   "outputs": [],
   "source": [
    "d[0].send_keys(\"Delhi\")\n",
    "d[1].send_keys(\"Amritsar\")"
   ]
  },
  {
   "cell_type": "code",
   "execution_count": 139,
   "metadata": {},
   "outputs": [],
   "source": [
    "d[0].send_keys(Keys.ENTER)\n",
    "d[1].send_keys(Keys.ENTER)"
   ]
  },
  {
   "cell_type": "code",
   "execution_count": 140,
   "metadata": {},
   "outputs": [],
   "source": [
    "e=driver.find_element_by_xpath('//div[@data-reactid=\"209\"]/div')\n",
    "e.click()"
   ]
  },
  {
   "cell_type": "code",
   "execution_count": 141,
   "metadata": {},
   "outputs": [],
   "source": [
    "f=driver.find_element_by_partial_link_text(\"Search Trains\")\n",
    "f.click()"
   ]
  },
  {
   "cell_type": "code",
   "execution_count": 132,
   "metadata": {},
   "outputs": [],
   "source": [
    "driver.back()"
   ]
  },
  {
   "cell_type": "markdown",
   "metadata": {},
   "source": [
    "### LISTS OF TRAINS NOT COMPLETED SINCE SITE WAS HAVING ISSUE"
   ]
  },
  {
   "cell_type": "code",
   "execution_count": 143,
   "metadata": {},
   "outputs": [],
   "source": [
    "from selenium import webdriver\n",
    "driver = webdriver.Chrome(r\"C:\\\\Users\\\\jhasa\\\\Desktop\\\\chromedriver\")\n",
    "driver.get(\"https://practice.geeksforgeeks.org/home/\")"
   ]
  },
  {
   "cell_type": "code",
   "execution_count": 144,
   "metadata": {},
   "outputs": [],
   "source": [
    "c=driver.find_element_by_partial_link_text(\"BST\")"
   ]
  },
  {
   "cell_type": "code",
   "execution_count": 146,
   "metadata": {},
   "outputs": [],
   "source": [
    "c.click()"
   ]
  },
  {
   "cell_type": "code",
   "execution_count": 151,
   "metadata": {},
   "outputs": [],
   "source": [
    "d=driver.find_elements_by_class_name(\"progress-bar\")"
   ]
  },
  {
   "cell_type": "code",
   "execution_count": 175,
   "metadata": {},
   "outputs": [
    {
     "name": "stdout",
     "output_type": "stream",
     "text": [
      " 40%\n",
      " 134.58%\n",
      " 62.66%\n",
      " 60%\n",
      " 17.62%\n",
      " 59.71%\n",
      " 60%\n",
      " 53.775%\n",
      " 58.58%\n",
      " 40%\n"
     ]
    }
   ],
   "source": [
    "import re\n",
    "for ele in d[:10]:\n",
    "    x=ele.get_attribute(\"style\")\n",
    "    li=[e for e in x.split(\";\")][-2]\n",
    "    x=re.split(\":\",li)\n",
    "    print(x[-1])"
   ]
  },
  {
   "cell_type": "code",
   "execution_count": 195,
   "metadata": {},
   "outputs": [],
   "source": [
    "driver.quit()"
   ]
  },
  {
   "cell_type": "markdown",
   "metadata": {},
   "source": [
    "### PROBLEM TITLES"
   ]
  },
  {
   "cell_type": "code",
   "execution_count": 196,
   "metadata": {},
   "outputs": [],
   "source": [
    "from selenium import webdriver\n",
    "from selenium.webdriver.common.keys import Keys \n",
    "driver = webdriver.Chrome(r\"C:\\\\Users\\\\jhasa\\\\Desktop\\\\chromedriver\")\n",
    "driver.get(\"https://practice.geeksforgeeks.org/home/\")"
   ]
  },
  {
   "cell_type": "code",
   "execution_count": 273,
   "metadata": {},
   "outputs": [],
   "source": [
    "c=driver.find_elements_by_class_name(\"card-text\")"
   ]
  },
  {
   "cell_type": "code",
   "execution_count": 289,
   "metadata": {},
   "outputs": [
    {
     "name": "stdout",
     "output_type": "stream",
     "text": [
      "Ishaan Loves Chocolates\n",
      "Rearrange linked list in-place\n"
     ]
    }
   ],
   "source": [
    "from bs4 import BeautifulSoup as bs\n",
    "import time\n",
    "for i in range(2):\n",
    "    c=driver.find_elements_by_class_name(\"card-text\")\n",
    "    time.sleep(4)    \n",
    "    c[i].click()\n",
    "    time.sleep(4)\n",
    "    d=driver.find_elements_by_xpath('//span[@style=\"display:block;font-size: 20px !important\"]')\n",
    "    print(d[14].text)\n",
    "    driver.back()"
   ]
  },
  {
   "cell_type": "code",
   "execution_count": 293,
   "metadata": {},
   "outputs": [],
   "source": [
    "driver.quit()"
   ]
  },
  {
   "cell_type": "markdown",
   "metadata": {},
   "source": [
    "### SCRAPE FIRST 5 INSTAGRAM POSTS"
   ]
  },
  {
   "cell_type": "code",
   "execution_count": 353,
   "metadata": {},
   "outputs": [],
   "source": [
    "from selenium import webdriver\n",
    "driver = webdriver.Chrome(r\"C:\\\\Users\\\\jhasa\\\\Desktop\\\\chromedriver\")\n",
    "driver.get(\"https://www.instagram.com/coding.ninjas/\")"
   ]
  },
  {
   "cell_type": "code",
   "execution_count": 358,
   "metadata": {},
   "outputs": [
    {
     "name": "stdout",
     "output_type": "stream",
     "text": [
      "While you tick off all the important things you need to do during these tough times, don't forget to upskill yourself too!\n",
      "Enrol with us today: Link in Bio\n",
      "#EarlyBird #CodingNinjas\n",
      "Wow🔥🔥🔥\n",
      "While you practice programs daily, don't forget to keep a check on your health too! #InternationalYogaDay #YogaDay\n",
      "Adding comment 🔥🔥\n",
      "#yoga #fitness #meditation #yogainspiration #yogapractice #love #yogalife #yogaeverydamnday #yogi #yogateacher #namaste #yogalove #pilates #yogaeveryday #mindfulness #workout #gym #yogagirl #wellness #health #motivation #yogaeverywhere #yogachallenge #yogini #yogapose #healthylifestyle #fitnessmotivation\n",
      "To all the programmer and non-programmer dads out there🙌🏻⠀\n",
      "Happy Father's Day from Coding Ninjas!⠀\n",
      "#FathersDay #CodingNinjas\n",
      "Here comes one more comment\n",
      "#fathersday #father #dad #love #birthday #family #daddy #happyfathersday #fathers #fatherandson #fatherhood #fatherson #fatherdaughter #dadlife #sundayfunday #sundayvibes #june21 #june21st\n",
      "🤣🤣 nice ☝one\n",
      "What if Bollywood songs were sung by programmers? Check them out over here!\n",
      "#CodingNinjas #DecodingLikeNinja #BollywoodStyle\n",
      "Aa dekhe zara.. kisme kitna hai bug, program krna h sucessful run, mere sathiya 🔥\n",
      "Main paresan ,paresan is mine ...\n",
      "Aaj thik 10 bje mera program successful ho gya😂😂\n",
      "Industry Salman nhi unka Complier chalata hai.\n",
      "❤️❤️👌😆😆\n",
      "Last one was cringe af😅\n",
      "🤣🤣🤣\n",
      "😂😂😂\n",
      "😂😂🤣\n",
      "Subhaanalllaa Code runn ho raha h, Kyun ho raha h, wallah kaise hua?\n",
      "😂😂\n",
      "🤣\n",
      "Let's see if you're able to #SpotTheBug.\n",
      "Solve and share your answers in the comments below👇\n",
      "#CodingNinjas #CNChallenge\n",
      "Line 3 ,x was not declared any where\n",
      "Line 4...it should be inside if condition\n",
      "Line 4.\n",
      "Line 4. It should be mid+1 instead of mid\n",
      "Line 4\n",
      "Line 4\n",
      "line 4\n",
      "Line 4 mid+1 should be written instead of mid\n",
      "Line 2\n",
      "Line 4 becoz it should be mid + 1 else if a number is greater than arr[mid] it leads to the infinite recursive function and tends to stack overflow error\n",
      "Compiler error x is not defined😝\n",
      "Line 4\n"
     ]
    }
   ],
   "source": [
    "from bs4 import BeautifulSoup as bs\n",
    "import time\n",
    "c=driver.find_elements_by_class_name(\"_9AhH0\")\n",
    "c[0].click()\n",
    "for i in range(5):    \n",
    "    d=driver.find_elements_by_xpath('//div[@class=\"C4VMK\"]/span')\n",
    "    for i in range(len(d)):\n",
    "        print(d[i].text)\n",
    "    df=driver.find_elements_by_xpath('//a[@class=\" _65Bje  coreSpriteRightPaginationArrow\"]')\n",
    "    time.sleep(4)\n",
    "    df[0].click()\n",
    "    time.sleep(4)"
   ]
  },
  {
   "cell_type": "code",
   "execution_count": 359,
   "metadata": {},
   "outputs": [],
   "source": [
    "driver.quit()"
   ]
  }
 ],
 "metadata": {
  "kernelspec": {
   "display_name": "Python 3",
   "language": "python",
   "name": "python3"
  },
  "language_info": {
   "codemirror_mode": {
    "name": "ipython",
    "version": 3
   },
   "file_extension": ".py",
   "mimetype": "text/x-python",
   "name": "python",
   "nbconvert_exporter": "python",
   "pygments_lexer": "ipython3",
   "version": "3.7.3"
  }
 },
 "nbformat": 4,
 "nbformat_minor": 2
}
