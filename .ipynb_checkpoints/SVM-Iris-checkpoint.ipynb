{
 "cells": [
  {
   "cell_type": "code",
   "execution_count": 1,
   "metadata": {},
   "outputs": [],
   "source": [
    "from sklearn import svm, datasets\n",
    "import numpy as np\n",
    "from sklearn.model_selection import train_test_split\n",
    "import matplotlib.pyplot as plt"
   ]
  },
  {
   "cell_type": "code",
   "execution_count": 2,
   "metadata": {},
   "outputs": [],
   "source": [
    "iris = datasets.load_iris()\n",
    "x = iris.data[:, 0:2]\n",
    "y = iris.target"
   ]
  },
  {
   "cell_type": "code",
   "execution_count": 3,
   "metadata": {},
   "outputs": [],
   "source": [
    "x_train,x_test, y_train, y_test = train_test_split(x, y)"
   ]
  },
  {
   "cell_type": "code",
   "execution_count": 4,
   "metadata": {},
   "outputs": [
    {
     "data": {
      "text/plain": [
       "SVC(C=1.0, cache_size=200, class_weight=None, coef0=0.0,\n",
       "    decision_function_shape='ovr', degree=3, gamma='auto_deprecated',\n",
       "    kernel='linear', max_iter=-1, probability=False, random_state=None,\n",
       "    shrinking=True, tol=0.001, verbose=False)"
      ]
     },
     "execution_count": 4,
     "metadata": {},
     "output_type": "execute_result"
    }
   ],
   "source": [
    "clf = svm.SVC(kernel = 'linear')\n",
    "clf.fit(x_train, y_train)"
   ]
  },
  {
   "cell_type": "code",
   "execution_count": 5,
   "metadata": {},
   "outputs": [
    {
     "data": {
      "text/plain": [
       "0.8421052631578947"
      ]
     },
     "execution_count": 5,
     "metadata": {},
     "output_type": "execute_result"
    }
   ],
   "source": [
    "clf.score(x_test, y_test)"
   ]
  },
  {
   "cell_type": "code",
   "execution_count": 18,
   "metadata": {},
   "outputs": [],
   "source": [
    "def makegrid(x1, x2, h = 0.02):\n",
    "    x1_min, x1_max = x1.min() - 1, x1.max() + 1\n",
    "    x2_min, x2_max = x2.min() - 1, x2.max() + 1\n",
    "    a = np.arange(x1_min,x1_max,h)\n",
    "    b = np.arange(x2_min, x2_max, h)\n",
    "    print(np.meshgrid(a, b))\n",
    "    xx, yy = np.meshgrid(a, b)\n",
    "    return xx, yy"
   ]
  },
  {
   "cell_type": "code",
   "execution_count": 19,
   "metadata": {},
   "outputs": [
    {
     "name": "stdout",
     "output_type": "stream",
     "text": [
      "[array([[3.3 , 3.32, 3.34, ..., 8.84, 8.86, 8.88],\n",
      "       [3.3 , 3.32, 3.34, ..., 8.84, 8.86, 8.88],\n",
      "       [3.3 , 3.32, 3.34, ..., 8.84, 8.86, 8.88],\n",
      "       ...,\n",
      "       [3.3 , 3.32, 3.34, ..., 8.84, 8.86, 8.88],\n",
      "       [3.3 , 3.32, 3.34, ..., 8.84, 8.86, 8.88],\n",
      "       [3.3 , 3.32, 3.34, ..., 8.84, 8.86, 8.88]]), array([[1.  , 1.  , 1.  , ..., 1.  , 1.  , 1.  ],\n",
      "       [1.02, 1.02, 1.02, ..., 1.02, 1.02, 1.02],\n",
      "       [1.04, 1.04, 1.04, ..., 1.04, 1.04, 1.04],\n",
      "       ...,\n",
      "       [5.34, 5.34, 5.34, ..., 5.34, 5.34, 5.34],\n",
      "       [5.36, 5.36, 5.36, ..., 5.36, 5.36, 5.36],\n",
      "       [5.38, 5.38, 5.38, ..., 5.38, 5.38, 5.38]])]\n"
     ]
    },
    {
     "data": {
      "image/png": "[encoded data removed]",
      "text/plain": [
       "<Figure size 432x288 with 1 Axes>"
      ]
     },
     "metadata": {
      "needs_background": "light"
     },
     "output_type": "display_data"
    }
   ],
   "source": [
    "xx, yy = makegrid(x[:, 0], x[:, 1])\n",
    "predictions = clf.predict(np.c_[xx.ravel(), yy.ravel()])\n",
    "plt.scatter(xx.ravel(), yy.ravel(), c = predictions)\n",
    "plt.show()"
   ]
  },
  {
   "cell_type": "code",
   "execution_count": 14,
   "metadata": {},
   "outputs": [
    {
     "data": {
      "text/plain": [
       "array([[3.3 , 3.32, 3.34, ..., 8.84, 8.86, 8.88],\n",
       "       [3.3 , 3.32, 3.34, ..., 8.84, 8.86, 8.88],\n",
       "       [3.3 , 3.32, 3.34, ..., 8.84, 8.86, 8.88],\n",
       "       ...,\n",
       "       [3.3 , 3.32, 3.34, ..., 8.84, 8.86, 8.88],\n",
       "       [3.3 , 3.32, 3.34, ..., 8.84, 8.86, 8.88],\n",
       "       [3.3 , 3.32, 3.34, ..., 8.84, 8.86, 8.88]])"
      ]
     },
     "execution_count": 14,
     "metadata": {},
     "output_type": "execute_result"
    }
   ],
   "source": [
    "xx"
   ]
  },
  {
   "cell_type": "code",
   "execution_count": 13,
   "metadata": {},
   "outputs": [
    {
     "data": {
      "text/plain": [
       "array([3.3 , 3.32, 3.34, ..., 8.84, 8.86, 8.88])"
      ]
     },
     "execution_count": 13,
     "metadata": {},
     "output_type": "execute_result"
    }
   ],
   "source": [
    "xx.ravel()"
   ]
  },
  {
   "cell_type": "code",
   "execution_count": 10,
   "metadata": {},
   "outputs": [
    {
     "data": {
      "text/plain": [
       "array([[1.  , 1.  , 1.  , ..., 1.  , 1.  , 1.  ],\n",
       "       [1.02, 1.02, 1.02, ..., 1.02, 1.02, 1.02],\n",
       "       [1.04, 1.04, 1.04, ..., 1.04, 1.04, 1.04],\n",
       "       ...,\n",
       "       [5.34, 5.34, 5.34, ..., 5.34, 5.34, 5.34],\n",
       "       [5.36, 5.36, 5.36, ..., 5.36, 5.36, 5.36],\n",
       "       [5.38, 5.38, 5.38, ..., 5.38, 5.38, 5.38]])"
      ]
     },
     "execution_count": 10,
     "metadata": {},
     "output_type": "execute_result"
    }
   ],
   "source": [
    "yy"
   ]
  },
  {
   "cell_type": "code",
   "execution_count": 17,
   "metadata": {},
   "outputs": [
    {
     "data": {
      "text/plain": [
       "array([1.  , 1.  , 1.  , ..., 5.38, 5.38, 5.38])"
      ]
     },
     "execution_count": 17,
     "metadata": {},
     "output_type": "execute_result"
    }
   ],
   "source": [
    "yy.ravel()"
   ]
  },
  {
   "cell_type": "code",
   "execution_count": 16,
   "metadata": {
    "scrolled": false
   },
   "outputs": [
    {
     "name": "stdout",
     "output_type": "stream",
     "text": [
      "[[3.3  1.  ]\n",
      " [3.32 1.  ]\n",
      " [3.34 1.  ]\n",
      " ...\n",
      " [8.84 5.38]\n",
      " [8.86 5.38]\n",
      " [8.88 5.38]]\n"
     ]
    }
   ],
   "source": [
    "print(np.c_[xx.ravel(), yy.ravel()])"
   ]
  }
 ],
 "metadata": {
  "kernelspec": {
   "display_name": "Python 3",
   "language": "python",
   "name": "python3"
  },
  "language_info": {
   "codemirror_mode": {
    "name": "ipython",
    "version": 3
   },
   "file_extension": ".py",
   "mimetype": "text/x-python",
   "name": "python",
   "nbconvert_exporter": "python",
   "pygments_lexer": "ipython3",
   "version": "3.7.3"
  }
 },
 "nbformat": 4,
 "nbformat_minor": 2
}
