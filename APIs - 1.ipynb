{
 "cells": [
  {
   "cell_type": "markdown",
   "metadata": {},
   "source": [
    "### REQUESTING THE SERVER AND RESPONSE OBJECT ATTRIBUTES"
   ]
  },
  {
   "cell_type": "code",
   "execution_count": 23,
   "metadata": {},
   "outputs": [
    {
     "name": "stdout",
     "output_type": "stream",
     "text": [
      "200\n",
      "None\n",
      "https://codingninjas.in/api/v3/courses\n",
      "{'Date': 'Wed, 03 Jun 2020 08:00:58 GMT', 'Content-Type': 'application/json', 'Transfer-Encoding': 'chunked', 'Connection': 'keep-alive', 'Server': 'nginx/1.4.6 (Ubuntu)', 'X-Frame-Options': 'SAMEORIGIN', 'X-XSS-Protection': '1; mode=block', 'X-Content-Type-Options': 'nosniff', 'Access-Control-Allow-Origin': '*', 'Access-Control-Allow-Methods': 'POST, GET, PUT, DELETE, OPTIONS', 'Access-Control-Allow-Headers': 'Access-Control-Allow-Headers, Origin,Accept, X-Requested-With, Content-Type, Access-Control-Request-Method, Access-Control-Request-Headers, Authorization', 'Access-Control-Max-Age': '1728000', 'ETag': 'W/\"ab769600f2a859d13cc3b7e6b3e90800\"', 'Cache-Control': 'max-age=0, private, must-revalidate', 'X-Request-Id': 'cda75fd5-df27-4966-a39f-5f7054cba79e', 'X-Runtime': '0.007779', 'Strict-Transport-Security': 'max-age=31536000; includeSubDomains;'}\n",
      "<class 'requests.structures.CaseInsensitiveDict'>\n",
      "Wed, 03 Jun 2020 08:00:58 GMT\n",
      "application/json\n"
     ]
    }
   ],
   "source": [
    "import requests\n",
    "response=requests.get(\"https://codingninjas.in/api/v3/courses\")\n",
    "print(response.status_code)\n",
    "print(response.encoding)\n",
    "#print(response.text)\n",
    "print(response.url)\n",
    "print(response.headers)\n",
    "header_info=response.headers\n",
    "print(type(header_info))\n",
    "print(header_info[\"Date\"])\n",
    "print(header_info['Content-Type'])"
   ]
  },
  {
   "cell_type": "markdown",
   "metadata": {},
   "source": [
    "### PROBLEM - CONTENT TYPE"
   ]
  },
  {
   "cell_type": "code",
   "execution_count": 28,
   "metadata": {},
   "outputs": [
    {
     "name": "stdout",
     "output_type": "stream",
     "text": [
      "200\n",
      "application/json\n"
     ]
    }
   ],
   "source": [
    "import requests\n",
    "response=requests.get('https://codingninjas.in/api/v3/events')\n",
    "print(response.status_code)\n",
    "header_info=response.headers\n",
    "print(header_info[\"content-type\"])"
   ]
  },
  {
   "cell_type": "markdown",
   "metadata": {},
   "source": [
    "### JSON TO PYTHON"
   ]
  },
  {
   "cell_type": "code",
   "execution_count": 7,
   "metadata": {},
   "outputs": [
    {
     "name": "stdout",
     "output_type": "stream",
     "text": [
      "{'student': 'saurav'}\n",
      "saurav\n",
      "<class 'str'>\n"
     ]
    }
   ],
   "source": [
    "import json\n",
    "json_data='{\"student\":\"saurav\"}'\n",
    "python_data=json.loads(json_data)\n",
    "print(python_data)\n",
    "print(python_data['student'])\n",
    "print(type(python_data['student']))"
   ]
  },
  {
   "cell_type": "code",
   "execution_count": 16,
   "metadata": {},
   "outputs": [
    {
     "name": "stdout",
     "output_type": "stream",
     "text": [
      "{'name': 'saurav', 'id': 4565}\n",
      "<class 'dict'>\n",
      "saurav\n"
     ]
    }
   ],
   "source": [
    "json_data='{\"student\":{\"name\":\"saurav\",\"id\":4565}}'\n",
    "python_data=json.loads(json_data)\n",
    "print(python_data['student'])\n",
    "print(type(python_data['student']))\n",
    "save=python_data['student']\n",
    "print(save['name'])"
   ]
  },
  {
   "cell_type": "code",
   "execution_count": 20,
   "metadata": {},
   "outputs": [
    {
     "name": "stdout",
     "output_type": "stream",
     "text": [
      "['c++', 'python', 'java']\n",
      "<class 'list'>\n",
      "java\n"
     ]
    }
   ],
   "source": [
    "json_data='{\"lang\":[\"c++\",\"python\",\"java\"]}'\n",
    "python_data=json.loads(json_data)\n",
    "print(python_data['lang'])\n",
    "print(type(python_data['lang']))\n",
    "save=python_data['lang']\n",
    "print(save[2])"
   ]
  },
  {
   "cell_type": "code",
   "execution_count": 24,
   "metadata": {},
   "outputs": [
    {
     "name": "stdout",
     "output_type": "stream",
     "text": [
      "[{'name': 'saurav', 'id': 4565}, {'name': 'yash', 'id': None}]\n",
      "<class 'list'>\n",
      "<class 'dict'>\n",
      "None\n"
     ]
    }
   ],
   "source": [
    "json_data='{\"student\":[{\"name\":\"saurav\",\"id\":4565},{\"name\":\"yash\",\"id\":null}]}'\n",
    "python_data=json.loads(json_data)\n",
    "print(python_data['student'])\n",
    "print(type(python_data['student']))\n",
    "save=python_data['student']\n",
    "print(type(save[1]))\n",
    "print(save[1][\"id\"])"
   ]
  },
  {
   "cell_type": "markdown",
   "metadata": {},
   "source": [
    "### EXPLORE JSON DATA"
   ]
  },
  {
   "cell_type": "code",
   "execution_count": 30,
   "metadata": {},
   "outputs": [
    {
     "name": "stdout",
     "output_type": "stream",
     "text": [
      "<class 'dict'>\n",
      "<class 'list'>\n",
      "Machine Learning Course\n",
      "Advanced  Front-End Web Development with React\n",
      "Ninja Competitive Programmer Track\n",
      "Inception\n",
      "Nucleus\n",
      "Ninja Android Developer Career Track \n",
      "Full Stack Web Development Course\n",
      "Interview Preparation\n",
      "Programming Foundation DS & Algo + MERN Stack Web Dev\n",
      "Data Science & Machine Learning Complete\n",
      "Competitive Programming\n",
      "Programming Foundation DS & Algo + Full Stack Web Dev\n",
      "Ninja Data Scientist Career Track\n",
      "Python\n",
      "Android Development with Kotlin\n",
      "Aptitude Preparation Course\n",
      "Programming Foundation DS & Algo + Machine Learning\n"
     ]
    }
   ],
   "source": [
    "import requests,json\n",
    "response=requests.get(\"https://codingninjas.in/api/v3/courses\")\n",
    "python_data=json.loads(response.text)\n",
    "print(type(python_data))\n",
    "courses=python_data[\"data\"][\"courses\"]\n",
    "print(type(courses))\n",
    "for i in courses:\n",
    "    print(i[\"title\"])"
   ]
  },
  {
   "cell_type": "code",
   "execution_count": 38,
   "metadata": {},
   "outputs": [
    {
     "name": "stdout",
     "output_type": "stream",
     "text": [
      "https://dog.ceo/api/breeds/list/all\n",
      "200\n",
      "<class 'dict'>\n",
      "australian 1\n",
      "buhund 1\n",
      "bulldog 3\n",
      "bullterrier 1\n",
      "cattledog 1\n",
      "collie 1\n",
      "corgi 1\n",
      "dane 1\n",
      "deerhound 1\n",
      "elkhound 1\n",
      "finnish 1\n",
      "frise 1\n",
      "greyhound 1\n",
      "hound 7\n",
      "mastiff 3\n",
      "mountain 2\n",
      "ovcharka 1\n",
      "pinscher 1\n",
      "pointer 2\n",
      "poodle 3\n",
      "retriever 4\n",
      "ridgeback 1\n",
      "schnauzer 2\n",
      "setter 3\n",
      "sheepdog 2\n",
      "spaniel 7\n",
      "springer 1\n",
      "terrier 21\n",
      "waterdog 1\n",
      "wolfhound 1\n"
     ]
    }
   ],
   "source": [
    "import requests\n",
    "response=requests.get(\"https://dog.ceo/api/breeds/list/all\")\n",
    "print(response.url)\n",
    "print(response.status_code)\n",
    "python_data=response.json()\n",
    "print(type(python_data))\n",
    "for key,val in python_data[\"message\"].items():\n",
    "    if len(val)>0:\n",
    "        print(key,len(val))"
   ]
  },
  {
   "cell_type": "code",
   "execution_count": 41,
   "metadata": {},
   "outputs": [
    {
     "name": "stdout",
     "output_type": "stream",
     "text": [
      "https://dog.ceo/api/breeds/list/all\n",
      "200\n",
      "<class 'dict'>\n",
      "blenheim brittany cocker irish japanese sussex welsh\n"
     ]
    }
   ],
   "source": [
    "import requests\n",
    "response=requests.get(\"https://dog.ceo/api/breeds/list/all\")\n",
    "print(response.url)\n",
    "print(response.status_code)\n",
    "python_data=response.json()\n",
    "print(type(python_data))\n",
    "for key,val in python_data[\"message\"].items():\n",
    "    if key==\"spaniel\":\n",
    "        print(*val)"
   ]
  },
  {
   "cell_type": "markdown",
   "metadata": {},
   "source": [
    "### PROBLEM :  HOUND SUB-BREEDS"
   ]
  },
  {
   "cell_type": "code",
   "execution_count": 45,
   "metadata": {},
   "outputs": [
    {
     "name": "stdout",
     "output_type": "stream",
     "text": [
      "afghan\n",
      "basset\n",
      "blood\n",
      "english\n",
      "ibizan\n",
      "plott\n",
      "walker\n"
     ]
    }
   ],
   "source": [
    "import requests\n",
    "response=requests.get(\"https://dog.ceo/api/breeds/list/all\")\n",
    "python_data=response.json()\n",
    "for key,val in python_data[\"message\"].items():\n",
    "    if key==\"hound\":\n",
    "        for ele in val:\n",
    "            print(ele)"
   ]
  },
  {
   "cell_type": "markdown",
   "metadata": {},
   "source": [
    "### PROBLEM : POODLE"
   ]
  },
  {
   "cell_type": "code",
   "execution_count": 48,
   "metadata": {},
   "outputs": [
    {
     "name": "stdout",
     "output_type": "stream",
     "text": [
      "3\n"
     ]
    }
   ],
   "source": [
    "import requests\n",
    "response=requests.get(\"https://dog.ceo/api/breeds/list/all\")\n",
    "python_data=response.json()\n",
    "for key,val in python_data[\"message\"].items():\n",
    "    if key==\"poodle\":\n",
    "        print(len(val))"
   ]
  },
  {
   "cell_type": "markdown",
   "metadata": {},
   "source": [
    "### PROBLEM : ONLINE CN COURSES"
   ]
  },
  {
   "cell_type": "code",
   "execution_count": 49,
   "metadata": {},
   "outputs": [
    {
     "name": "stdout",
     "output_type": "stream",
     "text": [
      "Machine Learning Course\n",
      "Advanced  Front-End Web Development with React\n",
      "Ninja Competitive Programmer Track\n",
      "C++ Foundation with Data Structures\n",
      "JAVA Foundation with Data Structures\n",
      "Ninja Android Developer Career Track \n",
      "Full Stack Web Development\n",
      "Interview Preparation Course\n",
      "Ninja  Web Developer Career Track - NodeJS & ReactJs\n",
      "Data Science & Machine Learning Complete\n",
      "Competitive Programming Course\n",
      "Ninja  Web Developer Career Track - NodeJS\n",
      "Ninja Data Scientist Career Track\n",
      "Python Foundation with Data Structures\n",
      "Android Development with Kotlin\n",
      "Aptitude Preparation Course\n",
      "Ninja Machine Learning Engineer Career Track\n"
     ]
    }
   ],
   "source": [
    "import requests,json\n",
    "response=requests.get(\"https://codingninjas.in/api/v3/courses\")\n",
    "python_data=json.loads(response.text)\n",
    "courses=python_data[\"data\"][\"courses\"]\n",
    "for i in courses:\n",
    "    if i['available_online']==True:\n",
    "        print(i[\"name\"])"
   ]
  },
  {
   "cell_type": "markdown",
   "metadata": {},
   "source": [
    "### WORKSHOP EVENTS"
   ]
  },
  {
   "cell_type": "code",
   "execution_count": 53,
   "metadata": {},
   "outputs": [],
   "source": [
    "import requests,json\n",
    "response=requests.get(\"https://codingninjas.in/api/v3/courses\")\n",
    "python_data=response.json()\n",
    "for key in python_data[\"data\"][\"courses\"]:\n",
    "    if \"Workshop\" in key[\"name\"]:\n",
    "        print(key[\"name\"])"
   ]
  },
  {
   "cell_type": "markdown",
   "metadata": {},
   "source": [
    "### PASSING PARAMETERS - 1"
   ]
  },
  {
   "cell_type": "code",
   "execution_count": 58,
   "metadata": {},
   "outputs": [
    {
     "name": "stdout",
     "output_type": "stream",
     "text": [
      "https://api.openaq.org/v1/cities?country=IN&limit=5\n"
     ]
    }
   ],
   "source": [
    "import requests\n",
    "response=requests.get(\"https://api.openaq.org/v1/cities\",params={\"country\":\"IN\",\"limit\":5})\n",
    "print(response.url)"
   ]
  },
  {
   "cell_type": "markdown",
   "metadata": {},
   "source": [
    "### ID-19"
   ]
  },
  {
   "cell_type": "code",
   "execution_count": 59,
   "metadata": {},
   "outputs": [
    {
     "name": "stdout",
     "output_type": "stream",
     "text": [
      "Programming Foundation DS & Algo + Machine Learning\n"
     ]
    }
   ],
   "source": [
    "import requests\n",
    "response=requests.get(\"https://codingninjas.in/api/v3/courses\")\n",
    "python_data=response.json()\n",
    "for key in python_data[\"data\"][\"courses\"]:\n",
    "    if key['id']==19:\n",
    "        print(key['title'])"
   ]
  },
  {
   "cell_type": "markdown",
   "metadata": {},
   "source": [
    "### COUTNRY IS AU"
   ]
  },
  {
   "cell_type": "code",
   "execution_count": 62,
   "metadata": {},
   "outputs": [
    {
     "name": "stdout",
     "output_type": "stream",
     "text": [
      "https://api.openaq.org/v1/cities?country=AU\n",
      "57\n"
     ]
    }
   ],
   "source": [
    "import requests\n",
    "response=requests.get(\"https://api.openaq.org/v1/cities\",params={\"country\":\"AU\"})\n",
    "python_data=response.json()\n",
    "#print(response.url)\n",
    "print(len(python_data[\"results\"]))"
   ]
  },
  {
   "cell_type": "markdown",
   "metadata": {},
   "source": [
    "### FIRST 5 CITIES OF COUNTRY BE"
   ]
  },
  {
   "cell_type": "code",
   "execution_count": 70,
   "metadata": {},
   "outputs": [
    {
     "name": "stdout",
     "output_type": "stream",
     "text": [
      "https://api.openaq.org/v1/cities?country=BE&limit=5\n",
      "Antwerpen\n",
      "Brabant wallon\n",
      "Brussels\n",
      "Brussels-Capital Region\n",
      "Flanders\n"
     ]
    }
   ],
   "source": [
    "import requests\n",
    "response=requests.get(\"https://api.openaq.org/v1/cities\",params={\"country\":\"BE\",\"limit\":5})\n",
    "python_data=response.json()\n",
    "print(response.url)\n",
    "for key in python_data[\"results\"]:\n",
    "    print(key[\"city\"])"
   ]
  },
  {
   "cell_type": "markdown",
   "metadata": {},
   "source": [
    "### PASSING PARAMETERS - 2"
   ]
  },
  {
   "cell_type": "code",
   "execution_count": 76,
   "metadata": {},
   "outputs": [
    {
     "name": "stdout",
     "output_type": "stream",
     "text": [
      "403\n"
     ]
    }
   ],
   "source": [
    "import requests\n",
    "response=requests.get(\"https://www.metaweather.com/api/location/search/\")\n",
    "print(response.status_code)"
   ]
  },
  {
   "cell_type": "code",
   "execution_count": 78,
   "metadata": {},
   "outputs": [
    {
     "name": "stdout",
     "output_type": "stream",
     "text": [
      "200\n",
      "https://www.metaweather.com/api/location/search/?query=Delhi\n"
     ]
    }
   ],
   "source": [
    "import requests\n",
    "response=requests.get(\"https://www.metaweather.com/api/location/search/\",params={\"query\":\"Delhi\"})\n",
    "print(response.status_code)\n",
    "print(response.url)"
   ]
  },
  {
   "cell_type": "code",
   "execution_count": 96,
   "metadata": {},
   "outputs": [
    {
     "name": "stdout",
     "output_type": "stream",
     "text": [
      "403\n",
      "https://www.metaweather.com/api/location/search/?woeid=44418\n"
     ]
    }
   ],
   "source": [
    "import requests\n",
    "response=requests.get(\"https://www.metaweather.com/api/location/\",params={\"woeid\":44418}) \n",
    "print(response.status_code)\n",
    "print(response.url)"
   ]
  },
  {
   "cell_type": "code",
   "execution_count": 115,
   "metadata": {},
   "outputs": [
    {
     "name": "stdout",
     "output_type": "stream",
     "text": [
      "200\n",
      "https://api.nasa.gov/planetary/apod?api_key=DEMO_KEY&date=2020-06-01\n"
     ]
    }
   ],
   "source": [
    "import requests\n",
    "response=requests.get(\"https://api.nasa.gov/planetary/apod\",params={\"api_key\": \"DEMO_KEY\",\"date\":\"2020-06-01\"})\n",
    "print(response.status_code)\n",
    "print(response.url)"
   ]
  },
  {
   "cell_type": "code",
   "execution_count": 119,
   "metadata": {},
   "outputs": [
    {
     "name": "stdout",
     "output_type": "stream",
     "text": [
      "200\n",
      "https://www.metaweather.com/api/location/search/?query=USA\n"
     ]
    }
   ],
   "source": [
    "import requests\n",
    "response=requests.get(\"https://www.metaweather.com/api/location/search/\",params={\"query\":\"USA\"})\n",
    "print(response.status_code)\n",
    "print(response.url)"
   ]
  },
  {
   "cell_type": "markdown",
   "metadata": {},
   "source": [
    "### HOLIDAY'S"
   ]
  },
  {
   "cell_type": "code",
   "execution_count": 123,
   "metadata": {},
   "outputs": [
    {
     "name": "stdout",
     "output_type": "stream",
     "text": [
      "200\n",
      "https://holidayapi.com/v1/holidays?key=86b32a78-b22b-4a3f-b5a6-497772318cd5&country=IN&year=2019&month=10&day=2\n"
     ]
    }
   ],
   "source": [
    "import requests\n",
    "response=requests.get(\"https://holidayapi.com/v1/holidays\",params={\"key\":\"86b32a78-b22b-4a3f-b5a6-497772318cd5\",\"country\":\"IN\",\"year\":2019,\"month\":10,\"day\":2})\n",
    "print(response.status_code)\n",
    "print(response.url)"
   ]
  },
  {
   "cell_type": "markdown",
   "metadata": {},
   "source": [
    "### POST REQUESTS"
   ]
  },
  {
   "cell_type": "code",
   "execution_count": 130,
   "metadata": {},
   "outputs": [
    {
     "name": "stdout",
     "output_type": "stream",
     "text": [
      "200\n",
      "{\n",
      "  \"args\": {}, \n",
      "  \"data\": \"\", \n",
      "  \"files\": {}, \n",
      "  \"form\": {\n",
      "    \"key1\": \"val1\", \n",
      "    \"key2\": \"val2\"\n",
      "  }, \n",
      "  \"headers\": {\n",
      "    \"Accept\": \"*/*\", \n",
      "    \"Accept-Encoding\": \"gzip, deflate\", \n",
      "    \"Content-Length\": \"19\", \n",
      "    \"Content-Type\": \"application/x-www-form-urlencoded\", \n",
      "    \"Host\": \"httpbin.org\", \n",
      "    \"User-Agent\": \"python-requests/2.22.0\", \n",
      "    \"X-Amzn-Trace-Id\": \"Root=1-5ed88197-277f94df988a87dad27074f0\"\n",
      "  }, \n",
      "  \"json\": null, \n",
      "  \"origin\": \"49.36.138.109\", \n",
      "  \"url\": \"https://httpbin.org/post\"\n",
      "}\n",
      "\n"
     ]
    }
   ],
   "source": [
    "import requests\n",
    "response=requests.post(\"https://httpbin.org/post\",data={\"key1\":\"val1\",\"key2\":\"val2\"})\n",
    "print(response.status_code)\n",
    "print(response.text)"
   ]
  },
  {
   "cell_type": "code",
   "execution_count": 131,
   "metadata": {},
   "outputs": [
    {
     "name": "stdout",
     "output_type": "stream",
     "text": [
      "200\n",
      "{\n",
      "  \"args\": {}, \n",
      "  \"data\": \"\", \n",
      "  \"files\": {}, \n",
      "  \"form\": {\n",
      "    \"key1\": [\n",
      "      \"val1\", \n",
      "      \"val2\"\n",
      "    ], \n",
      "    \"key2\": \"val3\"\n",
      "  }, \n",
      "  \"headers\": {\n",
      "    \"Accept\": \"*/*\", \n",
      "    \"Accept-Encoding\": \"gzip, deflate\", \n",
      "    \"Content-Length\": \"29\", \n",
      "    \"Content-Type\": \"application/x-www-form-urlencoded\", \n",
      "    \"Host\": \"httpbin.org\", \n",
      "    \"User-Agent\": \"python-requests/2.22.0\", \n",
      "    \"X-Amzn-Trace-Id\": \"Root=1-5ed881ae-9b831f008e20f910724305f0\"\n",
      "  }, \n",
      "  \"json\": null, \n",
      "  \"origin\": \"49.36.138.109\", \n",
      "  \"url\": \"https://httpbin.org/post\"\n",
      "}\n",
      "\n"
     ]
    }
   ],
   "source": [
    "import requests\n",
    "response=requests.post(\"https://httpbin.org/post\",data={\"key1\":[\"val1\",\"val2\"],\"key2\":\"val3\"})\n",
    "print(response.status_code)\n",
    "print(response.text)"
   ]
  },
  {
   "cell_type": "code",
   "execution_count": 132,
   "metadata": {},
   "outputs": [
    {
     "name": "stdout",
     "output_type": "stream",
     "text": [
      "200\n",
      "{\n",
      "  \"args\": {}, \n",
      "  \"data\": \"\", \n",
      "  \"files\": {}, \n",
      "  \"form\": {\n",
      "    \"k1\": \"v1\", \n",
      "    \"k2\": \"v2\"\n",
      "  }, \n",
      "  \"headers\": {\n",
      "    \"Accept\": \"*/*\", \n",
      "    \"Accept-Encoding\": \"gzip, deflate\", \n",
      "    \"Content-Length\": \"11\", \n",
      "    \"Content-Type\": \"application/x-www-form-urlencoded\", \n",
      "    \"Host\": \"httpbin.org\", \n",
      "    \"User-Agent\": \"python-requests/2.22.0\", \n",
      "    \"X-Amzn-Trace-Id\": \"Root=1-5ed88202-32c8766a0d9ae768b8350a9e\"\n",
      "  }, \n",
      "  \"json\": null, \n",
      "  \"origin\": \"49.36.138.109\", \n",
      "  \"url\": \"https://httpbin.org/post\"\n",
      "}\n",
      "\n"
     ]
    }
   ],
   "source": [
    "import requests\n",
    "response=requests.post(\"https://httpbin.org/post\",data=[(\"k1\",\"v1\"),(\"k2\",\"v2\")])\n",
    "print(response.status_code)\n",
    "print(response.text)"
   ]
  },
  {
   "cell_type": "code",
   "execution_count": 133,
   "metadata": {},
   "outputs": [
    {
     "name": "stdout",
     "output_type": "stream",
     "text": [
      "201\n",
      "{\n",
      "  \"id\": 101\n",
      "}\n"
     ]
    }
   ],
   "source": [
    "import requests\n",
    "response=requests.post(\"https://jsonplaceholder.typicode.com/posts\")\n",
    "print(response.status_code)\n",
    "print(response.text)"
   ]
  },
  {
   "cell_type": "code",
   "execution_count": 134,
   "metadata": {},
   "outputs": [
    {
     "name": "stdout",
     "output_type": "stream",
     "text": [
      "201\n",
      "{\n",
      "  \"user_id\": \"14\",\n",
      "  \"id\": 101\n",
      "}\n"
     ]
    }
   ],
   "source": [
    "import requests\n",
    "response=requests.post(\"https://jsonplaceholder.typicode.com/posts\",data={\"user_id\":14,\"id\":300})\n",
    "print(response.status_code)\n",
    "print(response.text)"
   ]
  }
 ],
 "metadata": {
  "kernelspec": {
   "display_name": "Python 3",
   "language": "python",
   "name": "python3"
  },
  "language_info": {
   "codemirror_mode": {
    "name": "ipython",
    "version": 3
   },
   "file_extension": ".py",
   "mimetype": "text/x-python",
   "name": "python",
   "nbconvert_exporter": "python",
   "pygments_lexer": "ipython3",
   "version": "3.7.3"
  }
 },
 "nbformat": 4,
 "nbformat_minor": 2
}
