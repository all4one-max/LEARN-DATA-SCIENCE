{
 "cells": [
  {
   "cell_type": "code",
   "execution_count": 10,
   "metadata": {},
   "outputs": [],
   "source": [
    "from keras.models import Sequential\n",
    "from keras.layers import Dense"
   ]
  },
  {
   "cell_type": "code",
   "execution_count": 11,
   "metadata": {},
   "outputs": [],
   "source": [
    "# create model\n",
    "model = Sequential()"
   ]
  },
  {
   "cell_type": "code",
   "execution_count": 12,
   "metadata": {},
   "outputs": [],
   "source": [
    "from sklearn import datasets\n",
    "from sklearn.model_selection import train_test_split\n",
    "from sklearn.preprocessing import StandardScaler\n",
    "\n",
    "data = datasets.load_breast_cancer()\n",
    "x_train,x_test,y_train,y_test =train_test_split(data.data,data.target)\n",
    "\n",
    "fs = StandardScaler()\n",
    "x_train = fs.fit_transform(x_train)\n",
    "x_test = fs.transform(x_test)"
   ]
  },
  {
   "cell_type": "code",
   "execution_count": 13,
   "metadata": {},
   "outputs": [
    {
     "data": {
      "text/plain": [
       "(426, 30)"
      ]
     },
     "execution_count": 13,
     "metadata": {},
     "output_type": "execute_result"
    }
   ],
   "source": [
    "x_train.shape"
   ]
  },
  {
   "cell_type": "code",
   "execution_count": 14,
   "metadata": {},
   "outputs": [],
   "source": [
    "layer1 = Dense(units = 32, activation='relu',input_dim = 30)\n",
    "model.add(layer1)\n",
    "model.add(Dense(units = 16, activation='relu'))\n",
    "model.add(Dense(units = 1, activation = 'sigmoid'))"
   ]
  },
  {
   "cell_type": "code",
   "execution_count": 15,
   "metadata": {},
   "outputs": [],
   "source": [
    "model.compile(optimizer=\"adam\",loss=\"binary_crossentropy\",metrics=[\"accuracy\"])"
   ]
  },
  {
   "cell_type": "markdown",
   "metadata": {},
   "source": [
    "#### Choosing the correct accuracy function is important for the compile function because:\n",
    "\n",
    "#### IT WILL DEFINE WHAT IS PRINTED DURING FIT AND EVALUATION CALLS"
   ]
  },
  {
   "cell_type": "code",
   "execution_count": 16,
   "metadata": {},
   "outputs": [
    {
     "name": "stdout",
     "output_type": "stream",
     "text": [
      "Epoch 1/20\n",
      "9/9 [==============================] - 0s 28ms/step - loss: 0.8389 - accuracy: 0.3592 - val_loss: 0.6328 - val_accuracy: 0.4755\n",
      "Epoch 2/20\n",
      "9/9 [==============================] - 0s 6ms/step - loss: 0.6470 - accuracy: 0.4789 - val_loss: 0.5172 - val_accuracy: 0.6783\n",
      "Epoch 3/20\n",
      "9/9 [==============================] - 0s 5ms/step - loss: 0.5250 - accuracy: 0.7183 - val_loss: 0.4500 - val_accuracy: 0.8252\n",
      "Epoch 4/20\n",
      "9/9 [==============================] - 0s 5ms/step - loss: 0.4473 - accuracy: 0.8545 - val_loss: 0.4016 - val_accuracy: 0.8881\n",
      "Epoch 5/20\n",
      "9/9 [==============================] - 0s 5ms/step - loss: 0.3859 - accuracy: 0.9155 - val_loss: 0.3603 - val_accuracy: 0.9091\n",
      "Epoch 6/20\n",
      "9/9 [==============================] - 0s 5ms/step - loss: 0.3341 - accuracy: 0.9460 - val_loss: 0.3222 - val_accuracy: 0.9441\n",
      "Epoch 7/20\n",
      "9/9 [==============================] - 0s 5ms/step - loss: 0.2874 - accuracy: 0.9601 - val_loss: 0.2878 - val_accuracy: 0.9371\n",
      "Epoch 8/20\n",
      "9/9 [==============================] - 0s 5ms/step - loss: 0.2438 - accuracy: 0.9671 - val_loss: 0.2569 - val_accuracy: 0.9371\n",
      "Epoch 9/20\n",
      "9/9 [==============================] - 0s 5ms/step - loss: 0.2050 - accuracy: 0.9671 - val_loss: 0.2308 - val_accuracy: 0.9231\n",
      "Epoch 10/20\n",
      "9/9 [==============================] - 0s 5ms/step - loss: 0.1721 - accuracy: 0.9648 - val_loss: 0.2107 - val_accuracy: 0.9231\n",
      "Epoch 11/20\n",
      "9/9 [==============================] - 0s 5ms/step - loss: 0.1460 - accuracy: 0.9695 - val_loss: 0.1961 - val_accuracy: 0.9161\n",
      "Epoch 12/20\n",
      "9/9 [==============================] - 0s 5ms/step - loss: 0.1249 - accuracy: 0.9695 - val_loss: 0.1857 - val_accuracy: 0.9161\n",
      "Epoch 13/20\n",
      "9/9 [==============================] - 0s 5ms/step - loss: 0.1090 - accuracy: 0.9718 - val_loss: 0.1785 - val_accuracy: 0.9231\n",
      "Epoch 14/20\n",
      "9/9 [==============================] - 0s 5ms/step - loss: 0.0969 - accuracy: 0.9718 - val_loss: 0.1727 - val_accuracy: 0.9231\n",
      "Epoch 15/20\n",
      "9/9 [==============================] - 0s 5ms/step - loss: 0.0873 - accuracy: 0.9789 - val_loss: 0.1682 - val_accuracy: 0.9231\n",
      "Epoch 16/20\n",
      "9/9 [==============================] - 0s 5ms/step - loss: 0.0799 - accuracy: 0.9812 - val_loss: 0.1654 - val_accuracy: 0.9231\n",
      "Epoch 17/20\n",
      "9/9 [==============================] - 0s 5ms/step - loss: 0.0733 - accuracy: 0.9836 - val_loss: 0.1628 - val_accuracy: 0.9231\n",
      "Epoch 18/20\n",
      "9/9 [==============================] - 0s 6ms/step - loss: 0.0682 - accuracy: 0.9859 - val_loss: 0.1602 - val_accuracy: 0.9301\n",
      "Epoch 19/20\n",
      "9/9 [==============================] - 0s 5ms/step - loss: 0.0642 - accuracy: 0.9859 - val_loss: 0.1580 - val_accuracy: 0.9371\n",
      "Epoch 20/20\n",
      "9/9 [==============================] - 0s 5ms/step - loss: 0.0605 - accuracy: 0.9859 - val_loss: 0.1567 - val_accuracy: 0.9371\n"
     ]
    },
    {
     "data": {
      "text/plain": [
       "<tensorflow.python.keras.callbacks.History at 0x1e6d20bb438>"
      ]
     },
     "execution_count": 16,
     "metadata": {},
     "output_type": "execute_result"
    }
   ],
   "source": [
    "model.fit(x_train, y_train, epochs=20, batch_size = 50, validation_data=(x_test,y_test))"
   ]
  },
  {
   "cell_type": "code",
   "execution_count": 17,
   "metadata": {},
   "outputs": [
    {
     "name": "stdout",
     "output_type": "stream",
     "text": [
      "5/5 [==============================] - 0s 1ms/step - loss: 0.1567 - accuracy: 0.9371\n"
     ]
    },
    {
     "data": {
      "text/plain": [
       "[0.15669658780097961, 0.9370629191398621]"
      ]
     },
     "execution_count": 17,
     "metadata": {},
     "output_type": "execute_result"
    }
   ],
   "source": [
    "predictions = model.predict(x_test)\n",
    "model.evaluate(x_test,y_test)"
   ]
  },
  {
   "cell_type": "code",
   "execution_count": 18,
   "metadata": {},
   "outputs": [
    {
     "data": {
      "text/plain": [
       "array([0, 0, 1, 1, 0, 0, 1, 1, 1, 1, 0, 0, 1, 0, 1, 0, 1, 0, 1, 1, 0, 0,\n",
       "       1, 1, 1, 1, 0, 1, 1, 1, 1, 1, 0, 1, 1, 1, 1, 0, 0, 0, 0, 1, 0, 1,\n",
       "       0, 0, 1, 0, 1, 1, 1, 0, 1, 0, 1, 1, 0, 0, 1, 1, 0, 0, 1, 0, 1, 1,\n",
       "       1, 1, 0, 1, 1, 1, 0, 0, 1, 1, 0, 1, 1, 0, 0, 1, 1, 1, 0, 1, 0, 0,\n",
       "       1, 1, 0, 0, 1, 0, 0, 1, 0, 1, 1, 1, 1, 1, 0, 1, 0, 1, 0, 1, 1, 1,\n",
       "       0, 1, 1, 0, 1, 0, 1, 1, 1, 0, 0, 1, 0, 1, 1, 1, 1, 1, 1, 0, 0, 1,\n",
       "       0, 0, 0, 0, 0, 0, 1, 1, 0, 0, 1])"
      ]
     },
     "execution_count": 18,
     "metadata": {},
     "output_type": "execute_result"
    }
   ],
   "source": [
    "y_test"
   ]
  }
 ],
 "metadata": {
  "kernelspec": {
   "display_name": "Python 3",
   "language": "python",
   "name": "python3"
  },
  "language_info": {
   "codemirror_mode": {
    "name": "ipython",
    "version": 3
   },
   "file_extension": ".py",
   "mimetype": "text/x-python",
   "name": "python",
   "nbconvert_exporter": "python",
   "pygments_lexer": "ipython3",
   "version": "3.7.3"
  }
 },
 "nbformat": 4,
 "nbformat_minor": 2
}
