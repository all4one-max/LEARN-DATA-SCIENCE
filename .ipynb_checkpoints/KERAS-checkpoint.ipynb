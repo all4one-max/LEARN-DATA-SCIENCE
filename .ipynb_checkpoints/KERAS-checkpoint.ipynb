{
 "cells": [
  {
   "cell_type": "code",
   "execution_count": 24,
   "metadata": {},
   "outputs": [],
   "source": [
    "from keras.models import Sequential\n",
    "from keras.layers import Dense"
   ]
  },
  {
   "cell_type": "code",
   "execution_count": 25,
   "metadata": {},
   "outputs": [],
   "source": [
    "# create model\n",
    "model = Sequential()"
   ]
  },
  {
   "cell_type": "code",
   "execution_count": 26,
   "metadata": {},
   "outputs": [],
   "source": [
    "layer1 = Dense(units = 32, activation='relu',input_dim = 30)\n",
    "model.add(layer1)\n",
    "model.add(Dense(units = 16, activation='relu'))\n",
    "model.add(Dense(units = 1, activation = 'sigmoid'))"
   ]
  },
  {
   "cell_type": "code",
   "execution_count": 27,
   "metadata": {},
   "outputs": [],
   "source": [
    "model.compile(optimizer=\"adam\",loss=\"binary_crossentropy\",metrics=[\"accuracy\"])"
   ]
  },
  {
   "cell_type": "markdown",
   "metadata": {},
   "source": [
    "#### Choosing the correct accuracy function is important for the compile function because:\n",
    "\n",
    "#### IT WILL DEFINE WHAT IS PRINTED DURING FIT AND EVALUATION CALLS"
   ]
  },
  {
   "cell_type": "code",
   "execution_count": 28,
   "metadata": {},
   "outputs": [],
   "source": [
    "from sklearn import datasets\n",
    "from sklearn.model_selection import train_test_split\n",
    "from sklearn.preprocessing import StandardScaler\n",
    "\n",
    "data = datasets.load_breast_cancer()\n",
    "x_train,x_test,y_train,y_test =train_test_split(data.data,data.target)\n",
    "\n",
    "fs = StandardScaler()\n",
    "x_train = fs.fit_transform(x_train)\n",
    "x_test = fs.transform(x_test)"
   ]
  },
  {
   "cell_type": "code",
   "execution_count": 29,
   "metadata": {},
   "outputs": [
    {
     "name": "stdout",
     "output_type": "stream",
     "text": [
      "Epoch 1/20\n",
      "9/9 [==============================] - 0s 16ms/step - loss: 0.6735 - accuracy: 0.4531 - val_loss: 0.6118 - val_accuracy: 0.6503\n",
      "Epoch 2/20\n",
      "9/9 [==============================] - 0s 4ms/step - loss: 0.5155 - accuracy: 0.8146 - val_loss: 0.5063 - val_accuracy: 0.8671\n",
      "Epoch 3/20\n",
      "9/9 [==============================] - 0s 4ms/step - loss: 0.4075 - accuracy: 0.9131 - val_loss: 0.4277 - val_accuracy: 0.8811\n",
      "Epoch 4/20\n",
      "9/9 [==============================] - 0s 4ms/step - loss: 0.3259 - accuracy: 0.9319 - val_loss: 0.3690 - val_accuracy: 0.9021\n",
      "Epoch 5/20\n",
      "9/9 [==============================] - 0s 4ms/step - loss: 0.2637 - accuracy: 0.9413 - val_loss: 0.3214 - val_accuracy: 0.9091\n",
      "Epoch 6/20\n",
      "9/9 [==============================] - 0s 5ms/step - loss: 0.2173 - accuracy: 0.9460 - val_loss: 0.2831 - val_accuracy: 0.9091\n",
      "Epoch 7/20\n",
      "9/9 [==============================] - 0s 5ms/step - loss: 0.1820 - accuracy: 0.9601 - val_loss: 0.2502 - val_accuracy: 0.9301\n",
      "Epoch 8/20\n",
      "9/9 [==============================] - 0s 5ms/step - loss: 0.1556 - accuracy: 0.9601 - val_loss: 0.2215 - val_accuracy: 0.9301\n",
      "Epoch 9/20\n",
      "9/9 [==============================] - 0s 6ms/step - loss: 0.1350 - accuracy: 0.9671 - val_loss: 0.1963 - val_accuracy: 0.9371\n",
      "Epoch 10/20\n",
      "9/9 [==============================] - 0s 5ms/step - loss: 0.1184 - accuracy: 0.9789 - val_loss: 0.1773 - val_accuracy: 0.9441\n",
      "Epoch 11/20\n",
      "9/9 [==============================] - 0s 4ms/step - loss: 0.1061 - accuracy: 0.9836 - val_loss: 0.1592 - val_accuracy: 0.9580\n",
      "Epoch 12/20\n",
      "9/9 [==============================] - 0s 5ms/step - loss: 0.0951 - accuracy: 0.9859 - val_loss: 0.1455 - val_accuracy: 0.9580\n",
      "Epoch 13/20\n",
      "9/9 [==============================] - 0s 5ms/step - loss: 0.0869 - accuracy: 0.9859 - val_loss: 0.1321 - val_accuracy: 0.9580\n",
      "Epoch 14/20\n",
      "9/9 [==============================] - 0s 4ms/step - loss: 0.0799 - accuracy: 0.9883 - val_loss: 0.1221 - val_accuracy: 0.9580\n",
      "Epoch 15/20\n",
      "9/9 [==============================] - 0s 5ms/step - loss: 0.0740 - accuracy: 0.9906 - val_loss: 0.1155 - val_accuracy: 0.9720\n",
      "Epoch 16/20\n",
      "9/9 [==============================] - 0s 5ms/step - loss: 0.0695 - accuracy: 0.9906 - val_loss: 0.1074 - val_accuracy: 0.9720\n",
      "Epoch 17/20\n",
      "9/9 [==============================] - 0s 5ms/step - loss: 0.0652 - accuracy: 0.9930 - val_loss: 0.1015 - val_accuracy: 0.9720\n",
      "Epoch 18/20\n",
      "9/9 [==============================] - 0s 5ms/step - loss: 0.0620 - accuracy: 0.9930 - val_loss: 0.0971 - val_accuracy: 0.9720\n",
      "Epoch 19/20\n",
      "9/9 [==============================] - 0s 5ms/step - loss: 0.0590 - accuracy: 0.9930 - val_loss: 0.0932 - val_accuracy: 0.9720\n",
      "Epoch 20/20\n",
      "9/9 [==============================] - 0s 5ms/step - loss: 0.0562 - accuracy: 0.9930 - val_loss: 0.0911 - val_accuracy: 0.9720\n"
     ]
    },
    {
     "data": {
      "text/plain": [
       "<tensorflow.python.keras.callbacks.History at 0x24f0c7d4048>"
      ]
     },
     "execution_count": 29,
     "metadata": {},
     "output_type": "execute_result"
    }
   ],
   "source": [
    "model.fit(x_train, y_train, epochs=20, batch_size = 50, validation_data=(x_test,y_test))"
   ]
  },
  {
   "cell_type": "code",
   "execution_count": 30,
   "metadata": {},
   "outputs": [
    {
     "name": "stdout",
     "output_type": "stream",
     "text": [
      "5/5 [==============================] - 0s 1ms/step - loss: 0.0911 - accuracy: 0.9720\n"
     ]
    },
    {
     "data": {
      "text/plain": [
       "[0.09112870693206787, 0.9720279574394226]"
      ]
     },
     "execution_count": 30,
     "metadata": {},
     "output_type": "execute_result"
    }
   ],
   "source": [
    "predictions = model.predict(x_test)\n",
    "model.evaluate(x_test,y_test)"
   ]
  },
  {
   "cell_type": "code",
   "execution_count": 34,
   "metadata": {},
   "outputs": [
    {
     "data": {
      "text/plain": [
       "array([0, 1, 1, 0, 1, 0, 1, 0, 1, 1, 0, 1, 1, 1, 0, 1, 1, 1, 1, 1, 1, 1,\n",
       "       1, 1, 0, 1, 1, 0, 1, 1, 1, 1, 1, 0, 1, 0, 0, 1, 1, 0, 1, 0, 0, 0,\n",
       "       1, 1, 1, 1, 1, 0, 1, 0, 0, 0, 0, 1, 0, 1, 0, 1, 1, 1, 1, 1, 0, 0,\n",
       "       0, 1, 1, 1, 0, 1, 1, 1, 1, 0, 1, 0, 1, 1, 1, 1, 1, 1, 1, 0, 0, 1,\n",
       "       0, 1, 1, 1, 1, 1, 1, 0, 1, 1, 1, 1, 1, 1, 1, 1, 0, 1, 1, 0, 1, 0,\n",
       "       1, 0, 0, 0, 1, 0, 1, 1, 1, 0, 1, 1, 0, 1, 1, 0, 1, 0, 0, 0, 0, 1,\n",
       "       1, 1, 1, 1, 0, 0, 1, 1, 1, 1, 1])"
      ]
     },
     "execution_count": 34,
     "metadata": {},
     "output_type": "execute_result"
    }
   ],
   "source": [
    "y_test"
   ]
  }
 ],
 "metadata": {
  "kernelspec": {
   "display_name": "Python 3",
   "language": "python",
   "name": "python3"
  },
  "language_info": {
   "codemirror_mode": {
    "name": "ipython",
    "version": 3
   },
   "file_extension": ".py",
   "mimetype": "text/x-python",
   "name": "python",
   "nbconvert_exporter": "python",
   "pygments_lexer": "ipython3",
   "version": "3.7.3"
  }
 },
 "nbformat": 4,
 "nbformat_minor": 2
}
