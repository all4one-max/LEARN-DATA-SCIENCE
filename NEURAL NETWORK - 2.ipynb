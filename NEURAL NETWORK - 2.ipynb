{
 "cells": [
  {
   "cell_type": "markdown",
   "metadata": {},
   "source": [
    "### FORWARD PROPAGATION - 1"
   ]
  },
  {
   "cell_type": "code",
   "execution_count": 3,
   "metadata": {},
   "outputs": [],
   "source": [
    "import numpy as np"
   ]
  },
  {
   "cell_type": "code",
   "execution_count": 16,
   "metadata": {},
   "outputs": [
    {
     "data": {
      "text/plain": [
       "((4, 2), (4, 1))"
      ]
     },
     "execution_count": 16,
     "metadata": {},
     "output_type": "execute_result"
    }
   ],
   "source": [
    "X = np.array([[0,0], [0,1], [1,0], [1,1]])\n",
    "Y = np.array([[0,0,0,1]]).T\n",
    "X.shape, Y.shape"
   ]
  },
  {
   "cell_type": "code",
   "execution_count": 4,
   "metadata": {},
   "outputs": [],
   "source": [
    "def sig(z):\n",
    "    return 1/(1 + np.exp(-z))"
   ]
  },
  {
   "cell_type": "code",
   "execution_count": 5,
   "metadata": {},
   "outputs": [],
   "source": [
    "def derivative_sig(z):\n",
    "    val = sig(z)\n",
    "    return val*(1-val)"
   ]
  },
  {
   "cell_type": "code",
   "execution_count": 22,
   "metadata": {},
   "outputs": [
    {
     "data": {
      "text/plain": [
       "(array([[-0.80986058],\n",
       "        [ 0.68205293]]), array([0.49137267]))"
      ]
     },
     "execution_count": 22,
     "metadata": {},
     "output_type": "execute_result"
    }
   ],
   "source": [
    "# no hidden layer weights\n",
    "weights = 2* np.random.random((2, 1)) - 1\n",
    "bias = 2 * np.random.random(1) - 1\n",
    "weights, bias"
   ]
  },
  {
   "cell_type": "code",
   "execution_count": 20,
   "metadata": {},
   "outputs": [
    {
     "data": {
      "text/plain": [
       "array([[0.54393548],\n",
       "       [0.50917537],\n",
       "       [0.74630758],\n",
       "       [0.7190036 ]])"
      ]
     },
     "execution_count": 20,
     "metadata": {},
     "output_type": "execute_result"
    }
   ],
   "source": [
    "# forward propagation without any hidden layer\n",
    "output0 = X\n",
    "output = sig(np.dot(output0, weights) + bias)\n",
    "output"
   ]
  },
  {
   "cell_type": "markdown",
   "metadata": {},
   "source": [
    "### FORWARD PROPAGATION - 2"
   ]
  },
  {
   "cell_type": "code",
   "execution_count": 7,
   "metadata": {},
   "outputs": [],
   "source": [
    "# one hidden layer weights\n",
    "wh = 2* np.random.random((2, 2)) - 1\n",
    "bh = 2* np.random.random((1, 2)) - 1\n",
    "wo = 2 * np.random.random((2, 1)) - 1\n",
    "bo = 2 * np.random.random((1,1)) - 1"
   ]
  },
  {
   "cell_type": "code",
   "execution_count": 8,
   "metadata": {},
   "outputs": [
    {
     "data": {
      "text/plain": [
       "array([[0.4571385 ],\n",
       "       [0.46268065],\n",
       "       [0.46781212],\n",
       "       [0.47352095]])"
      ]
     },
     "execution_count": 8,
     "metadata": {},
     "output_type": "execute_result"
    }
   ],
   "source": [
    "# forward propagation with one hidden layer\n",
    "output0 = X\n",
    "outputHidden = sig(np.dot(output0, wh) + bh)\n",
    "output = sig(np.dot(outputHidden, wo) + bo)\n",
    "output"
   ]
  },
  {
   "cell_type": "markdown",
   "metadata": {},
   "source": [
    "### IMPLEMENTING A SIMPLE NEURAL NETWORK (I.E WITHOUT HIDDEN LAYER)"
   ]
  },
  {
   "cell_type": "code",
   "execution_count": 14,
   "metadata": {},
   "outputs": [
    {
     "name": "stdout",
     "output_type": "stream",
     "text": [
      "[[5.68871829]\n",
      " [5.68871829]]\n",
      "\n",
      "[-8.62488994]\n",
      "\n",
      "[[1.79547725e-04]\n",
      " [5.03941623e-02]\n",
      " [5.03941621e-02]\n",
      " [9.40057014e-01]]\n"
     ]
    }
   ],
   "source": [
    "# forward propagation without any hidden layer\n",
    "lr = 0.1\n",
    "for iter in range(10000):\n",
    "    output0 = X\n",
    "    output = sig(np.dot(output0, weights) + bias)\n",
    "    first_term = output - Y\n",
    "    input_for_last_layer = np.dot(output0, weights) + bias\n",
    "    second_term = derivative_sig(input_for_last_layer)\n",
    "    first_two = first_term * second_term\n",
    "    changes = np.array([[0.0],[0.0]])\n",
    "    for i in range(2):\n",
    "        for j in range(4):\n",
    "            changes[i][0] += first_two[j][0] * output0[j][i]\n",
    "    weights = weights - lr*changes\n",
    "    bias_change = np.array([0.0])\n",
    "    for j in range(4):\n",
    "        bias_change[0] += first_two[j][0] * 1\n",
    "    bias = bias - lr*bias_change\n",
    "output = sig(np.dot(output0, weights) + bias)\n",
    "print(weights)\n",
    "print()\n",
    "print(bias)\n",
    "print()\n",
    "print(output)"
   ]
  },
  {
   "cell_type": "markdown",
   "metadata": {},
   "source": [
    "#### OPTIMISING THE ABOVE CODE USING VECTOR MULTIPLICATION"
   ]
  },
  {
   "cell_type": "code",
   "execution_count": 23,
   "metadata": {},
   "outputs": [
    {
     "name": "stdout",
     "output_type": "stream",
     "text": [
      "[[5.47329751]\n",
      " [5.47329754]]\n",
      "\n",
      "[-8.30266568]\n",
      "\n",
      "[[2.47793827e-04]\n",
      " [5.57576553e-02]\n",
      " [5.57576540e-02]\n",
      " [9.33635844e-01]]\n"
     ]
    }
   ],
   "source": [
    "# forward propagation without any hidden layer\n",
    "lr = 0.1\n",
    "for iter in range(10000):\n",
    "    output0 = X\n",
    "    output = sig(np.dot(output0, weights) + bias)\n",
    "    first_term = output - Y\n",
    "    input_for_last_layer = np.dot(output0, weights) + bias\n",
    "    second_term = derivative_sig(input_for_last_layer)\n",
    "    first_two = first_term * second_term\n",
    "    changes = np.dot(output0.T, first_two)\n",
    "    weights = weights - lr*changes\n",
    "    bias_change = np.sum(first_two)\n",
    "    bias = bias - lr*bias_change\n",
    "output = sig(np.dot(output0, weights) + bias)\n",
    "print(weights)\n",
    "print()\n",
    "print(bias)\n",
    "print()\n",
    "print(output)"
   ]
  },
  {
   "cell_type": "markdown",
   "metadata": {},
   "source": [
    "### IMPLEMENTING A GENERAL NEURAL NETWORK (I.E WITH ONE HIDDEN LAYER)"
   ]
  },
  {
   "cell_type": "code",
   "execution_count": 13,
   "metadata": {},
   "outputs": [],
   "source": [
    "X = np.array([[0,0], [0,1], [1,0], [1,1]])\n",
    "Y = np.array([[0,1,1,0]]).T\n",
    "X.shape, Y.shape\n",
    "\n",
    "# one hidden layer weights\n",
    "wh = 2* np.random.random((2, 2)) - 1\n",
    "bh = 2* np.random.random((1, 2)) - 1\n",
    "wo = 2 * np.random.random((2, 1)) - 1\n",
    "bo = 2 * np.random.random((1,1)) - 1"
   ]
  },
  {
   "cell_type": "code",
   "execution_count": 14,
   "metadata": {},
   "outputs": [
    {
     "data": {
      "text/plain": [
       "(array([[0.05756866],\n",
       "        [0.94885293],\n",
       "        [0.9323096 ],\n",
       "        [0.05073933]]), array([[-6.93229895],\n",
       "        [ 7.18589052]]), array([[3.21830723]]), array([[-4.64373756, -5.73506677],\n",
       "        [ 4.87745863,  5.69839721]]), array([[ 2.28086942, -3.22126703]]))"
      ]
     },
     "execution_count": 14,
     "metadata": {},
     "output_type": "execute_result"
    }
   ],
   "source": [
    "# forward propagation with one hidden layer\n",
    "lr = 0.1\n",
    "for iter in range(10000):\n",
    "    output0 = X\n",
    "    input_hidden = np.dot(output0, wh) + bh\n",
    "    outputHidden = sig(input_hidden)\n",
    "    input_for_output = np.dot(outputHidden, wo) + bo\n",
    "    output = sig(input_for_output)\n",
    "\n",
    "    first_term_output_layer = output - Y\n",
    "    second_term_output_layer = derivative_sig(input_for_output)\n",
    "    first_two_output = first_term_output_layer * second_term_output_layer\n",
    "\n",
    "    first_term_hidden_layer = np.dot(first_two_output, wo.T)\n",
    "    second_term_hidden_layer = derivative_sig(input_hidden)\n",
    "    first_two_hidden = first_term_hidden_layer * second_term_hidden_layer\n",
    "\n",
    "    changes_output = np.dot(outputHidden.T,first_two_output)\n",
    "    changes_bias_output = np.sum(first_two_output,axis=0,keepdims=True)\n",
    "\n",
    "    changes_hidden = np.dot(output0.T,first_two_hidden)\n",
    "    changes_bias_hidden = np.sum(first_two_hidden,axis=0,keepdims=True)\n",
    "\n",
    "    wo = wo - lr*changes_output\n",
    "    bo = bo - lr*changes_bias_output\n",
    "\n",
    "    wh = wh - lr*changes_hidden\n",
    "    bh = bh - lr*changes_bias_hidden\n",
    "\n",
    "output0 = X\n",
    "input_hidden = np.dot(output0, wh) + bh\n",
    "outputHidden = sig(input_hidden)\n",
    "input_for_output = np.dot(outputHidden, wo) + bo\n",
    "output = sig(input_for_output)\n",
    "output, wo, bo, wh, bh"
   ]
  }
 ],
 "metadata": {
  "kernelspec": {
   "display_name": "Python 3",
   "language": "python",
   "name": "python3"
  },
  "language_info": {
   "codemirror_mode": {
    "name": "ipython",
    "version": 3
   },
   "file_extension": ".py",
   "mimetype": "text/x-python",
   "name": "python",
   "nbconvert_exporter": "python",
   "pygments_lexer": "ipython3",
   "version": "3.7.3"
  }
 },
 "nbformat": 4,
 "nbformat_minor": 2
}
