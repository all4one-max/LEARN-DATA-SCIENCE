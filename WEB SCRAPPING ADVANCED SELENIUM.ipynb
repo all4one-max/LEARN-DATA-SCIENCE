{
 "cells": [
  {
   "cell_type": "markdown",
   "metadata": {},
   "source": [
    "### HANFDLE DROPDOWN"
   ]
  },
  {
   "cell_type": "code",
   "execution_count": 16,
   "metadata": {},
   "outputs": [],
   "source": [
    "from selenium import webdriver\n",
    "from bs4 import BeautifulSoup as bs\n",
    "import pandas as pd\n",
    "from selenium.webdriver.common.keys import Keys \n",
    "from selenium.webdriver.support.select import Select\n",
    "driver = webdriver.Chrome(r\"C:\\\\Users\\\\jhasa\\\\Desktop\\\\chromedriver\")\n",
    "driver.get(\"https://www.facebook.com/\")"
   ]
  },
  {
   "cell_type": "code",
   "execution_count": 17,
   "metadata": {},
   "outputs": [
    {
     "data": {
      "text/plain": [
       "<selenium.webdriver.remote.webelement.WebElement (session=\"0c737bf98a18e8494ea126f3b07b4852\", element=\"11478f6c-1114-4c36-a73c-c526845bbd3e\")>"
      ]
     },
     "execution_count": 17,
     "metadata": {},
     "output_type": "execute_result"
    }
   ],
   "source": [
    "c=driver.find_element_by_id(\"day\")\n",
    "c"
   ]
  },
  {
   "cell_type": "code",
   "execution_count": 18,
   "metadata": {},
   "outputs": [
    {
     "data": {
      "text/plain": [
       "<selenium.webdriver.support.select.Select at 0x259e3abb160>"
      ]
     },
     "execution_count": 18,
     "metadata": {},
     "output_type": "execute_result"
    }
   ],
   "source": [
    "s=Select(c)\n",
    "s"
   ]
  },
  {
   "cell_type": "code",
   "execution_count": 19,
   "metadata": {},
   "outputs": [
    {
     "data": {
      "text/plain": [
       "32"
      ]
     },
     "execution_count": 19,
     "metadata": {},
     "output_type": "execute_result"
    }
   ],
   "source": [
    "len(s.options)"
   ]
  },
  {
   "cell_type": "code",
   "execution_count": 20,
   "metadata": {},
   "outputs": [
    {
     "data": {
      "text/plain": [
       "'22'"
      ]
     },
     "execution_count": 20,
     "metadata": {},
     "output_type": "execute_result"
    }
   ],
   "source": [
    "s.first_selected_option.get_attribute(\"innerHTML\")"
   ]
  },
  {
   "cell_type": "code",
   "execution_count": 21,
   "metadata": {},
   "outputs": [
    {
     "data": {
      "text/plain": [
       "[<selenium.webdriver.remote.webelement.WebElement (session=\"0c737bf98a18e8494ea126f3b07b4852\", element=\"e1f5f4fa-77c9-47dd-80f7-fe83fc3c1fc8\")>]"
      ]
     },
     "execution_count": 21,
     "metadata": {},
     "output_type": "execute_result"
    }
   ],
   "source": [
    "s.all_selected_options #since we can only select one option that's why only one element in the list"
   ]
  },
  {
   "cell_type": "code",
   "execution_count": 22,
   "metadata": {},
   "outputs": [],
   "source": [
    "s.select_by_visible_text(\"4\")"
   ]
  },
  {
   "cell_type": "code",
   "execution_count": 29,
   "metadata": {},
   "outputs": [],
   "source": [
    "s.select_by_value(\"16\")"
   ]
  },
  {
   "cell_type": "code",
   "execution_count": 30,
   "metadata": {},
   "outputs": [],
   "source": [
    "s.select_by_index(10)"
   ]
  },
  {
   "cell_type": "code",
   "execution_count": 33,
   "metadata": {},
   "outputs": [],
   "source": [
    "driver.quit()"
   ]
  },
  {
   "cell_type": "markdown",
   "metadata": {},
   "source": [
    "### SCROLL WEBPAGE"
   ]
  },
  {
   "cell_type": "code",
   "execution_count": 34,
   "metadata": {},
   "outputs": [],
   "source": [
    "from selenium import webdriver\n",
    "from bs4 import BeautifulSoup as bs\n",
    "import pandas as pd\n",
    "from selenium.webdriver.common.keys import Keys \n",
    "from selenium.webdriver.support.select import Select\n",
    "driver = webdriver.Chrome(r\"C:\\\\Users\\\\jhasa\\\\Desktop\\\\chromedriver\")\n",
    "driver.get(\"https://twitter.com/StackOverheards\")"
   ]
  },
  {
   "cell_type": "code",
   "execution_count": 52,
   "metadata": {},
   "outputs": [
    {
     "data": {
      "text/plain": [
       "[<selenium.webdriver.remote.webelement.WebElement (session=\"3368dde2b695fd915c4717811ba9c26b\", element=\"5f42d512-4de0-48e4-8021-db7378d99523\")>,\n",
       " <selenium.webdriver.remote.webelement.WebElement (session=\"3368dde2b695fd915c4717811ba9c26b\", element=\"6b23b5ac-858f-4412-b755-c0e6cc8cd3e1\")>,\n",
       " <selenium.webdriver.remote.webelement.WebElement (session=\"3368dde2b695fd915c4717811ba9c26b\", element=\"5f8b12f6-1166-44db-a5e6-bfa1e6cf8a39\")>,\n",
       " <selenium.webdriver.remote.webelement.WebElement (session=\"3368dde2b695fd915c4717811ba9c26b\", element=\"09b169af-1abd-4f3e-9460-e12f99130328\")>]"
      ]
     },
     "execution_count": 52,
     "metadata": {},
     "output_type": "execute_result"
    }
   ],
   "source": [
    "driver.execute_script('return document.getElementsByClassName(\"css-901oao r-1awozwy r-13gxpu9 r-6koalj r-18u37iz r-16y2uox r-1qd0xha r-a023e6 r-vw2c0b r-1777fci r-eljoum r-dnmrzs r-bcqeeo r-q4m81j r-qvutc0\");')"
   ]
  },
  {
   "cell_type": "code",
   "execution_count": 54,
   "metadata": {},
   "outputs": [],
   "source": [
    "driver.execute_script(\"window.scrollBy(0,1000)\")"
   ]
  },
  {
   "cell_type": "code",
   "execution_count": 79,
   "metadata": {},
   "outputs": [],
   "source": [
    "driver.quit()"
   ]
  },
  {
   "cell_type": "markdown",
   "metadata": {},
   "source": [
    "### INFINITE SCROLLER"
   ]
  },
  {
   "cell_type": "code",
   "execution_count": 80,
   "metadata": {},
   "outputs": [],
   "source": [
    "from selenium import webdriver\n",
    "from bs4 import BeautifulSoup as bs\n",
    "import pandas as pd\n",
    "from selenium.webdriver.common.keys import Keys \n",
    "from selenium.webdriver.support.select import Select\n",
    "driver = webdriver.Chrome(r\"C:\\\\Users\\\\jhasa\\\\Desktop\\\\chromedriver\")\n",
    "driver.get(\"https://twitter.com/StackOverheards\")"
   ]
  },
  {
   "cell_type": "code",
   "execution_count": 83,
   "metadata": {},
   "outputs": [
    {
     "name": "stdout",
     "output_type": "stream",
     "text": [
      "3470 6606\n",
      "6606 8576\n",
      "8576 10498\n",
      "10498 12622\n",
      "12622 14794\n",
      "14794 14794\n"
     ]
    }
   ],
   "source": [
    "import time\n",
    "curr_height=driver.execute_script('return document.body.scrollHeight')\n",
    "while True:\n",
    "    driver.execute_script('window.scrollTo(0,arguments[0]);',curr_height)\n",
    "    time.sleep(10)\n",
    "    new_height=driver.execute_script('return document.body.scrollHeight;')\n",
    "    print(curr_height,new_height)\n",
    "    if new_height==curr_height:\n",
    "        break\n",
    "    curr_height=new_height"
   ]
  },
  {
   "cell_type": "code",
   "execution_count": 97,
   "metadata": {},
   "outputs": [],
   "source": [
    "driver.quit()"
   ]
  },
  {
   "cell_type": "markdown",
   "metadata": {},
   "source": [
    "### SWITCH TAB FOCUS"
   ]
  },
  {
   "cell_type": "code",
   "execution_count": 98,
   "metadata": {},
   "outputs": [],
   "source": [
    "from selenium import webdriver\n",
    "from bs4 import BeautifulSoup as bs\n",
    "import pandas as pd\n",
    "from selenium.webdriver.common.keys import Keys \n",
    "from selenium.webdriver.support.select import Select\n",
    "driver = webdriver.Chrome(r\"C:\\\\Users\\\\jhasa\\\\Desktop\\\\chromedriver\")\n",
    "driver.get(\"https://twitter.com/StackOverheards\")"
   ]
  },
  {
   "cell_type": "code",
   "execution_count": 100,
   "metadata": {},
   "outputs": [
    {
     "data": {
      "text/plain": [
       "'Stack Overheards (@StackOverheards) / Twitter'"
      ]
     },
     "execution_count": 100,
     "metadata": {},
     "output_type": "execute_result"
    }
   ],
   "source": [
    "driver.title"
   ]
  },
  {
   "cell_type": "code",
   "execution_count": 101,
   "metadata": {},
   "outputs": [],
   "source": [
    "driver.execute_script('window.open(\"https://www.quora.com\");')"
   ]
  },
  {
   "cell_type": "code",
   "execution_count": 102,
   "metadata": {},
   "outputs": [
    {
     "data": {
      "text/plain": [
       "'Stack Overheards (@StackOverheards) / Twitter'"
      ]
     },
     "execution_count": 102,
     "metadata": {},
     "output_type": "execute_result"
    }
   ],
   "source": [
    "driver.title"
   ]
  },
  {
   "cell_type": "code",
   "execution_count": 106,
   "metadata": {},
   "outputs": [
    {
     "data": {
      "text/plain": [
       "['CDwindow-2FEBFF93087D51A1E3EA8879A0AAE2DF',\n",
       " 'CDwindow-80B974506E7A3C140C95FABBAF0028C9']"
      ]
     },
     "execution_count": 106,
     "metadata": {},
     "output_type": "execute_result"
    }
   ],
   "source": [
    "windows=driver.window_handles\n",
    "windows"
   ]
  },
  {
   "cell_type": "code",
   "execution_count": 104,
   "metadata": {},
   "outputs": [
    {
     "data": {
      "text/plain": [
       "'CDwindow-2FEBFF93087D51A1E3EA8879A0AAE2DF'"
      ]
     },
     "execution_count": 104,
     "metadata": {},
     "output_type": "execute_result"
    }
   ],
   "source": [
    "driver.current_window_handle"
   ]
  },
  {
   "cell_type": "code",
   "execution_count": 107,
   "metadata": {},
   "outputs": [],
   "source": [
    "driver.switch_to.window(windows[1])"
   ]
  },
  {
   "cell_type": "code",
   "execution_count": 108,
   "metadata": {},
   "outputs": [
    {
     "data": {
      "text/plain": [
       "'Quora - A place to share knowledge and better understand the world'"
      ]
     },
     "execution_count": 108,
     "metadata": {},
     "output_type": "execute_result"
    }
   ],
   "source": [
    "driver.title"
   ]
  },
  {
   "cell_type": "code",
   "execution_count": 3,
   "metadata": {},
   "outputs": [],
   "source": [
    "driver.quit()"
   ]
  },
  {
   "cell_type": "markdown",
   "metadata": {},
   "source": [
    "### FIND QUESTIONS IN QUORA"
   ]
  },
  {
   "cell_type": "code",
   "execution_count": 1,
   "metadata": {},
   "outputs": [],
   "source": [
    "from selenium import webdriver\n",
    "from bs4 import BeautifulSoup as bs\n",
    "import pandas as pd\n",
    "from selenium.webdriver.common.keys import Keys \n",
    "from selenium.webdriver.support.select import Select\n",
    "driver = webdriver.Chrome(r\"C:\\\\Users\\\\jhasa\\\\Desktop\\\\chromedriver\")\n",
    "driver.get(\"https://www.quora.com/\")"
   ]
  },
  {
   "cell_type": "code",
   "execution_count": 3,
   "metadata": {},
   "outputs": [],
   "source": [
    "c=driver.find_element_by_xpath('//input[contains(@type,\"text\")]')"
   ]
  },
  {
   "cell_type": "code",
   "execution_count": 4,
   "metadata": {},
   "outputs": [],
   "source": [
    "c.send_keys(\"Avengers\")"
   ]
  },
  {
   "cell_type": "code",
   "execution_count": 5,
   "metadata": {},
   "outputs": [],
   "source": [
    "c.send_keys(Keys.ENTER)"
   ]
  },
  {
   "cell_type": "code",
   "execution_count": 62,
   "metadata": {},
   "outputs": [],
   "source": [
    "import time\n",
    "s=set()\n",
    "for i in range(50):\n",
    "    driver.execute_script(\"window.scrollBy(0,5000)\")\n",
    "    d=driver.find_elements_by_class_name(\"ui_qtext_rendered_qtext\")\n",
    "    for ele in d:\n",
    "        s.add(ele.text)"
   ]
  },
  {
   "cell_type": "code",
   "execution_count": 16,
   "metadata": {},
   "outputs": [
    {
     "name": "stdout",
     "output_type": "stream",
     "text": [
      "119 19947 19947\n",
      "What is something you noticed in Avengers: Endgame that you believe others have missed?\n",
      "Follow\n",
      "· 773\n",
      "Who would win in a fight between the Avengers and the Justice League?\n",
      "Follow\n",
      "· 340\n",
      "Is Avengers: Endgame the last Avengers movie?\n",
      "Follow\n",
      "· 123\n",
      "What are your predictions for what will happen in Avengers 4?\n",
      "Follow\n",
      "· 379\n",
      "What is the best site to Download Avengers: Infinity War in HD?\n",
      "Follow\n",
      "· 851\n",
      "What is your review of Avengers: Endgame (2019 movie)?\n",
      "Follow\n",
      "· 232\n",
      "What did you hate about Avengers: Endgame?\n",
      "Follow\n",
      "· 248\n",
      "What is your review of Avengers: Infinity War (2018 movie)?\n",
      "Follow\n",
      "· 203\n",
      "Who will die in Avengers: Endgame?\n",
      "Follow\n",
      "· 117\n",
      "What movie is better, Avengers: Endgame or Avengers: Infinity War?\n",
      "Follow\n",
      "· 101\n",
      "What would you like to see happen in Avengers: Endgame?\n",
      "Follow\n",
      "· 116\n",
      "What is your review of the first Avengers: Endgame movie trailer (December 2018)?\n",
      "Follow\n",
      "· 110\n",
      "Is Tony Stark (Iron Man) going to die in Avengers: Endgame?\n",
      "Follow\n",
      "· 120\n",
      "Who is the powerful hero in Avengers?\n",
      "Follow\n",
      "· 98\n",
      "What is something you noticed in Avengers: Infinity War that you believe others have missed?\n",
      "Follow\n",
      "· 204\n",
      "Who is the most powerful in the Avengers: Endgame?\n",
      "Follow\n",
      "· 63\n",
      "Who died in Avengers: Infinity War?\n",
      "Follow\n",
      "· 86\n",
      "What is your biggest complaint about Avengers: Infinity War (2018 movie)?\n",
      "Follow\n",
      "· 70\n",
      "How are the avengers supposed to defeat Thanos?\n",
      "67 Answers · View All\n",
      "Edward Higham, Software Developer at Thomas Cook UK (2018-present) — There was no way that the Avengers could have stopped Thanos. Doctor Strange confirms this in the film by saying that out of 14,000,605 possibilities, they only win in one.... (more)\n",
      "What was an underrated scene in Avengers: Endgame?\n",
      "Follow\n",
      "· 59\n",
      "Why couldn’t Steve Rogers lift Mjölnir in Avengers: Age of Ultron?\n",
      "Follow\n",
      "· 89\n",
      "SPOILER: What was your favorite moment in Avengers: Endgame that others might have missed?\n",
      "Follow\n",
      "· 83\n",
      "Which of the Avengers do you think might die in the Infinity War movies?\n",
      "Follow\n",
      "· 97\n",
      "What is your favorite scene in Avengers: Infinity War?\n",
      "Follow\n",
      "· 70\n",
      "Who's stronger in Avengers?\n",
      "58 Answers · View All\n",
      "Rohith Reddy, Btech Computer Science, Indian Institute of Technology, Kharagpur (2020) — \n",
      "Let us study every avenger one by one,\n",
      "Here is the list ,\n",
      "Iron Man\n",
      "Hulk\n",
      "Thor...\n",
      " (more)\n",
      "What happens in the Marvel Cinematic Universe (MCU) after Avengers: Endgame?\n",
      "45 Answers · View All\n",
      "Ryan Egger — \n",
      "(SPOILERS ALERT!)\n",
      "Iron Man died.\n",
      "Captain America grew old.\n",
      "Black Widow sacrificed her life for the Soul stone.\n",
      "Valkyrie is the new Queen of Asgard....\n",
      " (more)\n",
      "What was one thing you wish was done differently in Avengers: Endgame?\n",
      "59 Answers · View All\n",
      "Devon McCarty, I like nerd flicks — \n",
      "**Obviously you know spoilers for everything from the first Avengers to Endgame are below. **\n",
      "I would change the Banner / Hulk dynamic by NOT letting Bruce kill him in Endga... (more)\n",
      "How was Scarlet Witch able to defend herself against the mighty Thanos when the other Avengers couldn't in Avengers: Infinity War?\n",
      "Follow\n",
      "· 25\n",
      "Which funny scene in Avengers: Infinity War is your favorite?\n",
      "Follow\n",
      "· 39\n",
      "What films do I need to watch to best understand and appreciate Avengers: Infinity War?\n",
      "Follow\n",
      "· 82\n",
      "Which part of Marvel’s Avengers: Endgame did you like the most?\n",
      "Follow\n",
      "· 54\n",
      "Are the Avengers finished?\n",
      "Follow\n",
      "· 6\n",
      "After the conclusion of Avengers endgame, who are the top 5 powerful Avengers in the MCU?\n",
      "Follow\n",
      "· 17\n",
      "What was the most shocking moment in Avengers: Endgame for you?\n",
      "Follow\n",
      "· 29\n",
      "Where can I watch Avengers: Infinity War online in HD?\n",
      "Follow\n",
      "· 197\n",
      "What is the title of Avengers 4?\n",
      "50 Answers · View All\n",
      "Rajeev Kasyap, More of a character arc consumer. — \n",
      "Avengers : End Game .\n",
      "According to the internet sources in the month of July . The cinematographer Trent Opaloch updated the below in his resume .\n",
      "(Below Image source - Googl... (more)\n",
      "What one thing or scene do you want to see in Avengers: Infinity War?\n",
      "Follow\n",
      "· 55\n",
      "How many more Avengers movies will there be ever?\n",
      "36 Answers · View All\n",
      "Matthew Christeson, Been a fan forever — As long as Marvel Studios has the money to produce them and the creative people to make them, they could go on forever. With the introduction of Doctor Strange and the infi... (more)\n",
      "Who can kill Thanos in Avengers: Endgame?\n",
      "36 Answers · View All\n",
      "Ben Francis, Tech Angel Investor — \n",
      "I’m not sure anyone actually really wants to know the answer to this but… at the risk of spoiling the film. Hulk will.\n",
      "A poster on 4Chan released what he claims is the total... (more)\n",
      "Why is Thor weak in Endgame?\n",
      "Follow\n",
      "· 30\n",
      "If the Avengers had an Indian star cast, who do you think would play the important roles?\n",
      "40 Answers · View All\n",
      "Pratik Roy, Writer on Quora (2017-present) — Its very difficult to imagine Bollywood actors playing our all time favourite roles from Hollywood and vice-versa but answering such questions has a different level of fun ... (more)\n",
      "Will Avengers: Endgame beat Avatar's box office?\n",
      "24 Answers · View All\n",
      "Garrick Saito — \n",
      "Yes.\n",
      "Endgame has been in theaters for a little more than four weeks now and is currently at 97% of Avatar’s total 34-week theatrical run. It is very likely that by this time... (more)\n",
      "How many Avengers films are there in order?\n",
      "14 Answers · View All\n",
      "John Paul Andreola, Great movie critic — \n",
      "In chronoligical order\n",
      "Captain America: The First Avenger\n",
      "Captain Marvel\n",
      "Iron Man\n",
      "Iron Man 2...\n",
      " (more)\n",
      "Topic:\n",
      "Avengers (creative franchise)\n",
      "Follow\n",
      "· 341k\n",
      "Topic:\n",
      "Avengers (Marvel superhero team)\n",
      "Follow\n",
      "· 652\n",
      "Topic:\n",
      "Avenger (motorcycle)\n",
      "Follow\n",
      "· 111\n",
      "Topic:\n",
      "Avenge\n",
      "Follow\n",
      "· 10\n",
      "Topic:\n",
      "Avenger (novel)\n",
      "Follow\n",
      "· 3\n",
      "Topic:\n",
      "Avenger (Servant class)\n",
      "Follow\n",
      "· 2\n",
      "Who were the Avengers?\n",
      "11 Answers · View All\n",
      "Sarah Grimes, Lover of All Things Tolkien and Most Things Marvel (2002-present) — \n",
      "Well, to many people’s surprise, the original roster did not include Captain America.\n",
      "Ol’ Star Spangled didn’t appear until issue 4, after having been frozen for 20 years.\n",
      "Th... (more)\n",
      "After Avengers: Endgame, what will the next Avengers movie be?\n",
      "15 Answers · View All\n",
      "George G. Q. Quitoriano, Scholar of popular culture — \n",
      "Yes, Disney will definitely make more Avengers movies. Judging from record-breaking Avengers: Endgame, I can only imagine what an Avengers vs. X-Men movie will bring in.\n",
      "So ... (more)\n",
      "Do you agree with Thanos' ideology in Avengers: Infinity War?\n",
      "Follow\n",
      "· 88\n",
      "What in Avengers: Endgame didn't make any sense to you?\n",
      "52 Answers · View All\n",
      "Siva — \n",
      "Gamora was sacrificed for the Soul stone. But travelling back in time brought her back. How is this possible? If possible why can't Natasha be brought back?\n",
      "How Captain aged...\n",
      " (more)\n",
      "Is Avengers: Endgame overrated?\n",
      "40 Answers · View All\n",
      "Aryaman Shukla, Knows Some Nerd Stuff — Finally! Someone said it. Yes. Endgame is over-rated. A lot. Like everyone else, I was really hyped up for Endgame (seeing how it’s the end of an era and all that). It’s sa... (more)\n",
      "Will Loki be revived in Avengers: Endgame?\n",
      "27 Answers · View All\n",
      "Phil Dunlap, Designer, Manager — \n",
      "I hope so, only because his death was so weird.\n",
      "Loki tells Thanos “We have a Hulk,” and then Hulk bursts out and attacks Thanos. After Thanos beats Hulk, Loki can be seen st... (more)\n",
      "Why is Thor fat in Avengers: Endgame?\n",
      "Follow\n",
      "· 38\n",
      "Will Thanos die in Avengers: Endgame?\n",
      "29 Answers · View All\n",
      "J.E. Taylor, Public Policy Analyst at Government (2016-present) — I do not think Thanos will be killed off in Avengers 4. In the comics Thanos has been killed many different ways. Both Drax and the Silver Surfer have cancelled the Mad Tit... (more)\n",
      "Will Avengers: Endgame be a good film?\n",
      "24 Answers · View All\n",
      "Aman Yaduvanshi, studied Joint Entrance Examination & Joint Entrance Examination Advanced at Resonance Eduventures — \n",
      "I think it is……it is not about one movie and it is not about avengers series, actually it get started from 2008 from the movie IRON MAN……\n",
      "They make 21 movies(to describe the... (more)\n",
      "What were some plotholes you noticed in Avengers: Endgame?\n",
      "49 Answers · View All\n",
      "Rishit Thakur, Watched all Marvel Movies twice — \n",
      "(Spoilers)\n",
      "Marvel chose to follow the Dragon Ball approach to time: on changing the past , the future does not get altered but rather exists as a parallel timeline. And if y... (more)\n",
      "What were your favorite lines from The Avengers?\n",
      "45 Answers · View All\n",
      "Dhanesh Gautam (धनेश गौतम), lives in Bhopal, Madhya Pradesh, India — \n",
      "Every time someone tries to win a war before it starts, innocent people die - every time.\n",
      "Steve Rogers says these words to Tony Stark referring to the Ultron program - which... (more)\n"
     ]
    },
    {
     "name": "stdout",
     "output_type": "stream",
     "text": [
      "Do you think Avengers: Endgame will be the final Avengers film?\n",
      "18 Answers · View All\n",
      "Allison Wilson, Tech Blogger — Most probably yes. Avengers Endgame marks the end of MCU’s phase 3 and SpiderMan: Far from Home marks the start of phase 4. Spiderman is set to release right after the afte... (more)\n",
      "In the Marvel comics, which would win, the X-Men or the Avengers?\n",
      "38 Answers · View All\n",
      "Nicholas White — When addresses this question I simply do who would more likely side with the X men and who more likely side with the avengers. While yes some X men have been Avengers that ... (more)\n",
      "If you could add 2 minutes to Avengers: Endgame, what would those minutes contain?\n",
      "Follow\n",
      "· 183\n",
      "Topic:\n",
      "Avengers: Endgame (2019 movie)\n",
      "Follow\n",
      "· 131.4k\n",
      "What do you think the best Avenger’s movie is?\n",
      "37 Answers · View All\n",
      "Vibhor Sharma, former Kiiled by Music at Astroworld (2003-2020) — \n",
      "What’d you think?\n",
      "Most of the answers here will be filled with\n",
      "Endgame\n",
      "Deadpool\n",
      "Far from home...\n",
      " (more)\n",
      "Will Iron Man die in Avengers: Infinity War?\n",
      "54 Answers · View All\n",
      "Thomas Barrington — \n",
      "I doubt it\n",
      "Most likely a few of the characters are going to die. But first, let's knock off the people who definitely aren't.\n",
      "Spider-Man\n",
      "Spider-Man has only two films under hi... (more)\n",
      "What is the ending explanation of Avengers Infinity War?\n",
      "40 Answers · View All\n",
      "Sanjay Rawat, former Trainee at Starwood Hotels & Resorts (2016) — Since in Movie Thanos character is totally changed as compare to Comic. So am not much concerned about the ending. Just want to know what did Steven saw (more)\n",
      "How will the dead Avengers return in Avengers: Endgame?\n",
      "9 Answers · View All\n",
      "Sahil Srivastava, studied at Chapslee Garden School — \n",
      "This answer is based upon my assumptions after seeing Infinity War and trailer of Antman and The Wasp.\n",
      ".\n",
      "Short Answer - Senior avengers like Tony, Steve and Thor would be sac... (more)\n",
      "What is the order of the Avengers movies?\n",
      "12 Answers · View All\n",
      "Andrew Wagenknecht, Watched all the shows/movies — \n",
      "Here are all twenty-three released Marvel movies in the MCU so far.\n",
      "Iron Man (2008)\n",
      "The Incredible Hulk (2008)\n",
      "Iron Man 2 (2010)\n",
      "Thor (2011)...\n",
      " (more)\n",
      "Do all the Avengers die in Avengers: Infinity War?\n",
      "16 Answers · View All\n",
      "David Mullich, making mine Marvel since May 2, 2008. — \n",
      "Here is the status of each of the Avengers at the end of the film.\n",
      "Tony Stark/Iron Man: Alive\n",
      "Steve Rogers/Captain America: Alive\n",
      "Thor: Alive\n",
      "Bruce Banner/Hulk: Alive...\n",
      " (more)\n",
      "Why wasn't Batman in The Avengers?\n",
      "21 Answers · View All\n",
      "Arun Gupta, grailed.com — There are two main comic book publishing houses, DC and Marvel. They each have their own \"universe\" of superheroes. … DC is responsible for heroes such as Batman, Superman, ... (more)\n",
      "Who will be the main members of the MCU Avengers after Avengers: Endgame?\n",
      "10 Answers · View All\n",
      "Gabriel Mateescu — \n",
      "Well, let’s see then. *SPOILERS AHEAD*\n",
      "Falcon: Or should I call him….Captain America? Quite naturally, he’s a sure deal.\n",
      "He’s got heart, he’s tactically minded, can act on th... (more)\n",
      "Who is Noobmaster69 from Avengers Endgame?\n",
      "22 Answers · View All\n",
      "Justin Barnes, Lover of the MCU, as well as all things cinema. — Lots of people speculated he's just some random kid on the internet who's playing Fortnite….or sometimes they think it's even Loki in disguise. I'm not lots of people thoug... (more)\n",
      "How do you think Avengers: Endgame will end?\n",
      "27 Answers · View All\n",
      "Thomas Pepperz, An MCU Aficionado — \n",
      "The film Avengers: Endgame will end with Captain America’s funeral, recalling the pomp and circumstance of Peggy Carter’s funeral from Civil War.\n",
      "Six of the Avengers and all... (more)\n",
      "What are some of the incredible moments in Avengers Endgame movie?\n",
      "38 Answers · View All\n",
      "Deepak Mehta (दीपक मेहता), 2500 movies | Loves Horror, Thriller, Action, Fantasy genres — In order to ensure that no spoilers appear for anyone, I will be starting all Endgame answers with a spoiler warning and a wall of text taken from the letter from the Russo... (more)\n",
      "SPOILER ALERT: Which character’s death in Avengers: Infinity War moved you the most emotionally?\n",
      "84 Answers · View All\n",
      "Kennen Rabino, MCM fan: Marvel Cinematic Multiverse. — \n",
      "[SPOILER ALERT]\n",
      "Oh boy, where do I start? There's one character I know and love and the second that character is gone, nobody even remembers. All those memories, seemingly d... (more)\n",
      "Who do you think are going to be the new Avengers?\n",
      "17 Answers · View All\n",
      "Piyush Singariya, Highly Motivated to do \"Nothing\" — Lead members of Avengers cast will no longer be a part of The MCU. You must have heard this news a lot. But what will happen with these characters after Avengers 4? How wil... (more)\n",
      "What disappointed you about Avengers: Endgame?\n",
      "25 Answers · View All\n",
      "Kenny Nguyen, former Peer Navigator at San Diego Mesa College (2018-2019) — \n",
      "Nearly a year ago, I wrote a review of Endgame\n",
      "Kenny Nguyen's answer to What is your review of Avengers: Endgame (2019 movie)?\n",
      "I gave the movie a 9 out of 10.\n",
      "Honestly, now th... (more)\n",
      "What would be the perfect post-credit scene for Avengers: Endgame?\n",
      "Follow\n",
      "· 55\n",
      "What if Batman crashes into The Avengers?\n",
      "18 Answers · View All\n",
      "Pavan Kumar, works at National Institute of Technology, Calicut — Well if batman can come into the marvel universe then i assume all his villains to will come along with him. Then the following things will happen. … 1)The best group of vill... (more)\n",
      "Why didn't Vision appear in Avengers: Endgame?\n",
      "16 Answers · View All\n",
      "Mark Cross, I’ve studied the MCU movies extensively. — \n",
      "Vision didn’t appear because as it stands, he is still “dead”.\n",
      "In Endgame, the Avengers created a parallel timeline and they borrowed the stones from this timeline to revers... (more)\n",
      "Why is the Hulk so small in The Avengers movies?\n",
      "18 Answers · View All\n",
      "Yash Shah, 20 years of following — \n",
      "Thanks for the A2A\n",
      "A few years back the Fantastic Four movie came out with Silver Surfer in it. I remember watching the television series with Silver Surfer and Galactus in ... (more)\n",
      "In Avengers: Endgame, why didn't anyone allow Thor to wield the new Infinity Gauntlet?\n",
      "64 Answers · View All\n",
      "Justin Barnes, Reader of Marvel Comics for 12 years and counting. — \n",
      "Well, it's like Tony said: it's not just because the glove was channeling enough energy to light up a continent.\n",
      "Thor was also not in any sort of right mental or emotional s... (more)\n",
      "What is the story of the movie \"Avengers: Endgame\"?\n",
      "8 Answers · View All\n",
      "Prince Revanth — It's a Simple Story, it all starts with Iron Man and Nebula stuck in Guardians Space Ship, then Captain Marvel shows up and take the entire ship back to Earth (Shield Headq... (more)\n",
      "If Quorans were The Avengers, who would they be?\n",
      "5 Answers · View All\n",
      "Adam Kassam, Student at University College School (2016-present) — \n",
      "Okay… here we go (cracks knuckles and prepares for a barrage of arrows from Hawkeye in the comments):\n",
      "Iron Man - Balaji Viswanathan (பாலாஜி விஸ்வநாதன்) is a genius, who know... (more)\n",
      "What makes Captain America stand out among the Avengers?\n",
      "56 Answers · View All\n",
      "Brandon C. Njichop, former Writer at Hubpages (2018-2019) — One of the reasons Cap is the best Avenger is cause he’s simply the first. And while first doesn’t always mean best, it does in this situation. Cap has been avenging since ... (more)\n",
      "What is your review of the first Avengers: Infinity War teaser trailer?\n",
      "67 Answers · View All\n",
      "Virendra Shah, Marvel Fanboy since I was 13 — \n",
      "It is clear that this movie is ready to break all records.\n",
      "It crashed YouTube, fucking YouTube!\n",
      "#1 on Trending.\n",
      "The views are stuck at 467K views but likes are way beyond that... (more)\n",
      "Who is the most awesome Avenger?\n",
      "37 Answers · View All\n",
      "Mosi Jones, Watched most MCU films. — \n",
      "Very easily Iron Man for me.\n",
      "Now I have to defend my hero Iron Man because I’ve seen a lot of answers saying it’s Captain America and prove that Iron man is more than a “sma... (more)\n",
      "Do you think Avengers: Endgame will become the highest grossing film of all time?\n",
      "34 Answers · View All\n",
      "Daniel Simeon, former Doctor at Hospitals — \n",
      "Let’s be more specific here: Will Avengers Endgame become the highest grossing movie of all-time domestically in North America OR globally?\n",
      "DOMESTICALLY?? The highest grossi... (more)\n",
      "What do you think Avengers 4 will be called? What would you like it to be called?\n",
      "19 Answers · View All\n",
      "Shai Mohan, Phil Coulson for President — Ever since Tony Stark in Avengers 1 said “If we can’t protect the Earth, you can be damn sure we’ll avenge it,” I’ve been waiting for that to become a reality. With the set... (more)\n"
     ]
    },
    {
     "name": "stdout",
     "output_type": "stream",
     "text": [
      "What is your reaction after watching ‘Avengers: End game’ movie trailer (March 2019)?\n",
      "21 Answers · View All\n",
      "Andrew Baag, MCU expert — \n",
      "I literally became paralyzed when I first saw the notification for this trailer on my phone. Best surprise after a long day of school.\n",
      "The trailer was extremely well made. T... (more)\n",
      "What did you notice in the first Avengers: Endgame trailer (December 2018) that other people probably missed?\n",
      "49 Answers · View All\n",
      "Divij Sonak, Movie fanatic, Dreamer, Currently living an ordinary life — By this point, I doubt there’s anything left to discover, given how vociferously fans have voiced their theories about the Avengers: Endgame trailer. I’ll try and present s... (more)\n",
      "Since I haven't watched any of the Avengers series, what should I know before watching 'Avengers: Infinity War' to fully enjoy the experience?\n",
      "21 Answers · View All\n",
      "Sunay Sawant, Passionate Reader, Avid Researcher — \n",
      "Hi Ma’am,\n",
      "There are 18 MCU(Marvel Cinematic Universe) movies down the line before you go for Avengers : Infinity Wars\n",
      "Iron Man (2008)\n",
      "The Incredible Hulk (2008)\n",
      "Iron Man 2 (201...\n",
      " (more)\n",
      "Thanos has all the Infinity Stones. Will Avengers be able to defeat Thanos in Avengers: Endgame?\n",
      "11 Answers · View All\n",
      "Güven Çetin, Screenwriter — \n",
      "I somehow don’t think that they will..\n",
      "I think Thanos will surrender on his own.\n",
      "I’m imagining a scenario where the remaining Avengers have grouped, motivated and ready to fa... (more)\n",
      "Why is “Captain America: Civil War” a “Captain America” film rather than an “Avengers” film?\n",
      "37 Answers · View All\n",
      "Everett Chua, I've watched and analyzed most of the MCU films. Also obsessed with Marvel. — \n",
      "[SPOILERS TO FOLLOW]\n",
      "Dan Holliday’s answer was very thorough, but I’d note one additional reason as to why Civil War was a Captain America movie as opposed to an Avengers on... (more)\n",
      "Why are they called The Avengers? What are they avenging?\n",
      "12 Answers · View All\n",
      "Philippe Van Langenhove, Software Engineer (2006-present) — I think originally (1960s avengers) it was just a reaction to the justice league comics at DC and marvel wanting a team up book of their own. I haven’t read the old Avenger... (more)\n",
      "Can you compare Indian cricket team and The Avengers?\n",
      "15 Answers · View All\n",
      "Ayush Bhattacharya, NEET aspirant and Quora buff — \n",
      "So let's compare the Indian cricket team and the Avengers!!!\n",
      "Captain Cool(MSD): Captain America\n",
      "He is wise and calm like captain America. He has become old but shows no signs... (more)\n",
      "What would have happened if Batman were in The Avengers?\n",
      "13 Answers · View All\n",
      "Sean Sivils, Reads Marvel comics — \n",
      "The fanboy answers are annoying. They remind me again why I’ve started to dislike Batman.\n",
      "Thor: If Batman tried something like an Xavier Protocols there, Thor would not take... (more)\n",
      "Did Avengers: Infinity War meet your expectations?\n",
      "30 Answers · View All\n",
      "Kevin Spencer, Space Enthusiast and Amateur Historian — \n",
      "THERE WILL A FEW SPOILERS IN THIS ANSWER.\n",
      "DO NOT READ FURTHER IF YOU HAVEN’T WATCHED THE FILM YET.\n",
      "(You waited 10 years for this. Seriously, stop reading.)\n",
      "(Ahem)\n",
      "(You’re sure?... (more)\n",
      "What are the spoilers for Avengers: Endgame?\n",
      "25 Answers · View All\n",
      "John Johnny — \n",
      "The following “spoilers” aren’t actually official, so some ( if not all ) may be false.\n",
      "1- The only bit of information that has come from Marvel themselves- Captain Marvel’s... (more)\n"
     ]
    }
   ],
   "source": [
    "import time\n",
    "curr_height=driver.execute_script('return document.body.scrollHeight')\n",
    "while True:\n",
    "    driver.execute_script('window.scrollTo(0,arguments[0]);',curr_height)\n",
    "    time.sleep(4)\n",
    "    new_height=driver.execute_script('return document.body.scrollHeight;')\n",
    "    time.sleep(4)\n",
    "    d=driver.find_elements_by_class_name(\"pagedlist_item\")\n",
    "    time.sleep(4)\n",
    "    print(len(d),new_height,curr_height)\n",
    "    if len(d)>=100:\n",
    "        for i in range(100):\n",
    "            print(d[i].text)\n",
    "        break\n",
    "    if new_height==curr_height:\n",
    "        break\n",
    "    curr_height=new_height"
   ]
  },
  {
   "cell_type": "code",
   "execution_count": 17,
   "metadata": {
    "scrolled": true
   },
   "outputs": [],
   "source": [
    "driver.quit()"
   ]
  }
 ],
 "metadata": {
  "kernelspec": {
   "display_name": "Python 3",
   "language": "python",
   "name": "python3"
  },
  "language_info": {
   "codemirror_mode": {
    "name": "ipython",
    "version": 3
   },
   "file_extension": ".py",
   "mimetype": "text/x-python",
   "name": "python",
   "nbconvert_exporter": "python",
   "pygments_lexer": "ipython3",
   "version": "3.7.3"
  }
 },
 "nbformat": 4,
 "nbformat_minor": 2
}
