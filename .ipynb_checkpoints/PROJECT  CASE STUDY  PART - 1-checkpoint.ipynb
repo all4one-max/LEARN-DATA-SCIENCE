{
 "cells": [
  {
   "cell_type": "markdown",
   "metadata": {},
   "source": [
    "### NUMBER OF FUNDINGS"
   ]
  },
  {
   "cell_type": "code",
   "execution_count": 160,
   "metadata": {},
   "outputs": [
    {
     "name": "stdout",
     "output_type": "stream",
     "text": [
      "2015 936\n",
      "2016 993\n",
      "2017 443\n"
     ]
    }
   ],
   "source": [
    "import numpy as np,pandas as pd,csv\n",
    "with open('C:\\\\Users\\\\jhasa\\\\Desktop\\\\startup_funding.csv',encoding=\"utf8\") as file_obj:\n",
    "    file_data=csv.DictReader(file_obj,skipinitialspace=True)\n",
    "    date=[]\n",
    "    for row in file_data:\n",
    "        date.append(row['Date'][-4::])\n",
    "    date=np.array(date,dtype=int)\n",
    "    year,counts=np.unique(date,return_counts=True)\n",
    "    for i in range(3):\n",
    "        print(int(year[i]),int(counts[i]))"
   ]
  },
  {
   "cell_type": "code",
   "execution_count": 157,
   "metadata": {},
   "outputs": [
    {
     "name": "stdout",
     "output_type": "stream",
     "text": [
      "2015 936\n",
      "2016 993\n",
      "2017 443\n"
     ]
    }
   ],
   "source": [
    "import numpy as np,pandas as pd,csv\n",
    "df=pd.read_csv('C:\\\\Users\\\\jhasa\\\\Desktop\\\\startup_funding.csv',encoding=\"utf8\")\n",
    "df=df.Date\n",
    "df=df.str.replace('.','/')\n",
    "df=df.str.replace('//','/')\n",
    "df=df.str.split('/',expand=True)\n",
    "df=df[2]\n",
    "freq=df.value_counts()\n",
    "freq.sort_index(inplace=True)\n",
    "for i in range(3):\n",
    "    print(int(freq.index[i]),int(freq.values[i]))    "
   ]
  },
  {
   "cell_type": "markdown",
   "metadata": {},
   "source": [
    "### TOP INDIAN CITIES"
   ]
  },
  {
   "cell_type": "code",
   "execution_count": 30,
   "metadata": {},
   "outputs": [
    {
     "name": "stdout",
     "output_type": "stream",
     "text": [
      "Bangalore 635\n",
      "Mumbai 449\n",
      "New Delhi 389\n",
      "Gurgaon 241\n",
      "Pune 91\n",
      "Noida 79\n",
      "Hyderabad 77\n",
      "Chennai 67\n",
      "Ahmedabad 35\n",
      "Jaipur 25\n"
     ]
    }
   ],
   "source": [
    "import numpy as np,pandas as pd,csv\n",
    "df=pd.read_csv('C:\\\\Users\\\\jhasa\\\\Desktop\\\\startup_funding.csv',encoding=\"utf8\")\n",
    "df=df.CityLocation\n",
    "df.dropna(inplace=True)\n",
    "df=df.str.split('/',expand=True)\n",
    "df=df[0].str.strip()\n",
    "df.replace(\"Delhi\",\"New Delhi\",inplace =True)\n",
    "df.replace(\"bangalore\",\"Bangalore\",inplace =True)\n",
    "freq=df.value_counts()\n",
    "for i in range(10):    \n",
    "    s=freq.index[i]    \n",
    "    print(s,int(freq.values[i]))    "
   ]
  },
  {
   "cell_type": "code",
   "execution_count": 49,
   "metadata": {},
   "outputs": [
    {
     "name": "stdout",
     "output_type": "stream",
     "text": [
      "Bangalore 635\n",
      "Mumbai 449\n",
      "New Delhi 389\n",
      "Gurgaon 241\n",
      "Pune 91\n",
      "Noida 79\n",
      "Hyderabad 77\n",
      "Chennai 67\n",
      "Ahmedabad 35\n",
      "Jaipur 25\n"
     ]
    }
   ],
   "source": [
    "import numpy as np,pandas as pd,csv\n",
    "with open('C:\\\\Users\\\\jhasa\\\\Desktop\\\\startup_funding.csv',encoding=\"utf8\") as file_obj:\n",
    "    file_data=csv.DictReader(file_obj,skipinitialspace=True)\n",
    "    city=[]\n",
    "    count=0\n",
    "    for row in file_data:\n",
    "        cty=row['CityLocation']\n",
    "        cty=cty.split('/')[0].strip()           \n",
    "        if cty=='bangalore':           \n",
    "            city.append('Bangalore')\n",
    "        elif cty=='Delhi':\n",
    "            city.append('New Delhi')\n",
    "        else:\n",
    "            city.append(cty)    \n",
    "    city=np.array(city)\n",
    "    city=city[city!='']\n",
    "    key,value=np.unique(city,return_counts=True)\n",
    "    ind=value.argsort()\n",
    "    x=len(ind)\n",
    "    for i in range(x-1,x-11,-1):\n",
    "        print(key[ind[i]],value[ind[i]])    "
   ]
  },
  {
   "cell_type": "markdown",
   "metadata": {},
   "source": [
    "### FUNDING AMOUNT"
   ]
  },
  {
   "cell_type": "code",
   "execution_count": 253,
   "metadata": {},
   "outputs": [
    {
     "name": "stdout",
     "output_type": "stream",
     "text": [
      "Bangalore 49.71\n",
      "New Delhi 16.63\n",
      "Mumbai 13.90\n",
      "Gurgaon 12.21\n",
      "Chennai 2.43\n",
      "Pune 2.16\n",
      "Hyderabad 1.15\n",
      "Noida 1.01\n",
      "Ahmedabad 0.58\n",
      "Jaipur 0.21\n"
     ]
    }
   ],
   "source": [
    "import numpy as np,pandas as pd,csv\n",
    "df=pd.read_csv('C:\\\\Users\\\\jhasa\\\\Desktop\\\\startup_funding.csv',encoding=\"utf8\")\n",
    "df=df.loc[:,['CityLocation','AmountInUSD']]\n",
    "df.dropna(inplace=True)\n",
    "df['CityLocation']=df.CityLocation.str.split('/',expand=True)[0]\n",
    "df['CityLocation']=df.CityLocation.str.strip()\n",
    "df.CityLocation.replace(\"Delhi\",\"New Delhi\",inplace =True)\n",
    "df.CityLocation.replace(\"bangalore\",\"Bangalore\",inplace =True)\n",
    "df['AmountInUSD']=df.AmountInUSD.str.replace(',','')\n",
    "df['AmountInUSD']=pd.to_numeric(df.AmountInUSD)\n",
    "cty=df.CityLocation\n",
    "cty=cty.value_counts()\n",
    "cty=cty.index\n",
    "li=[]\n",
    "for ele in cty:\n",
    "    df[ele]=df.AmountInUSD[df.CityLocation==ele]\n",
    "    li.append([df[ele].sum(),ele])\n",
    "li.sort(reverse=True)\n",
    "sm=0\n",
    "for i in range(10):\n",
    "    sm+=li[i][0]\n",
    "for i in range(10):\n",
    "    val=round(((li[i][0])/sm)*100,2)\n",
    "    print(li[i][1],format(val,'.2f'))"
   ]
  },
  {
   "cell_type": "markdown",
   "metadata": {},
   "source": [
    "### INVESTMENT TYPE"
   ]
  },
  {
   "cell_type": "code",
   "execution_count": 187,
   "metadata": {},
   "outputs": [
    {
     "name": "stdout",
     "output_type": "stream",
     "text": [
      "Private Equity 98.15\n",
      "Seed Funding 1.81\n",
      "Debt Funding 0.04\n",
      "Crowd Funding 0.00\n"
     ]
    }
   ],
   "source": [
    "import numpy as np,pandas as pd,csv\n",
    "df=pd.read_csv('C:\\\\Users\\\\jhasa\\\\Desktop\\\\startup_funding.csv',encoding=\"utf8\")\n",
    "df=df.loc[:,['InvestmentType','AmountInUSD']]\n",
    "df.dropna(inplace=True)\n",
    "df['InvestmentType']=df.InvestmentType.str.replace('PrivateEquity','Private Equity')\n",
    "df['InvestmentType']=df.InvestmentType.str.replace('Crowd funding','Crowd Funding')\n",
    "df['InvestmentType']=df.InvestmentType.str.replace('SeedFunding','Seed Funding')\n",
    "df['AmountInUSD']=df.AmountInUSD.str.replace(',','')\n",
    "df['AmountInUSD']=pd.to_numeric(df.AmountInUSD)\n",
    "sm=df.AmountInUSD.sum()\n",
    "npy=df.InvestmentType.unique()\n",
    "li=[]\n",
    "for ele in npy:\n",
    "    x=df.AmountInUSD[df.InvestmentType==ele].sum()\n",
    "    li.append([round(((x)/sm)*100,2),ele])\n",
    "for i in range(4):\n",
    "    print(li[i][1],format(li[i][0],'.2f'))"
   ]
  },
  {
   "cell_type": "markdown",
   "metadata": {},
   "source": [
    "### TOP INDUSTRIES"
   ]
  },
  {
   "cell_type": "code",
   "execution_count": 250,
   "metadata": {},
   "outputs": [
    {
     "name": "stdout",
     "output_type": "stream",
     "text": [
      "eCommerce\n",
      "ECommerce\n",
      "ecommerce\n",
      "Ecommerce\n",
      "Ecommerce 40.53\n",
      "Consumer Internet 35.95\n",
      "Technology 10.45\n",
      "Online Marketplace 6.63\n",
      "E-Commerce & M-Commerce platform 6.44\n"
     ]
    }
   ],
   "source": [
    "import numpy as np,pandas as pd,csv\n",
    "df=pd.read_csv('C:\\\\Users\\\\jhasa\\\\Desktop\\\\startup_funding.csv',encoding=\"utf8\")\n",
    "df=df.loc[:,['IndustryVertical','AmountInUSD']]\n",
    "df.dropna(inplace=True)\n",
    "for i in df.IndustryVertical.unique(): # used this to find out incorrect representation of Ecommerce   \n",
    "    if i.lower() == \"ecommerce\":\n",
    "        print(i)\n",
    "df['IndustryVertical']=df.IndustryVertical.str.replace('eCommerce','Ecommerce')\n",
    "df['IndustryVertical']=df.IndustryVertical.str.replace('ecommerce','Ecommerce')  #added this line\n",
    "df['IndustryVertical']=df.IndustryVertical.str.replace('ECommerce','Ecommerce')   #added this line\n",
    "df['AmountInUSD']=df.AmountInUSD.str.replace(',','')\n",
    "df['AmountInUSD']=pd.to_numeric(df.AmountInUSD)\n",
    "npy=df.IndustryVertical.unique()\n",
    "li=[]\n",
    "for ele in npy:\n",
    "    x=df.AmountInUSD[df.IndustryVertical==ele].sum()\n",
    "    li.append([x,ele])\n",
    "li.sort(reverse=True)\n",
    "sm=0\n",
    "for i in range(5):\n",
    "    sm+=li[i][0]\n",
    "for i in range(5):\n",
    "    val=round(((li[i][0])/sm)*100,2)\n",
    "    print(li[i][1],format(val,'.2f'))"
   ]
  },
  {
   "cell_type": "markdown",
   "metadata": {},
   "source": [
    "### TOP STARTUPS"
   ]
  },
  {
   "cell_type": "code",
   "execution_count": 275,
   "metadata": {},
   "outputs": [
    {
     "name": "stdout",
     "output_type": "stream",
     "text": [
      "Paytm\n",
      "Flipkart\n",
      "Ola\n",
      "Snapdeal\n",
      "Oyo\n"
     ]
    }
   ],
   "source": [
    "import numpy as np,pandas as pd,csv\n",
    "df=pd.read_csv('C:\\\\Users\\\\jhasa\\\\Desktop\\\\startup_funding.csv',encoding=\"utf8\")\n",
    "df=df.loc[:,['StartupName','AmountInUSD']]\n",
    "df.dropna(inplace=True)\n",
    "#for i in df.StartupName.unique(): # used this to find out incorrect representation of startup name   \n",
    " #   j=i.lower()\n",
    "    #if 'ola' in j:\n",
    "     #   print(i)\n",
    "    #if 'flipkart' in j:\n",
    "     #   print(i)\n",
    "    #if 'oyo' in j:\n",
    "     #   print(i)\n",
    "    #if 'paytm' in j:\n",
    "     #   print(i)\n",
    "        \n",
    "df['StartupName']=df.StartupName.str.replace('Olacabs','Ola')\n",
    "df['StartupName']=df.StartupName.str.replace('Ola cabs','Ola')\n",
    "df['StartupName']=df.StartupName.str.replace('Ola Cabs','Ola')\n",
    "df['StartupName']=df.StartupName.str.replace('Flipkart.com','Flipkart')\n",
    "df['StartupName']=df.StartupName.str.replace('Oyo Rooms','Oyo')\n",
    "df['StartupName']=df.StartupName.str.replace('OyoRooms','Oyo')\n",
    "df['StartupName']=df.StartupName.str.replace('Oyorooms','Oyo')\n",
    "df['StartupName']=df.StartupName.str.replace('OYO Rooms','Oyo')\n",
    "df['StartupName']=df.StartupName.str.replace('Paytm Marketplace','Paytm')\n",
    "#print()\n",
    "#for i in df.StartupName.unique(): # used to check whether the names got corrected or not\n",
    " #   j=i.lower()\n",
    "    #if 'ola' in j:\n",
    "     #   print(i)\n",
    "    #if 'flipkart' in j:\n",
    "     #   print(i)\n",
    "    #if 'oyo' in j:\n",
    "     #   print(i)\n",
    "    #if 'paytm' in j:\n",
    "     #   print(i)\n",
    "df['AmountInUSD']=df.AmountInUSD.str.replace(',','')\n",
    "df['AmountInUSD']=pd.to_numeric(df.AmountInUSD)\n",
    "npy=df.StartupName.unique()\n",
    "li=[]\n",
    "for ele in npy:\n",
    "    x=df.AmountInUSD[df.StartupName==ele].sum()\n",
    "    li.append([x,ele])\n",
    "li.sort(reverse=True)\n",
    "for i in range(5):\n",
    "    print(li[i][1])"
   ]
  },
  {
   "cell_type": "markdown",
   "metadata": {},
   "source": [
    "### FUNDING ROUNDS"
   ]
  },
  {
   "cell_type": "code",
   "execution_count": 296,
   "metadata": {
    "scrolled": false
   },
   "outputs": [
    {
     "name": "stdout",
     "output_type": "stream",
     "text": [
      "Ola 9\n",
      "Swiggy 7\n",
      "UrbanClap 6\n",
      "Oyo 6\n",
      "Paytm 6\n"
     ]
    }
   ],
   "source": [
    "import numpy as np,pandas as pd,csv\n",
    "df=pd.read_csv('C:\\\\Users\\\\jhasa\\\\Desktop\\\\startup_funding.csv',encoding=\"utf8\")\n",
    "df=df.StartupName\n",
    "df.replace('Olacabs','Ola',inplace=True)\n",
    "df.replace('Ola cabs','Ola',inplace=True)\n",
    "df.replace('Ola Cabs','Ola',inplace=True)\n",
    "df.replace('Flipkart.com','Flipkart',inplace=True)\n",
    "df.replace('Oyo Rooms','Oyo',inplace=True)\n",
    "df.replace('OyoRooms','Oyo',inplace=True)\n",
    "df.replace('Oyorooms','Oyo',inplace=True)\n",
    "df.replace('OYO Rooms','Oyo',inplace=True)\n",
    "df.replace('Paytm Marketplace','Paytm',inplace=True)\n",
    "freq=df.value_counts()\n",
    "for i in range(5):\n",
    "    print(freq.index[i],freq.values[i])"
   ]
  },
  {
   "cell_type": "markdown",
   "metadata": {},
   "source": [
    "### TOP INVESTOR"
   ]
  },
  {
   "cell_type": "code",
   "execution_count": 329,
   "metadata": {},
   "outputs": [
    {
     "name": "stdout",
     "output_type": "stream",
     "text": [
      "Sequoia Capital 64\n"
     ]
    }
   ],
   "source": [
    "import numpy as np,pandas as pd,csv\n",
    "df=pd.read_csv('C:\\\\Users\\\\jhasa\\\\Desktop\\\\startup_funding.csv',encoding=\"utf8\")\n",
    "df=df.InvestorsName[(df.InvestorsName!='Undisclosed Investers') & (df.InvestorsName!='Undisclosed investors')]\n",
    "df.dropna(inplace=True)\n",
    "d={}\n",
    "for row in df.values:  \n",
    "    li=[x for x in row.split(',')]\n",
    "    for ele in li:\n",
    "        d[ele.strip()]=d.get(ele.strip(),0)+1\n",
    "mx=0\n",
    "for ele in d:\n",
    "    if d[ele]>mx:\n",
    "        mx=d[ele]\n",
    "        ans=ele\n",
    "print(ans,mx)\n"
   ]
  },
  {
   "cell_type": "code",
   "execution_count": 330,
   "metadata": {},
   "outputs": [
    {
     "name": "stdout",
     "output_type": "stream",
     "text": [
      "Sequoia Capital 64\n"
     ]
    }
   ],
   "source": [
    "import numpy as np,pandas as pd,csv\n",
    "df=pd.read_csv('C:\\\\Users\\\\jhasa\\\\Desktop\\\\startup_funding.csv',encoding=\"utf8\")\n",
    "\n",
    "df=df.InvestorsName[(df.InvestorsName!='Undisclosed Investers') & (df.InvestorsName!='Undisclosed investors')]\n",
    "df.dropna(inplace=True)\n",
    "d={}\n",
    "for row in df.values:  \n",
    "    li=[x for x in row.split(',')]\n",
    "    for ele in li:\n",
    "        d[ele.strip()]=d.get(ele.strip(),0)+1\n",
    "name=[]\n",
    "inv=[]\n",
    "for i in d:\n",
    "    name.append(i)\n",
    "    inv.append(d[i])    \n",
    "name=np.array(name)\n",
    "inv=np.array(inv,dtype=int)\n",
    "s=np.argmax(inv)\n",
    "print(name[s].strip(),inv[s],sep=' ')"
   ]
  }
 ],
 "metadata": {
  "kernelspec": {
   "display_name": "Python 3",
   "language": "python",
   "name": "python3"
  },
  "language_info": {
   "codemirror_mode": {
    "name": "ipython",
    "version": 3
   },
   "file_extension": ".py",
   "mimetype": "text/x-python",
   "name": "python",
   "nbconvert_exporter": "python",
   "pygments_lexer": "ipython3",
   "version": "3.7.3"
  }
 },
 "nbformat": 4,
 "nbformat_minor": 2
}
