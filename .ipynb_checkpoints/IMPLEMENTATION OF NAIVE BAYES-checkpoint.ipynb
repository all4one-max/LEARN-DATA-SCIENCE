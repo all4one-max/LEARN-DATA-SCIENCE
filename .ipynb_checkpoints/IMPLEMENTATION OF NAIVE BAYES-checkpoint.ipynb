{
 "cells": [
  {
   "cell_type": "code",
   "execution_count": 1,
   "metadata": {},
   "outputs": [],
   "source": [
    "import numpy as np"
   ]
  },
  {
   "cell_type": "code",
   "execution_count": 2,
   "metadata": {},
   "outputs": [],
   "source": [
    "def fit(X_train, Y_train):\n",
    "    result = {}\n",
    "    for current_class in set(Y_train):\n",
    "        result[current_class] = {}\n",
    "        result[\"total_data\"] = len(Y_train)\n",
    "        x_train_current = X_train[Y_train == current_class]\n",
    "        y_train_current = Y_train[Y_train == current_class]\n",
    "        num_features = X_train.shape[1]\n",
    "        result[current_class]['total_count'] = len(y_train_current)\n",
    "        for i in range(num_features):\n",
    "            feature = X_train[:, i]\n",
    "            result[current_class][i] = {}\n",
    "            for label in set(feature):\n",
    "                result[current_class][i][label] = (x_train_current[:,i] == label).sum()                \n",
    "    return result"
   ]
  },
  {
   "cell_type": "code",
   "execution_count": 3,
   "metadata": {},
   "outputs": [],
   "source": [
    "def prob(dcitionary, x, current_class):\n",
    "    num_features = len(dictionary[current_class].keys()) - 1\n",
    "    class_prob = np.log(dictionary[current_class][\"total_count\"]) - np.log(dictionary[\"total_data\"])\n",
    "    for j in range(num_features):\n",
    "        xj = x[j]\n",
    "        num = dictionary[current_class][j][xj] + 1\n",
    "        den = dictionary[current_class][\"total_count\"] + len(dictionary[current_class][j].keys())\n",
    "        class_prob += (np.log(num) - np.log(den))\n",
    "    return class_prob"
   ]
  },
  {
   "cell_type": "code",
   "execution_count": 4,
   "metadata": {},
   "outputs": [],
   "source": [
    "def predict_single_point(dictionary, x):\n",
    "    best_prob = -1000\n",
    "    best_class = -1\n",
    "    first_run = True\n",
    "    for current_class in dictionary.keys():\n",
    "        if current_class == \"total_data\":\n",
    "            continue\n",
    "        p_curr_class = prob(dictionary, x, current_class)\n",
    "        if (first_run or p_curr_class > best_prob):\n",
    "            best_prob = p_curr_class\n",
    "            best_class = current_class\n",
    "        first_run = False\n",
    "    return best_class"
   ]
  },
  {
   "cell_type": "code",
   "execution_count": 5,
   "metadata": {},
   "outputs": [],
   "source": [
    "def predict(dictionary, X_test):\n",
    "    y_pred = []\n",
    "    for x in X_test:\n",
    "        current_class = predict_single_point(dictionary, x)\n",
    "        y_pred.append(current_class)\n",
    "    return y_pred"
   ]
  },
  {
   "cell_type": "code",
   "execution_count": 6,
   "metadata": {},
   "outputs": [],
   "source": [
    "def make_discrete(x):\n",
    "    second = x.mean()\n",
    "    first = 0.5*second\n",
    "    third = 1.5*second\n",
    "    for i in range(len(x)):\n",
    "        if x[i]<first:\n",
    "            x[i] = 0\n",
    "        elif x[i]<second:\n",
    "            x[i] = 1\n",
    "        elif x[i]<third:\n",
    "            x[i] = 2\n",
    "        else:\n",
    "            x[i] = 3\n",
    "    return x"
   ]
  },
  {
   "cell_type": "code",
   "execution_count": 7,
   "metadata": {},
   "outputs": [],
   "source": [
    "from sklearn import datasets\n",
    "iris = datasets.load_iris()\n",
    "X = iris.data\n",
    "Y = iris.target"
   ]
  },
  {
   "cell_type": "code",
   "execution_count": 8,
   "metadata": {},
   "outputs": [],
   "source": [
    "for i in range(X.shape[-1]):\n",
    "    X[:, i] = make_discrete(X[:, i])"
   ]
  },
  {
   "cell_type": "code",
   "execution_count": 9,
   "metadata": {},
   "outputs": [],
   "source": [
    "from sklearn.model_selection import train_test_split\n",
    "X_train, X_test, Y_train, Y_test = train_test_split(X,Y,test_size=0.25,random_state=0)"
   ]
  },
  {
   "cell_type": "code",
   "execution_count": 10,
   "metadata": {
    "scrolled": true
   },
   "outputs": [],
   "source": [
    "dictionary = fit(X_train, Y_train)\n",
    "y_pred = predict(dictionary, X_test)"
   ]
  },
  {
   "cell_type": "code",
   "execution_count": 11,
   "metadata": {},
   "outputs": [
    {
     "name": "stdout",
     "output_type": "stream",
     "text": [
      "              precision    recall  f1-score   support\n",
      "\n",
      "           0       1.00      1.00      1.00        13\n",
      "           1       0.94      1.00      0.97        16\n",
      "           2       1.00      0.89      0.94         9\n",
      "\n",
      "    accuracy                           0.97        38\n",
      "   macro avg       0.98      0.96      0.97        38\n",
      "weighted avg       0.98      0.97      0.97        38\n",
      "\n",
      "[[13  0  0]\n",
      " [ 0 16  0]\n",
      " [ 0  1  8]]\n"
     ]
    }
   ],
   "source": [
    "from sklearn.metrics import classification_report, confusion_matrix\n",
    "print(classification_report(Y_test,y_pred))\n",
    "print(confusion_matrix(Y_test,y_pred))"
   ]
  }
 ],
 "metadata": {
  "kernelspec": {
   "display_name": "Python 3",
   "language": "python",
   "name": "python3"
  },
  "language_info": {
   "codemirror_mode": {
    "name": "ipython",
    "version": 3
   },
   "file_extension": ".py",
   "mimetype": "text/x-python",
   "name": "python",
   "nbconvert_exporter": "python",
   "pygments_lexer": "ipython3",
   "version": "3.7.3"
  }
 },
 "nbformat": 4,
 "nbformat_minor": 2
}
