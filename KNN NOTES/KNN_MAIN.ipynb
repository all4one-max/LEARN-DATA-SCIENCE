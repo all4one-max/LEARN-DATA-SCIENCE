{
 "cells": [
  {
   "cell_type": "markdown",
   "metadata": {},
   "source": [
    "## KNN"
   ]
  },
  {
   "cell_type": "markdown",
   "metadata": {},
   "source": [
    "KNN stands for K-Nearest Neighbours. KNN is simple classification algorithm and it is generally used for datasets in which data points are separated into several classes and we have to predict the class for the new sample point.\n",
    "KNN is <b>non-parametric</b> and <b>lazy</b> learning algorithm.\n",
    "\n",
    "<b>Non-parametric</b> basically means that the algorithm does not make any assumptions on the given data distribution. NON-parametric covers technique that do not rely on data belonging to particular distribution and do not assume the structure of model to be fixed. So, KNN is used as classification algorithm in cases where we do not have much information about the distribution of the data.\n",
    "\n",
    "KNN is referred to as <b>Lazy</b> algorithm since is does not uses training points to do any generalization, which means that there is no separate training phase. KNN keeps all the training data and uses most of the training data during the testing phase. Thus, KNN does not learn any model, it make predictions on the fly, computing similarity between testing point and each training data point."
   ]
  },
  {
   "cell_type": "markdown",
   "metadata": {},
   "source": [
    "KNN algorithm is  based on <b>feature similarity</b>. We can classify the testing data point on the basis of resemblance of its features with that of the training data set.\n",
    "\n",
    "\n",
    "![title](knn_intro.png)\n",
    "\n"
   ]
  },
  {
   "cell_type": "markdown",
   "metadata": {},
   "source": [
    "The test sample(green circle) should either be classified into Class 1(blue squares) or Class 2(red triangles).\n",
    "The class for the sample testing point is decided on the basis of majority vote-out.\n",
    "\n",
    "If value of K=1, the nearest training point belongs to Class 1, so we will say that the testing sample belongs to Class 1. Now, take the value of K to be 3, again using the methodology of majority vote, we will say that testing sample belongs to Class 2(red traingles), since out of three nearest training data points, two belongs to Class 2 and one belong to Class 1.\n",
    "\n",
    "Hence, using the same method, we can predict the class for the tesing smaple, using pre-decided value of K."
   ]
  },
  {
   "cell_type": "markdown",
   "metadata": {},
   "source": [
    "KNN can be used for <b>Classification</b> as well as <b>Regression</b>.\n",
    "\n",
    "While using KNN for classification - output is a class membership, we will classify the sample point using the technique of majority vote among its neighbors and the most common class among its k nearest neighbours is assigned to the testing point. In regression, output is the property value of object, this value is average or median of the value of its K nearest neighbors.\n",
    "\n",
    "In classification, KNN is used to predict a class which is a discrete value whereas in regression, KNN predicts continuous values."
   ]
  },
  {
   "cell_type": "markdown",
   "metadata": {},
   "source": [
    "### Why don't we choose value value of K=1 ?\n",
    "Choosing the value of K=1 makes our model more prone to outliers and overfitting. Value of K=1 means that we will consider only the closest (or nearest) neighbor to predict the class for our testing sample, and in majority of the cases it will lead to overfitting.\n",
    "\n",
    "![title](knn_k1.jpg)\n"
   ]
  },
  {
   "cell_type": "markdown",
   "metadata": {},
   "source": [
    "Consider the case here, if we choose value of K=1, the given training sample will get classified as dot(Class 2), instead of being classified as a cross(Class 1). So, in such cases certain optimal value of K should be choosen to get good results. Choosing the value of K = 1, leads to formation of complex decision boundaries and hence will lead to overfitting to the data."
   ]
  },
  {
   "cell_type": "markdown",
   "metadata": {},
   "source": [
    "Since we will be using the majority vote technique, so value of K is taken to be odd, to obtain clear result about the class of the testing data sample."
   ]
  },
  {
   "cell_type": "markdown",
   "metadata": {},
   "source": [
    "### Distance Metric for KNN\n",
    "\n",
    "There are various distance metrices that can be choosen are Manhattan Distance, Euclidian Distance, etc."
   ]
  },
  {
   "cell_type": "markdown",
   "metadata": {},
   "source": [
    "\\begin{equation*}\n",
    "\\textbf{MANHATTAN DISTANCE} = \\left| \\sum_{i=1}^n X_1 ^ i - X_2 ^ i \\right|\n",
    "\\end{equation*}"
   ]
  },
  {
   "cell_type": "markdown",
   "metadata": {},
   "source": [
    "\\begin{equation*}\n",
    "\\textbf{EUCLIDIAN DISTANCE} = \\sqrt{ \\sum_{i=1}^n \\left( X_1 ^ i - X_2 ^ i \\right) ^ 2 }\n",
    "\\end{equation*}"
   ]
  },
  {
   "cell_type": "markdown",
   "metadata": {},
   "source": [
    "Where X<sub>1</sub> and X<sub>2</sub> are two different data points and 'i' traverse over all the features in the given dataset. "
   ]
  },
  {
   "cell_type": "markdown",
   "metadata": {},
   "source": [
    "### Variations in KNN\n",
    "\n",
    "Variations in KNN are possible on the basis of how neighboring points are going to vote. The weight of the vote of the testing point(s) is inversely proportional to its distance from the testing point. We can go either with uniform voting or with weighted voting. In case of weighted voting, the point nearer to the testing sample will have a larger say in the vote as compared to the point which is farther away from the testing point.\n"
   ]
  },
  {
   "cell_type": "markdown",
   "metadata": {},
   "source": [
    "### Feature Scaling before KNN\n",
    "\n",
    "In KNN, we are looking for points which are closest to the testing point. In case we do not perform feature scaling, if we have value of one feature in thousands and value of other feature in smaller units, then the effect of first feature will completely overpower and dominate over the effect of second feature in the final output. So, it is of utmost importance to apply feature scaling before applying KNN so that all the features have equal contribution in the final predicted output for the given testing point.\n"
   ]
  },
  {
   "cell_type": "markdown",
   "metadata": {},
   "source": [
    "### KNN in Sklearn\n",
    "\n",
    "We will be applying KNN on Breast Cancer Dataset and use inbuilt KNN Classifier inside sklearn."
   ]
  },
  {
   "cell_type": "code",
   "execution_count": 23,
   "metadata": {
    "collapsed": true
   },
   "outputs": [],
   "source": [
    "from sklearn import datasets\n",
    "from sklearn.model_selection import train_test_split\n",
    "from sklearn.neighbors import KNeighborsClassifier\n",
    "from sklearn.model_selection import cross_val_score\n",
    "import matplotlib.pyplot as plt"
   ]
  },
  {
   "cell_type": "code",
   "execution_count": 7,
   "metadata": {
    "collapsed": true
   },
   "outputs": [],
   "source": [
    "cancer = datasets.load_breast_cancer()"
   ]
  },
  {
   "cell_type": "code",
   "execution_count": 8,
   "metadata": {},
   "outputs": [
    {
     "data": {
      "text/plain": [
       "array(['mean radius', 'mean texture', 'mean perimeter', 'mean area',\n",
       "       'mean smoothness', 'mean compactness', 'mean concavity',\n",
       "       'mean concave points', 'mean symmetry', 'mean fractal dimension',\n",
       "       'radius error', 'texture error', 'perimeter error', 'area error',\n",
       "       'smoothness error', 'compactness error', 'concavity error',\n",
       "       'concave points error', 'symmetry error', 'fractal dimension error',\n",
       "       'worst radius', 'worst texture', 'worst perimeter', 'worst area',\n",
       "       'worst smoothness', 'worst compactness', 'worst concavity',\n",
       "       'worst concave points', 'worst symmetry', 'worst fractal dimension'],\n",
       "      dtype='<U23')"
      ]
     },
     "execution_count": 8,
     "metadata": {},
     "output_type": "execute_result"
    }
   ],
   "source": [
    "cancer.feature_names"
   ]
  },
  {
   "cell_type": "code",
   "execution_count": 9,
   "metadata": {},
   "outputs": [
    {
     "data": {
      "text/plain": [
       "array([0, 0, 0, 0, 0, 0, 0, 0, 0, 0, 0, 0, 0, 0, 0, 0, 0, 0, 0, 1, 1, 1, 0,\n",
       "       0, 0, 0, 0, 0, 0, 0, 0, 0, 0, 0, 0, 0, 0, 1, 0, 0, 0, 0, 0, 0, 0, 0,\n",
       "       1, 0, 1, 1, 1, 1, 1, 0, 0, 1, 0, 0, 1, 1, 1, 1, 0, 1, 0, 0, 1, 1, 1,\n",
       "       1, 0, 1, 0, 0, 1, 0, 1, 0, 0, 1, 1, 1, 0, 0, 1, 0, 0, 0, 1, 1, 1, 0,\n",
       "       1, 1, 0, 0, 1, 1, 1, 0, 0, 1, 1, 1, 1, 0, 1, 1, 0, 1, 1, 1, 1, 1, 1,\n",
       "       1, 1, 0, 0, 0, 1, 0, 0, 1, 1, 1, 0, 0, 1, 0, 1, 0, 0, 1, 0, 0, 1, 1,\n",
       "       0, 1, 1, 0, 1, 1, 1, 1, 0, 1, 1, 1, 1, 1, 1, 1, 1, 1, 0, 1, 1, 1, 1,\n",
       "       0, 0, 1, 0, 1, 1, 0, 0, 1, 1, 0, 0, 1, 1, 1, 1, 0, 1, 1, 0, 0, 0, 1,\n",
       "       0, 1, 0, 1, 1, 1, 0, 1, 1, 0, 0, 1, 0, 0, 0, 0, 1, 0, 0, 0, 1, 0, 1,\n",
       "       0, 1, 1, 0, 1, 0, 0, 0, 0, 1, 1, 0, 0, 1, 1, 1, 0, 1, 1, 1, 1, 1, 0,\n",
       "       0, 1, 1, 0, 1, 1, 0, 0, 1, 0, 1, 1, 1, 1, 0, 1, 1, 1, 1, 1, 0, 1, 0,\n",
       "       0, 0, 0, 0, 0, 0, 0, 0, 0, 0, 0, 0, 0, 1, 1, 1, 1, 1, 1, 0, 1, 0, 1,\n",
       "       1, 0, 1, 1, 0, 1, 0, 0, 1, 1, 1, 1, 1, 1, 1, 1, 1, 1, 1, 1, 1, 0, 1,\n",
       "       1, 0, 1, 0, 1, 1, 1, 1, 1, 1, 1, 1, 1, 1, 1, 1, 1, 1, 0, 1, 1, 1, 0,\n",
       "       1, 0, 1, 1, 1, 1, 0, 0, 0, 1, 1, 1, 1, 0, 1, 0, 1, 0, 1, 1, 1, 0, 1,\n",
       "       1, 1, 1, 1, 1, 1, 0, 0, 0, 1, 1, 1, 1, 1, 1, 1, 1, 1, 1, 1, 0, 0, 1,\n",
       "       0, 0, 0, 1, 0, 0, 1, 1, 1, 1, 1, 0, 1, 1, 1, 1, 1, 0, 1, 1, 1, 0, 1,\n",
       "       1, 0, 0, 1, 1, 1, 1, 1, 1, 0, 1, 1, 1, 1, 1, 1, 1, 0, 1, 1, 1, 1, 1,\n",
       "       0, 1, 1, 0, 1, 1, 1, 1, 1, 1, 1, 1, 1, 1, 1, 1, 0, 1, 0, 0, 1, 0, 1,\n",
       "       1, 1, 1, 1, 0, 1, 1, 0, 1, 0, 1, 1, 0, 1, 0, 1, 1, 1, 1, 1, 1, 1, 1,\n",
       "       0, 0, 1, 1, 1, 1, 1, 1, 0, 1, 1, 1, 1, 1, 1, 1, 1, 1, 1, 0, 1, 1, 1,\n",
       "       1, 1, 1, 1, 0, 1, 0, 1, 1, 0, 1, 1, 1, 1, 1, 0, 0, 1, 0, 1, 0, 1, 1,\n",
       "       1, 1, 1, 0, 1, 1, 0, 1, 0, 1, 0, 0, 1, 1, 1, 0, 1, 1, 1, 1, 1, 1, 1,\n",
       "       1, 1, 1, 1, 0, 1, 0, 0, 1, 1, 1, 1, 1, 1, 1, 1, 1, 1, 1, 1, 1, 1, 1,\n",
       "       1, 1, 1, 1, 1, 1, 1, 1, 1, 1, 0, 0, 0, 0, 0, 0, 1])"
      ]
     },
     "execution_count": 9,
     "metadata": {},
     "output_type": "execute_result"
    }
   ],
   "source": [
    "cancer.target"
   ]
  },
  {
   "cell_type": "code",
   "execution_count": 17,
   "metadata": {
    "collapsed": true
   },
   "outputs": [],
   "source": [
    "x_train, x_test, y_train, y_test = train_test_split(cancer.data, cancer.target, test_size = 0.2, random_state = 0)"
   ]
  },
  {
   "cell_type": "code",
   "execution_count": 18,
   "metadata": {},
   "outputs": [
    {
     "data": {
      "text/plain": [
       "KNeighborsClassifier(algorithm='auto', leaf_size=30, metric='minkowski',\n",
       "           metric_params=None, n_jobs=1, n_neighbors=5, p=2,\n",
       "           weights='uniform')"
      ]
     },
     "execution_count": 18,
     "metadata": {},
     "output_type": "execute_result"
    }
   ],
   "source": [
    "clf = KNeighborsClassifier()\n",
    "clf.fit(x_train, y_train)"
   ]
  },
  {
   "cell_type": "code",
   "execution_count": 19,
   "metadata": {},
   "outputs": [
    {
     "data": {
      "text/plain": [
       "0.93859649122807021"
      ]
     },
     "execution_count": 19,
     "metadata": {},
     "output_type": "execute_result"
    }
   ],
   "source": [
    "clf.score(x_test, y_test)"
   ]
  },
  {
   "cell_type": "markdown",
   "metadata": {},
   "source": [
    "Default value of K (number of neighbors) is equal to 5 in Sklearn. By default, Sklearn implements <b>Minkowski</b> distance metric. General form of Minkowski distance is :"
   ]
  },
  {
   "cell_type": "markdown",
   "metadata": {},
   "source": [
    "\\begin{equation*}\n",
    "\\textbf{MINKOWSKI DISTANCE} = \\left| \\sum_{i=1}^n X_1 ^ i - X_2 ^ i \\right| ^ p\n",
    "\\end{equation*}"
   ]
  },
  {
   "cell_type": "markdown",
   "metadata": {},
   "source": [
    "If p = 1, that means we are using Manhattan Distance and if p = 2, that means we are using Euclidian Distance."
   ]
  },
  {
   "cell_type": "markdown",
   "metadata": {},
   "source": [
    "### Cross Validation"
   ]
  },
  {
   "cell_type": "markdown",
   "metadata": {},
   "source": [
    "The best value of K is the one for which we get lowest error on testing data. So, what we can do is to repeatedly train our model using both training and testing data, for different values of parameter K and then finally choose value of K which results in minimum error. But in this process, we are using the testing data as a part of our training process to obtain the optimal value of K. Hence, this process is not to be used. On the other hand if we use only training data and tune the value of parameter K, it will lead to overfitting. This will result in lower value of error on training data, but comparatively higher value of error on the testing data.\n",
    "\n",
    "So, to obtain the optimal value of K, we use a method known as CROSS VALIDATION. Cross Validation basically means taking out the subset from the training data and not using this subset in the training process. This subset of training data is called the 'validation set'. There are various techniques available for cross validation, we will be using the most general one, known as <b>K-fold cross validation</b>."
   ]
  },
  {
   "cell_type": "markdown",
   "metadata": {},
   "source": [
    "![title](knn_crossval.png)"
   ]
  },
  {
   "cell_type": "markdown",
   "metadata": {},
   "source": [
    "In K fold cross validation, the training data is randomly split into K different samples(or folds). One of the sample is taken to be the validation set and the model is fitted on the remaining K-1 samples. The accuracy of the model is then computed. The same process is repeated K times, each time taking a different sample of points to be in the validation set. This results in K value for test error and these values are averaged out to obtain the overall result.\n",
    "\n",
    "Cross Validation is used to estimate the test error and generate more robust models."
   ]
  },
  {
   "cell_type": "markdown",
   "metadata": {},
   "source": [
    "### Cross Validation in Sklearn"
   ]
  },
  {
   "cell_type": "code",
   "execution_count": 31,
   "metadata": {},
   "outputs": [
    {
     "name": "stdout",
     "output_type": "stream",
     "text": [
      "K =  1\n",
      "Scores : \n",
      "[ 0.93478261  0.95652174  0.91304348  0.84782609  0.86956522  0.93333333\n",
      "  0.97777778  0.91111111  0.93333333  0.93333333]\n",
      "Mean Score =  0.921062801932\n",
      "\n",
      "K =  3\n",
      "Scores : \n",
      "[ 0.91304348  0.95652174  0.86956522  0.93478261  0.89130435  0.95555556\n",
      "  0.95555556  0.88888889  0.95555556  0.95555556]\n",
      "Mean Score =  0.927632850242\n",
      "\n",
      "K =  5\n",
      "Scores : \n",
      "[ 0.95652174  0.97826087  0.86956522  0.91304348  0.91304348  0.93333333\n",
      "  0.97777778  0.86666667  0.95555556  0.91111111]\n",
      "Mean Score =  0.927487922705\n",
      "\n",
      "K =  7\n",
      "Scores : \n",
      "[ 0.95652174  0.95652174  0.89130435  0.91304348  0.89130435  0.97777778\n",
      "  0.97777778  0.86666667  0.95555556  0.93333333]\n",
      "Mean Score =  0.931980676329\n",
      "\n",
      "K =  9\n",
      "Scores : \n",
      "[ 0.95652174  0.95652174  0.89130435  0.91304348  0.86956522  0.97777778\n",
      "  0.97777778  0.86666667  0.95555556  0.95555556]\n",
      "Mean Score =  0.932028985507\n",
      "\n",
      "K =  11\n",
      "Scores : \n",
      "[ 0.95652174  0.95652174  0.91304348  0.91304348  0.89130435  0.97777778\n",
      "  0.97777778  0.86666667  0.93333333  0.93333333]\n",
      "Mean Score =  0.93193236715\n",
      "\n",
      "K =  13\n",
      "Scores : \n",
      "[ 0.95652174  0.95652174  0.89130435  0.91304348  0.89130435  0.97777778\n",
      "  0.97777778  0.86666667  0.95555556  0.93333333]\n",
      "Mean Score =  0.931980676329\n",
      "\n",
      "K =  15\n",
      "Scores : \n",
      "[ 0.95652174  0.93478261  0.86956522  0.91304348  0.89130435  0.97777778\n",
      "  0.97777778  0.88888889  0.93333333  0.91111111]\n",
      "Mean Score =  0.925410628019\n",
      "\n",
      "K =  17\n",
      "Scores : \n",
      "[ 0.95652174  0.93478261  0.86956522  0.93478261  0.89130435  0.97777778\n",
      "  0.97777778  0.88888889  0.93333333  0.91111111]\n",
      "Mean Score =  0.927584541063\n",
      "\n",
      "K =  19\n",
      "Scores : \n",
      "[ 0.95652174  0.93478261  0.86956522  0.91304348  0.86956522  0.97777778\n",
      "  0.97777778  0.88888889  0.93333333  0.91111111]\n",
      "Mean Score =  0.923236714976\n",
      "\n",
      "K =  21\n",
      "Scores : \n",
      "[ 0.95652174  0.93478261  0.86956522  0.91304348  0.86956522  0.97777778\n",
      "  0.97777778  0.86666667  0.93333333  0.91111111]\n",
      "Mean Score =  0.921014492754\n",
      "\n",
      "K =  23\n",
      "Scores : \n",
      "[ 0.95652174  0.93478261  0.86956522  0.91304348  0.86956522  0.97777778\n",
      "  0.97777778  0.84444444  0.93333333  0.91111111]\n",
      "Mean Score =  0.918792270531\n",
      "\n",
      "K =  25\n",
      "Scores : \n",
      "[ 0.95652174  0.93478261  0.86956522  0.91304348  0.84782609  0.97777778\n",
      "  0.97777778  0.84444444  0.93333333  0.91111111]\n",
      "Mean Score =  0.916618357488\n",
      "\n",
      "K =  27\n",
      "Scores : \n",
      "[ 0.95652174  0.93478261  0.89130435  0.91304348  0.84782609  0.95555556\n",
      "  0.97777778  0.84444444  0.93333333  0.91111111]\n",
      "Mean Score =  0.916570048309\n",
      "\n",
      "K =  29\n",
      "Scores : \n",
      "[ 0.95652174  0.93478261  0.89130435  0.91304348  0.84782609  0.95555556\n",
      "  0.97777778  0.84444444  0.93333333  0.91111111]\n",
      "Mean Score =  0.916570048309\n",
      "\n",
      "K =  31\n",
      "Scores : \n",
      "[ 0.93478261  0.93478261  0.89130435  0.91304348  0.84782609  0.95555556\n",
      "  0.97777778  0.84444444  0.93333333  0.91111111]\n",
      "Mean Score =  0.914396135266\n",
      "\n",
      "K =  33\n",
      "Scores : \n",
      "[ 0.93478261  0.93478261  0.89130435  0.91304348  0.84782609  0.95555556\n",
      "  0.97777778  0.84444444  0.93333333  0.91111111]\n",
      "Mean Score =  0.914396135266\n",
      "\n",
      "K =  35\n",
      "Scores : \n",
      "[ 0.95652174  0.93478261  0.89130435  0.91304348  0.84782609  0.95555556\n",
      "  0.97777778  0.86666667  0.93333333  0.91111111]\n",
      "Mean Score =  0.918792270531\n",
      "\n",
      "K =  37\n",
      "Scores : \n",
      "[ 0.93478261  0.93478261  0.91304348  0.91304348  0.84782609  0.95555556\n",
      "  0.95555556  0.84444444  0.93333333  0.91111111]\n",
      "Mean Score =  0.914347826087\n",
      "\n",
      "K =  39\n",
      "Scores : \n",
      "[ 0.93478261  0.93478261  0.89130435  0.89130435  0.84782609  0.95555556\n",
      "  0.95555556  0.86666667  0.93333333  0.91111111]\n",
      "Mean Score =  0.912222222222\n",
      "\n",
      "K =  41\n",
      "Scores : \n",
      "[ 0.93478261  0.91304348  0.91304348  0.86956522  0.86956522  0.95555556\n",
      "  0.95555556  0.86666667  0.93333333  0.91111111]\n",
      "Mean Score =  0.912222222222\n",
      "\n",
      "K =  43\n",
      "Scores : \n",
      "[ 0.93478261  0.91304348  0.91304348  0.86956522  0.84782609  0.95555556\n",
      "  0.95555556  0.86666667  0.93333333  0.91111111]\n",
      "Mean Score =  0.910048309179\n",
      "\n",
      "K =  45\n",
      "Scores : \n",
      "[ 0.91304348  0.91304348  0.91304348  0.86956522  0.84782609  0.95555556\n",
      "  0.95555556  0.86666667  0.93333333  0.91111111]\n",
      "Mean Score =  0.907874396135\n",
      "\n",
      "K =  47\n",
      "Scores : \n",
      "[ 0.91304348  0.91304348  0.93478261  0.89130435  0.84782609  0.95555556\n",
      "  0.95555556  0.86666667  0.93333333  0.91111111]\n",
      "Mean Score =  0.912222222222\n",
      "\n",
      "K =  49\n",
      "Scores : \n",
      "[ 0.91304348  0.93478261  0.93478261  0.89130435  0.84782609  0.95555556\n",
      "  0.95555556  0.86666667  0.93333333  0.91111111]\n",
      "Mean Score =  0.914396135266\n",
      "\n"
     ]
    }
   ],
   "source": [
    "x_axis = []\n",
    "k_scores = []\n",
    "for k in range(1,50, 2):\n",
    "    x_axis.append(k)\n",
    "    clf = KNeighborsClassifier(n_neighbors=k)\n",
    "    scores = cross_val_score(clf, x_train, y_train, cv=10, scoring='accuracy')\n",
    "    k_scores.append(scores.mean())\n",
    "    \n",
    "    #Printing values\n",
    "    print(\"K = \",k)\n",
    "    print(\"Scores : \")\n",
    "    print(scores)\n",
    "    print(\"Mean Score = \",scores.mean())\n",
    "    print()"
   ]
  },
  {
   "cell_type": "code",
   "execution_count": 29,
   "metadata": {
    "scrolled": true
   },
   "outputs": [
    {
     "data": {
      "image/png": "[encoded data removed]",
      "text/plain": [
       "<matplotlib.figure.Figure at 0x7f64064f1b38>"
      ]
     },
     "metadata": {},
     "output_type": "display_data"
    }
   ],
   "source": [
    "plt.plot(x_axis, k_scores)\n",
    "plt.show()"
   ]
  },
  {
   "cell_type": "code",
   "execution_count": 30,
   "metadata": {},
   "outputs": [
    {
     "data": {
      "text/plain": [
       "9"
      ]
     },
     "execution_count": 30,
     "metadata": {},
     "output_type": "execute_result"
    }
   ],
   "source": [
    "optimal_k = x_axis[k_scores.index(max(k_scores))]\n",
    "optimal_k"
   ]
  },
  {
   "cell_type": "markdown",
   "metadata": {},
   "source": [
    "By this way, we can choose the optimal value of K using cross validation. If the value of K is very less, for eg, say K=1, it will lead to overfitting and result in formation of complex decision boundaries. On the the hand, if the value of K is very high, we are basically underfitting and not actually taking class of neighbors into consideration. In this case, we predict the class of the testing sample from the majority class of the overall training data rather than from the majority class given by the neighbors."
   ]
  },
  {
   "cell_type": "markdown",
   "metadata": {},
   "source": [
    "Lower values of K corresponds to low bias but high variance and result in jagged and complex decision boundaries, while higher value of K corresponds to lower variance but increased bias and leads to formation of smoother decision boundaries.\n",
    "\n",
    "K = 1             |   K = 20\n",
    ":-------------------------:|:-------------------------:\n",
    "![](knn_dec1.png)  |  ![](knn_dec20.png)\n"
   ]
  },
  {
   "cell_type": "markdown",
   "metadata": {},
   "source": [
    "### Implement KNN"
   ]
  },
  {
   "cell_type": "code",
   "execution_count": 39,
   "metadata": {
    "collapsed": true
   },
   "outputs": [],
   "source": [
    "from sklearn import datasets\n",
    "from sklearn.neighbors import KNeighborsClassifier\n",
    "from sklearn.model_selection import train_test_split\n",
    "from collections import Counter\n",
    "from sklearn.metrics import accuracy_score"
   ]
  },
  {
   "cell_type": "code",
   "execution_count": 33,
   "metadata": {
    "collapsed": true
   },
   "outputs": [],
   "source": [
    "cancer = datasets.load_breast_cancer()"
   ]
  },
  {
   "cell_type": "code",
   "execution_count": 34,
   "metadata": {
    "collapsed": true
   },
   "outputs": [],
   "source": [
    "X_train, X_test, Y_train, Y_test = train_test_split(cancer.data, cancer.target, test_size = 0.2, random_state = 0)"
   ]
  },
  {
   "cell_type": "code",
   "execution_count": 35,
   "metadata": {},
   "outputs": [
    {
     "data": {
      "text/plain": [
       "KNeighborsClassifier(algorithm='auto', leaf_size=30, metric='minkowski',\n",
       "           metric_params=None, n_jobs=1, n_neighbors=7, p=2,\n",
       "           weights='uniform')"
      ]
     },
     "execution_count": 35,
     "metadata": {},
     "output_type": "execute_result"
    }
   ],
   "source": [
    "clf = KNeighborsClassifier(n_neighbors = 7)\n",
    "clf.fit(X_train, Y_train)"
   ]
  },
  {
   "cell_type": "code",
   "execution_count": 36,
   "metadata": {},
   "outputs": [
    {
     "data": {
      "text/plain": [
       "0.94736842105263153"
      ]
     },
     "execution_count": 36,
     "metadata": {},
     "output_type": "execute_result"
    }
   ],
   "source": [
    "clf.score(X_test,Y_test)"
   ]
  },
  {
   "cell_type": "code",
   "execution_count": 37,
   "metadata": {
    "collapsed": true
   },
   "outputs": [],
   "source": [
    "def train(x,y):\n",
    "    return\n",
    "\n",
    "def predict_one(x_train, y_train, x_test, k):\n",
    "    distances = []\n",
    "    for i in range(len(x_train)):\n",
    "        distance = ((x_train[i,:] - x_test)**2).sum()\n",
    "        distances.append([distance,i])\n",
    "    distances = sorted(distances)\n",
    "    targets = []\n",
    "    for i in range(k):\n",
    "        index_of_training_data = distances[i][1]\n",
    "        targets.append(y_train[index_of_training_data])\n",
    "    return Counter(targets).most_common(1)[0][0]\n",
    "    \n",
    "def predict(x_train, y_train, x_test_data, k):\n",
    "    predictions = []\n",
    "    for x_test in x_test_data:\n",
    "        predictions.append(predict_one(x_train, y_train, x_test, k))\n",
    "    return predictions"
   ]
  },
  {
   "cell_type": "code",
   "execution_count": 40,
   "metadata": {},
   "outputs": [
    {
     "data": {
      "text/plain": [
       "0.94736842105263153"
      ]
     },
     "execution_count": 40,
     "metadata": {},
     "output_type": "execute_result"
    }
   ],
   "source": [
    "y_pred = predict(X_train, Y_train, X_test, 7)\n",
    "accuracy_score(Y_test, y_pred)"
   ]
  },
  {
   "cell_type": "markdown",
   "metadata": {},
   "source": [
    "### Curse of Dimensionality\n",
    "\n",
    "In case of KNN, if our data has more irrelevant features, then it will lead to bad results. Also, if we have two correlated features, then both of these take part in the calculations and net effect due to addition of these becomes double, and we might up getting wrong results.\n",
    "\n",
    "We can do following things to solve this problem :\n",
    "\n",
    "1.<b>Assign weights to features</b>\n",
    "\n",
    "\\begin{equation*}\n",
    " \\sum_{i=1}^n W_i \\times \\left( X_1 ^ i - X_2 ^ i \\right) ^ 2\n",
    "\\end{equation*}\n",
    "\n",
    "This can be used as the distance metric, to calculate distance between X<sub>1</sub> and X<sub>2</sub>, where W<sub>i</sub> is the weight assigned to the ith feature. These weights can be choosen randomly or can be calculated using Gradient Descent and deciding upon the cost function which is to be minimised and hence, obtain these weights.\n",
    "\n",
    "This proves to be benificial in the cases where two features are highly correlated, in that case either both these features are going to get high weights or one is going to get high weight and other is going to get the lower weight. And, therefore, we can obtain better results using this technique. \n",
    "\n",
    "2.<b>Feature Selection</b>\n",
    "\n",
    "We will apply feature selection before using KNN Classifier. <b>Backward Elimination</b> is the technique used doing feature selection, using which we will keep few features and get rid of other features from all the features intially in the dataset. In this technique, we will traverse over all the features and obtain the accuracy score by keeping this feature and next time, by removing this feature. If the accuracy of the model improves on removing this feature, then we will exclude this feature, otherwise we will keep this feature and likewise do the same thing for all the features."
   ]
  },
  {
   "cell_type": "markdown",
   "metadata": {},
   "source": [
    "### Prepare Data For KNN\n",
    "\n",
    "* ##### Rescale Data\n",
    "KNN performs much better if data points have the same scale. Its a good practice to normalize data in [0,1] or according to Gaussian Distribution to obtain good results.\n",
    "\n",
    "* ##### Fill Missing Data Values\n",
    "Missing data implies that for those points distance cannot be calculated, therefore these data points could be ignored or filled with some value to compute distance.\n",
    "\n",
    "* ##### Lower Dimensionality\n",
    "KNN works pretty well for lower dimension data. Therefore, any of the above mentioned techniques can be used to lower the dimensionality of data before applying KNN."
   ]
  },
  {
   "cell_type": "markdown",
   "metadata": {},
   "source": [
    "In case of labelled data, if the data is in Binary Values i.e. having one two possible values, say Yes/No or A/B, then the values are simply replaced by 0/1.\n",
    "\n",
    "If the labels are in some natural order, say we have Low/Mid/High, then we can simply assign values such as :<br/>\n",
    "Low  - 0 <br/>\n",
    "Mid  - 1 <br/>\n",
    "High - 2 <br/>\n",
    "\n",
    "Now lets suppose we have three possible data values, say Red, Blue and Green. In this case, if we assign values such as : <br/>\n",
    "Red   - 0 <br/>\n",
    "Blue  - 1 <br/>\n",
    "Green - 2 <br/>\n",
    "\n",
    "This means that the two data points having colors Red and Blue ( \\sqrt{(1-0)^2} = 1 ) are closer to each other as compared to other two data points having colors Red and Green ( \\sqrt{(2-0)^2} = 2 ). And this makes no sense, to assign values like this for such type of labelled data. \n",
    "To handle this problem, we use ONE HOT ENCODING, in which we convert these values into binary data, with number of columns equal to number of different labels in the data. Like in this case, we make three different columns, for Red, BLue and Green, each of these will now have values either 0 or 1."
   ]
  },
  {
   "cell_type": "markdown",
   "metadata": {},
   "source": [
    "### Other Algorithms for KNN"
   ]
  },
  {
   "cell_type": "markdown",
   "metadata": {},
   "source": [
    "KDTree and BallTree can be used to improve the performance the model. The basic intuition behind these is to build something like Binary Search Tree using the training data and then for the testing data traverse through the whole tree and on reaching the leaf node, obtain the K Nearest Neighbors from all the nodes traversed by the testing sample point. For more details about these algorithms, refer to the documentation link http://scikit-learn.org/stable/modules/generated/sklearn.neighbors.KNeighborsClassifier.html.\n",
    "\n",
    "KDTree, BallTree, brute force method and other algorithms can be used depending upon the data. Applying various of these methods, we can see the results and compare their performance with different algorithms."
   ]
  },
  {
   "cell_type": "markdown",
   "metadata": {},
   "source": [
    "### PROS and CONS of KNN"
   ]
  },
  {
   "cell_type": "markdown",
   "metadata": {},
   "source": [
    "#### PROS :\n",
    "\n",
    "* Easy to understand and code.\n",
    "* Works well for multi-class classification.\n",
    "* Insensitive to outliers for optimal choice for value of K, but accuracy can be affected from noise and irrelevant features.\n",
    "* Versatile i.e. can work for both classification and regression.\n",
    "\n",
    "#### CONS :\n",
    "* Computationally expensive, because the algorithm stores all the training data\n",
    "* Testing time is huge.\n",
    "* Sensitive to irrelevant features and scaling.\n",
    "* If training data split is biased i.e. majority of data points belong to particular class, then KNN also gets biased."
   ]
  },
  {
   "cell_type": "code",
   "execution_count": null,
   "metadata": {
    "collapsed": true
   },
   "outputs": [],
   "source": []
  },
  {
   "cell_type": "code",
   "execution_count": null,
   "metadata": {
    "collapsed": true
   },
   "outputs": [],
   "source": []
  },
  {
   "cell_type": "code",
   "execution_count": null,
   "metadata": {
    "collapsed": true
   },
   "outputs": [],
   "source": []
  },
  {
   "cell_type": "code",
   "execution_count": null,
   "metadata": {
    "collapsed": true
   },
   "outputs": [],
   "source": []
  },
  {
   "cell_type": "code",
   "execution_count": null,
   "metadata": {
    "collapsed": true
   },
   "outputs": [],
   "source": []
  },
  {
   "cell_type": "code",
   "execution_count": null,
   "metadata": {
    "collapsed": true
   },
   "outputs": [],
   "source": []
  },
  {
   "cell_type": "code",
   "execution_count": null,
   "metadata": {
    "collapsed": true
   },
   "outputs": [],
   "source": []
  },
  {
   "cell_type": "code",
   "execution_count": null,
   "metadata": {
    "collapsed": true
   },
   "outputs": [],
   "source": []
  },
  {
   "cell_type": "code",
   "execution_count": null,
   "metadata": {
    "collapsed": true
   },
   "outputs": [],
   "source": []
  },
  {
   "cell_type": "code",
   "execution_count": null,
   "metadata": {
    "collapsed": true
   },
   "outputs": [],
   "source": []
  },
  {
   "cell_type": "code",
   "execution_count": null,
   "metadata": {
    "collapsed": true
   },
   "outputs": [],
   "source": []
  }
 ],
 "metadata": {
  "kernelspec": {
   "display_name": "Python 3",
   "language": "python",
   "name": "python3"
  },
  "language_info": {
   "codemirror_mode": {
    "name": "ipython",
    "version": 3
   },
   "file_extension": ".py",
   "mimetype": "text/x-python",
   "name": "python",
   "nbconvert_exporter": "python",
   "pygments_lexer": "ipython3",
   "version": "3.6.3"
  }
 },
 "nbformat": 4,
 "nbformat_minor": 2
}
