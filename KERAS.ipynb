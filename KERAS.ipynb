{
 "cells": [
  {
   "cell_type": "code",
   "execution_count": 1,
   "metadata": {},
   "outputs": [],
   "source": [
    "from keras.models import Sequential\n",
    "from keras.layers import Dense"
   ]
  },
  {
   "cell_type": "code",
   "execution_count": 2,
   "metadata": {},
   "outputs": [],
   "source": [
    "# create model\n",
    "model = Sequential()"
   ]
  },
  {
   "cell_type": "code",
   "execution_count": 13,
   "metadata": {},
   "outputs": [
    {
     "data": {
      "text/plain": [
       "(426, 30)"
      ]
     },
     "execution_count": 13,
     "metadata": {},
     "output_type": "execute_result"
    }
   ],
   "source": [
    "x_train.shape"
   ]
  },
  {
   "cell_type": "raw",
   "metadata": {},
   "source": [
    "layer1 = Dense(units = 32, activation='relu',input_dim = 30)\n",
    "model.add(layer1)\n",
    "model.add(Dense(units = 16, activation='relu'))\n",
    "model.add(Dense(units = 1, activation = 'sigmoid'))"
   ]
  },
  {
   "cell_type": "code",
   "execution_count": 6,
   "metadata": {},
   "outputs": [],
   "source": [
    "model.compile(optimizer=\"adam\",loss=\"binary_crossentropy\",metrics=[\"accuracy\"])"
   ]
  },
  {
   "cell_type": "markdown",
   "metadata": {},
   "source": [
    "#### Choosing the correct accuracy function is important for the compile function because:\n",
    "\n",
    "#### IT WILL DEFINE WHAT IS PRINTED DURING FIT AND EVALUATION CALLS"
   ]
  },
  {
   "cell_type": "code",
   "execution_count": 7,
   "metadata": {},
   "outputs": [],
   "source": [
    "from sklearn import datasets\n",
    "from sklearn.model_selection import train_test_split\n",
    "from sklearn.preprocessing import StandardScaler\n",
    "\n",
    "data = datasets.load_breast_cancer()\n",
    "x_train,x_test,y_train,y_test =train_test_split(data.data,data.target)\n",
    "\n",
    "fs = StandardScaler()\n",
    "x_train = fs.fit_transform(x_train)\n",
    "x_test = fs.transform(x_test)"
   ]
  },
  {
   "cell_type": "code",
   "execution_count": 8,
   "metadata": {},
   "outputs": [
    {
     "name": "stdout",
     "output_type": "stream",
     "text": [
      "Epoch 1/20\n",
      "9/9 [==============================] - 0s 29ms/step - loss: 0.4643 - accuracy: 0.8803 - val_loss: 0.3605 - val_accuracy: 0.9371\n",
      "Epoch 2/20\n",
      "9/9 [==============================] - 0s 3ms/step - loss: 0.3549 - accuracy: 0.9202 - val_loss: 0.2794 - val_accuracy: 0.9650\n",
      "Epoch 3/20\n",
      "9/9 [==============================] - 0s 3ms/step - loss: 0.2876 - accuracy: 0.9319 - val_loss: 0.2242 - val_accuracy: 0.9720\n",
      "Epoch 4/20\n",
      "9/9 [==============================] - 0s 4ms/step - loss: 0.2407 - accuracy: 0.9413 - val_loss: 0.1822 - val_accuracy: 0.9720\n",
      "Epoch 5/20\n",
      "9/9 [==============================] - 0s 3ms/step - loss: 0.2051 - accuracy: 0.9507 - val_loss: 0.1498 - val_accuracy: 0.9720\n",
      "Epoch 6/20\n",
      "9/9 [==============================] - 0s 3ms/step - loss: 0.1774 - accuracy: 0.9554 - val_loss: 0.1259 - val_accuracy: 0.9720\n",
      "Epoch 7/20\n",
      "9/9 [==============================] - 0s 4ms/step - loss: 0.1561 - accuracy: 0.9601 - val_loss: 0.1082 - val_accuracy: 0.9720\n",
      "Epoch 8/20\n",
      "9/9 [==============================] - 0s 6ms/step - loss: 0.1398 - accuracy: 0.9671 - val_loss: 0.0947 - val_accuracy: 0.9790\n",
      "Epoch 9/20\n",
      "9/9 [==============================] - 0s 4ms/step - loss: 0.1269 - accuracy: 0.9695 - val_loss: 0.0846 - val_accuracy: 0.9860\n",
      "Epoch 10/20\n",
      "9/9 [==============================] - 0s 4ms/step - loss: 0.1163 - accuracy: 0.9695 - val_loss: 0.0765 - val_accuracy: 0.9860\n",
      "Epoch 11/20\n",
      "9/9 [==============================] - 0s 3ms/step - loss: 0.1081 - accuracy: 0.9718 - val_loss: 0.0708 - val_accuracy: 0.9860\n",
      "Epoch 12/20\n",
      "9/9 [==============================] - 0s 3ms/step - loss: 0.1010 - accuracy: 0.9718 - val_loss: 0.0648 - val_accuracy: 0.9860\n",
      "Epoch 13/20\n",
      "9/9 [==============================] - 0s 5ms/step - loss: 0.0947 - accuracy: 0.9742 - val_loss: 0.0595 - val_accuracy: 0.9860\n",
      "Epoch 14/20\n",
      "9/9 [==============================] - 0s 6ms/step - loss: 0.0897 - accuracy: 0.9742 - val_loss: 0.0546 - val_accuracy: 0.9860\n",
      "Epoch 15/20\n",
      "9/9 [==============================] - 0s 6ms/step - loss: 0.0856 - accuracy: 0.9742 - val_loss: 0.0512 - val_accuracy: 0.9860\n",
      "Epoch 16/20\n",
      "9/9 [==============================] - 0s 8ms/step - loss: 0.0815 - accuracy: 0.9742 - val_loss: 0.0485 - val_accuracy: 0.9860\n",
      "Epoch 17/20\n",
      "9/9 [==============================] - 0s 8ms/step - loss: 0.0784 - accuracy: 0.9765 - val_loss: 0.0464 - val_accuracy: 0.9930\n",
      "Epoch 18/20\n",
      "9/9 [==============================] - 0s 8ms/step - loss: 0.0753 - accuracy: 0.9789 - val_loss: 0.0441 - val_accuracy: 0.9930\n",
      "Epoch 19/20\n",
      "9/9 [==============================] - 0s 7ms/step - loss: 0.0726 - accuracy: 0.9812 - val_loss: 0.0420 - val_accuracy: 0.9930\n",
      "Epoch 20/20\n",
      "9/9 [==============================] - 0s 8ms/step - loss: 0.0703 - accuracy: 0.9836 - val_loss: 0.0401 - val_accuracy: 0.9930\n"
     ]
    },
    {
     "data": {
      "text/plain": [
       "<tensorflow.python.keras.callbacks.History at 0x1c93f1f4390>"
      ]
     },
     "execution_count": 8,
     "metadata": {},
     "output_type": "execute_result"
    }
   ],
   "source": [
    "model.fit(x_train, y_train, epochs=20, batch_size = 50, validation_data=(x_test,y_test))"
   ]
  },
  {
   "cell_type": "code",
   "execution_count": 10,
   "metadata": {},
   "outputs": [
    {
     "name": "stdout",
     "output_type": "stream",
     "text": [
      "5/5 [==============================] - 0s 997us/step - loss: 0.0401 - accuracy: 0.9930\n"
     ]
    },
    {
     "data": {
      "text/plain": [
       "[0.04008585214614868, 0.9930070042610168]"
      ]
     },
     "execution_count": 10,
     "metadata": {},
     "output_type": "execute_result"
    }
   ],
   "source": [
    "predictions = model.predict(x_test)\n",
    "model.evaluate(x_test,y_test)"
   ]
  },
  {
   "cell_type": "code",
   "execution_count": 11,
   "metadata": {},
   "outputs": [
    {
     "data": {
      "text/plain": [
       "array([1, 1, 0, 1, 1, 0, 1, 0, 1, 1, 1, 0, 0, 1, 1, 1, 0, 0, 1, 1, 1, 0,\n",
       "       0, 0, 1, 1, 0, 1, 0, 1, 1, 0, 1, 1, 1, 0, 1, 1, 0, 1, 1, 1, 0, 0,\n",
       "       1, 1, 0, 1, 0, 1, 0, 1, 1, 1, 0, 1, 0, 0, 0, 1, 1, 1, 1, 0, 1, 0,\n",
       "       1, 1, 1, 1, 1, 1, 1, 1, 1, 1, 1, 1, 1, 1, 1, 0, 0, 1, 0, 1, 0, 1,\n",
       "       0, 1, 0, 1, 1, 0, 0, 0, 1, 0, 1, 1, 1, 1, 1, 0, 0, 0, 0, 1, 1, 1,\n",
       "       1, 1, 1, 1, 1, 1, 1, 1, 1, 0, 0, 0, 1, 0, 1, 0, 1, 0, 1, 0, 1, 1,\n",
       "       1, 1, 1, 0, 1, 1, 1, 1, 0, 1, 0])"
      ]
     },
     "execution_count": 11,
     "metadata": {},
     "output_type": "execute_result"
    }
   ],
   "source": [
    "y_test"
   ]
  }
 ],
 "metadata": {
  "kernelspec": {
   "display_name": "Python 3",
   "language": "python",
   "name": "python3"
  },
  "language_info": {
   "codemirror_mode": {
    "name": "ipython",
    "version": 3
   },
   "file_extension": ".py",
   "mimetype": "text/x-python",
   "name": "python",
   "nbconvert_exporter": "python",
   "pygments_lexer": "ipython3",
   "version": "3.7.3"
  }
 },
 "nbformat": 4,
 "nbformat_minor": 2
}
