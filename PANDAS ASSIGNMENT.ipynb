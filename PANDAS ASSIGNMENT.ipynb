{
 "cells": [
  {
   "cell_type": "markdown",
   "metadata": {},
   "source": [
    "### TERROR ATTACK CITY"
   ]
  },
  {
   "cell_type": "code",
   "execution_count": 58,
   "metadata": {},
   "outputs": [
    {
     "name": "stdout",
     "output_type": "stream",
     "text": [
      "Srinagar 657 Muslim Separatists\n"
     ]
    }
   ],
   "source": [
    "import csv \n",
    "import numpy as sj\n",
    "with open(\"C:\\\\Users\\\\jhasa\\\\Desktop\\\\terrorismData.csv\",encoding=\"utf8\") as file_obj:\n",
    "    file_data=csv.DictReader(file_obj,skipinitialspace=True)    \n",
    "    city=[]    \n",
    "    attack=[] \n",
    "    for row in file_data:\n",
    "        if row['State']=='Jammu and Kashmir':\n",
    "            city.append(row['City'])  \n",
    "            attack.append(row['Group'])\n",
    "    city=sj.array(city)\n",
    "    attack=sj.array(attack)\n",
    "    a,count=sj.unique(city,return_counts=True)        \n",
    "    x=count.argmax()\n",
    "    dangerous=a[x] \n",
    "    no_of_attack=count[x]\n",
    "    group=attack[city==dangerous]   \n",
    "    group=group[group!='Unknown']\n",
    "    b,count=sj.unique(group,return_counts=True)    \n",
    "    x=count.argmax()\n",
    "    print(dangerous,no_of_attack,b[x])    "
   ]
  },
  {
   "cell_type": "code",
   "execution_count": 61,
   "metadata": {},
   "outputs": [
    {
     "name": "stdout",
     "output_type": "stream",
     "text": [
      "Srinagar 657 Muslim Separatists\n"
     ]
    }
   ],
   "source": [
    "import pandas as pd\n",
    "df=pd.read_csv(\"C:\\\\Users\\\\jhasa\\\\Desktop\\\\terrorismData.csv\",encoding=\"utf8\")\n",
    "df=df[df.State=='Jammu and Kashmir']\n",
    "a=df.City.value_counts()\n",
    "cty=a.index[0]\n",
    "no_of_attack=a.values[0]\n",
    "b=df[df.City==cty]\n",
    "b=b[b.Group!='Unknown']\n",
    "c=b.Group.value_counts()\n",
    "print(cty,no_of_attack,c.index[0])"
   ]
  },
  {
   "cell_type": "markdown",
   "metadata": {},
   "source": [
    "### TERROR ATTACK"
   ]
  },
  {
   "cell_type": "code",
   "execution_count": 67,
   "metadata": {},
   "outputs": [
    {
     "name": "stdout",
     "output_type": "stream",
     "text": [
      "Iraq 24636 2014\n"
     ]
    }
   ],
   "source": [
    "import csv \n",
    "import numpy as sj\n",
    "with open(\"C:\\\\Users\\\\jhasa\\\\Desktop\\\\terrorismData.csv\",encoding=\"utf8\") as file_obj:\n",
    "    file_data=csv.DictReader(file_obj,skipinitialspace=True)          \n",
    "    attack=[] \n",
    "    year=[]\n",
    "    for row in file_data:\n",
    "        if row['Country']!='Unknown':\n",
    "            attack.append(row['Country'])\n",
    "            year.append(row['Year'])\n",
    "    attack=sj.array(attack)\n",
    "    year=sj.array(year)\n",
    "    a,count=sj.unique(attack,return_counts=True)\n",
    "    x=count.argmax()\n",
    "    cntry=a[x]\n",
    "    no_of_attack=count[x]\n",
    "    year=year[attack==cntry]\n",
    "    b,count=sj.unique(year,return_counts=True)\n",
    "    x=count.argmax()\n",
    "    max_year=b[x]\n",
    "    print(cntry,no_of_attack,max_year)"
   ]
  },
  {
   "cell_type": "code",
   "execution_count": 80,
   "metadata": {},
   "outputs": [
    {
     "name": "stdout",
     "output_type": "stream",
     "text": [
      "Iraq 24636 2014\n"
     ]
    }
   ],
   "source": [
    "import pandas as pd\n",
    "df=pd.read_csv(\"C:\\\\Users\\\\jhasa\\\\Desktop\\\\terrorismData.csv\",encoding=\"utf8\")\n",
    "b=df.Country\n",
    "b=b.value_counts()\n",
    "cntry=b.index[0]\n",
    "no_of_attack=b.values[0]\n",
    "c=df.Year\n",
    "c=c[df.Country==cntry]\n",
    "c=c.value_counts()\n",
    "print(cntry,no_of_attack,c.index[0])"
   ]
  },
  {
   "cell_type": "markdown",
   "metadata": {},
   "source": [
    "### TERROR DEADLIEST ATTACK"
   ]
  },
  {
   "cell_type": "code",
   "execution_count": 139,
   "metadata": {},
   "outputs": [
    {
     "name": "stdout",
     "output_type": "stream",
     "text": [
      "1570 Iraq Islamic State of Iraq and the Levant (ISIL)\n"
     ]
    }
   ],
   "source": [
    "import pandas as pd\n",
    "df=pd.read_csv(\"C:\\\\Users\\\\jhasa\\\\Desktop\\\\terrorismData.csv\",encoding=\"utf8\")\n",
    "x=df.Killed.max()\n",
    "cntry=df.Country[df.Killed==x].values[0]\n",
    "grp=df.Group[df.Killed==x].values[0]\n",
    "print(int(x),cntry,grp)"
   ]
  },
  {
   "cell_type": "code",
   "execution_count": 124,
   "metadata": {},
   "outputs": [
    {
     "name": "stdout",
     "output_type": "stream",
     "text": [
      "1570 Iraq Islamic State of Iraq and the Levant (ISIL)\n"
     ]
    }
   ],
   "source": [
    "import csv \n",
    "import numpy as sj\n",
    "with open(\"C:\\\\Users\\\\jhasa\\\\Desktop\\\\terrorismData.csv\",encoding=\"utf8\") as file_obj:\n",
    "    file_data=csv.DictReader(file_obj,skipinitialspace=True)          \n",
    "    killed=[] \n",
    "    country=[]\n",
    "    group=[]\n",
    "    for row in file_data:\n",
    "        killed.append(row['Killed'])\n",
    "        country.append(row['Country'])\n",
    "        group.append(row['Group'])\n",
    "    killed=sj.array(killed) \n",
    "    killed[killed=='']='0.0'\n",
    "    killed=sj.array(killed,dtype=float)\n",
    "    x=killed.argmax()\n",
    "    print(int(killed.max()),country[x],group[x])\n",
    "    "
   ]
  },
  {
   "cell_type": "markdown",
   "metadata": {},
   "source": [
    "### TERROR GOVERNMENT"
   ]
  },
  {
   "cell_type": "code",
   "execution_count": 145,
   "metadata": {},
   "outputs": [
    {
     "name": "stdout",
     "output_type": "stream",
     "text": [
      "3336 Maoists\n"
     ]
    }
   ],
   "source": [
    "import csv \n",
    "import numpy as sj\n",
    "with open(\"C:\\\\Users\\\\jhasa\\\\Desktop\\\\terrorismData.csv\",encoding=\"utf8\") as file_obj:\n",
    "    file_data=csv.DictReader(file_obj,skipinitialspace=True)      \n",
    "    group=[]\n",
    "    total=0\n",
    "    for row in file_data:\n",
    "        if (row['Country']=='India') and ((int(row['Year'])>2014) or (int(row['Year'])==2014 and int(row['Month'])>=6) or ((int(row['Year'])==2014 and int(row['Month'])==5 and int(row['Day'])>=26))):\n",
    "            group.append(row['Group'])\n",
    "            total+=1\n",
    "    group=sj.array(group)\n",
    "    group=group[group!='Unknown']\n",
    "    key,value=sj.unique(group,return_counts=True)\n",
    "    x=value.argmax()\n",
    "    grp=key[x]\n",
    "    print(total,grp)"
   ]
  },
  {
   "cell_type": "code",
   "execution_count": 172,
   "metadata": {},
   "outputs": [
    {
     "name": "stdout",
     "output_type": "stream",
     "text": [
      "3336 Maoists\n"
     ]
    }
   ],
   "source": [
    "import pandas as pd\n",
    "df=pd.read_csv(\"C:\\\\Users\\\\jhasa\\\\Desktop\\\\terrorismData.csv\",encoding=\"utf8\")\n",
    "ind=df[df.Country=='India']\n",
    "ind1=ind[(ind.Year>2014) | ((ind.Year==2014) & (ind.Month>=6)) | ((ind.Year==2014) & (ind.Month==5) & (ind.Day>=26))]\n",
    "attack=ind1.Year.count()\n",
    "ind2=ind1[ind1.Group!='Unknown']\n",
    "group=ind2.Group.value_counts()\n",
    "print(attack,group.index[0])"
   ]
  },
  {
   "cell_type": "markdown",
   "metadata": {},
   "source": [
    "### TERROR FREQUENCY"
   ]
  },
  {
   "cell_type": "code",
   "execution_count": 206,
   "metadata": {},
   "outputs": [
    {
     "name": "stdout",
     "output_type": "stream",
     "text": [
      "115 261\n"
     ]
    }
   ],
   "source": [
    "import numpy as sj\n",
    "with open(\"C:\\\\Users\\\\jhasa\\\\Desktop\\\\terrorismData.csv\",encoding=\"utf8\") as file_obj:\n",
    "    file_data=csv.DictReader(file_obj,skipinitialspace=True)      \n",
    "    red_killed=[]\n",
    "    red_wounded=[]\n",
    "    jk_killed=[]\n",
    "    jk_wounded=[]\n",
    "    for row in file_data:\n",
    "        if ((row['State']=='Jharkhand') | (row['State']=='Odisha') | (row['State']=='Andhra Pradesh') | (row['State']=='Chhattisgarh')):\n",
    "            if row['Killed']!='' and row['Wounded']!='':\n",
    "                red_killed.append(row['Killed'])\n",
    "                red_wounded.append(row['Wounded'])\n",
    "        elif row['State']=='Jammu and Kashmir':\n",
    "            if row['Killed']!='' and row['Wounded']!='':\n",
    "                jk_killed.append(row['Killed'])\n",
    "                jk_wounded.append(row['Wounded'])\n",
    "    red_killed=sj.array(red_killed,dtype=float)\n",
    "    red_wounded=sj.array(red_wounded,dtype=float)\n",
    "    jk_killed=sj.array(jk_killed,dtype=float)\n",
    "    jk_wounded=sj.array(jk_wounded,dtype=float)\n",
    "    red_tc=red_killed.sum()+red_wounded.sum()\n",
    "    jk_tc=jk_killed.sum()+jk_wounded.sum()\n",
    "    print(int(red_tc/47),int(jk_tc/47))"
   ]
  },
  {
   "cell_type": "code",
   "execution_count": 246,
   "metadata": {},
   "outputs": [
    {
     "name": "stdout",
     "output_type": "stream",
     "text": [
      "115 261\n"
     ]
    }
   ],
   "source": [
    "import pandas as pd\n",
    "import numpy as np\n",
    "df=pd.read_csv(\"C:\\\\Users\\\\jhasa\\\\Desktop\\\\terrorismData.csv\",encoding=\"utf8\")\n",
    "df.dropna(subset=['Killed','Wounded'],inplace=True)\n",
    "ind=df[((df.State=='Jharkhand') | (df.State=='Odisha') | (df.State=='Andhra Pradesh') | (df.State=='Chhattisgarh'))]\n",
    "ind1=df[df.State=='Jammu and Kashmir']\n",
    "total_casuality=ind.Killed.sum()+ind.Wounded.sum()\n",
    "total_casuality1=ind1.Killed.sum()+ind1.Wounded.sum()\n",
    "total_freq=(total_casuality)/(47)\n",
    "total_freq1=(total_casuality1)/(47)\n",
    "print(int(total_freq),int(total_freq1))"
   ]
  }
 ],
 "metadata": {
  "kernelspec": {
   "display_name": "Python 3",
   "language": "python",
   "name": "python3"
  },
  "language_info": {
   "codemirror_mode": {
    "name": "ipython",
    "version": 3
   },
   "file_extension": ".py",
   "mimetype": "text/x-python",
   "name": "python",
   "nbconvert_exporter": "python",
   "pygments_lexer": "ipython3",
   "version": "3.7.3"
  }
 },
 "nbformat": 4,
 "nbformat_minor": 2
}
