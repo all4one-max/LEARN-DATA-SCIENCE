{
 "cells": [
  {
   "cell_type": "code",
   "execution_count": 1,
   "metadata": {},
   "outputs": [],
   "source": [
    "import tensorflow.compat.v1 as tf,numpy as np,pandas as pd\n",
    "import tensorflow as tf1\n",
    "import matplotlib.pyplot as plt\n",
    "from keras.utils import to_categorical\n",
    "from sklearn.utils import shuffle"
   ]
  },
  {
   "cell_type": "code",
   "execution_count": 2,
   "metadata": {},
   "outputs": [],
   "source": [
    "tf.disable_eager_execution() # need to disable eager in TF2.x"
   ]
  },
  {
   "cell_type": "markdown",
   "metadata": {},
   "source": [
    "### CONTANTS"
   ]
  },
  {
   "cell_type": "code",
   "execution_count": 3,
   "metadata": {},
   "outputs": [
    {
     "name": "stdout",
     "output_type": "stream",
     "text": [
      "5\n",
      "[[18]]\n"
     ]
    }
   ],
   "source": [
    "a = tf.constant(2)\n",
    "b = tf.constant(3)\n",
    "c = a + b\n",
    "sess = tf.Session() \n",
    "print(sess.run(c))\n",
    "\n",
    "a = tf.constant([[3,3]])\n",
    "b = tf.constant([[3], [3]])\n",
    "res = tf.matmul(a, b)\n",
    "print(sess.run(res))"
   ]
  },
  {
   "cell_type": "markdown",
   "metadata": {},
   "source": [
    "### SESSION"
   ]
  },
  {
   "cell_type": "code",
   "execution_count": 4,
   "metadata": {},
   "outputs": [
    {
     "name": "stdout",
     "output_type": "stream",
     "text": [
      "5\n"
     ]
    }
   ],
   "source": [
    "a = tf.constant(2)\n",
    "b = tf.constant(3)\n",
    "c = a + b\n",
    "with tf.Session()  as sess:\n",
    "    print(c.eval())"
   ]
  },
  {
   "cell_type": "markdown",
   "metadata": {},
   "source": [
    "### VARIABLES"
   ]
  },
  {
   "cell_type": "code",
   "execution_count": 5,
   "metadata": {},
   "outputs": [
    {
     "name": "stdout",
     "output_type": "stream",
     "text": [
      "300\n",
      "500\n",
      "700\n"
     ]
    }
   ],
   "source": [
    "var1 = tf.Variable(100)\n",
    "var2 = tf.Variable(200)\n",
    "sm = tf.add(var1, var2)\n",
    "sess = tf.Session() \n",
    "sess.run(tf.global_variables_initializer())\n",
    "print(sess.run(sm))\n",
    "\n",
    "assign = var1.assign(500)\n",
    "sess.run(assign)\n",
    "print(sess.run(var1))\n",
    "print(sess.run(sm))"
   ]
  },
  {
   "cell_type": "markdown",
   "metadata": {},
   "source": [
    "### PALCEHOLDERS"
   ]
  },
  {
   "cell_type": "code",
   "execution_count": 6,
   "metadata": {},
   "outputs": [
    {
     "data": {
      "text/plain": [
       "1000"
      ]
     },
     "execution_count": 6,
     "metadata": {},
     "output_type": "execute_result"
    }
   ],
   "source": [
    "x = tf.placeholder(dtype=tf.int32)\n",
    "y = tf.constant(200)\n",
    "z = x*y\n",
    "sess = tf.Session()\n",
    "sess.run(z,feed_dict={x:5})"
   ]
  },
  {
   "cell_type": "markdown",
   "metadata": {},
   "source": [
    "## MNIST DATA"
   ]
  },
  {
   "cell_type": "code",
   "execution_count": 28,
   "metadata": {},
   "outputs": [],
   "source": [
    "(x_train, y_train), (x_test, y_test) = tf.keras.datasets.mnist.load_data()"
   ]
  },
  {
   "cell_type": "code",
   "execution_count": 29,
   "metadata": {},
   "outputs": [],
   "source": [
    "x_train, y_train = shuffle(x_train, y_train)"
   ]
  },
  {
   "cell_type": "code",
   "execution_count": 30,
   "metadata": {},
   "outputs": [
    {
     "data": {
      "text/plain": [
       "((60000, 28, 28), (60000,))"
      ]
     },
     "execution_count": 30,
     "metadata": {},
     "output_type": "execute_result"
    }
   ],
   "source": [
    "x_train.shape, y_train.shape"
   ]
  },
  {
   "cell_type": "code",
   "execution_count": 31,
   "metadata": {},
   "outputs": [],
   "source": [
    "x_train = x_train.reshape((60000,784))\n",
    "x_test = x_test.reshape((10000,784))"
   ]
  },
  {
   "cell_type": "code",
   "execution_count": 32,
   "metadata": {},
   "outputs": [
    {
     "data": {
      "text/plain": [
       "((60000, 784), (60000,))"
      ]
     },
     "execution_count": 32,
     "metadata": {},
     "output_type": "execute_result"
    }
   ],
   "source": [
    "x_train.shape, y_train.shape"
   ]
  },
  {
   "cell_type": "code",
   "execution_count": 33,
   "metadata": {},
   "outputs": [
    {
     "data": {
      "text/plain": [
       "array([7, 5, 2, ..., 9, 0, 6], dtype=uint8)"
      ]
     },
     "execution_count": 33,
     "metadata": {},
     "output_type": "execute_result"
    }
   ],
   "source": [
    "y_train"
   ]
  },
  {
   "cell_type": "code",
   "execution_count": 34,
   "metadata": {},
   "outputs": [],
   "source": [
    "y_train = to_categorical(y_train)\n",
    "y_test = to_categorical(y_test)"
   ]
  },
  {
   "cell_type": "code",
   "execution_count": 35,
   "metadata": {},
   "outputs": [
    {
     "data": {
      "text/plain": [
       "array([[0., 0., 0., ..., 1., 0., 0.],\n",
       "       [0., 0., 0., ..., 0., 0., 0.],\n",
       "       [0., 0., 1., ..., 0., 0., 0.],\n",
       "       ...,\n",
       "       [0., 0., 0., ..., 0., 0., 1.],\n",
       "       [1., 0., 0., ..., 0., 0., 0.],\n",
       "       [0., 0., 0., ..., 0., 0., 0.]], dtype=float32)"
      ]
     },
     "execution_count": 35,
     "metadata": {},
     "output_type": "execute_result"
    }
   ],
   "source": [
    "y_train"
   ]
  },
  {
   "cell_type": "code",
   "execution_count": 36,
   "metadata": {},
   "outputs": [
    {
     "data": {
      "text/plain": [
       "((60000, 10), (10000, 10), (60000, 784), (10000, 784))"
      ]
     },
     "execution_count": 36,
     "metadata": {},
     "output_type": "execute_result"
    }
   ],
   "source": [
    "y_train.shape, y_test.shape, x_train.shape, x_test.shape"
   ]
  },
  {
   "cell_type": "code",
   "execution_count": 14,
   "metadata": {},
   "outputs": [
    {
     "data": {
      "image/png": "[encoded data removed]",
      "text/plain": [
       "<Figure size 432x288 with 1 Axes>"
      ]
     },
     "metadata": {
      "needs_background": "light"
     },
     "output_type": "display_data"
    }
   ],
   "source": [
    "first_image = x_train[0]\n",
    "first_image = first_image.reshape((28,28))\n",
    "plt.imshow(first_image)\n",
    "plt.show()"
   ]
  },
  {
   "cell_type": "code",
   "execution_count": 8,
   "metadata": {},
   "outputs": [
    {
     "data": {
      "text/plain": [
       "array([0., 0., 0., 0., 0., 1., 0., 0., 0., 0.], dtype=float32)"
      ]
     },
     "execution_count": 8,
     "metadata": {},
     "output_type": "execute_result"
    }
   ],
   "source": [
    "y_train[0]"
   ]
  },
  {
   "cell_type": "markdown",
   "metadata": {},
   "source": [
    "### INITIALIZING WEIGHTS AND BIASES"
   ]
  },
  {
   "cell_type": "code",
   "execution_count": 125,
   "metadata": {},
   "outputs": [],
   "source": [
    "# weights & biases\n",
    "n_input = 784\n",
    "n_hidden_1 = 256\n",
    "n_hidden_2 = 256\n",
    "n_classes = 10\n",
    "\n",
    "weights = {\n",
    "    'h1': tf.Variable(tf.random_normal([n_input, n_hidden_1])),\n",
    "    'h2': tf.Variable(tf.random_normal([n_hidden_1, n_hidden_2])),\n",
    "    'out': tf.Variable(tf.random_normal([n_hidden_2, n_classes]))\n",
    "}\n",
    "\n",
    "biases = {\n",
    "    'h1': tf.Variable(tf.random_normal([n_hidden_1])), # 256 x 1\n",
    "    'h2': tf.Variable(tf.random_normal([n_hidden_2])), # 256 x 1\n",
    "    'out': tf.Variable(tf.random_normal([n_classes]))  # 10 x 1\n",
    "}"
   ]
  },
  {
   "cell_type": "markdown",
   "metadata": {},
   "source": [
    "### FORWARD PROPAGATION"
   ]
  },
  {
   "cell_type": "code",
   "execution_count": 126,
   "metadata": {},
   "outputs": [],
   "source": [
    "def forward_propagation(x, weights, biases):\n",
    "    in_layer1 = tf.add(tf.matmul(x, weights[\"h1\"]), biases[\"h1\"])\n",
    "    out_layer1 = tf.nn.relu(in_layer1)\n",
    "    \n",
    "    in_layer2 = tf.add(tf.matmul(out_layer1, weights[\"h2\"]), biases[\"h2\"])\n",
    "    out_layer2 = tf.nn.relu(in_layer2)\n",
    "    \n",
    "    output = tf.add(tf.matmul(out_layer2, weights[\"out\"]), biases[\"out\"])\n",
    "    return output"
   ]
  },
  {
   "cell_type": "markdown",
   "metadata": {},
   "source": [
    "#### Will we be able to get equally good accuracy if we use identity activation functions on the inner layer?\n",
    "\n",
    "#### Explanation: Having identity activation function on all layers will lead to we learning linear decision boundary. In most problems that would lead to worse results."
   ]
  },
  {
   "cell_type": "markdown",
   "metadata": {},
   "source": [
    "### FINDING PREDICTIONS AND ACCURACY"
   ]
  },
  {
   "cell_type": "code",
   "execution_count": 127,
   "metadata": {},
   "outputs": [],
   "source": [
    "x = tf.placeholder(\"float\", [None, n_input])\n",
    "y =tf.placeholder(tf.int32, [None, n_classes])\n",
    "pred = forward_propagation(x, weights, biases)"
   ]
  },
  {
   "cell_type": "code",
   "execution_count": 128,
   "metadata": {},
   "outputs": [],
   "source": [
    "### COST FUNCTION\n",
    "cost = tf.reduce_mean(tf.nn.softmax_cross_entropy_with_logits_v2(logits=pred, labels = y))"
   ]
  },
  {
   "cell_type": "markdown",
   "metadata": {},
   "source": [
    "### RUNNING THE OPTIMISER"
   ]
  },
  {
   "cell_type": "code",
   "execution_count": 129,
   "metadata": {},
   "outputs": [],
   "source": [
    "optimizer = tf.train.AdamOptimizer(learning_rate=0.01)\n",
    "optimize = optimizer.minimize(cost)"
   ]
  },
  {
   "cell_type": "markdown",
   "metadata": {},
   "source": [
    "#### What does the minimize function of optimizer do? (Hint: Read documentation)\n",
    "\n",
    "####  Finds the derivative(slope) values & change the variable values as per the learning rate and the slopes once. "
   ]
  },
  {
   "cell_type": "code",
   "execution_count": 130,
   "metadata": {},
   "outputs": [],
   "source": [
    "sess = tf.Session()\n",
    "sess.run(tf.global_variables_initializer())"
   ]
  },
  {
   "cell_type": "markdown",
   "metadata": {},
   "source": [
    "#### What’s the benefit of calling optimize in multiple batches?\n",
    "\n",
    "#### IT WILL BE FASTER TO REACH THE RESULTS"
   ]
  },
  {
   "cell_type": "code",
   "execution_count": 131,
   "metadata": {
    "scrolled": true
   },
   "outputs": [
    {
     "name": "stdout",
     "output_type": "stream",
     "text": [
      "7460249.399963379\n",
      "1338902.1303873062\n",
      "837340.8159942627\n",
      "590613.2847845554\n",
      "463186.52991495474\n",
      "424620.60515880585\n",
      "341352.3830051422\n",
      "271370.85458886623\n",
      "277190.51928474824\n",
      "200193.9238462746\n",
      "177283.0398529882\n",
      "167401.4484938681\n",
      "139077.30119117972\n",
      "135580.46180862188\n",
      "112075.75589960814\n",
      "94078.788046211\n",
      "96152.73017241895\n",
      "71673.83643437922\n",
      "72607.55382726432\n",
      "60185.57639741042\n",
      "39465.94712445399\n",
      "12723.120712980628\n",
      "3932.743468493223\n",
      "2938.1653913259506\n",
      "1622.644329071045\n",
      "2053.915796637535\n",
      "1729.1342967748642\n",
      "1441.9788539409637\n",
      "1357.990369439125\n",
      "1959.5809180736542\n",
      "1444.7945783138275\n",
      "1364.7637566328049\n",
      "1381.4932523965836\n",
      "1332.9645023345947\n",
      "1355.347938299179\n",
      "1359.6824221611023\n",
      "1366.1786994934082\n",
      "1361.1417593955994\n",
      "1357.3974204063416\n",
      "1348.493085861206\n",
      "1342.2631480693817\n",
      "1338.4215450286865\n",
      "1382.9546835422516\n",
      "1372.4376628398895\n",
      "1372.7065482139587\n",
      "1372.6264922618866\n",
      "1372.6754004955292\n",
      "1373.2201027870178\n",
      "1373.0022356510162\n",
      "1373.331169128418\n",
      "1372.6333966255188\n",
      "1372.9834568500519\n",
      "1373.7583813667297\n",
      "1372.8535850048065\n",
      "1372.756308555603\n",
      "1372.2786536216736\n",
      "1372.9289076328278\n",
      "1372.8981893062592\n",
      "1373.5241940021515\n",
      "1373.416662454605\n",
      "1373.509031534195\n",
      "1372.687002658844\n",
      "1373.1373603343964\n",
      "1372.1710238456726\n",
      "1372.4491097927094\n",
      "1372.8261318206787\n",
      "1373.243808746338\n",
      "1372.8457567691803\n",
      "1372.1983978748322\n",
      "1372.945240497589\n",
      "1372.1273775100708\n",
      "1372.5897288322449\n",
      "1373.4626705646515\n",
      "1373.1393449306488\n",
      "1372.8343439102173\n",
      "1373.719010591507\n",
      "1372.406226158142\n",
      "1372.4610166549683\n",
      "1372.0859229564667\n",
      "1373.0266785621643\n",
      "1372.695885181427\n",
      "1372.1615862846375\n",
      "1705.6457741260529\n",
      "1618.880130290985\n",
      "1378.0806393623352\n",
      "1378.0386888980865\n",
      "1378.0500762462616\n",
      "1378.0022072792053\n",
      "1378.3521642684937\n",
      "1378.4616196155548\n",
      "1377.800479888916\n",
      "1377.9775760173798\n",
      "1377.8519818782806\n",
      "1378.2231962680817\n",
      "1378.1063470840454\n",
      "1378.0717391967773\n",
      "1378.7166979312897\n",
      "1378.148705482483\n",
      "1378.427116394043\n",
      "1377.9956483840942\n"
     ]
    }
   ],
   "source": [
    "batch_size = 100\n",
    "for i in range(100):\n",
    "    num_batches = int(x_train.shape[0]/batch_size)\n",
    "    total_cost = 0\n",
    "    for j in range(num_batches):\n",
    "        cpy= df.sample(n=100)\n",
    "        batch_x,batch_y=np.array(cpy.iloc[:,0:784]),np.array(cpy.iloc[:,784:])        \n",
    "        c, _ = sess.run([cost,optimize], feed_dict={x:batch_x , y:batch_y})\n",
    "        total_cost += c\n",
    "    print(total_cost)"
   ]
  },
  {
   "cell_type": "code",
   "execution_count": 90,
   "metadata": {
    "scrolled": true
   },
   "outputs": [
    {
     "name": "stdout",
     "output_type": "stream",
     "text": [
      "463003.44\n",
      "264086.7\n",
      "209961.12\n",
      "173683.66\n",
      "140592.6\n",
      "114619.97\n",
      "84629.08\n",
      "60116.32\n",
      "45864.168\n",
      "41003.316\n",
      "42235.785\n",
      "42836.703\n",
      "39159.92\n",
      "33296.47\n",
      "28703.783\n",
      "26561.95\n",
      "25779.371\n",
      "25033.975\n",
      "23825.902\n",
      "22402.32\n",
      "21177.441\n",
      "20334.736\n",
      "19796.295\n",
      "19315.746\n",
      "18693.15\n"
     ]
    }
   ],
   "source": [
    "for i in range(25):\n",
    "    c, _ = sess.run([cost,optimize], feed_dict={x:x_train , y:y_train})\n",
    "    print(c)"
   ]
  },
  {
   "cell_type": "code",
   "execution_count": 116,
   "metadata": {
    "scrolled": false
   },
   "outputs": [
    {
     "data": {
      "text/plain": [
       "2600"
      ]
     },
     "execution_count": 116,
     "metadata": {},
     "output_type": "execute_result"
    }
   ],
   "source": [
    "predictions = tf.argmax(pred, 1)\n",
    "correct_labels = tf.argmax(y, 1)\n",
    "correct_predictions = tf.equal(predictions, correct_labels)\n",
    "pre,correct_pre  = sess.run([predictions, correct_predictions], feed_dict={x:x_test,\n",
    "                                              y:y_test})\n",
    "correct_pre.sum()"
   ]
  }
 ],
 "metadata": {
  "kernelspec": {
   "display_name": "Python 3",
   "language": "python",
   "name": "python3"
  },
  "language_info": {
   "codemirror_mode": {
    "name": "ipython",
    "version": 3
   },
   "file_extension": ".py",
   "mimetype": "text/x-python",
   "name": "python",
   "nbconvert_exporter": "python",
   "pygments_lexer": "ipython3",
   "version": "3.7.3"
  }
 },
 "nbformat": 4,
 "nbformat_minor": 2
}
