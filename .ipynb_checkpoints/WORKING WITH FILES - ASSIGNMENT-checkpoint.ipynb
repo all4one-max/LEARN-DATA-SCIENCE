{
 "cells": [
  {
   "cell_type": "markdown",
   "metadata": {},
   "source": [
    "## BEFORE STARTING TO REVIEW THESE QUESTION DO OPEN THE EXCEL FILE OF AMAZON DATABASE SIDE BY SIDE"
   ]
  },
  {
   "cell_type": "markdown",
   "metadata": {},
   "source": [
    "### JOB LOCATION"
   ]
  },
  {
   "cell_type": "code",
   "execution_count": 25,
   "metadata": {},
   "outputs": [
    {
     "name": "stdout",
     "output_type": "stream",
     "text": [
      "66 1856\n"
     ]
    }
   ],
   "source": [
    "import csv\n",
    "with open('C:\\\\Users\\\\jhasa\\\\Desktop\\\\amazon_jobs_dataset.csv',encoding=\"utf8\") as file_obj:\n",
    "    file_data=csv.DictReader(file_obj,skipinitialspace=True)\n",
    "    data=list(file_data)  \n",
    "banglore,seattle=0,0\n",
    "for row in data:\n",
    "    if row['location']=='IN, KA, Bangalore ':\n",
    "        banglore+=1\n",
    "    elif row['location']=='US, WA, Seattle ':\n",
    "        seattle+=1\n",
    "print(banglore,seattle) "
   ]
  },
  {
   "cell_type": "markdown",
   "metadata": {},
   "source": [
    "### JOB COMPUTER VISION"
   ]
  },
  {
   "cell_type": "code",
   "execution_count": 26,
   "metadata": {},
   "outputs": [
    {
     "name": "stdout",
     "output_type": "stream",
     "text": [
      "14\n"
     ]
    }
   ],
   "source": [
    "import csv\n",
    "with open('C:\\\\Users\\\\jhasa\\\\Desktop\\\\amazon_jobs_dataset.csv',encoding=\"utf8\") as file_obj:\n",
    "    file_data=csv.DictReader(file_obj,skipinitialspace=True)\n",
    "    data=list(file_data)  \n",
    "total=0\n",
    "for row in data:\n",
    "    s=row['Title']\n",
    "    if 'Computer Vision' in s:\n",
    "        total+=1\n",
    "print(total)        "
   ]
  },
  {
   "cell_type": "markdown",
   "metadata": {},
   "source": [
    "### JOB CANADA"
   ]
  },
  {
   "cell_type": "code",
   "execution_count": 28,
   "metadata": {},
   "outputs": [
    {
     "name": "stdout",
     "output_type": "stream",
     "text": [
      "156\n"
     ]
    }
   ],
   "source": [
    "import csv\n",
    "with open('C:\\\\Users\\\\jhasa\\\\Desktop\\\\amazon_jobs_dataset.csv',encoding=\"utf8\") as file_obj:\n",
    "    file_data=csv.DictReader(file_obj,skipinitialspace=True)\n",
    "    data=list(file_data) \n",
    "canada=0\n",
    "for row in data:\n",
    "    s=row['location']\n",
    "    if s[:2]=='CA':\n",
    "        canada+=1\n",
    "print(canada)    "
   ]
  },
  {
   "cell_type": "markdown",
   "metadata": {},
   "source": [
    "### JOB MONTH 2018"
   ]
  },
  {
   "cell_type": "code",
   "execution_count": 30,
   "metadata": {},
   "outputs": [
    {
     "name": "stdout",
     "output_type": "stream",
     "text": [
      "January 907\n"
     ]
    }
   ],
   "source": [
    "import csv\n",
    "with open('C:\\\\Users\\\\jhasa\\\\Desktop\\\\amazon_jobs_dataset.csv',encoding=\"utf8\") as file_obj:\n",
    "    file_data=csv.DictReader(file_obj,skipinitialspace=True)\n",
    "    data=list(file_data) \n",
    "monthOpening={}\n",
    "for row in data:    \n",
    "    s=row['Posting_date']\n",
    "    if s[-4:]=='2018':\n",
    "        white_space=s.find(' ')\n",
    "        month=s[:white_space]\n",
    "        monthOpening[month]=monthOpening.get(month,0)+1\n",
    "max_opening=0\n",
    "for ele in monthOpening:\n",
    "    if monthOpening[ele]>max_opening:\n",
    "        max_opening=monthOpening[ele]\n",
    "        max_month=ele\n",
    "print(max_month,max_opening)        \n",
    "    "
   ]
  },
  {
   "cell_type": "markdown",
   "metadata": {},
   "source": [
    "### JOB DEGREE"
   ]
  },
  {
   "cell_type": "code",
   "execution_count": 31,
   "metadata": {},
   "outputs": [
    {
     "name": "stdout",
     "output_type": "stream",
     "text": [
      "2961\n"
     ]
    }
   ],
   "source": [
    "import csv\n",
    "with open('C:\\\\Users\\\\jhasa\\\\Desktop\\\\amazon_jobs_dataset.csv',encoding=\"utf8\") as file_obj:\n",
    "    file_data=csv.DictReader(file_obj,skipinitialspace=True)\n",
    "    data=list(file_data) \n",
    "bachelor=0\n",
    "for row in data:\n",
    "    s=row['BASIC QUALIFICATIONS']\n",
    "    if ('Bachelor' in s) or ('BA' in s) or ('BS' in s):\n",
    "        bachelor+=1\n",
    "print(bachelor)        "
   ]
  },
  {
   "cell_type": "markdown",
   "metadata": {},
   "source": [
    "### JOB LANGUAGE"
   ]
  },
  {
   "cell_type": "code",
   "execution_count": 32,
   "metadata": {},
   "outputs": [
    {
     "name": "stdout",
     "output_type": "stream",
     "text": [
      "Java 103\n"
     ]
    }
   ],
   "source": [
    "import csv\n",
    "with open('C:\\\\Users\\\\jhasa\\\\Desktop\\\\amazon_jobs_dataset.csv',encoding=\"utf8\") as file_obj:\n",
    "    file_data=csv.DictReader(file_obj,skipinitialspace=True)\n",
    "    data=list(file_data) \n",
    "java,cpp,python=0,0,0\n",
    "for row in data:\n",
    "    if row['location'][:2]=='IN':\n",
    "        s=row['BASIC QUALIFICATIONS']\n",
    "        if ('Bachelor' in s) or ('BA' in s) or ('BS' in s):\n",
    "            if  'Java' in s:\n",
    "                java+=1\n",
    "                if java>max(cpp,python):\n",
    "                    lang='Java'\n",
    "                    mx=java\n",
    "            elif 'C++' in s:\n",
    "                cpp+=1\n",
    "                if cpp>max(java,python):\n",
    "                    lang='C++'\n",
    "                    mx=cpp\n",
    "            elif 'Python' in s:            \n",
    "                python+=1\n",
    "                if python>max(cpp,java):\n",
    "                    lang='Python'\n",
    "                    mx=python\n",
    "print(lang,mx) "
   ]
  },
  {
   "cell_type": "markdown",
   "metadata": {},
   "source": [
    "### JOB JAVA"
   ]
  },
  {
   "cell_type": "code",
   "execution_count": 33,
   "metadata": {},
   "outputs": [
    {
     "name": "stdout",
     "output_type": "stream",
     "text": [
      "US 2009\n"
     ]
    }
   ],
   "source": [
    "import csv\n",
    "with open('C:\\\\Users\\\\jhasa\\\\Desktop\\\\amazon_jobs_dataset.csv',encoding=\"utf8\") as file_obj:\n",
    "    file_data=csv.DictReader(file_obj,skipinitialspace=True)\n",
    "    data=list(file_data) \n",
    "java=0\n",
    "countryJava={}\n",
    "for row in data:\n",
    "    s=row['BASIC QUALIFICATIONS']\n",
    "    if 'Java' in s:\n",
    "        countryJava[row['location'][:2]]=countryJava.get(row['location'][:2],0)+1\n",
    "mx=0\n",
    "for ele in countryJava:\n",
    "    if countryJava[ele]>mx:\n",
    "        mx_country=ele\n",
    "        mx=countryJava[ele]\n",
    "print(mx_country,mx) "
   ]
  }
 ],
 "metadata": {
  "kernelspec": {
   "display_name": "Python 3",
   "language": "python",
   "name": "python3"
  },
  "language_info": {
   "codemirror_mode": {
    "name": "ipython",
    "version": 3
   },
   "file_extension": ".py",
   "mimetype": "text/x-python",
   "name": "python",
   "nbconvert_exporter": "python",
   "pygments_lexer": "ipython3",
   "version": "3.7.3"
  }
 },
 "nbformat": 4,
 "nbformat_minor": 2
}
