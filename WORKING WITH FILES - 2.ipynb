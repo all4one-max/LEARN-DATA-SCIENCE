{
 "cells": [
  {
   "cell_type": "markdown",
   "metadata": {},
   "source": [
    "### OUTPUT LAYOUT OF FILE USING csv.DictReader()"
   ]
  },
  {
   "cell_type": "code",
   "execution_count": 5,
   "metadata": {},
   "outputs": [
    {
     "name": "stdout",
     "output_type": "stream",
     "text": [
      "OrderedDict([('Year', '2017'), ('Month', '1'), ('Day', '2'), ('Country', 'Afghanistan'), ('Region', 'South Asia'), ('city', 'Takhta Pul'), ('latitude', '31.320556'), ('longitude', '65.961111'), ('AttackType', 'Hostage Taking (Kidnapping)'), ('Killed', '0.0'), ('Wounded', '0.0'), ('Target', 'Construction Workers'), ('Group', 'Taliban'), ('Target_type', 'Business'), ('Weapon_type', 'Firearms'), ('casualities', '0.0')])\n",
      "OrderedDict([('Year', '2017'), ('Month', '1'), ('Day', '3'), ('Country', 'Sudan'), ('Region', 'Sub-Saharan Africa'), ('city', 'Fantaga'), ('latitude', '12.921007000000001'), ('longitude', '24.318324'), ('AttackType', 'Armed Assault'), ('Killed', '2.0'), ('Wounded', '0.0'), ('Target', 'Civilians: Haroun Yousif, Hamid Ibrahim'), ('Group', 'Unknown'), ('Target_type', 'Private Citizens & Property'), ('Weapon_type', 'Firearms'), ('casualities', '2.0')])\n",
      "OrderedDict([('Year', '2017'), ('Month', '1'), ('Day', '1'), ('Country', 'Democratic Republic of the Congo'), ('Region', 'Sub-Saharan Africa'), ('city', 'Saboko'), ('latitude', '1.452372'), ('longitude', '29.875162'), ('AttackType', 'Armed Assault'), ('Killed', '7.0'), ('Wounded', '0.0'), ('Target', 'Village'), ('Group', 'Allied Democratic Forces (ADF)'), ('Target_type', 'Private Citizens & Property'), ('Weapon_type', 'Melee'), ('casualities', '7.0')])\n",
      "OrderedDict([('Year', '2017'), ('Month', '1'), ('Day', '1'), ('Country', 'Democratic Republic of the Congo'), ('Region', 'Sub-Saharan Africa'), ('city', 'Bialee'), ('latitude', '1.4523700000000002'), ('longitude', '29.875186'), ('AttackType', 'Armed Assault'), ('Killed', '7.0'), ('Wounded', '0.0'), ('Target', 'Village'), ('Group', 'Allied Democratic Forces (ADF)'), ('Target_type', 'Private Citizens & Property'), ('Weapon_type', 'Melee'), ('casualities', '7.0')])\n",
      "OrderedDict([('Year', '2017'), ('Month', '1'), ('Day', '1'), ('Country', 'Turkey'), ('Region', 'Middle East & North Africa'), ('city', 'Istanbul'), ('latitude', '41.106178'), ('longitude', '28.689863'), ('AttackType', 'Armed Assault'), ('Killed', '39.0'), ('Wounded', '69.0'), ('Target', 'Nightclub'), ('Group', 'Islamic State of Iraq and the Levant (ISIL)'), ('Target_type', 'Business'), ('Weapon_type', 'Firearms'), ('casualities', '108.0')])\n"
     ]
    }
   ],
   "source": [
    "import csv\n",
    "with open('C:\\\\Users\\\\jhasa\\\\Desktop\\\\year2017.csv') as file_obj:\n",
    "    file_data=csv.DictReader(file_obj,skipinitialspace=True)\n",
    "    data=list(file_data)\n",
    "    for i in range(5):\n",
    "        print(data[i])"
   ]
  },
  {
   "cell_type": "markdown",
   "metadata": {},
   "source": [
    "### PROBLEM: CASUALITIES FROM EXPLOSIVES"
   ]
  },
  {
   "cell_type": "code",
   "execution_count": 13,
   "metadata": {},
   "outputs": [
    {
     "name": "stdout",
     "output_type": "stream",
     "text": [
      "29280\n"
     ]
    }
   ],
   "source": [
    "import csv\n",
    "with open('C:\\\\Users\\\\jhasa\\\\Desktop\\\\year2017.csv') as file_obj:\n",
    "    file_data=csv.DictReader(file_obj,skipinitialspace=True)\n",
    "    data=list(file_data)\n",
    "summ=0\n",
    "for row in data:\n",
    "    if row['Weapon_type']=='Explosives' and row['casualities']!='':\n",
    "        summ+=float(row['casualities'])\n",
    "print(int(summ))      "
   ]
  },
  {
   "cell_type": "markdown",
   "metadata": {},
   "source": [
    "### PROBLEM: MONTH V/S KILLED"
   ]
  },
  {
   "cell_type": "code",
   "execution_count": 21,
   "metadata": {},
   "outputs": [
    {
     "name": "stdout",
     "output_type": "stream",
     "text": [
      "1 2275\n",
      "2 2027\n",
      "3 2463\n",
      "4 2142\n",
      "5 2936\n",
      "6 2506\n",
      "7 2228\n",
      "8 2145\n",
      "9 1764\n",
      "10 2580\n",
      "11 2014\n",
      "12 1365\n"
     ]
    }
   ],
   "source": [
    "import csv\n",
    "with open('C:\\\\Users\\\\jhasa\\\\Desktop\\\\year2017.csv') as file_obj:\n",
    "    file_data=csv.DictReader(file_obj,skipinitialspace=True)\n",
    "    data=list(file_data)\n",
    "monthKilled={}\n",
    "for row in data:\n",
    "    val=row['Killed']\n",
    "    if val!='':\n",
    "        val=int(float(val))\n",
    "    else:\n",
    "        val=0\n",
    "    monthKilled[row['Month']]=monthKilled.get(row['Month'],0)+val\n",
    "for ele in monthKilled:\n",
    "    print(ele,monthKilled[ele])"
   ]
  },
  {
   "cell_type": "markdown",
   "metadata": {},
   "source": [
    "### PROBLEM : COUNTRY V/S CASUALITIES"
   ]
  },
  {
   "cell_type": "code",
   "execution_count": 23,
   "metadata": {},
   "outputs": [
    {
     "name": "stdout",
     "output_type": "stream",
     "text": [
      "Afghanistan 11698\n",
      "Sudan 255\n",
      "Democratic Republic of the Congo 636\n",
      "Turkey 548\n",
      "Syria 2731\n",
      "Pakistan 3153\n",
      "Italy 8\n",
      "Somalia 3038\n",
      "Yemen 1446\n",
      "Bahrain 32\n",
      "Myanmar 85\n",
      "Burundi 147\n",
      "Iraq 10999\n",
      "Egypt 1499\n",
      "Burkina Faso 98\n",
      "India 1157\n",
      "Algeria 31\n",
      "United States 1027\n",
      "Philippines 1148\n",
      "Greece 7\n",
      "Mali 657\n",
      "Libya 316\n",
      "Central African Republic 569\n",
      "Nigeria 2300\n",
      "Lebanon 66\n",
      "Mexico 29\n",
      "Cameroon 448\n",
      "Ethiopia 80\n",
      "Kyrgyzstan 0\n",
      "Serbia 1\n",
      "Sweden 37\n",
      "Thailand 342\n",
      "Iran 106\n",
      "France 35\n",
      "United Kingdom 343\n",
      "West Bank and Gaza Strip 125\n",
      "Ukraine 104\n",
      "Paraguay 5\n",
      "Colombia 188\n",
      "Malaysia 6\n",
      "Russia 175\n",
      "Kosovo 4\n",
      "South Africa 28\n",
      "Chile 2\n",
      "Kenya 204\n",
      "Israel 18\n",
      "Saudi Arabia 100\n",
      "China 92\n",
      "Nepal 97\n",
      "Ecuador 0\n",
      "Niger 210\n",
      "Venezuela 37\n",
      "South Sudan 836\n",
      "Canada 31\n",
      "Bangladesh 97\n",
      "Tajikistan 1\n",
      "Angola 416\n",
      "Ireland 0\n",
      "Peru 12\n",
      "Dominican Republic 3\n",
      "Poland 0\n",
      "Jordan 5\n",
      "Azerbaijan 7\n",
      "Mozambique 33\n",
      "Indonesia 47\n",
      "Germany 11\n",
      "Brazil 0\n",
      "Macedonia 0\n",
      "Tunisia 10\n",
      "Uganda 9\n",
      "Chad 2\n",
      "Finland 12\n",
      "Australia 25\n",
      "Norway 0\n",
      "Vietnam 0\n",
      "Tanzania 10\n",
      "Sierra Leone 0\n",
      "Sri Lanka 4\n",
      "Maldives 1\n",
      "Belgium 4\n",
      "Rwanda 10\n",
      "Honduras 2\n",
      "Czech Republic 0\n",
      "Malta 1\n",
      "Gabon 2\n",
      "Laos 1\n",
      "Djibouti 0\n",
      "Austria 2\n",
      "Zambia 0\n",
      "Argentina 0\n",
      "Papua New Guinea 3\n",
      "Zimbabwe 1\n",
      "Ivory Coast 5\n",
      "Spain 132\n",
      "Taiwan 1\n",
      "Jamaica 0\n",
      "Albania 0\n",
      "Liberia 0\n",
      "Georgia 5\n",
      "Malawi 0\n",
      "Netherlands 0\n",
      "Latvia 0\n"
     ]
    }
   ],
   "source": [
    "import csv\n",
    "with open('C:\\\\Users\\\\jhasa\\\\Desktop\\\\year2017.csv') as file_obj:\n",
    "    file_data=csv.DictReader(file_obj,skipinitialspace=True)\n",
    "    data=list(file_data)\n",
    "countryCasualities={}\n",
    "for row in data:\n",
    "    val=row['casualities']\n",
    "    if val!='':\n",
    "        val=int(float(val))\n",
    "    else:\n",
    "        val=0\n",
    "    countryCasualities[row['Country']]=countryCasualities.get(row['Country'],0)+val\n",
    "for ele in countryCasualities:\n",
    "    print(ele,countryCasualities[ele])"
   ]
  }
 ],
 "metadata": {
  "kernelspec": {
   "display_name": "Python 3",
   "language": "python",
   "name": "python3"
  },
  "language_info": {
   "codemirror_mode": {
    "name": "ipython",
    "version": 3
   },
   "file_extension": ".py",
   "mimetype": "text/x-python",
   "name": "python",
   "nbconvert_exporter": "python",
   "pygments_lexer": "ipython3",
   "version": "3.7.3"
  }
 },
 "nbformat": 4,
 "nbformat_minor": 2
}
