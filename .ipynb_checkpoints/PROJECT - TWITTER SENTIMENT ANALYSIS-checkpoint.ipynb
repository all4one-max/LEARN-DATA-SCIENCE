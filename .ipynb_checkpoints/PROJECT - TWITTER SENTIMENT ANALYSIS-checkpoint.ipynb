{
 "cells": [
  {
   "cell_type": "code",
   "execution_count": 12,
   "metadata": {},
   "outputs": [],
   "source": [
    "import numpy as np,pandas as pd,string\n",
    "from nltk.corpus import wordnet,stopwords\n",
    "from nltk.stem import WordNetLemmatizer\n",
    "from nltk.tokenize import sent_tokenize,word_tokenize\n",
    "from nltk import pos_tag\n",
    "from sklearn.model_selection import GridSearchCV\n",
    "from sklearn.model_selection import cross_val_score\n",
    "from sklearn.model_selection import KFold\n",
    "from sklearn.svm import SVC\n",
    "from sklearn.ensemble import RandomForestClassifier\n",
    "from sklearn.neighbors import KNeighborsClassifier\n",
    "from sklearn.naive_bayes import MultinomialNB\n",
    "from sklearn.linear_model import LogisticRegression\n",
    "from sklearn.feature_extraction.text import CountVectorizer\n",
    "from sklearn.tree import DecisionTreeClassifier "
   ]
  },
  {
   "cell_type": "code",
   "execution_count": 2,
   "metadata": {},
   "outputs": [],
   "source": [
    "lemmatizer = WordNetLemmatizer()\n",
    "stop = stopwords.words('english')\n",
    "punc = list(string.punctuation)\n",
    "stop = stop + punc"
   ]
  },
  {
   "cell_type": "code",
   "execution_count": 3,
   "metadata": {},
   "outputs": [],
   "source": [
    "data_train = pd.read_csv(\"C:\\\\Users\\\\jhasa\\\\Desktop\\\\twitter_train.csv\")\n",
    "data_test = pd.read_csv(\"C:\\\\Users\\\\jhasa\\\\Desktop\\\\twitter_test.csv\")\n",
    "dat_train = data_train.loc[:,\"text\"]\n",
    "dat_test = data_test.loc[:,\"text\"]\n",
    "cat_train = data_train.loc[:,\"airline_sentiment\"]"
   ]
  },
  {
   "cell_type": "code",
   "execution_count": 4,
   "metadata": {},
   "outputs": [],
   "source": [
    "def get_simple_pos_tag(tag):\n",
    "    if tag[0]=='J':\n",
    "        return wordnet.ADJ\n",
    "    elif tag[0]=='V':\n",
    "        return wordnet.VERB\n",
    "    elif tag[0]=='N':\n",
    "        return wordnet.NOUN\n",
    "    elif tag[0]=='R':\n",
    "        return wordnet.ADV\n",
    "    else:\n",
    "        return wordnet.NOUN\n",
    "\n",
    "def clean_reviews(words):\n",
    "    output_words = []\n",
    "    for w in words:\n",
    "        if w.lower() not in stop:\n",
    "            ps = pos_tag([w])\n",
    "            clean_word = lemmatizer.lemmatize(w,pos=get_simple_pos_tag(ps[0][1]))\n",
    "            output_words.append(clean_word.lower())\n",
    "    return output_words"
   ]
  },
  {
   "cell_type": "code",
   "execution_count": 5,
   "metadata": {},
   "outputs": [],
   "source": [
    "documents_test = []\n",
    "for i in range(len(dat_test)):\n",
    "    documents_test.append(dat_test[i])\n",
    "documents = []\n",
    "for i in range(len(dat_train)):\n",
    "    documents.append(dat_train[i])"
   ]
  },
  {
   "cell_type": "code",
   "execution_count": 6,
   "metadata": {},
   "outputs": [],
   "source": [
    "docum = [list(word_tokenize(doc)) for doc in documents]\n",
    "docum_test = [list(word_tokenize(doc)) for doc in documents_test]\n",
    "docum = [clean_reviews(doc) for doc in docum]\n",
    "docum_test = [clean_reviews(doc) for doc in docum_test]\n",
    "\n",
    "docum = [\" \".join(doc) for doc in docum]\n",
    "docum_test = [\" \".join(doc) for doc in docum_test]\n",
    "cat_train = list(cat_train)"
   ]
  },
  {
   "cell_type": "code",
   "execution_count": 7,
   "metadata": {},
   "outputs": [],
   "source": [
    "count_vec = CountVectorizer(max_features = 2000,stop_words=stop,ngram_range=(1,2))\n",
    "x_train_features = count_vec.fit_transform(docum,cat_train)\n",
    "x_test_features = count_vec.transform(docum_test)"
   ]
  },
  {
   "cell_type": "code",
   "execution_count": 100,
   "metadata": {},
   "outputs": [],
   "source": [
    "rfc = RandomForestClassifier()\n",
    "rfc.fit(x_train_features,cat_train)\n",
    "y_pred_1=rfc.predict(x_test_features)"
   ]
  },
  {
   "cell_type": "code",
   "execution_count": 103,
   "metadata": {},
   "outputs": [],
   "source": [
    "clf = MultinomialNB() # making the classifier object\n",
    "clf.fit(x_train_features,cat_train)\n",
    "y_pred_2=clf.predict(x_test_features)"
   ]
  },
  {
   "cell_type": "code",
   "execution_count": 130,
   "metadata": {},
   "outputs": [],
   "source": [
    "clf = LogisticRegression(multi_class=\"ovr\",solver=\"newton-cg\",max_iter=500) # making the classifier object\n",
    "clf.fit(x_train_features,cat_train)\n",
    "y_pred_3=clf.predict(x_test_features) ## logistic regression gives best result in this dataset"
   ]
  },
  {
   "cell_type": "code",
   "execution_count": 135,
   "metadata": {},
   "outputs": [],
   "source": [
    "clf = KNeighborsClassifier(n_neighbors=3) # making the classifier object\n",
    "clf.fit(x_train_features,cat_train)\n",
    "y_pred_4=clf.predict(x_test_features)"
   ]
  },
  {
   "cell_type": "code",
   "execution_count": 134,
   "metadata": {},
   "outputs": [
    {
     "name": "stdout",
     "output_type": "stream",
     "text": [
      "1 0.5246812386156648\n",
      "3 0.5258652094717668\n",
      "5 0.5111111111111112\n",
      "7 0.486247723132969\n",
      "9 0.4867030965391621\n",
      "11 0.47622950819672133\n",
      "13 0.4643897996357013\n",
      "15 0.458287795992714\n",
      "17 0.4504553734061931\n",
      "19 0.4497267759562842\n",
      "21 0.4500910746812386\n",
      "23 0.44663023679417124\n",
      "25 0.4462659380692167\n"
     ]
    }
   ],
   "source": [
    "for i in range(1, 26, 2):\n",
    "    clf = KNeighborsClassifier(n_neighbors=i)\n",
    "    score = cross_val_score(clf, x_train_features, cat_train, cv=KFold(3)).mean()\n",
    "    print(i,score)"
   ]
  },
  {
   "cell_type": "code",
   "execution_count": 8,
   "metadata": {},
   "outputs": [
    {
     "name": "stderr",
     "output_type": "stream",
     "text": [
      "C:\\Users\\jhasa\\Anaconda3\\lib\\site-packages\\sklearn\\model_selection\\_split.py:1978: FutureWarning: The default value of cv will change from 3 to 5 in version 0.22. Specify it explicitly to silence this warning.\n",
      "  warnings.warn(CV_WARNING, FutureWarning)\n"
     ]
    },
    {
     "ename": "AttributeError",
     "evalue": "'GridSearchCV' object has no attribute 'best_estimators_'",
     "output_type": "error",
     "traceback": [
      "\u001b[1;31m---------------------------------------------------------------------------\u001b[0m",
      "\u001b[1;31mAttributeError\u001b[0m                            Traceback (most recent call last)",
      "\u001b[1;32m<ipython-input-8-adbce9775840>\u001b[0m in \u001b[0;36m<module>\u001b[1;34m\u001b[0m\n\u001b[0;32m      3\u001b[0m \u001b[0mabc\u001b[0m \u001b[1;33m=\u001b[0m \u001b[0mGridSearchCV\u001b[0m\u001b[1;33m(\u001b[0m\u001b[0mclf\u001b[0m\u001b[1;33m,\u001b[0m \u001b[0mgrid\u001b[0m\u001b[1;33m)\u001b[0m\u001b[1;33m\u001b[0m\u001b[1;33m\u001b[0m\u001b[0m\n\u001b[0;32m      4\u001b[0m \u001b[0mabc\u001b[0m\u001b[1;33m.\u001b[0m\u001b[0mfit\u001b[0m\u001b[1;33m(\u001b[0m\u001b[0mx_train_features\u001b[0m\u001b[1;33m,\u001b[0m\u001b[0mcat_train\u001b[0m\u001b[1;33m)\u001b[0m\u001b[1;33m\u001b[0m\u001b[1;33m\u001b[0m\u001b[0m\n\u001b[1;32m----> 5\u001b[1;33m \u001b[0mabc\u001b[0m\u001b[1;33m.\u001b[0m\u001b[0mbest_estimators_\u001b[0m\u001b[1;33m\u001b[0m\u001b[1;33m\u001b[0m\u001b[0m\n\u001b[0m",
      "\u001b[1;31mAttributeError\u001b[0m: 'GridSearchCV' object has no attribute 'best_estimators_'"
     ]
    }
   ],
   "source": [
    "clf = SVC()\n",
    "grid = {\"C\":[1e1,1e2,1e3,1e4,5e4,1e5],\"gamma\":[1e-3,5e-4,1e-4,5e-3]}\n",
    "abc = GridSearchCV(clf, grid)\n",
    "abc.fit(x_train_features,cat_train)"
   ]
  },
  {
   "cell_type": "code",
   "execution_count": 9,
   "metadata": {},
   "outputs": [
    {
     "data": {
      "text/plain": [
       "SVC(C=100.0, cache_size=200, class_weight=None, coef0=0.0,\n",
       "    decision_function_shape='ovr', degree=3, gamma=0.001, kernel='rbf',\n",
       "    max_iter=-1, probability=False, random_state=None, shrinking=True,\n",
       "    tol=0.001, verbose=False)"
      ]
     },
     "execution_count": 9,
     "metadata": {},
     "output_type": "execute_result"
    }
   ],
   "source": [
    "abc.best_estimator_"
   ]
  },
  {
   "cell_type": "code",
   "execution_count": 10,
   "metadata": {},
   "outputs": [],
   "source": [
    "svc = SVC(C=100.0, cache_size=200, class_weight=None, coef0=0.0,\n",
    "    decision_function_shape='ovr', degree=3, gamma=0.001, kernel='rbf',\n",
    "    max_iter=-1, probability=False, random_state=None, shrinking=True,\n",
    "    tol=0.001, verbose=False)\n",
    "svc.fit(x_train_features,cat_train)\n",
    "y_pred=svc.predict(x_test_features)"
   ]
  },
  {
   "cell_type": "code",
   "execution_count": 14,
   "metadata": {},
   "outputs": [],
   "source": [
    "clf = DecisionTreeClassifier()\n",
    "clf.fit(x_train_features,cat_train)\n",
    "y_pred_5=clf.predict(x_test_features)"
   ]
  },
  {
   "cell_type": "code",
   "execution_count": 15,
   "metadata": {},
   "outputs": [],
   "source": [
    "np.savetxt(\"C:\\\\Users\\\\jhasa\\\\Desktop\\\\twitter_predictions.csv\", y_pred_5,fmt=\"%s\")"
   ]
  }
 ],
 "metadata": {
  "kernelspec": {
   "display_name": "Python 3",
   "language": "python",
   "name": "python3"
  },
  "language_info": {
   "codemirror_mode": {
    "name": "ipython",
    "version": 3
   },
   "file_extension": ".py",
   "mimetype": "text/x-python",
   "name": "python",
   "nbconvert_exporter": "python",
   "pygments_lexer": "ipython3",
   "version": "3.7.3"
  }
 },
 "nbformat": 4,
 "nbformat_minor": 2
}
