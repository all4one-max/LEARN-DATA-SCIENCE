{
 "cells": [
  {
   "cell_type": "markdown",
   "metadata": {},
   "source": [
    "### TERROR ATTACK CITY"
   ]
  },
  {
   "cell_type": "code",
   "execution_count": 58,
   "metadata": {},
   "outputs": [
    {
     "name": "stdout",
     "output_type": "stream",
     "text": [
      "Srinagar 657 Muslim Separatists\n"
     ]
    }
   ],
   "source": [
    "import csv \n",
    "import numpy as sj\n",
    "with open(\"C:\\\\Users\\\\jhasa\\\\Desktop\\\\terrorismData.csv\",encoding=\"utf8\") as file_obj:\n",
    "    file_data=csv.DictReader(file_obj,skipinitialspace=True)    \n",
    "    city=[]    \n",
    "    attack=[] \n",
    "    for row in file_data:\n",
    "        if row['State']=='Jammu and Kashmir':\n",
    "            city.append(row['City'])  \n",
    "            attack.append(row['Group'])\n",
    "    city=sj.array(city)\n",
    "    attack=sj.array(attack)\n",
    "    a,count=sj.unique(city,return_counts=True)        \n",
    "    x=count.argmax()\n",
    "    dangerous=a[x] \n",
    "    no_of_attack=count[x]\n",
    "    group=attack[city==dangerous]   \n",
    "    group=group[group!='Unknown']\n",
    "    b,count=sj.unique(group,return_counts=True)    \n",
    "    x=count.argmax()\n",
    "    print(dangerous,no_of_attack,b[x])    "
   ]
  },
  {
   "cell_type": "code",
   "execution_count": 61,
   "metadata": {},
   "outputs": [
    {
     "name": "stdout",
     "output_type": "stream",
     "text": [
      "Srinagar 657 Muslim Separatists\n"
     ]
    }
   ],
   "source": [
    "import pandas as pd\n",
    "df=pd.read_csv(\"C:\\\\Users\\\\jhasa\\\\Desktop\\\\terrorismData.csv\",encoding=\"utf8\")\n",
    "df=df[df.State=='Jammu and Kashmir']\n",
    "a=df.City.value_counts()\n",
    "cty=a.index[0]\n",
    "no_of_attack=a.values[0]\n",
    "b=df[df.City==cty]\n",
    "b=b[b.Group!='Unknown']\n",
    "c=b.Group.value_counts()\n",
    "print(cty,no_of_attack,c.index[0])"
   ]
  },
  {
   "cell_type": "markdown",
   "metadata": {},
   "source": [
    "### TERROR ATTACK"
   ]
  },
  {
   "cell_type": "code",
   "execution_count": 67,
   "metadata": {},
   "outputs": [
    {
     "name": "stdout",
     "output_type": "stream",
     "text": [
      "Iraq 24636 2014\n"
     ]
    }
   ],
   "source": [
    "import csv \n",
    "import numpy as sj\n",
    "with open(\"C:\\\\Users\\\\jhasa\\\\Desktop\\\\terrorismData.csv\",encoding=\"utf8\") as file_obj:\n",
    "    file_data=csv.DictReader(file_obj,skipinitialspace=True)          \n",
    "    attack=[] \n",
    "    year=[]\n",
    "    for row in file_data:\n",
    "        if row['Country']!='Unknown':\n",
    "            attack.append(row['Country'])\n",
    "            year.append(row['Year'])\n",
    "    attack=sj.array(attack)\n",
    "    year=sj.array(year)\n",
    "    a,count=sj.unique(attack,return_counts=True)\n",
    "    x=count.argmax()\n",
    "    cntry=a[x]\n",
    "    no_of_attack=count[x]\n",
    "    year=year[attack==cntry]\n",
    "    b,count=sj.unique(year,return_counts=True)\n",
    "    x=count.argmax()\n",
    "    max_year=b[x]\n",
    "    print(cntry,no_of_attack,max_year)"
   ]
  },
  {
   "cell_type": "code",
   "execution_count": 80,
   "metadata": {},
   "outputs": [
    {
     "name": "stdout",
     "output_type": "stream",
     "text": [
      "Iraq 24636 2014\n"
     ]
    }
   ],
   "source": [
    "import pandas as pd\n",
    "df=pd.read_csv(\"C:\\\\Users\\\\jhasa\\\\Desktop\\\\terrorismData.csv\",encoding=\"utf8\")\n",
    "b=df.Country\n",
    "b=b.value_counts()\n",
    "cntry=b.index[0]\n",
    "no_of_attack=b.values[0]\n",
    "c=df.Year\n",
    "c=c[df.Country==cntry]\n",
    "c=c.value_counts()\n",
    "print(cntry,no_of_attack,c.index[0])"
   ]
  },
  {
   "cell_type": "markdown",
   "metadata": {},
   "source": [
    "### TERROR DEADLIEST ATTACK"
   ]
  },
  {
   "cell_type": "code",
   "execution_count": 139,
   "metadata": {},
   "outputs": [
    {
     "name": "stdout",
     "output_type": "stream",
     "text": [
      "1570 Iraq Islamic State of Iraq and the Levant (ISIL)\n"
     ]
    }
   ],
   "source": [
    "import pandas as pd\n",
    "df=pd.read_csv(\"C:\\\\Users\\\\jhasa\\\\Desktop\\\\terrorismData.csv\",encoding=\"utf8\")\n",
    "x=df.Killed.max()\n",
    "cntry=df.Country[df.Killed==x].values[0]\n",
    "grp=df.Group[df.Killed==x].values[0]\n",
    "print(int(x),cntry,grp)"
   ]
  },
  {
   "cell_type": "code",
   "execution_count": 124,
   "metadata": {},
   "outputs": [
    {
     "name": "stdout",
     "output_type": "stream",
     "text": [
      "1570 Iraq Islamic State of Iraq and the Levant (ISIL)\n"
     ]
    }
   ],
   "source": [
    "import csv \n",
    "import numpy as sj\n",
    "with open(\"C:\\\\Users\\\\jhasa\\\\Desktop\\\\terrorismData.csv\",encoding=\"utf8\") as file_obj:\n",
    "    file_data=csv.DictReader(file_obj,skipinitialspace=True)          \n",
    "    killed=[] \n",
    "    country=[]\n",
    "    group=[]\n",
    "    for row in file_data:\n",
    "        killed.append(row['Killed'])\n",
    "        country.append(row['Country'])\n",
    "        group.append(row['Group'])\n",
    "    killed=sj.array(killed) \n",
    "    killed[killed=='']='0.0'\n",
    "    killed=sj.array(killed,dtype=float)\n",
    "    x=killed.argmax()\n",
    "    print(int(killed.max()),country[x],group[x])\n",
    "    "
   ]
  },
  {
   "cell_type": "markdown",
   "metadata": {},
   "source": [
    "### TERROR GOVERNMENT"
   ]
  },
  {
   "cell_type": "code",
   "execution_count": 145,
   "metadata": {},
   "outputs": [
    {
     "name": "stdout",
     "output_type": "stream",
     "text": [
      "3336 Maoists\n"
     ]
    }
   ],
   "source": [
    "import csv \n",
    "import numpy as sj\n",
    "with open(\"C:\\\\Users\\\\jhasa\\\\Desktop\\\\terrorismData.csv\",encoding=\"utf8\") as file_obj:\n",
    "    file_data=csv.DictReader(file_obj,skipinitialspace=True)      \n",
    "    group=[]\n",
    "    total=0\n",
    "    for row in file_data:\n",
    "        if (row['Country']=='India') and ((int(row['Year'])>2014) or (int(row['Year'])==2014 and int(row['Month'])>=6) or ((int(row['Year'])==2014 and int(row['Month'])==5 and int(row['Day'])>=26))):\n",
    "            group.append(row['Group'])\n",
    "            total+=1\n",
    "    group=sj.array(group)\n",
    "    group=group[group!='Unknown']\n",
    "    key,value=sj.unique(group,return_counts=True)\n",
    "    x=value.argmax()\n",
    "    grp=key[x]\n",
    "    print(total,grp)"
   ]
  },
  {
   "cell_type": "code",
   "execution_count": 172,
   "metadata": {},
   "outputs": [
    {
     "name": "stdout",
     "output_type": "stream",
     "text": [
      "3336 Maoists\n"
     ]
    }
   ],
   "source": [
    "import pandas as pd\n",
    "df=pd.read_csv(\"C:\\\\Users\\\\jhasa\\\\Desktop\\\\terrorismData.csv\",encoding=\"utf8\")\n",
    "ind=df[df.Country=='India']\n",
    "ind1=ind[(ind.Year>2014) | ((ind.Year==2014) & (ind.Month>=6)) | ((ind.Year==2014) & (ind.Month==5) & (ind.Day>=26))]\n",
    "attack=ind1.Year.count()\n",
    "ind2=ind1[ind1.Group!='Unknown']\n",
    "group=ind2.Group.value_counts()\n",
    "print(attack,group.index[0])"
   ]
  },
  {
   "cell_type": "markdown",
   "metadata": {},
   "source": [
    "### TERROR FREQUENCY"
   ]
  },
  {
   "cell_type": "code",
   "execution_count": 206,
   "metadata": {},
   "outputs": [
    {
     "name": "stdout",
     "output_type": "stream",
     "text": [
      "115 261\n"
     ]
    }
   ],
   "source": [
    "import numpy as sj\n",
    "with open(\"C:\\\\Users\\\\jhasa\\\\Desktop\\\\terrorismData.csv\",encoding=\"utf8\") as file_obj:\n",
    "    file_data=csv.DictReader(file_obj,skipinitialspace=True)      \n",
    "    red_killed=[]\n",
    "    red_wounded=[]\n",
    "    jk_killed=[]\n",
    "    jk_wounded=[]\n",
    "    for row in file_data:\n",
    "        if ((row['State']=='Jharkhand') | (row['State']=='Odisha') | (row['State']=='Andhra Pradesh') | (row['State']=='Chhattisgarh')):\n",
    "            if row['Killed']!='' and row['Wounded']!='':\n",
    "                red_killed.append(row['Killed'])\n",
    "                red_wounded.append(row['Wounded'])\n",
    "        elif row['State']=='Jammu and Kashmir':\n",
    "            if row['Killed']!='' and row['Wounded']!='':\n",
    "                jk_killed.append(row['Killed'])\n",
    "                jk_wounded.append(row['Wounded'])\n",
    "    red_killed=sj.array(red_killed,dtype=float)\n",
    "    red_wounded=sj.array(red_wounded,dtype=float)\n",
    "    jk_killed=sj.array(jk_killed,dtype=float)\n",
    "    jk_wounded=sj.array(jk_wounded,dtype=float)\n",
    "    red_tc=red_killed.sum()+red_wounded.sum()\n",
    "    jk_tc=jk_killed.sum()+jk_wounded.sum()\n",
    "    print(int(red_tc/47),int(jk_tc/47))"
   ]
  },
  {
   "cell_type": "code",
   "execution_count": 246,
   "metadata": {},
   "outputs": [
    {
     "name": "stdout",
     "output_type": "stream",
     "text": [
      "115 261\n"
     ]
    }
   ],
   "source": [
    "import pandas as pd\n",
    "import numpy as np\n",
    "df=pd.read_csv(\"C:\\\\Users\\\\jhasa\\\\Desktop\\\\terrorismData.csv\",encoding=\"utf8\")\n",
    "df.dropna(subset=['Killed','Wounded'],inplace=True)\n",
    "ind=df[((df.State=='Jharkhand') | (df.State=='Odisha') | (df.State=='Andhra Pradesh') | (df.State=='Chhattisgarh'))]\n",
    "ind1=df[df.State=='Jammu and Kashmir']\n",
    "total_casuality=ind.Killed.sum()+ind.Wounded.sum()\n",
    "total_casuality1=ind1.Killed.sum()+ind1.Wounded.sum()\n",
    "total_freq=(total_casuality)/(47)\n",
    "total_freq1=(total_casuality1)/(47)\n",
    "print(int(total_freq),int(total_freq1))"
   ]
  },
  {
   "cell_type": "code",
   "execution_count": 19,
   "metadata": {},
   "outputs": [
    {
     "name": "stderr",
     "output_type": "stream",
     "text": [
      "b'Skipping line 102: expected 12 fields, saw 13\\nSkipping line 103: expected 12 fields, saw 13\\nSkipping line 104: expected 12 fields, saw 13\\nSkipping line 105: expected 12 fields, saw 13\\nSkipping line 106: expected 12 fields, saw 13\\nSkipping line 107: expected 12 fields, saw 13\\nSkipping line 108: expected 12 fields, saw 13\\nSkipping line 109: expected 12 fields, saw 13\\nSkipping line 110: expected 12 fields, saw 13\\nSkipping line 111: expected 12 fields, saw 13\\nSkipping line 112: expected 12 fields, saw 13\\nSkipping line 113: expected 12 fields, saw 13\\nSkipping line 114: expected 12 fields, saw 13\\nSkipping line 115: expected 12 fields, saw 13\\nSkipping line 116: expected 12 fields, saw 13\\nSkipping line 117: expected 12 fields, saw 13\\nSkipping line 118: expected 12 fields, saw 13\\nSkipping line 119: expected 12 fields, saw 13\\nSkipping line 120: expected 12 fields, saw 13\\nSkipping line 121: expected 12 fields, saw 13\\nSkipping line 122: expected 12 fields, saw 13\\nSkipping line 123: expected 12 fields, saw 13\\nSkipping line 124: expected 12 fields, saw 13\\nSkipping line 125: expected 12 fields, saw 13\\nSkipping line 126: expected 12 fields, saw 13\\nSkipping line 127: expected 12 fields, saw 13\\nSkipping line 128: expected 12 fields, saw 13\\nSkipping line 129: expected 12 fields, saw 13\\nSkipping line 130: expected 12 fields, saw 13\\nSkipping line 131: expected 12 fields, saw 13\\nSkipping line 132: expected 12 fields, saw 13\\nSkipping line 133: expected 12 fields, saw 13\\nSkipping line 134: expected 12 fields, saw 13\\nSkipping line 135: expected 12 fields, saw 13\\nSkipping line 136: expected 12 fields, saw 13\\nSkipping line 137: expected 12 fields, saw 13\\nSkipping line 138: expected 12 fields, saw 13\\nSkipping line 139: expected 12 fields, saw 13\\nSkipping line 140: expected 12 fields, saw 13\\nSkipping line 141: expected 12 fields, saw 13\\nSkipping line 142: expected 12 fields, saw 13\\nSkipping line 143: expected 12 fields, saw 13\\nSkipping line 144: expected 12 fields, saw 13\\nSkipping line 145: expected 12 fields, saw 13\\nSkipping line 146: expected 12 fields, saw 13\\nSkipping line 147: expected 12 fields, saw 13\\nSkipping line 148: expected 12 fields, saw 13\\nSkipping line 149: expected 12 fields, saw 13\\nSkipping line 150: expected 12 fields, saw 13\\nSkipping line 151: expected 12 fields, saw 13\\nSkipping line 152: expected 12 fields, saw 13\\nSkipping line 153: expected 12 fields, saw 13\\nSkipping line 154: expected 12 fields, saw 13\\nSkipping line 155: expected 12 fields, saw 13\\nSkipping line 156: expected 12 fields, saw 13\\nSkipping line 157: expected 12 fields, saw 13\\nSkipping line 158: expected 12 fields, saw 13\\nSkipping line 159: expected 12 fields, saw 13\\nSkipping line 160: expected 12 fields, saw 13\\nSkipping line 161: expected 12 fields, saw 13\\nSkipping line 162: expected 12 fields, saw 13\\nSkipping line 163: expected 12 fields, saw 13\\nSkipping line 164: expected 12 fields, saw 13\\nSkipping line 165: expected 12 fields, saw 13\\nSkipping line 166: expected 12 fields, saw 13\\nSkipping line 167: expected 12 fields, saw 13\\nSkipping line 168: expected 12 fields, saw 13\\nSkipping line 169: expected 12 fields, saw 13\\nSkipping line 170: expected 12 fields, saw 13\\nSkipping line 171: expected 12 fields, saw 13\\nSkipping line 172: expected 12 fields, saw 13\\nSkipping line 173: expected 12 fields, saw 13\\nSkipping line 174: expected 12 fields, saw 13\\nSkipping line 175: expected 12 fields, saw 13\\nSkipping line 176: expected 12 fields, saw 13\\nSkipping line 177: expected 12 fields, saw 13\\nSkipping line 178: expected 12 fields, saw 13\\nSkipping line 179: expected 12 fields, saw 13\\nSkipping line 180: expected 12 fields, saw 13\\nSkipping line 181: expected 12 fields, saw 13\\nSkipping line 182: expected 12 fields, saw 13\\nSkipping line 183: expected 12 fields, saw 13\\nSkipping line 184: expected 12 fields, saw 13\\nSkipping line 185: expected 12 fields, saw 13\\nSkipping line 186: expected 12 fields, saw 13\\nSkipping line 187: expected 12 fields, saw 13\\nSkipping line 188: expected 12 fields, saw 13\\nSkipping line 189: expected 12 fields, saw 13\\nSkipping line 190: expected 12 fields, saw 13\\nSkipping line 191: expected 12 fields, saw 13\\nSkipping line 192: expected 12 fields, saw 13\\nSkipping line 193: expected 12 fields, saw 13\\nSkipping line 194: expected 12 fields, saw 13\\nSkipping line 195: expected 12 fields, saw 13\\nSkipping line 196: expected 12 fields, saw 13\\nSkipping line 197: expected 12 fields, saw 13\\nSkipping line 198: expected 12 fields, saw 13\\nSkipping line 199: expected 12 fields, saw 13\\nSkipping line 200: expected 12 fields, saw 13\\nSkipping line 201: expected 12 fields, saw 13\\nSkipping line 202: expected 12 fields, saw 13\\nSkipping line 203: expected 12 fields, saw 13\\nSkipping line 204: expected 12 fields, saw 13\\nSkipping line 205: expected 12 fields, saw 13\\nSkipping line 206: expected 12 fields, saw 13\\nSkipping line 207: expected 12 fields, saw 13\\nSkipping line 208: expected 12 fields, saw 13\\nSkipping line 209: expected 12 fields, saw 13\\nSkipping line 210: expected 12 fields, saw 13\\nSkipping line 211: expected 12 fields, saw 13\\nSkipping line 212: expected 12 fields, saw 13\\nSkipping line 213: expected 12 fields, saw 13\\nSkipping line 214: expected 12 fields, saw 13\\nSkipping line 215: expected 12 fields, saw 13\\nSkipping line 216: expected 12 fields, saw 13\\nSkipping line 217: expected 12 fields, saw 13\\nSkipping line 218: expected 12 fields, saw 13\\nSkipping line 219: expected 12 fields, saw 13\\nSkipping line 220: expected 12 fields, saw 13\\nSkipping line 221: expected 12 fields, saw 13\\nSkipping line 222: expected 12 fields, saw 13\\nSkipping line 223: expected 12 fields, saw 13\\nSkipping line 224: expected 12 fields, saw 13\\nSkipping line 225: expected 12 fields, saw 13\\nSkipping line 226: expected 12 fields, saw 13\\nSkipping line 227: expected 12 fields, saw 13\\nSkipping line 228: expected 12 fields, saw 13\\nSkipping line 229: expected 12 fields, saw 13\\nSkipping line 230: expected 12 fields, saw 13\\nSkipping line 231: expected 12 fields, saw 13\\nSkipping line 232: expected 12 fields, saw 13\\nSkipping line 233: expected 12 fields, saw 13\\nSkipping line 234: expected 12 fields, saw 13\\nSkipping line 235: expected 12 fields, saw 13\\nSkipping line 236: expected 12 fields, saw 13\\nSkipping line 237: expected 12 fields, saw 13\\nSkipping line 238: expected 12 fields, saw 13\\nSkipping line 239: expected 12 fields, saw 13\\nSkipping line 240: expected 12 fields, saw 13\\nSkipping line 241: expected 12 fields, saw 13\\nSkipping line 242: expected 12 fields, saw 13\\nSkipping line 243: expected 12 fields, saw 13\\nSkipping line 244: expected 12 fields, saw 13\\nSkipping line 245: expected 12 fields, saw 13\\nSkipping line 246: expected 12 fields, saw 13\\nSkipping line 247: expected 12 fields, saw 13\\nSkipping line 248: expected 12 fields, saw 13\\nSkipping line 249: expected 12 fields, saw 13\\nSkipping line 250: expected 12 fields, saw 13\\nSkipping line 251: expected 12 fields, saw 13\\nSkipping line 252: expected 12 fields, saw 13\\nSkipping line 253: expected 12 fields, saw 13\\nSkipping line 254: expected 12 fields, saw 13\\nSkipping line 255: expected 12 fields, saw 13\\nSkipping line 256: expected 12 fields, saw 13\\nSkipping line 257: expected 12 fields, saw 13\\nSkipping line 258: expected 12 fields, saw 13\\nSkipping line 259: expected 12 fields, saw 13\\nSkipping line 260: expected 12 fields, saw 13\\nSkipping line 261: expected 12 fields, saw 13\\nSkipping line 262: expected 12 fields, saw 13\\nSkipping line 263: expected 12 fields, saw 13\\nSkipping line 264: expected 12 fields, saw 13\\nSkipping line 265: expected 12 fields, saw 13\\nSkipping line 266: expected 12 fields, saw 13\\nSkipping line 267: expected 12 fields, saw 13\\nSkipping line 268: expected 12 fields, saw 13\\nSkipping line 269: expected 12 fields, saw 13\\nSkipping line 270: expected 12 fields, saw 13\\nSkipping line 271: expected 12 fields, saw 13\\nSkipping line 272: expected 12 fields, saw 13\\nSkipping line 273: expected 12 fields, saw 13\\nSkipping line 274: expected 12 fields, saw 13\\nSkipping line 275: expected 12 fields, saw 13\\nSkipping line 276: expected 12 fields, saw 13\\nSkipping line 277: expected 12 fields, saw 13\\nSkipping line 278: expected 12 fields, saw 13\\nSkipping line 279: expected 12 fields, saw 13\\nSkipping line 280: expected 12 fields, saw 13\\nSkipping line 281: expected 12 fields, saw 13\\nSkipping line 282: expected 12 fields, saw 13\\nSkipping line 283: expected 12 fields, saw 13\\nSkipping line 284: expected 12 fields, saw 13\\nSkipping line 285: expected 12 fields, saw 13\\nSkipping line 286: expected 12 fields, saw 13\\nSkipping line 287: expected 12 fields, saw 13\\nSkipping line 288: expected 12 fields, saw 13\\nSkipping line 289: expected 12 fields, saw 13\\nSkipping line 290: expected 12 fields, saw 13\\nSkipping line 291: expected 12 fields, saw 13\\nSkipping line 292: expected 12 fields, saw 13\\nSkipping line 293: expected 12 fields, saw 13\\nSkipping line 294: expected 12 fields, saw 13\\nSkipping line 295: expected 12 fields, saw 13\\nSkipping line 296: expected 12 fields, saw 13\\nSkipping line 297: expected 12 fields, saw 13\\nSkipping line 298: expected 12 fields, saw 13\\nSkipping line 299: expected 12 fields, saw 13\\nSkipping line 300: expected 12 fields, saw 13\\nSkipping line 301: expected 12 fields, saw 13\\nSkipping line 302: expected 12 fields, saw 13\\nSkipping line 303: expected 12 fields, saw 13\\nSkipping line 304: expected 12 fields, saw 13\\nSkipping line 305: expected 12 fields, saw 13\\nSkipping line 306: expected 12 fields, saw 13\\nSkipping line 307: expected 12 fields, saw 13\\nSkipping line 308: expected 12 fields, saw 13\\nSkipping line 309: expected 12 fields, saw 13\\nSkipping line 310: expected 12 fields, saw 13\\nSkipping line 311: expected 12 fields, saw 13\\nSkipping line 312: expected 12 fields, saw 13\\nSkipping line 313: expected 12 fields, saw 13\\nSkipping line 314: expected 12 fields, saw 13\\nSkipping line 315: expected 12 fields, saw 13\\nSkipping line 316: expected 12 fields, saw 13\\nSkipping line 317: expected 12 fields, saw 13\\nSkipping line 318: expected 12 fields, saw 13\\nSkipping line 319: expected 12 fields, saw 13\\nSkipping line 320: expected 12 fields, saw 13\\nSkipping line 321: expected 12 fields, saw 13\\nSkipping line 322: expected 12 fields, saw 13\\nSkipping line 323: expected 12 fields, saw 13\\nSkipping line 324: expected 12 fields, saw 13\\nSkipping line 325: expected 12 fields, saw 13\\nSkipping line 326: expected 12 fields, saw 13\\nSkipping line 327: expected 12 fields, saw 13\\nSkipping line 328: expected 12 fields, saw 13\\nSkipping line 329: expected 12 fields, saw 13\\nSkipping line 330: expected 12 fields, saw 13\\nSkipping line 331: expected 12 fields, saw 13\\nSkipping line 332: expected 12 fields, saw 13\\nSkipping line 333: expected 12 fields, saw 13\\nSkipping line 334: expected 12 fields, saw 13\\nSkipping line 335: expected 12 fields, saw 13\\nSkipping line 336: expected 12 fields, saw 13\\nSkipping line 337: expected 12 fields, saw 13\\nSkipping line 338: expected 12 fields, saw 13\\nSkipping line 339: expected 12 fields, saw 13\\nSkipping line 340: expected 12 fields, saw 13\\nSkipping line 341: expected 12 fields, saw 13\\nSkipping line 342: expected 12 fields, saw 13\\nSkipping line 343: expected 12 fields, saw 13\\nSkipping line 344: expected 12 fields, saw 13\\nSkipping line 345: expected 12 fields, saw 13\\nSkipping line 346: expected 12 fields, saw 13\\nSkipping line 347: expected 12 fields, saw 13\\nSkipping line 348: expected 12 fields, saw 13\\nSkipping line 349: expected 12 fields, saw 13\\nSkipping line 350: expected 12 fields, saw 13\\nSkipping line 351: expected 12 fields, saw 13\\nSkipping line 352: expected 12 fields, saw 13\\nSkipping line 353: expected 12 fields, saw 13\\nSkipping line 354: expected 12 fields, saw 13\\nSkipping line 355: expected 12 fields, saw 13\\nSkipping line 356: expected 12 fields, saw 13\\nSkipping line 357: expected 12 fields, saw 13\\nSkipping line 358: expected 12 fields, saw 13\\nSkipping line 359: expected 12 fields, saw 13\\nSkipping line 360: expected 12 fields, saw 13\\nSkipping line 361: expected 12 fields, saw 13\\nSkipping line 362: expected 12 fields, saw 13\\nSkipping line 363: expected 12 fields, saw 13\\nSkipping line 364: expected 12 fields, saw 13\\nSkipping line 365: expected 12 fields, saw 13\\nSkipping line 366: expected 12 fields, saw 13\\nSkipping line 367: expected 12 fields, saw 13\\nSkipping line 368: expected 12 fields, saw 13\\nSkipping line 369: expected 12 fields, saw 13\\nSkipping line 370: expected 12 fields, saw 13\\nSkipping line 371: expected 12 fields, saw 13\\nSkipping line 372: expected 12 fields, saw 13\\nSkipping line 373: expected 12 fields, saw 13\\nSkipping line 374: expected 12 fields, saw 13\\nSkipping line 375: expected 12 fields, saw 13\\nSkipping line 376: expected 12 fields, saw 13\\nSkipping line 377: expected 12 fields, saw 13\\nSkipping line 378: expected 12 fields, saw 13\\nSkipping line 379: expected 12 fields, saw 13\\nSkipping line 380: expected 12 fields, saw 13\\nSkipping line 381: expected 12 fields, saw 13\\nSkipping line 382: expected 12 fields, saw 13\\nSkipping line 383: expected 12 fields, saw 13\\nSkipping line 384: expected 12 fields, saw 13\\nSkipping line 385: expected 12 fields, saw 13\\nSkipping line 386: expected 12 fields, saw 13\\nSkipping line 387: expected 12 fields, saw 13\\nSkipping line 388: expected 12 fields, saw 13\\nSkipping line 389: expected 12 fields, saw 13\\nSkipping line 390: expected 12 fields, saw 13\\nSkipping line 391: expected 12 fields, saw 13\\nSkipping line 392: expected 12 fields, saw 13\\nSkipping line 393: expected 12 fields, saw 13\\nSkipping line 394: expected 12 fields, saw 13\\nSkipping line 395: expected 12 fields, saw 13\\nSkipping line 396: expected 12 fields, saw 13\\nSkipping line 397: expected 12 fields, saw 13\\nSkipping line 398: expected 12 fields, saw 13\\nSkipping line 399: expected 12 fields, saw 13\\nSkipping line 400: expected 12 fields, saw 13\\nSkipping line 401: expected 12 fields, saw 13\\nSkipping line 402: expected 12 fields, saw 13\\nSkipping line 403: expected 12 fields, saw 13\\nSkipping line 404: expected 12 fields, saw 13\\nSkipping line 405: expected 12 fields, saw 13\\nSkipping line 406: expected 12 fields, saw 13\\nSkipping line 407: expected 12 fields, saw 13\\nSkipping line 408: expected 12 fields, saw 13\\nSkipping line 409: expected 12 fields, saw 13\\nSkipping line 410: expected 12 fields, saw 13\\nSkipping line 411: expected 12 fields, saw 13\\nSkipping line 412: expected 12 fields, saw 13\\nSkipping line 413: expected 12 fields, saw 13\\nSkipping line 414: expected 12 fields, saw 13\\nSkipping line 415: expected 12 fields, saw 13\\nSkipping line 416: expected 12 fields, saw 13\\nSkipping line 417: expected 12 fields, saw 13\\nSkipping line 418: expected 12 fields, saw 13\\nSkipping line 419: expected 12 fields, saw 13\\nSkipping line 420: expected 12 fields, saw 13\\nSkipping line 421: expected 12 fields, saw 13\\nSkipping line 422: expected 12 fields, saw 13\\nSkipping line 423: expected 12 fields, saw 13\\nSkipping line 424: expected 12 fields, saw 13\\nSkipping line 425: expected 12 fields, saw 13\\nSkipping line 426: expected 12 fields, saw 13\\nSkipping line 427: expected 12 fields, saw 13\\nSkipping line 428: expected 12 fields, saw 13\\nSkipping line 429: expected 12 fields, saw 13\\nSkipping line 430: expected 12 fields, saw 13\\nSkipping line 431: expected 12 fields, saw 13\\nSkipping line 432: expected 12 fields, saw 13\\nSkipping line 433: expected 12 fields, saw 13\\nSkipping line 434: expected 12 fields, saw 13\\nSkipping line 435: expected 12 fields, saw 13\\nSkipping line 436: expected 12 fields, saw 13\\nSkipping line 437: expected 12 fields, saw 13\\nSkipping line 438: expected 12 fields, saw 13\\nSkipping line 439: expected 12 fields, saw 13\\nSkipping line 440: expected 12 fields, saw 13\\nSkipping line 441: expected 12 fields, saw 13\\nSkipping line 442: expected 12 fields, saw 13\\nSkipping line 443: expected 12 fields, saw 13\\nSkipping line 444: expected 12 fields, saw 13\\nSkipping line 445: expected 12 fields, saw 13\\nSkipping line 446: expected 12 fields, saw 13\\nSkipping line 447: expected 12 fields, saw 13\\nSkipping line 448: expected 12 fields, saw 13\\nSkipping line 449: expected 12 fields, saw 13\\nSkipping line 450: expected 12 fields, saw 13\\nSkipping line 451: expected 12 fields, saw 13\\nSkipping line 452: expected 12 fields, saw 13\\nSkipping line 453: expected 12 fields, saw 13\\nSkipping line 454: expected 12 fields, saw 13\\nSkipping line 455: expected 12 fields, saw 13\\nSkipping line 456: expected 12 fields, saw 13\\nSkipping line 457: expected 12 fields, saw 13\\nSkipping line 458: expected 12 fields, saw 13\\nSkipping line 459: expected 12 fields, saw 13\\nSkipping line 460: expected 12 fields, saw 13\\nSkipping line 461: expected 12 fields, saw 13\\nSkipping line 462: expected 12 fields, saw 13\\nSkipping line 463: expected 12 fields, saw 13\\nSkipping line 464: expected 12 fields, saw 13\\nSkipping line 465: expected 12 fields, saw 13\\nSkipping line 466: expected 12 fields, saw 13\\nSkipping line 467: expected 12 fields, saw 13\\nSkipping line 468: expected 12 fields, saw 13\\nSkipping line 469: expected 12 fields, saw 13\\nSkipping line 470: expected 12 fields, saw 13\\nSkipping line 471: expected 12 fields, saw 13\\nSkipping line 472: expected 12 fields, saw 13\\nSkipping line 473: expected 12 fields, saw 13\\nSkipping line 474: expected 12 fields, saw 13\\nSkipping line 475: expected 12 fields, saw 13\\nSkipping line 476: expected 12 fields, saw 13\\nSkipping line 477: expected 12 fields, saw 13\\nSkipping line 478: expected 12 fields, saw 13\\nSkipping line 479: expected 12 fields, saw 13\\nSkipping line 480: expected 12 fields, saw 13\\nSkipping line 481: expected 12 fields, saw 13\\nSkipping line 482: expected 12 fields, saw 13\\nSkipping line 483: expected 12 fields, saw 13\\nSkipping line 484: expected 12 fields, saw 13\\nSkipping line 485: expected 12 fields, saw 13\\nSkipping line 486: expected 12 fields, saw 13\\nSkipping line 487: expected 12 fields, saw 13\\nSkipping line 488: expected 12 fields, saw 13\\nSkipping line 489: expected 12 fields, saw 13\\nSkipping line 490: expected 12 fields, saw 13\\nSkipping line 491: expected 12 fields, saw 13\\nSkipping line 492: expected 12 fields, saw 13\\nSkipping line 493: expected 12 fields, saw 13\\nSkipping line 494: expected 12 fields, saw 13\\nSkipping line 495: expected 12 fields, saw 13\\nSkipping line 496: expected 12 fields, saw 13\\nSkipping line 497: expected 12 fields, saw 13\\nSkipping line 498: expected 12 fields, saw 13\\nSkipping line 499: expected 12 fields, saw 13\\nSkipping line 500: expected 12 fields, saw 13\\nSkipping line 501: expected 12 fields, saw 13\\nSkipping line 502: expected 12 fields, saw 13\\nSkipping line 503: expected 12 fields, saw 13\\nSkipping line 504: expected 12 fields, saw 13\\nSkipping line 505: expected 12 fields, saw 13\\nSkipping line 506: expected 12 fields, saw 13\\nSkipping line 507: expected 12 fields, saw 13\\nSkipping line 508: expected 12 fields, saw 13\\nSkipping line 509: expected 12 fields, saw 13\\nSkipping line 510: expected 12 fields, saw 13\\nSkipping line 511: expected 12 fields, saw 13\\nSkipping line 512: expected 12 fields, saw 13\\nSkipping line 513: expected 12 fields, saw 13\\nSkipping line 514: expected 12 fields, saw 13\\nSkipping line 515: expected 12 fields, saw 13\\nSkipping line 516: expected 12 fields, saw 13\\nSkipping line 517: expected 12 fields, saw 13\\nSkipping line 518: expected 12 fields, saw 13\\nSkipping line 519: expected 12 fields, saw 13\\nSkipping line 520: expected 12 fields, saw 13\\nSkipping line 521: expected 12 fields, saw 13\\nSkipping line 522: expected 12 fields, saw 13\\nSkipping line 523: expected 12 fields, saw 13\\nSkipping line 524: expected 12 fields, saw 13\\nSkipping line 525: expected 12 fields, saw 13\\nSkipping line 526: expected 12 fields, saw 13\\nSkipping line 527: expected 12 fields, saw 13\\nSkipping line 528: expected 12 fields, saw 13\\nSkipping line 529: expected 12 fields, saw 13\\nSkipping line 530: expected 12 fields, saw 13\\nSkipping line 531: expected 12 fields, saw 13\\nSkipping line 532: expected 12 fields, saw 13\\nSkipping line 533: expected 12 fields, saw 13\\nSkipping line 534: expected 12 fields, saw 13\\nSkipping line 535: expected 12 fields, saw 13\\nSkipping line 536: expected 12 fields, saw 13\\nSkipping line 537: expected 12 fields, saw 13\\nSkipping line 538: expected 12 fields, saw 13\\nSkipping line 539: expected 12 fields, saw 13\\nSkipping line 540: expected 12 fields, saw 13\\nSkipping line 541: expected 12 fields, saw 13\\nSkipping line 542: expected 12 fields, saw 13\\nSkipping line 543: expected 12 fields, saw 13\\nSkipping line 544: expected 12 fields, saw 13\\nSkipping line 545: expected 12 fields, saw 13\\nSkipping line 546: expected 12 fields, saw 13\\nSkipping line 547: expected 12 fields, saw 13\\nSkipping line 548: expected 12 fields, saw 13\\nSkipping line 549: expected 12 fields, saw 13\\nSkipping line 550: expected 12 fields, saw 13\\nSkipping line 551: expected 12 fields, saw 13\\nSkipping line 552: expected 12 fields, saw 13\\nSkipping line 553: expected 12 fields, saw 13\\nSkipping line 554: expected 12 fields, saw 13\\nSkipping line 555: expected 12 fields, saw 13\\nSkipping line 556: expected 12 fields, saw 13\\nSkipping line 557: expected 12 fields, saw 13\\nSkipping line 558: expected 12 fields, saw 13\\nSkipping line 559: expected 12 fields, saw 13\\nSkipping line 560: expected 12 fields, saw 13\\nSkipping line 561: expected 12 fields, saw 13\\nSkipping line 562: expected 12 fields, saw 13\\nSkipping line 563: expected 12 fields, saw 13\\nSkipping line 564: expected 12 fields, saw 13\\nSkipping line 565: expected 12 fields, saw 13\\nSkipping line 566: expected 12 fields, saw 13\\nSkipping line 567: expected 12 fields, saw 13\\nSkipping line 568: expected 12 fields, saw 13\\nSkipping line 569: expected 12 fields, saw 13\\nSkipping line 570: expected 12 fields, saw 13\\nSkipping line 571: expected 12 fields, saw 13\\nSkipping line 572: expected 12 fields, saw 13\\nSkipping line 573: expected 12 fields, saw 13\\nSkipping line 574: expected 12 fields, saw 13\\nSkipping line 575: expected 12 fields, saw 13\\nSkipping line 576: expected 12 fields, saw 13\\nSkipping line 577: expected 12 fields, saw 13\\nSkipping line 578: expected 12 fields, saw 13\\nSkipping line 579: expected 12 fields, saw 13\\nSkipping line 580: expected 12 fields, saw 13\\nSkipping line 581: expected 12 fields, saw 13\\nSkipping line 582: expected 12 fields, saw 13\\nSkipping line 583: expected 12 fields, saw 13\\nSkipping line 584: expected 12 fields, saw 13\\nSkipping line 585: expected 12 fields, saw 13\\nSkipping line 586: expected 12 fields, saw 13\\nSkipping line 587: expected 12 fields, saw 13\\nSkipping line 588: expected 12 fields, saw 13\\nSkipping line 589: expected 12 fields, saw 13\\nSkipping line 590: expected 12 fields, saw 13\\nSkipping line 591: expected 12 fields, saw 13\\nSkipping line 592: expected 12 fields, saw 13\\nSkipping line 593: expected 12 fields, saw 13\\nSkipping line 594: expected 12 fields, saw 13\\nSkipping line 595: expected 12 fields, saw 13\\nSkipping line 596: expected 12 fields, saw 13\\nSkipping line 597: expected 12 fields, saw 13\\nSkipping line 598: expected 12 fields, saw 13\\nSkipping line 599: expected 12 fields, saw 13\\nSkipping line 600: expected 12 fields, saw 13\\nSkipping line 601: expected 12 fields, saw 13\\nSkipping line 602: expected 12 fields, saw 13\\nSkipping line 603: expected 12 fields, saw 13\\nSkipping line 604: expected 12 fields, saw 13\\nSkipping line 605: expected 12 fields, saw 13\\nSkipping line 606: expected 12 fields, saw 13\\nSkipping line 607: expected 12 fields, saw 13\\nSkipping line 608: expected 12 fields, saw 13\\nSkipping line 609: expected 12 fields, saw 13\\nSkipping line 610: expected 12 fields, saw 13\\nSkipping line 611: expected 12 fields, saw 13\\nSkipping line 612: expected 12 fields, saw 13\\nSkipping line 613: expected 12 fields, saw 13\\nSkipping line 614: expected 12 fields, saw 13\\nSkipping line 615: expected 12 fields, saw 13\\nSkipping line 616: expected 12 fields, saw 13\\nSkipping line 617: expected 12 fields, saw 13\\nSkipping line 618: expected 12 fields, saw 13\\nSkipping line 619: expected 12 fields, saw 13\\nSkipping line 620: expected 12 fields, saw 13\\nSkipping line 621: expected 12 fields, saw 13\\nSkipping line 622: expected 12 fields, saw 13\\nSkipping line 623: expected 12 fields, saw 13\\nSkipping line 624: expected 12 fields, saw 13\\nSkipping line 625: expected 12 fields, saw 13\\nSkipping line 626: expected 12 fields, saw 13\\nSkipping line 627: expected 12 fields, saw 13\\nSkipping line 628: expected 12 fields, saw 13\\nSkipping line 629: expected 12 fields, saw 13\\nSkipping line 630: expected 12 fields, saw 13\\nSkipping line 631: expected 12 fields, saw 13\\nSkipping line 632: expected 12 fields, saw 13\\nSkipping line 633: expected 12 fields, saw 13\\nSkipping line 634: expected 12 fields, saw 13\\nSkipping line 635: expected 12 fields, saw 13\\nSkipping line 636: expected 12 fields, saw 13\\nSkipping line 637: expected 12 fields, saw 13\\nSkipping line 638: expected 12 fields, saw 13\\nSkipping line 639: expected 12 fields, saw 13\\nSkipping line 640: expected 12 fields, saw 13\\nSkipping line 641: expected 12 fields, saw 13\\nSkipping line 642: expected 12 fields, saw 13\\nSkipping line 643: expected 12 fields, saw 13\\nSkipping line 644: expected 12 fields, saw 13\\nSkipping line 645: expected 12 fields, saw 13\\nSkipping line 646: expected 12 fields, saw 13\\nSkipping line 647: expected 12 fields, saw 13\\nSkipping line 648: expected 12 fields, saw 13\\nSkipping line 649: expected 12 fields, saw 13\\nSkipping line 650: expected 12 fields, saw 13\\nSkipping line 651: expected 12 fields, saw 13\\nSkipping line 652: expected 12 fields, saw 13\\nSkipping line 653: expected 12 fields, saw 13\\nSkipping line 654: expected 12 fields, saw 13\\nSkipping line 655: expected 12 fields, saw 13\\nSkipping line 656: expected 12 fields, saw 13\\nSkipping line 657: expected 12 fields, saw 13\\nSkipping line 658: expected 12 fields, saw 13\\nSkipping line 659: expected 12 fields, saw 13\\nSkipping line 660: expected 12 fields, saw 13\\nSkipping line 661: expected 12 fields, saw 13\\nSkipping line 662: expected 12 fields, saw 13\\nSkipping line 663: expected 12 fields, saw 13\\nSkipping line 664: expected 12 fields, saw 13\\nSkipping line 665: expected 12 fields, saw 13\\nSkipping line 666: expected 12 fields, saw 13\\nSkipping line 667: expected 12 fields, saw 13\\nSkipping line 668: expected 12 fields, saw 13\\nSkipping line 669: expected 12 fields, saw 13\\nSkipping line 670: expected 12 fields, saw 13\\nSkipping line 671: expected 12 fields, saw 13\\nSkipping line 672: expected 12 fields, saw 13\\nSkipping line 673: expected 12 fields, saw 13\\nSkipping line 674: expected 12 fields, saw 13\\nSkipping line 675: expected 12 fields, saw 13\\nSkipping line 676: expected 12 fields, saw 13\\nSkipping line 677: expected 12 fields, saw 13\\nSkipping line 678: expected 12 fields, saw 13\\nSkipping line 679: expected 12 fields, saw 13\\nSkipping line 680: expected 12 fields, saw 13\\nSkipping line 681: expected 12 fields, saw 13\\nSkipping line 682: expected 12 fields, saw 13\\nSkipping line 683: expected 12 fields, saw 13\\nSkipping line 684: expected 12 fields, saw 13\\nSkipping line 685: expected 12 fields, saw 13\\nSkipping line 686: expected 12 fields, saw 13\\nSkipping line 687: expected 12 fields, saw 13\\nSkipping line 688: expected 12 fields, saw 13\\nSkipping line 689: expected 12 fields, saw 13\\nSkipping line 690: expected 12 fields, saw 13\\nSkipping line 691: expected 12 fields, saw 13\\nSkipping line 692: expected 12 fields, saw 13\\nSkipping line 693: expected 12 fields, saw 13\\nSkipping line 694: expected 12 fields, saw 13\\nSkipping line 695: expected 12 fields, saw 13\\nSkipping line 696: expected 12 fields, saw 13\\nSkipping line 697: expected 12 fields, saw 13\\nSkipping line 698: expected 12 fields, saw 13\\nSkipping line 699: expected 12 fields, saw 13\\nSkipping line 700: expected 12 fields, saw 13\\nSkipping line 701: expected 12 fields, saw 13\\nSkipping line 702: expected 12 fields, saw 13\\nSkipping line 703: expected 12 fields, saw 13\\nSkipping line 704: expected 12 fields, saw 13\\nSkipping line 705: expected 12 fields, saw 13\\nSkipping line 706: expected 12 fields, saw 13\\nSkipping line 707: expected 12 fields, saw 13\\nSkipping line 708: expected 12 fields, saw 13\\nSkipping line 709: expected 12 fields, saw 13\\nSkipping line 710: expected 12 fields, saw 13\\nSkipping line 711: expected 12 fields, saw 13\\nSkipping line 712: expected 12 fields, saw 13\\nSkipping line 713: expected 12 fields, saw 13\\nSkipping line 714: expected 12 fields, saw 13\\nSkipping line 715: expected 12 fields, saw 13\\nSkipping line 716: expected 12 fields, saw 13\\nSkipping line 717: expected 12 fields, saw 13\\nSkipping line 718: expected 12 fields, saw 13\\nSkipping line 719: expected 12 fields, saw 13\\nSkipping line 720: expected 12 fields, saw 13\\nSkipping line 721: expected 12 fields, saw 13\\nSkipping line 722: expected 12 fields, saw 13\\nSkipping line 723: expected 12 fields, saw 13\\nSkipping line 724: expected 12 fields, saw 13\\nSkipping line 725: expected 12 fields, saw 13\\nSkipping line 726: expected 12 fields, saw 13\\nSkipping line 727: expected 12 fields, saw 13\\nSkipping line 728: expected 12 fields, saw 13\\nSkipping line 729: expected 12 fields, saw 13\\nSkipping line 730: expected 12 fields, saw 13\\nSkipping line 731: expected 12 fields, saw 13\\nSkipping line 732: expected 12 fields, saw 13\\nSkipping line 733: expected 12 fields, saw 13\\nSkipping line 734: expected 12 fields, saw 13\\nSkipping line 735: expected 12 fields, saw 13\\nSkipping line 736: expected 12 fields, saw 13\\nSkipping line 737: expected 12 fields, saw 13\\nSkipping line 738: expected 12 fields, saw 13\\nSkipping line 739: expected 12 fields, saw 13\\nSkipping line 740: expected 12 fields, saw 13\\nSkipping line 741: expected 12 fields, saw 13\\nSkipping line 742: expected 12 fields, saw 13\\nSkipping line 743: expected 12 fields, saw 13\\nSkipping line 744: expected 12 fields, saw 13\\nSkipping line 745: expected 12 fields, saw 13\\nSkipping line 746: expected 12 fields, saw 13\\nSkipping line 747: expected 12 fields, saw 13\\nSkipping line 748: expected 12 fields, saw 13\\nSkipping line 749: expected 12 fields, saw 13\\nSkipping line 750: expected 12 fields, saw 13\\nSkipping line 751: expected 12 fields, saw 13\\nSkipping line 752: expected 12 fields, saw 13\\nSkipping line 753: expected 12 fields, saw 13\\nSkipping line 754: expected 12 fields, saw 13\\nSkipping line 755: expected 12 fields, saw 13\\nSkipping line 756: expected 12 fields, saw 13\\nSkipping line 757: expected 12 fields, saw 13\\nSkipping line 758: expected 12 fields, saw 13\\nSkipping line 759: expected 12 fields, saw 13\\nSkipping line 760: expected 12 fields, saw 13\\nSkipping line 761: expected 12 fields, saw 13\\nSkipping line 762: expected 12 fields, saw 13\\nSkipping line 763: expected 12 fields, saw 13\\nSkipping line 764: expected 12 fields, saw 13\\nSkipping line 765: expected 12 fields, saw 13\\nSkipping line 766: expected 12 fields, saw 13\\nSkipping line 767: expected 12 fields, saw 13\\nSkipping line 768: expected 12 fields, saw 13\\nSkipping line 769: expected 12 fields, saw 13\\nSkipping line 770: expected 12 fields, saw 13\\nSkipping line 771: expected 12 fields, saw 13\\nSkipping line 772: expected 12 fields, saw 13\\nSkipping line 773: expected 12 fields, saw 13\\nSkipping line 774: expected 12 fields, saw 13\\nSkipping line 775: expected 12 fields, saw 13\\nSkipping line 776: expected 12 fields, saw 13\\nSkipping line 777: expected 12 fields, saw 13\\nSkipping line 778: expected 12 fields, saw 13\\nSkipping line 779: expected 12 fields, saw 13\\nSkipping line 780: expected 12 fields, saw 13\\nSkipping line 781: expected 12 fields, saw 13\\nSkipping line 782: expected 12 fields, saw 13\\nSkipping line 783: expected 12 fields, saw 13\\nSkipping line 784: expected 12 fields, saw 13\\nSkipping line 785: expected 12 fields, saw 13\\nSkipping line 786: expected 12 fields, saw 13\\nSkipping line 787: expected 12 fields, saw 13\\nSkipping line 788: expected 12 fields, saw 13\\nSkipping line 789: expected 12 fields, saw 13\\nSkipping line 790: expected 12 fields, saw 13\\nSkipping line 791: expected 12 fields, saw 13\\nSkipping line 792: expected 12 fields, saw 13\\nSkipping line 793: expected 12 fields, saw 13\\nSkipping line 794: expected 12 fields, saw 13\\nSkipping line 795: expected 12 fields, saw 13\\nSkipping line 796: expected 12 fields, saw 13\\nSkipping line 797: expected 12 fields, saw 13\\nSkipping line 798: expected 12 fields, saw 13\\nSkipping line 799: expected 12 fields, saw 13\\nSkipping line 800: expected 12 fields, saw 13\\nSkipping line 801: expected 12 fields, saw 13\\nSkipping line 802: expected 12 fields, saw 13\\nSkipping line 803: expected 12 fields, saw 13\\nSkipping line 804: expected 12 fields, saw 13\\nSkipping line 805: expected 12 fields, saw 13\\nSkipping line 806: expected 12 fields, saw 13\\nSkipping line 807: expected 12 fields, saw 13\\nSkipping line 808: expected 12 fields, saw 13\\nSkipping line 809: expected 12 fields, saw 13\\nSkipping line 810: expected 12 fields, saw 13\\nSkipping line 811: expected 12 fields, saw 13\\nSkipping line 812: expected 12 fields, saw 13\\nSkipping line 813: expected 12 fields, saw 13\\nSkipping line 814: expected 12 fields, saw 13\\nSkipping line 815: expected 12 fields, saw 13\\nSkipping line 816: expected 12 fields, saw 13\\nSkipping line 817: expected 12 fields, saw 13\\nSkipping line 818: expected 12 fields, saw 13\\nSkipping line 819: expected 12 fields, saw 13\\nSkipping line 820: expected 12 fields, saw 13\\nSkipping line 821: expected 12 fields, saw 13\\nSkipping line 822: expected 12 fields, saw 13\\nSkipping line 823: expected 12 fields, saw 13\\nSkipping line 824: expected 12 fields, saw 13\\nSkipping line 825: expected 12 fields, saw 13\\nSkipping line 826: expected 12 fields, saw 13\\nSkipping line 827: expected 12 fields, saw 13\\nSkipping line 828: expected 12 fields, saw 13\\nSkipping line 829: expected 12 fields, saw 13\\nSkipping line 830: expected 12 fields, saw 13\\nSkipping line 831: expected 12 fields, saw 13\\nSkipping line 832: expected 12 fields, saw 13\\nSkipping line 833: expected 12 fields, saw 13\\nSkipping line 834: expected 12 fields, saw 13\\nSkipping line 835: expected 12 fields, saw 13\\nSkipping line 836: expected 12 fields, saw 13\\nSkipping line 837: expected 12 fields, saw 13\\nSkipping line 838: expected 12 fields, saw 13\\nSkipping line 839: expected 12 fields, saw 13\\nSkipping line 840: expected 12 fields, saw 13\\nSkipping line 841: expected 12 fields, saw 13\\nSkipping line 842: expected 12 fields, saw 13\\nSkipping line 843: expected 12 fields, saw 13\\nSkipping line 844: expected 12 fields, saw 13\\nSkipping line 845: expected 12 fields, saw 13\\nSkipping line 846: expected 12 fields, saw 13\\nSkipping line 847: expected 12 fields, saw 13\\nSkipping line 848: expected 12 fields, saw 13\\nSkipping line 849: expected 12 fields, saw 13\\nSkipping line 850: expected 12 fields, saw 13\\nSkipping line 851: expected 12 fields, saw 13\\nSkipping line 852: expected 12 fields, saw 13\\nSkipping line 853: expected 12 fields, saw 13\\nSkipping line 854: expected 12 fields, saw 13\\nSkipping line 855: expected 12 fields, saw 13\\nSkipping line 856: expected 12 fields, saw 13\\nSkipping line 857: expected 12 fields, saw 13\\nSkipping line 858: expected 12 fields, saw 13\\nSkipping line 859: expected 12 fields, saw 13\\nSkipping line 860: expected 12 fields, saw 13\\nSkipping line 861: expected 12 fields, saw 13\\nSkipping line 862: expected 12 fields, saw 13\\nSkipping line 863: expected 12 fields, saw 13\\nSkipping line 864: expected 12 fields, saw 13\\nSkipping line 865: expected 12 fields, saw 13\\nSkipping line 866: expected 12 fields, saw 13\\nSkipping line 867: expected 12 fields, saw 13\\nSkipping line 868: expected 12 fields, saw 13\\nSkipping line 869: expected 12 fields, saw 13\\nSkipping line 870: expected 12 fields, saw 13\\nSkipping line 871: expected 12 fields, saw 13\\nSkipping line 872: expected 12 fields, saw 13\\nSkipping line 873: expected 12 fields, saw 13\\nSkipping line 874: expected 12 fields, saw 13\\nSkipping line 875: expected 12 fields, saw 13\\nSkipping line 876: expected 12 fields, saw 13\\nSkipping line 877: expected 12 fields, saw 13\\nSkipping line 878: expected 12 fields, saw 13\\nSkipping line 879: expected 12 fields, saw 13\\nSkipping line 880: expected 12 fields, saw 13\\nSkipping line 881: expected 12 fields, saw 13\\nSkipping line 882: expected 12 fields, saw 13\\nSkipping line 883: expected 12 fields, saw 13\\nSkipping line 884: expected 12 fields, saw 13\\nSkipping line 885: expected 12 fields, saw 13\\nSkipping line 886: expected 12 fields, saw 13\\nSkipping line 887: expected 12 fields, saw 13\\nSkipping line 888: expected 12 fields, saw 13\\nSkipping line 889: expected 12 fields, saw 13\\nSkipping line 890: expected 12 fields, saw 13\\nSkipping line 891: expected 12 fields, saw 13\\nSkipping line 892: expected 12 fields, saw 13\\nSkipping line 893: expected 12 fields, saw 13\\nSkipping line 894: expected 12 fields, saw 13\\nSkipping line 895: expected 12 fields, saw 13\\nSkipping line 896: expected 12 fields, saw 13\\nSkipping line 897: expected 12 fields, saw 13\\nSkipping line 898: expected 12 fields, saw 13\\nSkipping line 899: expected 12 fields, saw 13\\nSkipping line 900: expected 12 fields, saw 13\\nSkipping line 901: expected 12 fields, saw 13\\nSkipping line 902: expected 12 fields, saw 13\\nSkipping line 903: expected 12 fields, saw 13\\nSkipping line 904: expected 12 fields, saw 13\\nSkipping line 905: expected 12 fields, saw 13\\nSkipping line 906: expected 12 fields, saw 13\\nSkipping line 907: expected 12 fields, saw 13\\nSkipping line 908: expected 12 fields, saw 13\\nSkipping line 909: expected 12 fields, saw 13\\nSkipping line 910: expected 12 fields, saw 13\\nSkipping line 911: expected 12 fields, saw 13\\nSkipping line 912: expected 12 fields, saw 13\\nSkipping line 913: expected 12 fields, saw 13\\nSkipping line 914: expected 12 fields, saw 13\\nSkipping line 915: expected 12 fields, saw 13\\nSkipping line 916: expected 12 fields, saw 13\\nSkipping line 917: expected 12 fields, saw 13\\nSkipping line 918: expected 12 fields, saw 13\\nSkipping line 919: expected 12 fields, saw 13\\nSkipping line 920: expected 12 fields, saw 13\\nSkipping line 921: expected 12 fields, saw 13\\nSkipping line 922: expected 12 fields, saw 13\\nSkipping line 923: expected 12 fields, saw 13\\nSkipping line 924: expected 12 fields, saw 13\\nSkipping line 925: expected 12 fields, saw 13\\nSkipping line 926: expected 12 fields, saw 13\\nSkipping line 927: expected 12 fields, saw 13\\nSkipping line 928: expected 12 fields, saw 13\\nSkipping line 929: expected 12 fields, saw 13\\nSkipping line 930: expected 12 fields, saw 13\\nSkipping line 931: expected 12 fields, saw 13\\nSkipping line 932: expected 12 fields, saw 13\\nSkipping line 933: expected 12 fields, saw 13\\nSkipping line 934: expected 12 fields, saw 13\\nSkipping line 935: expected 12 fields, saw 13\\nSkipping line 936: expected 12 fields, saw 13\\nSkipping line 937: expected 12 fields, saw 13\\nSkipping line 938: expected 12 fields, saw 13\\nSkipping line 939: expected 12 fields, saw 13\\nSkipping line 940: expected 12 fields, saw 13\\nSkipping line 941: expected 12 fields, saw 13\\nSkipping line 942: expected 12 fields, saw 13\\nSkipping line 943: expected 12 fields, saw 13\\nSkipping line 944: expected 12 fields, saw 13\\nSkipping line 945: expected 12 fields, saw 13\\nSkipping line 946: expected 12 fields, saw 13\\nSkipping line 947: expected 12 fields, saw 13\\nSkipping line 948: expected 12 fields, saw 13\\nSkipping line 949: expected 12 fields, saw 13\\nSkipping line 950: expected 12 fields, saw 13\\nSkipping line 951: expected 12 fields, saw 13\\nSkipping line 952: expected 12 fields, saw 13\\nSkipping line 953: expected 12 fields, saw 13\\nSkipping line 954: expected 12 fields, saw 13\\nSkipping line 955: expected 12 fields, saw 13\\nSkipping line 956: expected 12 fields, saw 13\\nSkipping line 957: expected 12 fields, saw 13\\nSkipping line 958: expected 12 fields, saw 13\\nSkipping line 959: expected 12 fields, saw 13\\nSkipping line 960: expected 12 fields, saw 13\\nSkipping line 961: expected 12 fields, saw 13\\nSkipping line 962: expected 12 fields, saw 13\\nSkipping line 963: expected 12 fields, saw 13\\nSkipping line 964: expected 12 fields, saw 13\\nSkipping line 965: expected 12 fields, saw 13\\nSkipping line 966: expected 12 fields, saw 13\\nSkipping line 967: expected 12 fields, saw 13\\nSkipping line 968: expected 12 fields, saw 13\\nSkipping line 969: expected 12 fields, saw 13\\nSkipping line 970: expected 12 fields, saw 13\\nSkipping line 971: expected 12 fields, saw 13\\nSkipping line 972: expected 12 fields, saw 13\\nSkipping line 973: expected 12 fields, saw 13\\nSkipping line 974: expected 12 fields, saw 13\\nSkipping line 975: expected 12 fields, saw 13\\nSkipping line 976: expected 12 fields, saw 13\\nSkipping line 977: expected 12 fields, saw 13\\nSkipping line 978: expected 12 fields, saw 13\\nSkipping line 979: expected 12 fields, saw 13\\nSkipping line 980: expected 12 fields, saw 13\\nSkipping line 981: expected 12 fields, saw 13\\nSkipping line 982: expected 12 fields, saw 13\\nSkipping line 983: expected 12 fields, saw 13\\nSkipping line 984: expected 12 fields, saw 13\\nSkipping line 985: expected 12 fields, saw 13\\nSkipping line 986: expected 12 fields, saw 13\\nSkipping line 987: expected 12 fields, saw 13\\nSkipping line 988: expected 12 fields, saw 13\\nSkipping line 989: expected 12 fields, saw 13\\nSkipping line 990: expected 12 fields, saw 13\\nSkipping line 991: expected 12 fields, saw 13\\nSkipping line 992: expected 12 fields, saw 13\\nSkipping line 993: expected 12 fields, saw 13\\nSkipping line 994: expected 12 fields, saw 13\\nSkipping line 995: expected 12 fields, saw 13\\nSkipping line 996: expected 12 fields, saw 13\\nSkipping line 997: expected 12 fields, saw 13\\nSkipping line 998: expected 12 fields, saw 13\\nSkipping line 999: expected 12 fields, saw 13\\nSkipping line 1000: expected 12 fields, saw 13\\n'\n"
     ]
    },
    {
     "ename": "KeyError",
     "evalue": "\"['100%_Correct'] not found in axis\"",
     "output_type": "error",
     "traceback": [
      "\u001b[1;31m---------------------------------------------------------------------------\u001b[0m",
      "\u001b[1;31mKeyError\u001b[0m                                  Traceback (most recent call last)",
      "\u001b[1;32m<ipython-input-19-cc1f1b90bb5a>\u001b[0m in \u001b[0;36m<module>\u001b[1;34m\u001b[0m\n\u001b[0;32m      2\u001b[0m \u001b[0mdf\u001b[0m\u001b[1;33m=\u001b[0m\u001b[0mpd\u001b[0m\u001b[1;33m.\u001b[0m\u001b[0mread_csv\u001b[0m\u001b[1;33m(\u001b[0m\u001b[1;34m\"C:\\\\Users\\\\jhasa\\\\Desktop\\\\Untitled_spreadsheet.csv\"\u001b[0m\u001b[1;33m,\u001b[0m\u001b[0merror_bad_lines\u001b[0m\u001b[1;33m=\u001b[0m\u001b[1;32mFalse\u001b[0m\u001b[1;33m)\u001b[0m\u001b[1;33m\u001b[0m\u001b[1;33m\u001b[0m\u001b[0m\n\u001b[0;32m      3\u001b[0m \u001b[1;33m\u001b[0m\u001b[0m\n\u001b[1;32m----> 4\u001b[1;33m \u001b[0mdf\u001b[0m\u001b[1;33m.\u001b[0m\u001b[0mdrop\u001b[0m\u001b[1;33m(\u001b[0m\u001b[1;33m[\u001b[0m\u001b[1;34m'100%_Correct'\u001b[0m\u001b[1;33m]\u001b[0m\u001b[1;33m,\u001b[0m\u001b[0minplace\u001b[0m\u001b[1;33m=\u001b[0m\u001b[1;32mTrue\u001b[0m\u001b[1;33m)\u001b[0m\u001b[1;33m\u001b[0m\u001b[1;33m\u001b[0m\u001b[0m\n\u001b[0m\u001b[0;32m      5\u001b[0m \u001b[0mdf\u001b[0m\u001b[1;33m\u001b[0m\u001b[1;33m\u001b[0m\u001b[0m\n",
      "\u001b[1;32m~\\Anaconda3\\lib\\site-packages\\pandas\\core\\frame.py\u001b[0m in \u001b[0;36mdrop\u001b[1;34m(self, labels, axis, index, columns, level, inplace, errors)\u001b[0m\n\u001b[0;32m   3938\u001b[0m                                            \u001b[0mindex\u001b[0m\u001b[1;33m=\u001b[0m\u001b[0mindex\u001b[0m\u001b[1;33m,\u001b[0m \u001b[0mcolumns\u001b[0m\u001b[1;33m=\u001b[0m\u001b[0mcolumns\u001b[0m\u001b[1;33m,\u001b[0m\u001b[1;33m\u001b[0m\u001b[1;33m\u001b[0m\u001b[0m\n\u001b[0;32m   3939\u001b[0m                                            \u001b[0mlevel\u001b[0m\u001b[1;33m=\u001b[0m\u001b[0mlevel\u001b[0m\u001b[1;33m,\u001b[0m \u001b[0minplace\u001b[0m\u001b[1;33m=\u001b[0m\u001b[0minplace\u001b[0m\u001b[1;33m,\u001b[0m\u001b[1;33m\u001b[0m\u001b[1;33m\u001b[0m\u001b[0m\n\u001b[1;32m-> 3940\u001b[1;33m                                            errors=errors)\n\u001b[0m\u001b[0;32m   3941\u001b[0m \u001b[1;33m\u001b[0m\u001b[0m\n\u001b[0;32m   3942\u001b[0m     @rewrite_axis_style_signature('mapper', [('copy', True),\n",
      "\u001b[1;32m~\\Anaconda3\\lib\\site-packages\\pandas\\core\\generic.py\u001b[0m in \u001b[0;36mdrop\u001b[1;34m(self, labels, axis, index, columns, level, inplace, errors)\u001b[0m\n\u001b[0;32m   3778\u001b[0m         \u001b[1;32mfor\u001b[0m \u001b[0maxis\u001b[0m\u001b[1;33m,\u001b[0m \u001b[0mlabels\u001b[0m \u001b[1;32min\u001b[0m \u001b[0maxes\u001b[0m\u001b[1;33m.\u001b[0m\u001b[0mitems\u001b[0m\u001b[1;33m(\u001b[0m\u001b[1;33m)\u001b[0m\u001b[1;33m:\u001b[0m\u001b[1;33m\u001b[0m\u001b[1;33m\u001b[0m\u001b[0m\n\u001b[0;32m   3779\u001b[0m             \u001b[1;32mif\u001b[0m \u001b[0mlabels\u001b[0m \u001b[1;32mis\u001b[0m \u001b[1;32mnot\u001b[0m \u001b[1;32mNone\u001b[0m\u001b[1;33m:\u001b[0m\u001b[1;33m\u001b[0m\u001b[1;33m\u001b[0m\u001b[0m\n\u001b[1;32m-> 3780\u001b[1;33m                 \u001b[0mobj\u001b[0m \u001b[1;33m=\u001b[0m \u001b[0mobj\u001b[0m\u001b[1;33m.\u001b[0m\u001b[0m_drop_axis\u001b[0m\u001b[1;33m(\u001b[0m\u001b[0mlabels\u001b[0m\u001b[1;33m,\u001b[0m \u001b[0maxis\u001b[0m\u001b[1;33m,\u001b[0m \u001b[0mlevel\u001b[0m\u001b[1;33m=\u001b[0m\u001b[0mlevel\u001b[0m\u001b[1;33m,\u001b[0m \u001b[0merrors\u001b[0m\u001b[1;33m=\u001b[0m\u001b[0merrors\u001b[0m\u001b[1;33m)\u001b[0m\u001b[1;33m\u001b[0m\u001b[1;33m\u001b[0m\u001b[0m\n\u001b[0m\u001b[0;32m   3781\u001b[0m \u001b[1;33m\u001b[0m\u001b[0m\n\u001b[0;32m   3782\u001b[0m         \u001b[1;32mif\u001b[0m \u001b[0minplace\u001b[0m\u001b[1;33m:\u001b[0m\u001b[1;33m\u001b[0m\u001b[1;33m\u001b[0m\u001b[0m\n",
      "\u001b[1;32m~\\Anaconda3\\lib\\site-packages\\pandas\\core\\generic.py\u001b[0m in \u001b[0;36m_drop_axis\u001b[1;34m(self, labels, axis, level, errors)\u001b[0m\n\u001b[0;32m   3810\u001b[0m                 \u001b[0mnew_axis\u001b[0m \u001b[1;33m=\u001b[0m \u001b[0maxis\u001b[0m\u001b[1;33m.\u001b[0m\u001b[0mdrop\u001b[0m\u001b[1;33m(\u001b[0m\u001b[0mlabels\u001b[0m\u001b[1;33m,\u001b[0m \u001b[0mlevel\u001b[0m\u001b[1;33m=\u001b[0m\u001b[0mlevel\u001b[0m\u001b[1;33m,\u001b[0m \u001b[0merrors\u001b[0m\u001b[1;33m=\u001b[0m\u001b[0merrors\u001b[0m\u001b[1;33m)\u001b[0m\u001b[1;33m\u001b[0m\u001b[1;33m\u001b[0m\u001b[0m\n\u001b[0;32m   3811\u001b[0m             \u001b[1;32melse\u001b[0m\u001b[1;33m:\u001b[0m\u001b[1;33m\u001b[0m\u001b[1;33m\u001b[0m\u001b[0m\n\u001b[1;32m-> 3812\u001b[1;33m                 \u001b[0mnew_axis\u001b[0m \u001b[1;33m=\u001b[0m \u001b[0maxis\u001b[0m\u001b[1;33m.\u001b[0m\u001b[0mdrop\u001b[0m\u001b[1;33m(\u001b[0m\u001b[0mlabels\u001b[0m\u001b[1;33m,\u001b[0m \u001b[0merrors\u001b[0m\u001b[1;33m=\u001b[0m\u001b[0merrors\u001b[0m\u001b[1;33m)\u001b[0m\u001b[1;33m\u001b[0m\u001b[1;33m\u001b[0m\u001b[0m\n\u001b[0m\u001b[0;32m   3813\u001b[0m             \u001b[0mresult\u001b[0m \u001b[1;33m=\u001b[0m \u001b[0mself\u001b[0m\u001b[1;33m.\u001b[0m\u001b[0mreindex\u001b[0m\u001b[1;33m(\u001b[0m\u001b[1;33m**\u001b[0m\u001b[1;33m{\u001b[0m\u001b[0maxis_name\u001b[0m\u001b[1;33m:\u001b[0m \u001b[0mnew_axis\u001b[0m\u001b[1;33m}\u001b[0m\u001b[1;33m)\u001b[0m\u001b[1;33m\u001b[0m\u001b[1;33m\u001b[0m\u001b[0m\n\u001b[0;32m   3814\u001b[0m \u001b[1;33m\u001b[0m\u001b[0m\n",
      "\u001b[1;32m~\\Anaconda3\\lib\\site-packages\\pandas\\core\\indexes\\base.py\u001b[0m in \u001b[0;36mdrop\u001b[1;34m(self, labels, errors)\u001b[0m\n\u001b[0;32m   4963\u001b[0m             \u001b[1;32mif\u001b[0m \u001b[0merrors\u001b[0m \u001b[1;33m!=\u001b[0m \u001b[1;34m'ignore'\u001b[0m\u001b[1;33m:\u001b[0m\u001b[1;33m\u001b[0m\u001b[1;33m\u001b[0m\u001b[0m\n\u001b[0;32m   4964\u001b[0m                 raise KeyError(\n\u001b[1;32m-> 4965\u001b[1;33m                     '{} not found in axis'.format(labels[mask]))\n\u001b[0m\u001b[0;32m   4966\u001b[0m             \u001b[0mindexer\u001b[0m \u001b[1;33m=\u001b[0m \u001b[0mindexer\u001b[0m\u001b[1;33m[\u001b[0m\u001b[1;33m~\u001b[0m\u001b[0mmask\u001b[0m\u001b[1;33m]\u001b[0m\u001b[1;33m\u001b[0m\u001b[1;33m\u001b[0m\u001b[0m\n\u001b[0;32m   4967\u001b[0m         \u001b[1;32mreturn\u001b[0m \u001b[0mself\u001b[0m\u001b[1;33m.\u001b[0m\u001b[0mdelete\u001b[0m\u001b[1;33m(\u001b[0m\u001b[0mindexer\u001b[0m\u001b[1;33m)\u001b[0m\u001b[1;33m\u001b[0m\u001b[1;33m\u001b[0m\u001b[0m\n",
      "\u001b[1;31mKeyError\u001b[0m: \"['100%_Correct'] not found in axis\""
     ]
    }
   ],
   "source": [
    "import pandas as pd\n",
    "df=pd.read_csv(\"C:\\\\Users\\\\jhasa\\\\Desktop\\\\Untitled_spreadsheet.csv\",error_bad_lines=False)\n",
    "\n",
    "df.drop(['100%_Correct'],inplace=True)\n",
    "df"
   ]
  }
 ],
 "metadata": {
  "kernelspec": {
   "display_name": "Python 3",
   "language": "python",
   "name": "python3"
  },
  "language_info": {
   "codemirror_mode": {
    "name": "ipython",
    "version": 3
   },
   "file_extension": ".py",
   "mimetype": "text/x-python",
   "name": "python",
   "nbconvert_exporter": "python",
   "pygments_lexer": "ipython3",
   "version": "3.7.3"
  }
 },
 "nbformat": 4,
 "nbformat_minor": 2
}
