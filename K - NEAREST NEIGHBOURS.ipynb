{
 "cells": [
  {
   "cell_type": "code",
   "execution_count": 41,
   "metadata": {},
   "outputs": [],
   "source": [
    "from sklearn import datasets\n",
    "from sklearn.model_selection import train_test_split\n",
    "from sklearn.model_selection import cross_val_score\n",
    "from sklearn.model_selection import KFold\n",
    "from sklearn.neighbors import KNeighborsClassifier\n",
    "from collections import Counter\n",
    "from sklearn.metrics import accuracy_score"
   ]
  },
  {
   "cell_type": "code",
   "execution_count": 36,
   "metadata": {},
   "outputs": [],
   "source": [
    "data = datasets.load_breast_cancer()\n",
    "x,y = data.data, data.target\n",
    "x_train,x_test,y_train,y_test=train_test_split(x,y)"
   ]
  },
  {
   "cell_type": "code",
   "execution_count": 37,
   "metadata": {},
   "outputs": [
    {
     "data": {
      "text/plain": [
       "0.9020979020979021"
      ]
     },
     "execution_count": 37,
     "metadata": {},
     "output_type": "execute_result"
    }
   ],
   "source": [
    "clf = KNeighborsClassifier()\n",
    "clf.fit(x_train,y_train)\n",
    "clf.score(x_test,y_test)"
   ]
  },
  {
   "cell_type": "code",
   "execution_count": 38,
   "metadata": {
    "scrolled": true
   },
   "outputs": [
    {
     "name": "stdout",
     "output_type": "stream",
     "text": [
      "1 0.9154929577464789\n",
      "3 0.931924882629108\n",
      "5 0.9366197183098591\n",
      "7 0.9342723004694835\n",
      "9 0.9272300469483569\n",
      "11 0.9248826291079811\n",
      "13 0.92018779342723\n",
      "15 0.92018779342723\n",
      "17 0.9154929577464789\n",
      "19 0.92018779342723\n",
      "21 0.9178403755868545\n",
      "23 0.9131455399061034\n",
      "25 0.9154929577464789\n"
     ]
    }
   ],
   "source": [
    "for i in range(1, 26, 2):\n",
    "    clf = KNeighborsClassifier(n_neighbors=i)\n",
    "    score = cross_val_score(clf, x_train, y_train, cv=KFold(3)).mean()\n",
    "    print(i,score)"
   ]
  },
  {
   "cell_type": "code",
   "execution_count": 39,
   "metadata": {},
   "outputs": [
    {
     "data": {
      "text/plain": [
       "0.9230769230769231"
      ]
     },
     "execution_count": 39,
     "metadata": {},
     "output_type": "execute_result"
    }
   ],
   "source": [
    "clf = KNeighborsClassifier(n_neighbors=7)\n",
    "clf.fit(x_train,y_train)\n",
    "clf.score(x_test,y_test)"
   ]
  },
  {
   "cell_type": "code",
   "execution_count": 53,
   "metadata": {},
   "outputs": [],
   "source": [
    "def train(x, y):\n",
    "    return\n",
    "\n",
    "def predict_one(x_train, y_train, x, k):\n",
    "    distances = []\n",
    "    for i in range(len(x_train)):\n",
    "        distance = ((x_train[i,:] - x)**2).sum()\n",
    "        distances.append([distance, i])\n",
    "    distances.sort()\n",
    "    near_k=[]\n",
    "    for i in range(k):\n",
    "        near_k.append(y_train[distances[i][1]])\n",
    "    near_k = Counter(near_k)\n",
    "    return near_k.most_common(1)[0][0]\n",
    "\n",
    "def predict(x_train, y_train, x_test, k):\n",
    "    predictions = []\n",
    "    for x in x_test:\n",
    "        predictions.append(predict_one(x_train, y_train, x, k))\n",
    "    return predictions\n",
    "\n",
    "y_pred = predict(x_train, y_train, x_test, 7)"
   ]
  },
  {
   "cell_type": "code",
   "execution_count": 55,
   "metadata": {},
   "outputs": [
    {
     "data": {
      "text/plain": [
       "0.9230769230769231"
      ]
     },
     "execution_count": 55,
     "metadata": {},
     "output_type": "execute_result"
    }
   ],
   "source": [
    "accuracy_score(y_test, y_pred)"
   ]
  }
 ],
 "metadata": {
  "kernelspec": {
   "display_name": "Python 3",
   "language": "python",
   "name": "python3"
  },
  "language_info": {
   "codemirror_mode": {
    "name": "ipython",
    "version": 3
   },
   "file_extension": ".py",
   "mimetype": "text/x-python",
   "name": "python",
   "nbconvert_exporter": "python",
   "pygments_lexer": "ipython3",
   "version": "3.7.3"
  }
 },
 "nbformat": 4,
 "nbformat_minor": 2
}
