{
 "cells": [
  {
   "cell_type": "code",
   "execution_count": 1,
   "metadata": {},
   "outputs": [],
   "source": [
    "import numpy as np"
   ]
  },
  {
   "cell_type": "markdown",
   "metadata": {},
   "source": [
    "### MAKING OUR OWN LINEAR REGRESSION CODE FOR ONE INDEPENDENT VARIABLE"
   ]
  },
  {
   "cell_type": "code",
   "execution_count": null,
   "metadata": {},
   "outputs": [],
   "source": [
    "def fit(x_train,y_train):\n",
    "    a=(x_train*y_train).mean()-(y_train.mean())*(x_train.mean())\n",
    "    b=(x_train*x_train).mean()-(x_train.mean())*(x_train.mean())\n",
    "    m=a/b\n",
    "    c=y_train.mean()-m*(x_train.mean())\n",
    "    return m,c\n",
    "\n",
    "def predict(x_test,m,c):\n",
    "    y_pred=m*x_test+c\n",
    "    return y_pred\n",
    "\n",
    "def cd(y_pred,y_test): # score\n",
    "    u=((y_test)**2+(y_pred)**2-2*(y_pred)*(y_test)).sum()\n",
    "    ym=y.mean()\n",
    "    v=((y_test)**2+(ym)**2-2*(y_test)*(ym)).sum()\n",
    "    coeff_d=1-(u/v)\n",
    "    return coedd_d\n",
    "\n",
    "def cost(x_train,y_train,m,c):\n",
    "    return ((y_train-m*x_train-c)**2).mean()"
   ]
  }
 ],
 "metadata": {
  "kernelspec": {
   "display_name": "Python 3",
   "language": "python",
   "name": "python3"
  },
  "language_info": {
   "codemirror_mode": {
    "name": "ipython",
    "version": 3
   },
   "file_extension": ".py",
   "mimetype": "text/x-python",
   "name": "python",
   "nbconvert_exporter": "python",
   "pygments_lexer": "ipython3",
   "version": "3.7.3"
  }
 },
 "nbformat": 4,
 "nbformat_minor": 2
}
