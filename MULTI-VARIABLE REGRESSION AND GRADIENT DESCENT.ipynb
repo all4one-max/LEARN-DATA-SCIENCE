{
 "cells": [
  {
   "cell_type": "markdown",
   "metadata": {},
   "source": [
    "### ADDING NEW FEATURES TO BOSTON DATASET AND COMPARING NEW AND OLD TEST SCORE"
   ]
  },
  {
   "cell_type": "code",
   "execution_count": 1,
   "metadata": {},
   "outputs": [],
   "source": [
    "from sklearn import datasets\n",
    "import pandas as pd,numpy as np"
   ]
  },
  {
   "cell_type": "code",
   "execution_count": 2,
   "metadata": {},
   "outputs": [],
   "source": [
    "boston=datasets.load_boston()\n",
    "X=boston.data\n",
    "Y=boston.target"
   ]
  },
  {
   "cell_type": "code",
   "execution_count": 4,
   "metadata": {},
   "outputs": [
    {
     "data": {
      "text/html": [
       "<div>\n",
       "<style scoped>\n",
       "    .dataframe tbody tr th:only-of-type {\n",
       "        vertical-align: middle;\n",
       "    }\n",
       "\n",
       "    .dataframe tbody tr th {\n",
       "        vertical-align: top;\n",
       "    }\n",
       "\n",
       "    .dataframe thead th {\n",
       "        text-align: right;\n",
       "    }\n",
       "</style>\n",
       "<table border=\"1\" class=\"dataframe\">\n",
       "  <thead>\n",
       "    <tr style=\"text-align: right;\">\n",
       "      <th></th>\n",
       "      <th>CRIM</th>\n",
       "      <th>ZN</th>\n",
       "      <th>INDUS</th>\n",
       "      <th>CHAS</th>\n",
       "      <th>NOX</th>\n",
       "      <th>RM</th>\n",
       "      <th>AGE</th>\n",
       "      <th>DIS</th>\n",
       "      <th>RAD</th>\n",
       "      <th>TAX</th>\n",
       "      <th>...</th>\n",
       "      <th>CHAS_4</th>\n",
       "      <th>NOX_5</th>\n",
       "      <th>RM_6</th>\n",
       "      <th>AGE_7</th>\n",
       "      <th>DIS_8</th>\n",
       "      <th>RAD_9</th>\n",
       "      <th>TAX_10</th>\n",
       "      <th>PTRATIO_11</th>\n",
       "      <th>B_12</th>\n",
       "      <th>LSTAT_13</th>\n",
       "    </tr>\n",
       "  </thead>\n",
       "  <tbody>\n",
       "    <tr>\n",
       "      <th>0</th>\n",
       "      <td>0.00632</td>\n",
       "      <td>18.0</td>\n",
       "      <td>2.31</td>\n",
       "      <td>0.0</td>\n",
       "      <td>0.538</td>\n",
       "      <td>6.575</td>\n",
       "      <td>65.2</td>\n",
       "      <td>4.0900</td>\n",
       "      <td>1.0</td>\n",
       "      <td>296.0</td>\n",
       "      <td>...</td>\n",
       "      <td>0.0</td>\n",
       "      <td>0.289444</td>\n",
       "      <td>43.230625</td>\n",
       "      <td>4251.04</td>\n",
       "      <td>16.728100</td>\n",
       "      <td>1.0</td>\n",
       "      <td>87616.0</td>\n",
       "      <td>234.09</td>\n",
       "      <td>157529.6100</td>\n",
       "      <td>24.8004</td>\n",
       "    </tr>\n",
       "    <tr>\n",
       "      <th>1</th>\n",
       "      <td>0.02731</td>\n",
       "      <td>0.0</td>\n",
       "      <td>7.07</td>\n",
       "      <td>0.0</td>\n",
       "      <td>0.469</td>\n",
       "      <td>6.421</td>\n",
       "      <td>78.9</td>\n",
       "      <td>4.9671</td>\n",
       "      <td>2.0</td>\n",
       "      <td>242.0</td>\n",
       "      <td>...</td>\n",
       "      <td>0.0</td>\n",
       "      <td>0.219961</td>\n",
       "      <td>41.229241</td>\n",
       "      <td>6225.21</td>\n",
       "      <td>24.672082</td>\n",
       "      <td>4.0</td>\n",
       "      <td>58564.0</td>\n",
       "      <td>316.84</td>\n",
       "      <td>157529.6100</td>\n",
       "      <td>83.5396</td>\n",
       "    </tr>\n",
       "    <tr>\n",
       "      <th>2</th>\n",
       "      <td>0.02729</td>\n",
       "      <td>0.0</td>\n",
       "      <td>7.07</td>\n",
       "      <td>0.0</td>\n",
       "      <td>0.469</td>\n",
       "      <td>7.185</td>\n",
       "      <td>61.1</td>\n",
       "      <td>4.9671</td>\n",
       "      <td>2.0</td>\n",
       "      <td>242.0</td>\n",
       "      <td>...</td>\n",
       "      <td>0.0</td>\n",
       "      <td>0.219961</td>\n",
       "      <td>51.624225</td>\n",
       "      <td>3733.21</td>\n",
       "      <td>24.672082</td>\n",
       "      <td>4.0</td>\n",
       "      <td>58564.0</td>\n",
       "      <td>316.84</td>\n",
       "      <td>154315.4089</td>\n",
       "      <td>16.2409</td>\n",
       "    </tr>\n",
       "    <tr>\n",
       "      <th>3</th>\n",
       "      <td>0.03237</td>\n",
       "      <td>0.0</td>\n",
       "      <td>2.18</td>\n",
       "      <td>0.0</td>\n",
       "      <td>0.458</td>\n",
       "      <td>6.998</td>\n",
       "      <td>45.8</td>\n",
       "      <td>6.0622</td>\n",
       "      <td>3.0</td>\n",
       "      <td>222.0</td>\n",
       "      <td>...</td>\n",
       "      <td>0.0</td>\n",
       "      <td>0.209764</td>\n",
       "      <td>48.972004</td>\n",
       "      <td>2097.64</td>\n",
       "      <td>36.750269</td>\n",
       "      <td>9.0</td>\n",
       "      <td>49284.0</td>\n",
       "      <td>349.69</td>\n",
       "      <td>155732.8369</td>\n",
       "      <td>8.6436</td>\n",
       "    </tr>\n",
       "    <tr>\n",
       "      <th>4</th>\n",
       "      <td>0.06905</td>\n",
       "      <td>0.0</td>\n",
       "      <td>2.18</td>\n",
       "      <td>0.0</td>\n",
       "      <td>0.458</td>\n",
       "      <td>7.147</td>\n",
       "      <td>54.2</td>\n",
       "      <td>6.0622</td>\n",
       "      <td>3.0</td>\n",
       "      <td>222.0</td>\n",
       "      <td>...</td>\n",
       "      <td>0.0</td>\n",
       "      <td>0.209764</td>\n",
       "      <td>51.079609</td>\n",
       "      <td>2937.64</td>\n",
       "      <td>36.750269</td>\n",
       "      <td>9.0</td>\n",
       "      <td>49284.0</td>\n",
       "      <td>349.69</td>\n",
       "      <td>157529.6100</td>\n",
       "      <td>28.4089</td>\n",
       "    </tr>\n",
       "  </tbody>\n",
       "</table>\n",
       "<p>5 rows × 26 columns</p>\n",
       "</div>"
      ],
      "text/plain": [
       "      CRIM    ZN  INDUS  CHAS    NOX     RM   AGE     DIS  RAD    TAX  ...  \\\n",
       "0  0.00632  18.0   2.31   0.0  0.538  6.575  65.2  4.0900  1.0  296.0  ...   \n",
       "1  0.02731   0.0   7.07   0.0  0.469  6.421  78.9  4.9671  2.0  242.0  ...   \n",
       "2  0.02729   0.0   7.07   0.0  0.469  7.185  61.1  4.9671  2.0  242.0  ...   \n",
       "3  0.03237   0.0   2.18   0.0  0.458  6.998  45.8  6.0622  3.0  222.0  ...   \n",
       "4  0.06905   0.0   2.18   0.0  0.458  7.147  54.2  6.0622  3.0  222.0  ...   \n",
       "\n",
       "   CHAS_4     NOX_5       RM_6    AGE_7      DIS_8  RAD_9   TAX_10  \\\n",
       "0     0.0  0.289444  43.230625  4251.04  16.728100    1.0  87616.0   \n",
       "1     0.0  0.219961  41.229241  6225.21  24.672082    4.0  58564.0   \n",
       "2     0.0  0.219961  51.624225  3733.21  24.672082    4.0  58564.0   \n",
       "3     0.0  0.209764  48.972004  2097.64  36.750269    9.0  49284.0   \n",
       "4     0.0  0.209764  51.079609  2937.64  36.750269    9.0  49284.0   \n",
       "\n",
       "   PTRATIO_11         B_12  LSTAT_13  \n",
       "0      234.09  157529.6100   24.8004  \n",
       "1      316.84  157529.6100   83.5396  \n",
       "2      316.84  154315.4089   16.2409  \n",
       "3      349.69  155732.8369    8.6436  \n",
       "4      349.69  157529.6100   28.4089  \n",
       "\n",
       "[5 rows x 26 columns]"
      ]
     },
     "execution_count": 4,
     "metadata": {},
     "output_type": "execute_result"
    }
   ],
   "source": [
    "df=pd.DataFrame(X,columns=boston.feature_names)\n",
    "curr=1\n",
    "for ele in df.columns:\n",
    "    df[ele+'_'+str(curr)]=df[ele]**2\n",
    "    curr+=1\n",
    "df.head()"
   ]
  },
  {
   "cell_type": "code",
   "execution_count": 5,
   "metadata": {},
   "outputs": [
    {
     "name": "stdout",
     "output_type": "stream",
     "text": [
      "(506, 13)\n",
      "(506, 26)\n"
     ]
    }
   ],
   "source": [
    "print(X.shape)\n",
    "X2=df.values\n",
    "print(X2.shape)"
   ]
  },
  {
   "cell_type": "code",
   "execution_count": 6,
   "metadata": {},
   "outputs": [],
   "source": [
    "from sklearn import model_selection\n",
    "X_train,X_test,Y_train,Y_test=model_selection.train_test_split(X,Y,random_state=0)\n",
    "X2_train,X2_test,Y2_train,Y2_test=model_selection.train_test_split(X2,Y,random_state=0)"
   ]
  },
  {
   "cell_type": "code",
   "execution_count": 7,
   "metadata": {},
   "outputs": [],
   "source": [
    "from sklearn.linear_model import LinearRegression\n",
    "algo1=LinearRegression()\n",
    "algo2=LinearRegression()"
   ]
  },
  {
   "cell_type": "code",
   "execution_count": 8,
   "metadata": {},
   "outputs": [
    {
     "data": {
      "text/plain": [
       "LinearRegression(copy_X=True, fit_intercept=True, n_jobs=None, normalize=False)"
      ]
     },
     "execution_count": 8,
     "metadata": {},
     "output_type": "execute_result"
    }
   ],
   "source": [
    "algo1.fit(X_train,Y_train)\n",
    "algo2.fit(X2_train,Y2_train)"
   ]
  },
  {
   "cell_type": "code",
   "execution_count": 9,
   "metadata": {},
   "outputs": [
    {
     "name": "stdout",
     "output_type": "stream",
     "text": [
      "0.7697699488741149\n",
      "0.6354638433202129\n",
      "0.8596413794910498\n",
      "0.7200918269122947\n"
     ]
    }
   ],
   "source": [
    "print(algo1.score(X_train,Y_train))\n",
    "print(algo1.score(X_test,Y_test))\n",
    "print(algo2.score(X2_train,Y2_train))\n",
    "print(algo2.score(X2_test,Y_test))"
   ]
  },
  {
   "cell_type": "markdown",
   "metadata": {},
   "source": [
    "### GRADIENT DESCENT"
   ]
  },
  {
   "cell_type": "code",
   "execution_count": 33,
   "metadata": {
    "scrolled": true
   },
   "outputs": [
    {
     "name": "stdout",
     "output_type": "stream",
     "text": [
      "0 0.7370702973591053 0.014547010110737297 1484.5865574086486\n",
      "1 1.1067954543515157 0.02187396295959641 457.8542575737672\n",
      "2 1.2922546649131115 0.025579224321293136 199.5099857255389\n",
      "3 1.385283255651245 0.027467789559144355 134.50591058200533\n",
      "4 1.4319472323843205 0.028445071981738963 118.1496934223995\n",
      "5 1.4553540088980408 0.028965240766478616 114.0341490603815\n",
      "6 1.4670946177201354 0.029256114126046697 112.99857731713657\n",
      "7 1.4729832982243762 0.029431969163807123 112.73798187568467\n",
      "8 1.4759365618962286 0.029550129024383066 112.6723843590911\n",
      "9 1.47741737554838 0.029639347874732384 112.65585181499745\n",
      "1.47741737554838 0.029639347874732384\n"
     ]
    }
   ],
   "source": [
    "def step_gradient(points,learning_rate,m,c):\n",
    "    N=len(points)\n",
    "    slope_m,slope_c=0,0\n",
    "    for i in range(N):\n",
    "        x,y=points[i,0],points[i,1]\n",
    "        slope_m+=(-2/N)*(y-m*x-c)*(x)\n",
    "        slope_c+=(-2/N)*(y-m*x-c)\n",
    "    new_m=m-learning_rate*slope_m\n",
    "    new_c=c-learning_rate*slope_c\n",
    "    return new_m,new_c\n",
    "\n",
    "def gd(points,learning_rate,no_iterations):\n",
    "    m,c=0,0\n",
    "    for i in range(no_iterations):\n",
    "        m,c=step_gradient(points,learning_rate,m,c)\n",
    "        cst=cost(points,m,c)\n",
    "        print(i,m,c,cst)\n",
    "    return m,c\n",
    "\n",
    "def cost(points,m,c):\n",
    "    N=len(points)\n",
    "    cst=0\n",
    "    for i in range(N):\n",
    "        x,y=points[i,0],points[i,1]\n",
    "        cst+=(1/N)*((y-m*x-c)**2)\n",
    "    return cst\n",
    "\n",
    "def run():\n",
    "    data=np.loadtxt(\"C:\\\\Users\\\\jhasa\\\\Desktop\\\\data.csv\",delimiter=',')\n",
    "    learning_rate=0.0001\n",
    "    no_iterations=10\n",
    "    m,c=gd(data,learning_rate,no_iterations)\n",
    "    print(m,c)\n",
    "run()"
   ]
  }
 ],
 "metadata": {
  "kernelspec": {
   "display_name": "Python 3",
   "language": "python",
   "name": "python3"
  },
  "language_info": {
   "codemirror_mode": {
    "name": "ipython",
    "version": 3
   },
   "file_extension": ".py",
   "mimetype": "text/x-python",
   "name": "python",
   "nbconvert_exporter": "python",
   "pygments_lexer": "ipython3",
   "version": "3.7.3"
  }
 },
 "nbformat": 4,
 "nbformat_minor": 2
}
