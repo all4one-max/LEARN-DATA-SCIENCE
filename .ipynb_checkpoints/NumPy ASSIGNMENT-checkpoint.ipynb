{
 "cells": [
  {
   "cell_type": "markdown",
   "metadata": {},
   "source": [
    "### PRBLEM : TERRORISM DAY"
   ]
  },
  {
   "cell_type": "code",
   "execution_count": 11,
   "metadata": {},
   "outputs": [
    {
     "name": "stdout",
     "output_type": "stream",
     "text": [
      "66330\n"
     ]
    }
   ],
   "source": [
    "import csv\n",
    "import numpy as sj\n",
    "with open(\"C:\\\\Users\\\\jhasa\\\\Desktop\\\\terrorismData.csv\",encoding=\"utf8\") as file_obj:\n",
    "    file_data=csv.DictReader(file_obj, skipinitialspace=True)\n",
    "    attack=[]\n",
    "    for row in file_data:\n",
    "        attack.append(row['Day'])\n",
    "    attack=sj.array(attack,dtype=int) \n",
    "    nine=attack[attack<=9]\n",
    "    twenty=attack[attack<=20]     \n",
    "    print(len(twenty)-len(nine))"
   ]
  },
  {
   "cell_type": "markdown",
   "metadata": {},
   "source": [
    "### PROBLEM : TERRORISM DATE"
   ]
  },
  {
   "cell_type": "code",
   "execution_count": 13,
   "metadata": {},
   "outputs": [
    {
     "name": "stdout",
     "output_type": "stream",
     "text": [
      "271\n"
     ]
    }
   ],
   "source": [
    "import csv\n",
    "import numpy as sj\n",
    "with open(\"C:\\\\Users\\\\jhasa\\\\Desktop\\\\terrorismData.csv\",encoding=\"utf8\") as file_obj:\n",
    "    file_data=csv.DictReader(file_obj, skipinitialspace=True)\n",
    "    attack=[]\n",
    "    for row in file_data:\n",
    "        if row['Month']==\"1\" and row['Year']=='2010':\n",
    "            attack.append(row['Day'])\n",
    "    attack=sj.array(attack,dtype=int) \n",
    "    zero=attack[attack==0]\n",
    "    thirty_one=attack[attack<=31]     \n",
    "    print(len(thirty_one)-len(zero))"
   ]
  },
  {
   "cell_type": "markdown",
   "metadata": {},
   "source": [
    "### PROBLEM : TERROR CASUAL ATTACK"
   ]
  },
  {
   "cell_type": "code",
   "execution_count": 54,
   "metadata": {},
   "outputs": [
    {
     "name": "stdout",
     "output_type": "stream",
     "text": [
      "22 Kargil District Separatists\n"
     ]
    }
   ],
   "source": [
    "import csv\n",
    "import numpy as sj\n",
    "with open(\"C:\\\\Users\\\\jhasa\\\\Desktop\\\\terrorismData.csv\",encoding=\"utf8\") as file_obj:\n",
    "    file_data=csv.DictReader(file_obj, skipinitialspace=True)\n",
    "    killed=[]\n",
    "    wounded=[]\n",
    "    city=[]\n",
    "    group=[]\n",
    "    for row in file_data:\n",
    "        if row['Country']=='India' and row['State']=='Jammu and Kashmir' and row['Year']=='1999' and (int(row['Month'])>=5 and int(row['Month'])<=7):\n",
    "            killed.append(row['Killed'])\n",
    "            wounded.append(row['Wounded'])\n",
    "            city.append(row['City'])\n",
    "            group.append(row['Group'])\n",
    "    killed=sj.array(killed)\n",
    "    wounded=sj.array(wounded)\n",
    "    city=sj.array(city)\n",
    "    group=sj.array(group)\n",
    "    killed[killed=='']='0.0'\n",
    "    wounded[wounded=='']='0.0'\n",
    "    killed=sj.array(killed,dtype=float)\n",
    "    wounded=sj.array(wounded,dtype=float)\n",
    "    casualities=killed+wounded\n",
    "    val=casualities.max()\n",
    "    x=casualities.argmax()\n",
    "    cty=city[x]\n",
    "    grp=group[x]\n",
    "    print(int(val),cty,grp)"
   ]
  },
  {
   "cell_type": "markdown",
   "metadata": {},
   "source": [
    "### PROBLEM : TERROR CASUALITY RED"
   ]
  },
  {
   "cell_type": "code",
   "execution_count": 34,
   "metadata": {},
   "outputs": [
    {
     "name": "stdout",
     "output_type": "stream",
     "text": [
      "5628\n"
     ]
    }
   ],
   "source": [
    "import csv\n",
    "import numpy as sj\n",
    "with open(\"C:\\\\Users\\\\jhasa\\\\Desktop\\\\terrorismData.csv\",encoding=\"utf8\") as file_obj:\n",
    "    file_data=csv.DictReader(file_obj, skipinitialspace=True)\n",
    "    killed=[]\n",
    "    wounded=[]    \n",
    "    for row in file_data:\n",
    "        if row['State']=='Jharkhand' or row['State']=='Odisha' or row['State']=='Andhra Pradesh' or row['State']=='Chhattisgarh':\n",
    "            killed.append(row['Killed'])\n",
    "            wounded.append(row['Wounded'])            \n",
    "    killed=sj.array(killed)\n",
    "    wounded=sj.array(wounded)    \n",
    "    killed[killed=='']='0.0'\n",
    "    wounded[wounded=='']='0.0'\n",
    "    killed=sj.array(killed,dtype=float)\n",
    "    wounded=sj.array(wounded,dtype=float)\n",
    "    casualities=killed+wounded    \n",
    "    print(int(casualities.sum()))"
   ]
  },
  {
   "cell_type": "markdown",
   "metadata": {},
   "source": [
    "### PROBLEM : TERROR CITY CASUALITY"
   ]
  },
  {
   "cell_type": "code",
   "execution_count": 83,
   "metadata": {},
   "outputs": [
    {
     "name": "stdout",
     "output_type": "stream",
     "text": [
      "Srinagar 3134\n",
      "New Delhi 2095\n",
      "Mumbai 2016\n",
      "Jammu 1119\n",
      "Guwahati 822\n"
     ]
    }
   ],
   "source": [
    "import csv\n",
    "import numpy as sj\n",
    "with open(\"C:\\\\Users\\\\jhasa\\\\Desktop\\\\terrorismData.csv\",encoding=\"utf8\") as file_obj:\n",
    "    file_data=csv.DictReader(file_obj, skipinitialspace=True)\n",
    "    killed=[]\n",
    "    wounded=[]   \n",
    "    city=[]\n",
    "    total=0\n",
    "    for row in file_data:\n",
    "        if row['Country']=='India' and row['City']!='Unknown':\n",
    "            killed.append(row['Killed'])\n",
    "            wounded.append(row['Wounded'])   \n",
    "            city.append(row['City'])\n",
    "            total+=1\n",
    "    killed=sj.array(killed)\n",
    "    wounded=sj.array(wounded) \n",
    "    city=sj.array(city)\n",
    "    killed[killed=='']='0.0'\n",
    "    wounded[wounded=='']='0.0'\n",
    "    killed=sj.array(killed,dtype=float)\n",
    "    wounded=sj.array(wounded,dtype=float)\n",
    "    casualities=killed+wounded \n",
    "    casualities=sj.array(casualities,dtype=int)    \n",
    "    d,maxx={},0\n",
    "    for i in range(total):\n",
    "        d[city[i]]=d.get(city[i],0)+casualities[i]\n",
    "    d_sorted = sorted(d.items(),key=lambda kv:(kv[1], kv[0]),reverse=True) \n",
    "    for i in range(5):\n",
    "        print(d_sorted[i][0],d_sorted[i][1])"
   ]
  },
  {
   "cell_type": "markdown",
   "metadata": {},
   "source": [
    "### PROBLEM : TERRORISM FREQUENT DAY"
   ]
  },
  {
   "cell_type": "code",
   "execution_count": 2,
   "metadata": {},
   "outputs": [
    {
     "name": "stdout",
     "output_type": "stream",
     "text": [
      "15 6500\n"
     ]
    }
   ],
   "source": [
    "import csv\n",
    "import numpy as sj\n",
    "with open(\"C:\\\\Users\\\\jhasa\\\\Desktop\\\\terrorismData.csv\",encoding=\"utf8\") as file_obj:\n",
    "    file_data=csv.DictReader(file_obj,skipinitialspace=True)\n",
    "    attack=[]\n",
    "    for row in file_data:\n",
    "        attack.append(row['Day'])\n",
    "    attack=sj.array(attack,dtype=int)\n",
    "    a,counts=sj.unique(attack,return_counts=True)\n",
    "    x=counts.argmax()\n",
    "    print(a[x],counts[x])\n",
    "       "
   ]
  }
 ],
 "metadata": {
  "kernelspec": {
   "display_name": "Python 3",
   "language": "python",
   "name": "python3"
  },
  "language_info": {
   "codemirror_mode": {
    "name": "ipython",
    "version": 3
   },
   "file_extension": ".py",
   "mimetype": "text/x-python",
   "name": "python",
   "nbconvert_exporter": "python",
   "pygments_lexer": "ipython3",
   "version": "3.7.3"
  }
 },
 "nbformat": 4,
 "nbformat_minor": 2
}
